{
 "cells": [
  {
   "cell_type": "markdown",
   "metadata": {},
   "source": [
    "# Merge train data and valid data"
   ]
  },
  {
   "cell_type": "code",
   "execution_count": 27,
   "metadata": {},
   "outputs": [
    {
     "name": "stdout",
     "output_type": "stream",
     "text": [
      "<class 'pandas.core.frame.DataFrame'>\n",
      "RangeIndex: 907368 entries, 0 to 907367\n",
      "Data columns (total 7 columns):\n",
      " #   Column                Non-Null Count   Dtype \n",
      "---  ------                --------------   ----- \n",
      " 0   index                 907368 non-null  int64 \n",
      " 1   file_address          907368 non-null  object\n",
      " 2   contract_name         907368 non-null  object\n",
      " 3   function_name         840591 non-null  object\n",
      " 4   contract_masked       907368 non-null  object\n",
      " 5   function_body         880821 non-null  object\n",
      " 6   function_requirement  907368 non-null  object\n",
      "dtypes: int64(1), object(6)\n",
      "memory usage: 48.5+ MB\n",
      "None\n"
     ]
    }
   ],
   "source": [
    "import pandas as pd\n",
    "\n",
    "data_train = pd.read_parquet(\"./out/all_data_train.parquet\", engine=\"fastparquet\")\n",
    "data_valid = pd.read_parquet(\"./out/all_data_valid.parquet\", engine=\"fastparquet\")\n",
    "data_train = pd.concat([data_train, data_valid], axis=0).reset_index(drop=True)\n",
    "print(data_train.info())"
   ]
  },
  {
   "cell_type": "code",
   "execution_count": 28,
   "metadata": {},
   "outputs": [
    {
     "name": "stdout",
     "output_type": "stream",
     "text": [
      "<class 'pandas.core.frame.DataFrame'>\n",
      "Index: 819390 entries, 0 to 907367\n",
      "Data columns (total 7 columns):\n",
      " #   Column                Non-Null Count   Dtype \n",
      "---  ------                --------------   ----- \n",
      " 0   index                 819390 non-null  int64 \n",
      " 1   file_address          819390 non-null  object\n",
      " 2   contract_name         819390 non-null  object\n",
      " 3   function_name         819390 non-null  object\n",
      " 4   contract_masked       819390 non-null  object\n",
      " 5   function_body         819390 non-null  object\n",
      " 6   function_requirement  819390 non-null  object\n",
      "dtypes: int64(1), object(6)\n",
      "memory usage: 50.0+ MB\n",
      "None\n"
     ]
    }
   ],
   "source": [
    "data_train = data_train.dropna(axis=0)\n",
    "print(data_train.info())"
   ]
  },
  {
   "cell_type": "code",
   "execution_count": 29,
   "metadata": {},
   "outputs": [
    {
     "data": {
      "text/plain": [
       "144608"
      ]
     },
     "execution_count": 29,
     "metadata": {},
     "output_type": "execute_result"
    }
   ],
   "source": [
    "data_train.groupby([\"file_address\", \"contract_name\"]).ngroups"
   ]
  },
  {
   "cell_type": "code",
   "execution_count": 30,
   "metadata": {},
   "outputs": [],
   "source": [
    "data_train[\"num_token\"] = data_train[\"contract_masked\"].apply(lambda str: len(str.split()))"
   ]
  },
  {
   "cell_type": "code",
   "execution_count": 31,
   "metadata": {},
   "outputs": [
    {
     "name": "stdout",
     "output_type": "stream",
     "text": [
      "14254\n",
      "10\n"
     ]
    }
   ],
   "source": [
    "print(data_train[\"num_token\"].max())\n",
    "print(data_train[\"num_token\"].min())"
   ]
  },
  {
   "cell_type": "code",
   "execution_count": 32,
   "metadata": {},
   "outputs": [
    {
     "data": {
      "text/plain": [
       "0.9797129571998682"
      ]
     },
     "execution_count": 32,
     "metadata": {},
     "output_type": "execute_result"
    }
   ],
   "source": [
    "data_train[data_train[\"num_token\"] <= 4096].shape[0] / len(data_train)"
   ]
  },
  {
   "cell_type": "code",
   "execution_count": 33,
   "metadata": {},
   "outputs": [
    {
     "data": {
      "text/plain": [
       "0.939235284785023"
      ]
     },
     "execution_count": 33,
     "metadata": {},
     "output_type": "execute_result"
    }
   ],
   "source": [
    "len(data_train[(data_train[\"num_token\"] <= 4096) & (data_train[\"num_token\"] >= 100)]) / len(data_train)"
   ]
  },
  {
   "cell_type": "code",
   "execution_count": 38,
   "metadata": {},
   "outputs": [
    {
     "data": {
      "text/plain": [
       "252310    contract ArtemineICOFactory {\\r\\n    /* Constr...\n",
       "624843    contract MyContract {\\n    /* Constructor */\\n...\n",
       "635434    contract MinereumTokenCreationService {\\r\\n   ...\n",
       "Name: contract_masked, dtype: object"
      ]
     },
     "execution_count": 38,
     "metadata": {},
     "output_type": "execute_result"
    }
   ],
   "source": [
    "data_train[data_train[\"num_token\"] == 10][\"contract_masked\"]"
   ]
  },
  {
   "cell_type": "code",
   "execution_count": 39,
   "metadata": {},
   "outputs": [
    {
     "data": {
      "text/plain": [
       "'contract MyContract {\\n    /* Constructor */\\n   \\r\\n function MyContract() {<FILL_FUNCTION_BODY>}\\r\\n}'"
      ]
     },
     "execution_count": 39,
     "metadata": {},
     "output_type": "execute_result"
    }
   ],
   "source": [
    "data_train[data_train[\"num_token\"] == 10].loc[624843, \"contract_masked\"]"
   ]
  },
  {
   "cell_type": "code",
   "execution_count": 40,
   "metadata": {},
   "outputs": [
    {
     "data": {
      "text/plain": [
       "'contract MinereumTokenCreationService {\\r\\n    /* Constructor */\\r\\n    function MinereumTokenCreationService() {<FILL_FUNCTION_BODY>}\\r\\n}'"
      ]
     },
     "execution_count": 40,
     "metadata": {},
     "output_type": "execute_result"
    }
   ],
   "source": [
    "data_train[data_train[\"num_token\"] == 10].loc[635434, \"contract_masked\"]"
   ]
  },
  {
   "cell_type": "code",
   "execution_count": 43,
   "metadata": {},
   "outputs": [],
   "source": [
    "data_train = data_train[data_train[\"num_token\"] <= 2048].reset_index(drop=True)"
   ]
  },
  {
   "cell_type": "code",
   "execution_count": 44,
   "metadata": {},
   "outputs": [
    {
     "name": "stdout",
     "output_type": "stream",
     "text": [
      "<class 'pandas.core.frame.DataFrame'>\n",
      "RangeIndex: 740796 entries, 0 to 740795\n",
      "Data columns (total 8 columns):\n",
      " #   Column                Non-Null Count   Dtype \n",
      "---  ------                --------------   ----- \n",
      " 0   index                 740796 non-null  int64 \n",
      " 1   file_address          740796 non-null  object\n",
      " 2   contract_name         740796 non-null  object\n",
      " 3   function_name         740796 non-null  object\n",
      " 4   contract_masked       740796 non-null  object\n",
      " 5   function_body         740796 non-null  object\n",
      " 6   function_requirement  740796 non-null  object\n",
      " 7   num_token             740796 non-null  int64 \n",
      "dtypes: int64(2), object(6)\n",
      "memory usage: 45.2+ MB\n"
     ]
    }
   ],
   "source": [
    "data_train.info()"
   ]
  },
  {
   "cell_type": "code",
   "execution_count": 47,
   "metadata": {},
   "outputs": [],
   "source": [
    "data_train = data_train.drop(columns=[\"num_token\"])"
   ]
  },
  {
   "cell_type": "code",
   "execution_count": 48,
   "metadata": {},
   "outputs": [
    {
     "name": "stdout",
     "output_type": "stream",
     "text": [
      "<class 'pandas.core.frame.DataFrame'>\n",
      "RangeIndex: 740796 entries, 0 to 740795\n",
      "Data columns (total 7 columns):\n",
      " #   Column                Non-Null Count   Dtype \n",
      "---  ------                --------------   ----- \n",
      " 0   index                 740796 non-null  int64 \n",
      " 1   file_address          740796 non-null  object\n",
      " 2   contract_name         740796 non-null  object\n",
      " 3   function_name         740796 non-null  object\n",
      " 4   contract_masked       740796 non-null  object\n",
      " 5   function_body         740796 non-null  object\n",
      " 6   function_requirement  740796 non-null  object\n",
      "dtypes: int64(1), object(6)\n",
      "memory usage: 39.6+ MB\n"
     ]
    }
   ],
   "source": [
    "data_train.info()"
   ]
  },
  {
   "cell_type": "code",
   "execution_count": 49,
   "metadata": {},
   "outputs": [],
   "source": [
    "data_train.to_parquet(\"./out/data_train.parquet\", engine=\"fastparquet\")"
   ]
  },
  {
   "cell_type": "markdown",
   "metadata": {},
   "source": [
    "# Make test data"
   ]
  },
  {
   "cell_type": "code",
   "execution_count": 50,
   "metadata": {},
   "outputs": [],
   "source": [
    "import pandas as pd\n",
    "\n",
    "data = []\n",
    "for i in range(0, 19):\n",
    "    try:\n",
    "        data.append(pd.read_csv(f\"./out/data{i}.csv\"))\n",
    "    except:\n",
    "        print(i)"
   ]
  },
  {
   "cell_type": "code",
   "execution_count": 51,
   "metadata": {},
   "outputs": [
    {
     "name": "stdout",
     "output_type": "stream",
     "text": [
      "<class 'pandas.core.frame.DataFrame'>\n",
      "RangeIndex: 92821 entries, 0 to 92820\n",
      "Data columns (total 6 columns):\n",
      " #   Column                Non-Null Count  Dtype \n",
      "---  ------                --------------  ----- \n",
      " 0   file_address          92821 non-null  object\n",
      " 1   contract_name         92821 non-null  object\n",
      " 2   function_name         86163 non-null  object\n",
      " 3   contract_masked       92821 non-null  object\n",
      " 4   function_body         90218 non-null  object\n",
      " 5   function_requirement  92821 non-null  object\n",
      "dtypes: object(6)\n",
      "memory usage: 4.2+ MB\n"
     ]
    }
   ],
   "source": [
    "all_data = pd.concat(data, axis=0).reset_index(drop=True)\n",
    "all_data.info()"
   ]
  },
  {
   "cell_type": "code",
   "execution_count": 53,
   "metadata": {},
   "outputs": [
    {
     "name": "stdout",
     "output_type": "stream",
     "text": [
      "<class 'pandas.core.frame.DataFrame'>\n",
      "Index: 84066 entries, 0 to 92820\n",
      "Data columns (total 6 columns):\n",
      " #   Column                Non-Null Count  Dtype \n",
      "---  ------                --------------  ----- \n",
      " 0   file_address          84066 non-null  object\n",
      " 1   contract_name         84066 non-null  object\n",
      " 2   function_name         84066 non-null  object\n",
      " 3   contract_masked       84066 non-null  object\n",
      " 4   function_body         84066 non-null  object\n",
      " 5   function_requirement  84066 non-null  object\n",
      "dtypes: object(6)\n",
      "memory usage: 4.5+ MB\n"
     ]
    }
   ],
   "source": [
    "all_data = all_data.dropna(axis=0)\n",
    "all_data.info()"
   ]
  },
  {
   "cell_type": "markdown",
   "metadata": {},
   "source": [
    "## Check unique contract"
   ]
  },
  {
   "cell_type": "code",
   "execution_count": 54,
   "metadata": {},
   "outputs": [
    {
     "data": {
      "text/plain": [
       "14648"
      ]
     },
     "execution_count": 54,
     "metadata": {},
     "output_type": "execute_result"
    }
   ],
   "source": [
    "all_data.groupby([\"file_address\", \"contract_name\"]).ngroups"
   ]
  },
  {
   "cell_type": "code",
   "execution_count": 55,
   "metadata": {},
   "outputs": [
    {
     "name": "stdout",
     "output_type": "stream",
     "text": [
      "<class 'pandas.core.frame.DataFrame'>\n",
      "Index: 84066 entries, 0 to 92820\n",
      "Data columns (total 7 columns):\n",
      " #   Column                Non-Null Count  Dtype \n",
      "---  ------                --------------  ----- \n",
      " 0   file_address          84066 non-null  object\n",
      " 1   contract_name         84066 non-null  object\n",
      " 2   function_name         84066 non-null  object\n",
      " 3   contract_masked       84066 non-null  object\n",
      " 4   function_body         84066 non-null  object\n",
      " 5   function_requirement  84066 non-null  object\n",
      " 6   num_token             84066 non-null  int64 \n",
      "dtypes: int64(1), object(6)\n",
      "memory usage: 5.1+ MB\n"
     ]
    }
   ],
   "source": [
    "all_data[\"num_token\"] = all_data[\"contract_masked\"].apply(lambda string: len(string.split()))\n",
    "all_data.info()"
   ]
  },
  {
   "cell_type": "code",
   "execution_count": 56,
   "metadata": {},
   "outputs": [
    {
     "data": {
      "text/plain": [
       "count    84066.000000\n",
       "mean      1049.983144\n",
       "std        986.414891\n",
       "min         11.000000\n",
       "25%        395.000000\n",
       "50%        852.000000\n",
       "75%       1418.000000\n",
       "max      10343.000000\n",
       "Name: num_token, dtype: float64"
      ]
     },
     "execution_count": 56,
     "metadata": {},
     "output_type": "execute_result"
    }
   ],
   "source": [
    "all_data[\"num_token\"].describe()"
   ]
  },
  {
   "cell_type": "code",
   "execution_count": 57,
   "metadata": {},
   "outputs": [
    {
     "data": {
      "text/plain": [
       "0.9061689624818595"
      ]
     },
     "execution_count": 57,
     "metadata": {},
     "output_type": "execute_result"
    }
   ],
   "source": [
    "len(all_data[all_data[\"num_token\"] <= 2048]) / len(all_data)"
   ]
  },
  {
   "cell_type": "code",
   "execution_count": 58,
   "metadata": {},
   "outputs": [
    {
     "name": "stdout",
     "output_type": "stream",
     "text": [
      "<class 'pandas.core.frame.DataFrame'>\n",
      "Index: 76178 entries, 0 to 92820\n",
      "Data columns (total 7 columns):\n",
      " #   Column                Non-Null Count  Dtype \n",
      "---  ------                --------------  ----- \n",
      " 0   file_address          76178 non-null  object\n",
      " 1   contract_name         76178 non-null  object\n",
      " 2   function_name         76178 non-null  object\n",
      " 3   contract_masked       76178 non-null  object\n",
      " 4   function_body         76178 non-null  object\n",
      " 5   function_requirement  76178 non-null  object\n",
      " 6   num_token             76178 non-null  int64 \n",
      "dtypes: int64(1), object(6)\n",
      "memory usage: 4.6+ MB\n"
     ]
    }
   ],
   "source": [
    "all_data = all_data[all_data[\"num_token\"] <= 2048]\n",
    "all_data.info()"
   ]
  },
  {
   "cell_type": "code",
   "execution_count": 59,
   "metadata": {},
   "outputs": [
    {
     "data": {
      "text/plain": [
       "14332"
      ]
     },
     "execution_count": 59,
     "metadata": {},
     "output_type": "execute_result"
    }
   ],
   "source": [
    "all_data.groupby([\"file_address\", \"contract_name\"]).ngroups"
   ]
  },
  {
   "cell_type": "code",
   "execution_count": 60,
   "metadata": {},
   "outputs": [
    {
     "data": {
      "text/plain": [
       "45576    contract Initializer is StorageV1 {\\n\\n    //c...\n",
       "Name: contract_masked, dtype: object"
      ]
     },
     "execution_count": 60,
     "metadata": {},
     "output_type": "execute_result"
    }
   ],
   "source": [
    "all_data[all_data[\"num_token\"] == 11][\"contract_masked\"]"
   ]
  },
  {
   "cell_type": "code",
   "execution_count": 61,
   "metadata": {},
   "outputs": [
    {
     "name": "stdout",
     "output_type": "stream",
     "text": [
      "<class 'pandas.core.frame.DataFrame'>\n",
      "Index: 76178 entries, 0 to 92820\n",
      "Data columns (total 7 columns):\n",
      " #   Column                Non-Null Count  Dtype \n",
      "---  ------                --------------  ----- \n",
      " 0   file_address          76178 non-null  object\n",
      " 1   contract_name         76178 non-null  object\n",
      " 2   function_name         76178 non-null  object\n",
      " 3   contract_masked       76178 non-null  object\n",
      " 4   function_body         76178 non-null  object\n",
      " 5   function_requirement  76178 non-null  object\n",
      " 6   num_token             76178 non-null  int64 \n",
      "dtypes: int64(1), object(6)\n",
      "memory usage: 4.6+ MB\n"
     ]
    }
   ],
   "source": [
    "all_data.info()"
   ]
  },
  {
   "cell_type": "code",
   "execution_count": 63,
   "metadata": {},
   "outputs": [],
   "source": [
    "all_data = all_data.drop(columns=[\"num_token\"]).reset_index()"
   ]
  },
  {
   "cell_type": "code",
   "execution_count": 64,
   "metadata": {},
   "outputs": [
    {
     "name": "stdout",
     "output_type": "stream",
     "text": [
      "<class 'pandas.core.frame.DataFrame'>\n",
      "RangeIndex: 76178 entries, 0 to 76177\n",
      "Data columns (total 7 columns):\n",
      " #   Column                Non-Null Count  Dtype \n",
      "---  ------                --------------  ----- \n",
      " 0   index                 76178 non-null  int64 \n",
      " 1   file_address          76178 non-null  object\n",
      " 2   contract_name         76178 non-null  object\n",
      " 3   function_name         76178 non-null  object\n",
      " 4   contract_masked       76178 non-null  object\n",
      " 5   function_body         76178 non-null  object\n",
      " 6   function_requirement  76178 non-null  object\n",
      "dtypes: int64(1), object(6)\n",
      "memory usage: 4.1+ MB\n"
     ]
    }
   ],
   "source": [
    "all_data.info()"
   ]
  },
  {
   "cell_type": "code",
   "execution_count": 65,
   "metadata": {},
   "outputs": [],
   "source": [
    "all_data.to_parquet(\"./out/data_test.parquet\", engine=\"fastparquet\")"
   ]
  },
  {
   "cell_type": "code",
   "execution_count": 70,
   "metadata": {},
   "outputs": [],
   "source": [
    "\n",
    "test_data = pd.read_parquet(\"./out/data_test.parquet\", engine=\"fastparquet\")\n"
   ]
  },
  {
   "cell_type": "code",
   "execution_count": 71,
   "metadata": {},
   "outputs": [
    {
     "data": {
      "text/plain": [
       "'contract Controller {\\r\\n\\r\\n    struct Scheme {\\r\\n        bytes32 paramsHash;  // a hash \"configuration\" of the scheme\\r\\n        bytes4  permissions; // A bitwise flags of permissions,\\r\\n                             // All 0: Not registered,\\r\\n                             // 1st bit: Flag if the scheme is registered,\\r\\n                             // 2nd bit: Scheme can register other schemes\\r\\n                             // 3rd bit: Scheme can add/remove global constraints\\r\\n                             // 4th bit: Scheme can upgrade the controller\\r\\n                             // 5th bit: Scheme can call genericCall on behalf of\\r\\n                             //          the organization avatar\\r\\n    }\\r\\n\\r\\n    struct GlobalConstraint {\\r\\n        address gcAddress;\\r\\n        bytes32 params;\\r\\n    }\\r\\n\\r\\n    struct GlobalConstraintRegister {\\r\\n        bool isRegistered; //is registered\\r\\n        uint256 index;    //index at globalConstraints\\r\\n    }\\r\\n\\r\\n    mapping(address=>Scheme) public schemes;\\r\\n\\r\\n    Avatar public avatar;\\r\\n    DAOToken public nativeToken;\\r\\n    Reputation public nativeReputation;\\r\\n  // newController will point to the new controller after the present controller is upgraded\\r\\n    address public newController;\\r\\n  // globalConstraintsPre that determine pre conditions for all actions on the controller\\r\\n\\r\\n    GlobalConstraint[] public globalConstraintsPre;\\r\\n  // globalConstraintsPost that determine post conditions for all actions on the controller\\r\\n    GlobalConstraint[] public globalConstraintsPost;\\r\\n  // globalConstraintsRegisterPre indicate if a globalConstraints is registered as a pre global constraint\\r\\n    mapping(address=>GlobalConstraintRegister) public globalConstraintsRegisterPre;\\r\\n  // globalConstraintsRegisterPost indicate if a globalConstraints is registered as a post global constraint\\r\\n    mapping(address=>GlobalConstraintRegister) public globalConstraintsRegisterPost;\\r\\n\\r\\n    event MintReputation (address indexed _sender, address indexed _to, uint256 _amount);\\r\\n    event BurnReputation (address indexed _sender, address indexed _from, uint256 _amount);\\r\\n    event MintTokens (address indexed _sender, address indexed _beneficiary, uint256 _amount);\\r\\n    event RegisterScheme (address indexed _sender, address indexed _scheme);\\r\\n    event UnregisterScheme (address indexed _sender, address indexed _scheme);\\r\\n    event UpgradeController(address indexed _oldController, address _newController);\\r\\n\\r\\n    event AddGlobalConstraint(\\r\\n        address indexed _globalConstraint,\\r\\n        bytes32 _params,\\r\\n        GlobalConstraintInterface.CallPhase _when);\\r\\n\\r\\n    event RemoveGlobalConstraint(address indexed _globalConstraint, uint256 _index, bool _isPre);\\r\\n\\r\\n    constructor( Avatar _avatar) public {\\r\\n        avatar = _avatar;\\r\\n        nativeToken = avatar.nativeToken();\\r\\n        nativeReputation = avatar.nativeReputation();\\r\\n        schemes[msg.sender] = Scheme({paramsHash: bytes32(0), permissions: bytes4(0x0000001F)});\\r\\n        emit RegisterScheme (msg.sender, msg.sender);\\r\\n    }\\r\\n\\r\\n  // Do not allow mistaken calls:\\r\\n   // solhint-disable-next-line payable-fallback\\r\\n    function() external {\\r\\n        revert();\\r\\n    }\\r\\n\\r\\n  // Modifiers:\\r\\n    modifier onlyRegisteredScheme() {\\r\\n        require(schemes[msg.sender].permissions&bytes4(0x00000001) == bytes4(0x00000001));\\r\\n        _;\\r\\n    }\\r\\n\\r\\n    modifier onlyRegisteringSchemes() {\\r\\n        require(schemes[msg.sender].permissions&bytes4(0x00000002) == bytes4(0x00000002));\\r\\n        _;\\r\\n    }\\r\\n\\r\\n    modifier onlyGlobalConstraintsScheme() {\\r\\n        require(schemes[msg.sender].permissions&bytes4(0x00000004) == bytes4(0x00000004));\\r\\n        _;\\r\\n    }\\r\\n\\r\\n    modifier onlyUpgradingScheme() {\\r\\n        require(schemes[msg.sender].permissions&bytes4(0x00000008) == bytes4(0x00000008));\\r\\n        _;\\r\\n    }\\r\\n\\r\\n    modifier onlyGenericCallScheme() {\\r\\n        require(schemes[msg.sender].permissions&bytes4(0x00000010) == bytes4(0x00000010));\\r\\n        _;\\r\\n    }\\r\\n\\r\\n    modifier onlyMetaDataScheme() {\\r\\n        require(schemes[msg.sender].permissions&bytes4(0x00000010) == bytes4(0x00000010));\\r\\n        _;\\r\\n    }\\r\\n\\r\\n    modifier onlySubjectToConstraint(bytes32 func) {\\r\\n        uint256 idx;\\r\\n        for (idx = 0; idx < globalConstraintsPre.length; idx++) {\\r\\n            require(\\r\\n            (GlobalConstraintInterface(globalConstraintsPre[idx].gcAddress))\\r\\n            .pre(msg.sender, globalConstraintsPre[idx].params, func));\\r\\n        }\\r\\n        _;\\r\\n        for (idx = 0; idx < globalConstraintsPost.length; idx++) {\\r\\n            require(\\r\\n            (GlobalConstraintInterface(globalConstraintsPost[idx].gcAddress))\\r\\n            .post(msg.sender, globalConstraintsPost[idx].params, func));\\r\\n        }\\r\\n    }\\r\\n\\r\\n    modifier isAvatarValid(address _avatar) {\\r\\n        require(_avatar == address(avatar));\\r\\n        _;\\r\\n    }\\r\\n\\r\\n    /**\\r\\n     * @dev Mint `_amount` of reputation that are assigned to `_to` .\\r\\n     * @param  _amount amount of reputation to mint\\r\\n     * @param _to beneficiary address\\r\\n     * @return bool which represents a success\\r\\n     */\\r\\n    function mintReputation(uint256 _amount, address _to, address _avatar)\\r\\n    external\\r\\n    onlyRegisteredScheme\\r\\n    onlySubjectToConstraint(\"mintReputation\")\\r\\n    isAvatarValid(_avatar)\\r\\n    returns(bool)\\r\\n    {\\r\\n        emit MintReputation(msg.sender, _to, _amount);\\r\\n        return nativeReputation.mint(_to, _amount);\\r\\n    }\\r\\n\\r\\n    /**\\r\\n     * @dev Burns `_amount` of reputation from `_from`\\r\\n     * @param _amount amount of reputation to burn\\r\\n     * @param _from The address that will lose the reputation\\r\\n     * @return bool which represents a success\\r\\n     */\\r\\n    function burnReputation(uint256 _amount, address _from, address _avatar)\\r\\n    external\\r\\n    onlyRegisteredScheme\\r\\n    onlySubjectToConstraint(\"burnReputation\")\\r\\n    isAvatarValid(_avatar)\\r\\n    returns(bool)\\r\\n    {\\r\\n        emit BurnReputation(msg.sender, _from, _amount);\\r\\n        return nativeReputation.burn(_from, _amount);\\r\\n    }\\r\\n\\r\\n    /**\\r\\n     * @dev mint tokens .\\r\\n     * @param  _amount amount of token to mint\\r\\n     * @param _beneficiary beneficiary address\\r\\n     * @return bool which represents a success\\r\\n     */\\r\\n    function mintTokens(uint256 _amount, address _beneficiary, address _avatar)\\r\\n    external\\r\\n    onlyRegisteredScheme\\r\\n    onlySubjectToConstraint(\"mintTokens\")\\r\\n    isAvatarValid(_avatar)\\r\\n    returns(bool)\\r\\n    {\\r\\n        emit MintTokens(msg.sender, _beneficiary, _amount);\\r\\n        return nativeToken.mint(_beneficiary, _amount);\\r\\n    }\\r\\n\\r\\n  /**\\r\\n   * @dev register a scheme\\r\\n   * @param _scheme the address of the scheme\\r\\n   * @param _paramsHash a hashed configuration of the usage of the scheme\\r\\n   * @param _permissions the permissions the new scheme will have\\r\\n   * @return bool which represents a success\\r\\n   */\\r\\n    function registerScheme(address _scheme, bytes32 _paramsHash, bytes4 _permissions, address _avatar)\\r\\n    external\\r\\n    onlyRegisteringSchemes\\r\\n    onlySubjectToConstraint(\"registerScheme\")\\r\\n    isAvatarValid(_avatar)\\r\\n    returns(bool)\\r\\n    {\\r\\n\\r\\n        Scheme memory scheme = schemes[_scheme];\\r\\n\\r\\n    // Check scheme has at least the permissions it is changing, and at least the current permissions:\\r\\n    // Implementation is a bit messy. One must recall logic-circuits ^^\\r\\n\\r\\n    // produces non-zero if sender does not have all of the perms that are changing between old and new\\r\\n        require(bytes4(0x0000001f)&(_permissions^scheme.permissions)&(~schemes[msg.sender].permissions) == bytes4(0));\\r\\n\\r\\n    // produces non-zero if sender does not have all of the perms in the old scheme\\r\\n        require(bytes4(0x0000001f)&(scheme.permissions&(~schemes[msg.sender].permissions)) == bytes4(0));\\r\\n\\r\\n    // Add or change the scheme:\\r\\n        schemes[_scheme].paramsHash = _paramsHash;\\r\\n        schemes[_scheme].permissions = _permissions|bytes4(0x00000001);\\r\\n        emit RegisterScheme(msg.sender, _scheme);\\r\\n        return true;\\r\\n    }\\r\\n\\r\\n    /**\\r\\n     * @dev unregister a scheme\\r\\n     * @param _scheme the address of the scheme\\r\\n     * @return bool which represents a success\\r\\n     */\\r\\n    function unregisterScheme( address _scheme, address _avatar)\\r\\n    external\\r\\n    onlyRegisteringSchemes\\r\\n    onlySubjectToConstraint(\"unregisterScheme\")\\r\\n    isAvatarValid(_avatar)\\r\\n    returns(bool)\\r\\n    {\\r\\n    //check if the scheme is registered\\r\\n        if (_isSchemeRegistered(_scheme) == false) {\\r\\n            return false;\\r\\n        }\\r\\n    // Check the unregistering scheme has enough permissions:\\r\\n        require(bytes4(0x0000001f)&(schemes[_scheme].permissions&(~schemes[msg.sender].permissions)) == bytes4(0));\\r\\n\\r\\n    // Unregister:\\r\\n        emit UnregisterScheme(msg.sender, _scheme);\\r\\n        delete schemes[_scheme];\\r\\n        return true;\\r\\n    }\\r\\n\\r\\n    /**\\r\\n     * @dev unregister the caller\\'s scheme\\r\\n     * @return bool which represents a success\\r\\n     */\\r\\n    function unregisterSelf(address _avatar) external isAvatarValid(_avatar) returns(bool) {\\r\\n        if (_isSchemeRegistered(msg.sender) == false) {\\r\\n            return false;\\r\\n        }\\r\\n        delete schemes[msg.sender];\\r\\n        emit UnregisterScheme(msg.sender, msg.sender);\\r\\n        return true;\\r\\n    }\\r\\n\\r\\n    /**\\r\\n     * @dev add or update Global Constraint\\r\\n     * @param _globalConstraint the address of the global constraint to be added.\\r\\n     * @param _params the constraint parameters hash.\\r\\n     * @return bool which represents a success\\r\\n     */\\r\\n    function addGlobalConstraint(address _globalConstraint, bytes32 _params, address _avatar)\\r\\n    external\\r\\n    onlyGlobalConstraintsScheme\\r\\n    isAvatarValid(_avatar)\\r\\n    returns(bool)\\r\\n    {<FILL_FUNCTION_BODY>}\\r\\n\\r\\n    /**\\r\\n     * @dev remove Global Constraint\\r\\n     * @param _globalConstraint the address of the global constraint to be remove.\\r\\n     * @return bool which represents a success\\r\\n     */\\r\\n     // solhint-disable-next-line code-complexity\\r\\n    function removeGlobalConstraint (address _globalConstraint, address _avatar)\\r\\n    external\\r\\n    onlyGlobalConstraintsScheme\\r\\n    isAvatarValid(_avatar)\\r\\n    returns(bool)\\r\\n    {\\r\\n        GlobalConstraintRegister memory globalConstraintRegister;\\r\\n        GlobalConstraint memory globalConstraint;\\r\\n        GlobalConstraintInterface.CallPhase when = GlobalConstraintInterface(_globalConstraint).when();\\r\\n        bool retVal = false;\\r\\n\\r\\n        if ((when == GlobalConstraintInterface.CallPhase.Pre)||\\r\\n            (when == GlobalConstraintInterface.CallPhase.PreAndPost)) {\\r\\n            globalConstraintRegister = globalConstraintsRegisterPre[_globalConstraint];\\r\\n            if (globalConstraintRegister.isRegistered) {\\r\\n                if (globalConstraintRegister.index < globalConstraintsPre.length-1) {\\r\\n                    globalConstraint = globalConstraintsPre[globalConstraintsPre.length-1];\\r\\n                    globalConstraintsPre[globalConstraintRegister.index] = globalConstraint;\\r\\n                    globalConstraintsRegisterPre[globalConstraint.gcAddress].index = globalConstraintRegister.index;\\r\\n                }\\r\\n                globalConstraintsPre.length--;\\r\\n                delete globalConstraintsRegisterPre[_globalConstraint];\\r\\n                retVal = true;\\r\\n            }\\r\\n        }\\r\\n        if ((when == GlobalConstraintInterface.CallPhase.Post)||\\r\\n            (when == GlobalConstraintInterface.CallPhase.PreAndPost)) {\\r\\n            globalConstraintRegister = globalConstraintsRegisterPost[_globalConstraint];\\r\\n            if (globalConstraintRegister.isRegistered) {\\r\\n                if (globalConstraintRegister.index < globalConstraintsPost.length-1) {\\r\\n                    globalConstraint = globalConstraintsPost[globalConstraintsPost.length-1];\\r\\n                    globalConstraintsPost[globalConstraintRegister.index] = globalConstraint;\\r\\n                    globalConstraintsRegisterPost[globalConstraint.gcAddress].index = globalConstraintRegister.index;\\r\\n                }\\r\\n                globalConstraintsPost.length--;\\r\\n                delete globalConstraintsRegisterPost[_globalConstraint];\\r\\n                retVal = true;\\r\\n            }\\r\\n        }\\r\\n        if (retVal) {\\r\\n            emit RemoveGlobalConstraint(\\r\\n            _globalConstraint,\\r\\n            globalConstraintRegister.index,\\r\\n            when == GlobalConstraintInterface.CallPhase.Pre\\r\\n            );\\r\\n        }\\r\\n        return retVal;\\r\\n    }\\r\\n\\r\\n  /**\\r\\n    * @dev upgrade the Controller\\r\\n    *      The function will trigger an event \\'UpgradeController\\'.\\r\\n    * @param  _newController the address of the new controller.\\r\\n    * @return bool which represents a success\\r\\n    */\\r\\n    function upgradeController(address _newController, Avatar _avatar)\\r\\n    external\\r\\n    onlyUpgradingScheme\\r\\n    isAvatarValid(address(_avatar))\\r\\n    returns(bool)\\r\\n    {\\r\\n        require(newController == address(0));   // so the upgrade could be done once for a contract.\\r\\n        require(_newController != address(0));\\r\\n        newController = _newController;\\r\\n        avatar.transferOwnership(_newController);\\r\\n        require(avatar.owner() == _newController);\\r\\n        if (nativeToken.owner() == address(this)) {\\r\\n            nativeToken.transferOwnership(_newController);\\r\\n            require(nativeToken.owner() == _newController);\\r\\n        }\\r\\n        if (nativeReputation.owner() == address(this)) {\\r\\n            nativeReputation.transferOwnership(_newController);\\r\\n            require(nativeReputation.owner() == _newController);\\r\\n        }\\r\\n        emit UpgradeController(address(this), newController);\\r\\n        return true;\\r\\n    }\\r\\n\\r\\n    /**\\r\\n    * @dev perform a generic call to an arbitrary contract\\r\\n    * @param _contract  the contract\\'s address to call\\r\\n    * @param _data ABI-encoded contract call to call `_contract` address.\\r\\n    * @param _avatar the controller\\'s avatar address\\r\\n    * @param _value value (ETH) to transfer with the transaction\\r\\n    * @return bool -success\\r\\n    *         bytes  - the return value of the called _contract\\'s function.\\r\\n    */\\r\\n    function genericCall(address _contract, bytes calldata _data, Avatar _avatar, uint256 _value)\\r\\n    external\\r\\n    onlyGenericCallScheme\\r\\n    onlySubjectToConstraint(\"genericCall\")\\r\\n    isAvatarValid(address(_avatar))\\r\\n    returns (bool, bytes memory)\\r\\n    {\\r\\n        return avatar.genericCall(_contract, _data, _value);\\r\\n    }\\r\\n\\r\\n  /**\\r\\n   * @dev send some ether\\r\\n   * @param _amountInWei the amount of ether (in Wei) to send\\r\\n   * @param _to address of the beneficiary\\r\\n   * @return bool which represents a success\\r\\n   */\\r\\n    function sendEther(uint256 _amountInWei, address payable _to, Avatar _avatar)\\r\\n    external\\r\\n    onlyRegisteredScheme\\r\\n    onlySubjectToConstraint(\"sendEther\")\\r\\n    isAvatarValid(address(_avatar))\\r\\n    returns(bool)\\r\\n    {\\r\\n        return avatar.sendEther(_amountInWei, _to);\\r\\n    }\\r\\n\\r\\n    /**\\r\\n    * @dev send some amount of arbitrary ERC20 Tokens\\r\\n    * @param _externalToken the address of the Token Contract\\r\\n    * @param _to address of the beneficiary\\r\\n    * @param _value the amount of ether (in Wei) to send\\r\\n    * @return bool which represents a success\\r\\n    */\\r\\n    function externalTokenTransfer(IERC20 _externalToken, address _to, uint256 _value, Avatar _avatar)\\r\\n    external\\r\\n    onlyRegisteredScheme\\r\\n    onlySubjectToConstraint(\"externalTokenTransfer\")\\r\\n    isAvatarValid(address(_avatar))\\r\\n    returns(bool)\\r\\n    {\\r\\n        return avatar.externalTokenTransfer(_externalToken, _to, _value);\\r\\n    }\\r\\n\\r\\n    /**\\r\\n    * @dev transfer token \"from\" address \"to\" address\\r\\n    *      One must to approve the amount of tokens which can be spend from the\\r\\n    *      \"from\" account.This can be done using externalTokenApprove.\\r\\n    * @param _externalToken the address of the Token Contract\\r\\n    * @param _from address of the account to send from\\r\\n    * @param _to address of the beneficiary\\r\\n    * @param _value the amount of ether (in Wei) to send\\r\\n    * @return bool which represents a success\\r\\n    */\\r\\n    function externalTokenTransferFrom(\\r\\n    IERC20 _externalToken,\\r\\n    address _from,\\r\\n    address _to,\\r\\n    uint256 _value,\\r\\n    Avatar _avatar)\\r\\n    external\\r\\n    onlyRegisteredScheme\\r\\n    onlySubjectToConstraint(\"externalTokenTransferFrom\")\\r\\n    isAvatarValid(address(_avatar))\\r\\n    returns(bool)\\r\\n    {\\r\\n        return avatar.externalTokenTransferFrom(_externalToken, _from, _to, _value);\\r\\n    }\\r\\n\\r\\n    /**\\r\\n    * @dev externalTokenApproval approve the spender address to spend a specified amount of tokens\\r\\n    *      on behalf of msg.sender.\\r\\n    * @param _externalToken the address of the Token Contract\\r\\n    * @param _spender address\\r\\n    * @param _value the amount of ether (in Wei) which the approval is referring to.\\r\\n    * @return bool which represents a success\\r\\n    */\\r\\n    function externalTokenApproval(IERC20 _externalToken, address _spender, uint256 _value, Avatar _avatar)\\r\\n    external\\r\\n    onlyRegisteredScheme\\r\\n    onlySubjectToConstraint(\"externalTokenIncreaseApproval\")\\r\\n    isAvatarValid(address(_avatar))\\r\\n    returns(bool)\\r\\n    {\\r\\n        return avatar.externalTokenApproval(_externalToken, _spender, _value);\\r\\n    }\\r\\n\\r\\n    /**\\r\\n    * @dev metaData emits an event with a string, should contain the hash of some meta data.\\r\\n    * @param _metaData a string representing a hash of the meta data\\r\\n    * @param _avatar Avatar\\r\\n    * @return bool which represents a success\\r\\n    */\\r\\n    function metaData(string calldata _metaData, Avatar _avatar)\\r\\n        external\\r\\n        onlyMetaDataScheme\\r\\n        isAvatarValid(address(_avatar))\\r\\n        returns(bool)\\r\\n        {\\r\\n        return avatar.metaData(_metaData);\\r\\n    }\\r\\n\\r\\n    /**\\r\\n     * @dev getNativeReputation\\r\\n     * @param _avatar the organization avatar.\\r\\n     * @return organization native reputation\\r\\n     */\\r\\n    function getNativeReputation(address _avatar) external isAvatarValid(_avatar) view returns(address) {\\r\\n        return address(nativeReputation);\\r\\n    }\\r\\n\\r\\n    function isSchemeRegistered(address _scheme, address _avatar) external isAvatarValid(_avatar) view returns(bool) {\\r\\n        return _isSchemeRegistered(_scheme);\\r\\n    }\\r\\n\\r\\n    function getSchemeParameters(address _scheme, address _avatar)\\r\\n    external\\r\\n    isAvatarValid(_avatar)\\r\\n    view\\r\\n    returns(bytes32)\\r\\n    {\\r\\n        return schemes[_scheme].paramsHash;\\r\\n    }\\r\\n\\r\\n    function getSchemePermissions(address _scheme, address _avatar)\\r\\n    external\\r\\n    isAvatarValid(_avatar)\\r\\n    view\\r\\n    returns(bytes4)\\r\\n    {\\r\\n        return schemes[_scheme].permissions;\\r\\n    }\\r\\n\\r\\n    function getGlobalConstraintParameters(address _globalConstraint, address) external view returns(bytes32) {\\r\\n\\r\\n        GlobalConstraintRegister memory register = globalConstraintsRegisterPre[_globalConstraint];\\r\\n\\r\\n        if (register.isRegistered) {\\r\\n            return globalConstraintsPre[register.index].params;\\r\\n        }\\r\\n\\r\\n        register = globalConstraintsRegisterPost[_globalConstraint];\\r\\n\\r\\n        if (register.isRegistered) {\\r\\n            return globalConstraintsPost[register.index].params;\\r\\n        }\\r\\n    }\\r\\n\\r\\n   /**\\r\\n    * @dev globalConstraintsCount return the global constraint pre and post count\\r\\n    * @return uint256 globalConstraintsPre count.\\r\\n    * @return uint256 globalConstraintsPost count.\\r\\n    */\\r\\n    function globalConstraintsCount(address _avatar)\\r\\n        external\\r\\n        isAvatarValid(_avatar)\\r\\n        view\\r\\n        returns(uint, uint)\\r\\n        {\\r\\n        return (globalConstraintsPre.length, globalConstraintsPost.length);\\r\\n    }\\r\\n\\r\\n    function isGlobalConstraintRegistered(address _globalConstraint, address _avatar)\\r\\n        external\\r\\n        isAvatarValid(_avatar)\\r\\n        view\\r\\n        returns(bool)\\r\\n        {\\r\\n        return (globalConstraintsRegisterPre[_globalConstraint].isRegistered ||\\r\\n                globalConstraintsRegisterPost[_globalConstraint].isRegistered);\\r\\n    }\\r\\n\\r\\n    function _isSchemeRegistered(address _scheme) private view returns(bool) {\\r\\n        return (schemes[_scheme].permissions&bytes4(0x00000001) != bytes4(0));\\r\\n    }\\r\\n}'"
      ]
     },
     "execution_count": 71,
     "metadata": {},
     "output_type": "execute_result"
    }
   ],
   "source": [
    "import random\n",
    "test_data.loc[random.randint(0, 2000), \"contract_masked\"]"
   ]
  },
  {
   "cell_type": "code",
   "execution_count": null,
   "metadata": {},
   "outputs": [],
   "source": []
  }
 ],
 "metadata": {
  "kernelspec": {
   "display_name": "Python 3",
   "language": "python",
   "name": "python3"
  },
  "language_info": {
   "codemirror_mode": {
    "name": "ipython",
    "version": 3
   },
   "file_extension": ".py",
   "mimetype": "text/x-python",
   "name": "python",
   "nbconvert_exporter": "python",
   "pygments_lexer": "ipython3",
   "version": "3.11.5"
  }
 },
 "nbformat": 4,
 "nbformat_minor": 2
}
