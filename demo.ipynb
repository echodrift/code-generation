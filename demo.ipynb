{
 "cells": [
  {
   "cell_type": "code",
   "execution_count": 14,
   "metadata": {},
   "outputs": [
    {
     "name": "stdout",
     "output_type": "stream",
     "text": [
      "<class 'pandas.core.frame.DataFrame'>\n",
      "RangeIndex: 907368 entries, 0 to 907367\n",
      "Data columns (total 7 columns):\n",
      " #   Column                Non-Null Count   Dtype \n",
      "---  ------                --------------   ----- \n",
      " 0   index                 907368 non-null  int64 \n",
      " 1   file_address          907368 non-null  object\n",
      " 2   contract_name         907368 non-null  object\n",
      " 3   function_name         840591 non-null  object\n",
      " 4   contract_masked       907368 non-null  object\n",
      " 5   function_body         880821 non-null  object\n",
      " 6   function_requirement  907368 non-null  object\n",
      "dtypes: int64(1), object(6)\n",
      "memory usage: 48.5+ MB\n",
      "None\n"
     ]
    }
   ],
   "source": [
    "import pandas as pd\n",
    "\n",
    "data_train = pd.read_parquet(\"./out/all_data_train.parquet\", engine=\"fastparquet\")\n",
    "data_valid = pd.read_parquet(\"./out/all_data_valid.parquet\", engine=\"fastparquet\")\n",
    "data_train = pd.concat([data_train, data_valid], axis=0).reset_index(drop=True)\n",
    "print(data_train.info())"
   ]
  },
  {
   "cell_type": "code",
   "execution_count": 17,
   "metadata": {},
   "outputs": [
    {
     "name": "stdout",
     "output_type": "stream",
     "text": [
      "<class 'pandas.core.frame.DataFrame'>\n",
      "Index: 819390 entries, 0 to 907367\n",
      "Data columns (total 7 columns):\n",
      " #   Column                Non-Null Count   Dtype \n",
      "---  ------                --------------   ----- \n",
      " 0   index                 819390 non-null  int64 \n",
      " 1   file_address          819390 non-null  object\n",
      " 2   contract_name         819390 non-null  object\n",
      " 3   function_name         819390 non-null  object\n",
      " 4   contract_masked       819390 non-null  object\n",
      " 5   function_body         819390 non-null  object\n",
      " 6   function_requirement  819390 non-null  object\n",
      "dtypes: int64(1), object(6)\n",
      "memory usage: 50.0+ MB\n",
      "None\n"
     ]
    }
   ],
   "source": [
    "data_train = data_train.dropna(axis=0)\n",
    "print(data_train.info())"
   ]
  },
  {
   "cell_type": "code",
   "execution_count": 18,
   "metadata": {},
   "outputs": [
    {
     "data": {
      "text/plain": [
       "144608"
      ]
     },
     "execution_count": 18,
     "metadata": {},
     "output_type": "execute_result"
    }
   ],
   "source": [
    "data_train.groupby([\"file_address\", \"contract_name\"]).ngroups"
   ]
  },
  {
   "cell_type": "code",
   "execution_count": 19,
   "metadata": {},
   "outputs": [],
   "source": [
    "data_train[\"num_token\"] = data_train[\"contract_masked\"].apply(lambda str: len(str.split()))"
   ]
  },
  {
   "cell_type": "code",
   "execution_count": 20,
   "metadata": {},
   "outputs": [
    {
     "name": "stdout",
     "output_type": "stream",
     "text": [
      "14254\n",
      "10\n"
     ]
    }
   ],
   "source": [
    "print(data_train[\"num_token\"].max())\n",
    "print(data_train[\"num_token\"].min())"
   ]
  },
  {
   "cell_type": "code",
   "execution_count": 25,
   "metadata": {},
   "outputs": [
    {
     "data": {
      "text/plain": [
       "0.9797129571998682"
      ]
     },
     "execution_count": 25,
     "metadata": {},
     "output_type": "execute_result"
    }
   ],
   "source": [
    "data_train[data_train[\"num_token\"] <= 4096].shape[0] / len(data_train)"
   ]
  },
  {
   "cell_type": "code",
   "execution_count": 26,
   "metadata": {},
   "outputs": [
    {
     "data": {
      "text/plain": [
       "0.939235284785023"
      ]
     },
     "execution_count": 26,
     "metadata": {},
     "output_type": "execute_result"
    }
   ],
   "source": [
    "len(data_train[(data_train[\"num_token\"] <= 4096) & (data_train[\"num_token\"] >= 100)]) / len(data_train)"
   ]
  },
  {
   "cell_type": "code",
   "execution_count": null,
   "metadata": {},
   "outputs": [],
   "source": []
  }
 ],
 "metadata": {
  "kernelspec": {
   "display_name": "Python 3",
   "language": "python",
   "name": "python3"
  },
  "language_info": {
   "codemirror_mode": {
    "name": "ipython",
    "version": 3
   },
   "file_extension": ".py",
   "mimetype": "text/x-python",
   "name": "python",
   "nbconvert_exporter": "python",
   "pygments_lexer": "ipython3",
   "version": "3.11.5"
  }
 },
 "nbformat": 4,
 "nbformat_minor": 2
}
