{
 "cells": [
  {
   "cell_type": "code",
   "execution_count": 11,
   "metadata": {},
   "outputs": [],
   "source": [
    "from java.java8.JavaLexer import JavaLexer\n",
    "from antlr4 import *\n",
    "\n",
    "def count_java_tokens_antlr4(code):\n",
    "    lexer = JavaLexer(InputStream(code))\n",
    "    token_count = 0\n",
    "    for token in lexer.getAllTokens():\n",
    "        token_count += 1\n",
    "    return token_count"
   ]
  },
  {
   "cell_type": "code",
   "execution_count": 9,
   "metadata": {},
   "outputs": [],
   "source": [
    "def cr_and_num_token(dataset_url: str, compile_info_col: str):\n",
    "    import pandas as pd\n",
    "    import numpy as np\n",
    "    df = pd.read_parquet(dataset_url, \"fastparquet\")\n",
    "    df[\"len_func_body\"] = df[\"func_body\"].apply(lambda func: count_java_tokens_antlr4(func))\n",
    "    print(df[\"len_func_body\"].describe())\n",
    "    from collections import defaultdict\n",
    "    buckets = [(3, 10), (10, 33), (33, 50), (50, 102), (102, 200), (200, 400), (400, 800), (800, 1300)]\n",
    "    stats = {}\n",
    "    for _, row in df.iterrows():\n",
    "        for bucket in buckets:\n",
    "            if row[\"len_func_body\"] >= bucket[0] and row[\"len_func_body\"] < bucket[1]:\n",
    "                tmp = stats.get(bucket, [0, 0])\n",
    "                tmp[0] += 1\n",
    "                if row[compile_info_col] == \"<COMPILED_SUCCESSFULLY>\":\n",
    "                    tmp[1] += 1\n",
    "                stats[bucket] = tmp\n",
    "                break\n",
    "    import matplotlib.pyplot as plt\n",
    "\n",
    "    # Data\n",
    "    intervals = [str(bucket) for bucket in buckets]\n",
    "    compilables = [stats[bucket][1] for bucket in buckets]\n",
    "    totals = [stats[bucket][0] for bucket in buckets]\n",
    "    percentages = [stats[bucket][1] / stats[bucket][0] * 100 for bucket in buckets]\n",
    "    # Plot\n",
    "    fig, ax1 = plt.subplots(figsize=(12, 6))\n",
    "    ax2 = ax1.twinx()\n",
    "\n",
    "    bar_width = 0.35\n",
    "    x = np.arange(len(intervals))\n",
    "\n",
    "    bars1 = ax1.bar(x - bar_width/2, compilables, bar_width, color='skyblue', label='#Compilable')\n",
    "    bars2 = ax1.bar(x + bar_width/2, totals, bar_width, color='orange', label='#Func')\n",
    "    # Add percentages above each column\n",
    "    for bar, compilable in zip(bars1, compilables):\n",
    "        ax1.text(bar.get_x() + bar.get_width() / 2, bar.get_height() + 1, compilable, ha='center')\n",
    "\n",
    "    # Add values above each column in the additional column\n",
    "    for bar, value in zip(bars2, totals):\n",
    "        ax1.text(bar.get_x() + bar.get_width() / 2, bar.get_height() + 1, value, ha='center', color='black')\n",
    "    \n",
    "    ax2.plot(x, percentages, marker='o', color='blue', label='Percentage', linestyle='-')\n",
    "    for i, percentage in enumerate(percentages):\n",
    "        ax2.text(i, percentage, f'{percentage:.2f}%', ha='right', va='bottom')\n",
    "        \n",
    "    ax1.set_xlabel('Function Body Length')\n",
    "    ax1.set_ylabel('Compilable / Num_Func')\n",
    "    ax2.set_ylabel('Percentage')\n",
    "    plt.title('Distribution')\n",
    "    ax1.set_xticks(x, intervals, rotation=45, ha='right')\n",
    "    ax1.legend(loc=\"center right\")\n",
    "    ax1.set_ylim(0, max(max(compilables), max(totals)) + 100)\n",
    "    ax2.set_ylim(0, 100)\n",
    "    plt.grid(axis='y', linestyle='--', alpha=0.7)\n",
    "    plt.tight_layout()\n",
    "    plt.show()"
   ]
  },
  {
   "cell_type": "code",
   "execution_count": 12,
   "metadata": {},
   "outputs": [
    {
     "name": "stderr",
     "output_type": "stream",
     "text": [
      "line 2:67 token recognition error at: '\";\\n'\n",
      "line 14:35 token recognition error at: ''''\n",
      "line 14:37 token recognition error at: '')\"'\n",
      "line 24:31 token recognition error at: ''''\n",
      "line 24:33 token recognition error at: '')\"'\n",
      "line 7:46 token recognition error at: '\");\\n'\n",
      "line 2:36 token recognition error at: ''ab'\n",
      "line 2:40 token recognition error at: ''\")'\n",
      "line 2:43 token recognition error at: '\";\\n'\n",
      "line 19:23 token recognition error at: ''ab'\n",
      "line 19:27 token recognition error at: ''\"\"'\n",
      "line 2:72 token recognition error at: ''''\n",
      "line 2:74 token recognition error at: '' +'\n",
      "line 2:100 token recognition error at: ''''\n",
      "line 2:102 token recognition error at: ''\\n'\n",
      "line 3:44 token recognition error at: ''''\n",
      "line 3:46 token recognition error at: '' +'\n",
      "line 3:68 token recognition error at: ''''\n",
      "line 3:70 token recognition error at: '' +'\n",
      "line 2:95 token recognition error at: ''''\n",
      "line 2:97 token recognition error at: '' +'\n",
      "line 3:38 token recognition error at: ''''\n",
      "line 3:40 token recognition error at: '' +'\n",
      "line 3:44 token recognition error at: ''''\n",
      "line 3:46 token recognition error at: '' +'\n",
      "line 4:44 token recognition error at: ''''\n",
      "line 4:46 token recognition error at: '' +'\n",
      "line 4:46 token recognition error at: ''''\n",
      "line 4:48 token recognition error at: '' +'\n",
      "line 5:40 token recognition error at: ''''\n",
      "line 5:42 token recognition error at: '' +'\n",
      "line 20:41 token recognition error at: ''\";'\n",
      "line 24:41 token recognition error at: ''\";'\n",
      "line 10:51 token recognition error at: '#'\n",
      "line 3:32 token recognition error at: ''''\n",
      "line 3:34 token recognition error at: '' +'\n",
      "line 5:38 token recognition error at: ''''\n",
      "line 5:40 token recognition error at: '' +'\n",
      "line 6:44 token recognition error at: ''''\n",
      "line 6:46 token recognition error at: '');'\n",
      "line 29:37 token recognition error at: '\");\\n'\n",
      "line 6:23 token recognition error at: ''''\n",
      "line 4:47 token recognition error at: '\"),\\n'\n",
      "line 5:44 token recognition error at: '\"));\\n'\n",
      "line 8:47 token recognition error at: '\"),\\n'\n",
      "line 4:46 token recognition error at: ''''\n",
      "line 4:48 token recognition error at: '' +'\n",
      "line 5:42 token recognition error at: ''''\n",
      "line 5:44 token recognition error at: '' +'\n",
      "line 3:40 token recognition error at: ''''\n",
      "line 3:42 token recognition error at: '' +'\n",
      "line 4:46 token recognition error at: ''''\n",
      "line 4:48 token recognition error at: '' +'\n",
      "line 3:38 token recognition error at: ''''\n",
      "line 3:40 token recognition error at: '' +'\n",
      "line 12:56 token recognition error at: ''''\n",
      "line 12:58 token recognition error at: '' +'\n",
      "line 13:58 token recognition error at: ''''\n",
      "line 13:60 token recognition error at: '' +'\n",
      "line 3:34 token recognition error at: ''''\n",
      "line 3:36 token recognition error at: '' +'\n",
      "line 4:36 token recognition error at: ''''\n",
      "line 4:38 token recognition error at: '' +'\n",
      "line 4:52 token recognition error at: ''''\n",
      "line 4:54 token recognition error at: '' +'\n",
      "line 4:36 token recognition error at: ''''\n",
      "line 4:38 token recognition error at: '' +'\n",
      "line 5:52 token recognition error at: ''''\n",
      "line 5:54 token recognition error at: '' +'\n",
      "line 6:50 token recognition error at: ''''\n",
      "line 6:52 token recognition error at: '' +'\n",
      "line 8:46 token recognition error at: ''''\n",
      "line 8:48 token recognition error at: '' +'\n",
      "line 9:44 token recognition error at: ''''\n",
      "line 9:46 token recognition error at: '' +'\n",
      "line 10:42 token recognition error at: ''''\n",
      "line 10:44 token recognition error at: '' +'\n",
      "line 5:40 token recognition error at: ''''\n",
      "line 5:42 token recognition error at: '' +'\n",
      "line 7:34 token recognition error at: ''''\n",
      "line 7:36 token recognition error at: '' +'\n",
      "line 8:42 token recognition error at: ''''\n",
      "line 8:44 token recognition error at: '' +'\n",
      "line 4:52 token recognition error at: ''''\n",
      "line 4:54 token recognition error at: '' +'\n",
      "line 5:40 token recognition error at: ''''\n",
      "line 5:42 token recognition error at: '' +'\n",
      "line 6:44 token recognition error at: ''''\n",
      "line 6:46 token recognition error at: '' +'\n",
      "line 7:36 token recognition error at: ''''\n",
      "line 7:38 token recognition error at: '' +'\n",
      "line 12:62 token recognition error at: ''''\n",
      "line 12:64 token recognition error at: '' +'\n",
      "line 13:66 token recognition error at: ''''\n",
      "line 13:68 token recognition error at: '' +'\n",
      "line 3:34 token recognition error at: ''''\n",
      "line 3:36 token recognition error at: '' +'\n",
      "line 4:44 token recognition error at: ''''\n",
      "line 4:46 token recognition error at: '' +'\n",
      "line 5:62 token recognition error at: ''''\n",
      "line 5:64 token recognition error at: '' +'\n",
      "line 6:66 token recognition error at: ''''\n",
      "line 6:68 token recognition error at: '' +'\n",
      "line 8:48 token recognition error at: ''''\n",
      "line 8:50 token recognition error at: '' +'\n",
      "line 6:46 token recognition error at: ''''\n",
      "line 6:48 token recognition error at: '' +'\n",
      "line 7:36 token recognition error at: ''''\n",
      "line 7:38 token recognition error at: '' +'\n",
      "line 4:52 token recognition error at: ''''\n",
      "line 4:54 token recognition error at: '' +'\n",
      "line 5:44 token recognition error at: ''''\n",
      "line 5:46 token recognition error at: '' +'\n",
      "line 6:36 token recognition error at: ''''\n",
      "line 6:38 token recognition error at: '' +'\n",
      "line 7:46 token recognition error at: ''''\n",
      "line 7:48 token recognition error at: '' +'\n",
      "line 5:52 token recognition error at: ''''\n",
      "line 5:54 token recognition error at: '' +'\n",
      "line 6:44 token recognition error at: ''''\n",
      "line 6:46 token recognition error at: '' +'\n",
      "line 7:36 token recognition error at: ''''\n",
      "line 7:38 token recognition error at: '' +'\n",
      "line 8:46 token recognition error at: ''''\n",
      "line 8:48 token recognition error at: '' +'\n",
      "line 10:40 token recognition error at: ''''\n",
      "line 10:42 token recognition error at: '' +'\n",
      "line 11:36 token recognition error at: ''''\n",
      "line 11:38 token recognition error at: '' +'\n",
      "line 13:48 token recognition error at: ''''\n",
      "line 13:50 token recognition error at: '' +'\n",
      "line 4:52 token recognition error at: ''''\n",
      "line 4:54 token recognition error at: '' +'\n",
      "line 5:46 token recognition error at: ''''\n",
      "line 5:48 token recognition error at: '' +'\n",
      "line 6:44 token recognition error at: ''''\n",
      "line 6:46 token recognition error at: '' +'\n",
      "line 7:36 token recognition error at: ''''\n",
      "line 7:38 token recognition error at: '' +'\n",
      "line 8:40 token recognition error at: ''''\n",
      "line 8:42 token recognition error at: '' +'\n",
      "line 10:42 token recognition error at: ''''\n",
      "line 10:44 token recognition error at: '' +'\n",
      "line 22:55 token recognition error at: '#'\n"
     ]
    },
    {
     "name": "stdout",
     "output_type": "stream",
     "text": [
      "count    3629.000000\n",
      "mean       79.934417\n",
      "std       118.195870\n",
      "min         3.000000\n",
      "25%        10.000000\n",
      "50%        33.000000\n",
      "75%       102.000000\n",
      "max      1298.000000\n",
      "Name: len_func_body, dtype: float64\n"
     ]
    },
    {
     "data": {
      "image/png": "[encoded data removed]",
      "text/plain": [
       "<Figure size 1200x600 with 2 Axes>"
      ]
     },
     "metadata": {},
     "output_type": "display_data"
    }
   ],
   "source": [
    "cr_and_num_token(\"/home/hieuvd/lvdthieu/CodeGen/java_data/data/compile_info_codellama_v1.parquet\", \"compile_info_filled_file_baseline_output\")"
   ]
  },
  {
   "cell_type": "code",
   "execution_count": 6,
   "metadata": {},
   "outputs": [],
   "source": [
    "def check_compilable_rate(dataset_url: str, compile_info_col: str=\"compile_info_filled_file_baseline_output\") -> int:\n",
    "    import pandas as pd\n",
    "    df = pd.read_parquet(dataset_url, \"fastparquet\")\n",
    "    return len(df[df[compile_info_col] == \"<COMPILED_SUCCESSFULLY>\"]) / len(df)"
   ]
  },
  {
   "cell_type": "code",
   "execution_count": 4,
   "metadata": {},
   "outputs": [
    {
     "name": "stdout",
     "output_type": "stream",
     "text": [
      "0.9754753375585561\n"
     ]
    }
   ],
   "source": [
    "print(check_compilable_rate(\"/home/hieuvd/lvdthieu/CodeGen/java_data/data/compile_info_deepseek_v2.parquet\", \"compile_info_filled_file_finetune_output\"))"
   ]
  },
  {
   "cell_type": "code",
   "execution_count": 1,
   "metadata": {},
   "outputs": [],
   "source": [
    "def jsonl2parquet(src: str, dst: str):\n",
    "    import pandas as pd\n",
    "    df = pd.read_json(src, lines=True)\n",
    "    print(df.info())\n",
    "    df.to_parquet(dst, \"fastparquet\")"
   ]
  },
  {
   "cell_type": "code",
   "execution_count": 8,
   "metadata": {},
   "outputs": [],
   "source": [
    "def make_project_json(files_path: str):\n",
    "    with open(files_path, \"r\") as f:\n",
    "        files_path = f.read().split('\\n')\n",
    "    files_path = files_path[:-1]\n",
    "    "
   ]
  },
  {
   "cell_type": "code",
   "execution_count": 9,
   "metadata": {},
   "outputs": [
    {
     "name": "stdout",
     "output_type": "stream",
     "text": [
      "'/var/data/lvdthieu/repos/maven_projects/AdoptOpenJDK_jitwatch/jitwatch/core/src/main/java/org/adoptopenjdk/jitwatch/chain/CompileChainWalker.java'\n",
      "''\n"
     ]
    }
   ],
   "source": [
    "make_project_json(\"/var/data/lvdthieu/files_path.txt\")\n"
   ]
  },
  {
   "cell_type": "markdown",
   "metadata": {},
   "source": [
    "# Check extract variable and signature of multiple class"
   ]
  },
  {
   "cell_type": "code",
   "execution_count": 5,
   "metadata": {},
   "outputs": [
    {
     "data": {
      "text/plain": [
       "'{\"Test\": [\"void main(String[] args) {<BODY>}\"], \"Test2\": [\"void main(String[] args) {<BODY>}\"]}'"
      ]
     },
     "execution_count": 5,
     "metadata": {},
     "output_type": "execute_result"
    }
   ],
   "source": [
    "from src.extract_parent_context import extract_signature_and_var\n",
    "\n",
    "java_code = \"\"\"\n",
    "public class Test {\n",
    "    public static void main(String[] args) {\n",
    "        int a = 10;\n",
    "        int b = 20;\n",
    "        int c = a + b;\n",
    "    }\n",
    "}\n",
    "\n",
    "public class Test2 {\n",
    "    public static void main(String[] args) {\n",
    "        int a = 10;\n",
    "        int b = 20;\n",
    "        int c = a + b;\n",
    "    }\n",
    "}\n",
    "\"\"\"\n",
    "\n",
    "extract_signature_and_var(java_code)"
   ]
  },
  {
   "cell_type": "code",
   "execution_count": 3,
   "metadata": {},
   "outputs": [
    {
     "name": "stdout",
     "output_type": "stream",
     "text": [
      "<class 'pandas.core.frame.DataFrame'>\n",
      "RangeIndex: 6000 entries, 0 to 5999\n",
      "Data columns (total 6 columns):\n",
      " #   Column         Non-Null Count  Dtype \n",
      "---  ------         --------------  ----- \n",
      " 0   proj_name      6000 non-null   object\n",
      " 1   relative_path  6000 non-null   object\n",
      " 2   class_name     6000 non-null   object\n",
      " 3   func_name      6000 non-null   object\n",
      " 4   masked_class   6000 non-null   object\n",
      " 5   func_body      6000 non-null   object\n",
      "dtypes: object(6)\n",
      "memory usage: 281.4+ KB\n"
     ]
    }
   ],
   "source": [
    "import pandas as pd\n",
    "\n",
    "df = pd.read_parquet(\"/var/data/lvdthieu/code-generation/java_data/data/data/new_checkpoint.parquet\", \"fastparquet\")\n",
    "df.info()"
   ]
  },
  {
   "cell_type": "code",
   "execution_count": 4,
   "metadata": {},
   "outputs": [
    {
     "data": {
      "text/html": [
       "<div>\n",
       "<style scoped>\n",
       "    .dataframe tbody tr th:only-of-type {\n",
       "        vertical-align: middle;\n",
       "    }\n",
       "\n",
       "    .dataframe tbody tr th {\n",
       "        vertical-align: top;\n",
       "    }\n",
       "\n",
       "    .dataframe thead th {\n",
       "        text-align: right;\n",
       "    }\n",
       "</style>\n",
       "<table border=\"1\" class=\"dataframe\">\n",
       "  <thead>\n",
       "    <tr style=\"text-align: right;\">\n",
       "      <th></th>\n",
       "      <th>proj_name</th>\n",
       "      <th>relative_path</th>\n",
       "      <th>class_name</th>\n",
       "      <th>func_name</th>\n",
       "      <th>masked_class</th>\n",
       "      <th>func_body</th>\n",
       "    </tr>\n",
       "  </thead>\n",
       "  <tbody>\n",
       "    <tr>\n",
       "      <th>0</th>\n",
       "      <td></td>\n",
       "      <td>var/data/lvdthieu/code-generation/java_data/AJ...</td>\n",
       "      <td>ColumnTypePool</td>\n",
       "      <td>create</td>\n",
       "      <td>class ColumnTypePool implements FrameColumnTyp...</td>\n",
       "      <td>\\n            boolean isIndexed = indexBlockCa...</td>\n",
       "    </tr>\n",
       "    <tr>\n",
       "      <th>1</th>\n",
       "      <td></td>\n",
       "      <td>var/data/lvdthieu/code-generation/java_data/pa...</td>\n",
       "      <td>Main</td>\n",
       "      <td>storeToJsonFile</td>\n",
       "      <td>class Main {\\n    private static ArrayList&lt;Cla...</td>\n",
       "      <td>\\n        Gson gson = new GsonBuilder().setPre...</td>\n",
       "    </tr>\n",
       "    <tr>\n",
       "      <th>2</th>\n",
       "      <td>maven_projects</td>\n",
       "      <td>AdoptOpenJDK_jitwatch/jitwatch/core/src/main/j...</td>\n",
       "      <td>CompileChainWalker</td>\n",
       "      <td>processParseTag</td>\n",
       "      <td>class CompileChainWalker extends AbstractCompi...</td>\n",
       "      <td>\\n\\t\\tString methodID = null;\\n\\t\\tCompileNode...</td>\n",
       "    </tr>\n",
       "    <tr>\n",
       "      <th>3</th>\n",
       "      <td>maven_projects</td>\n",
       "      <td>AdoptOpenJDK_jitwatch/jitwatch/core/src/main/j...</td>\n",
       "      <td>CompileNode</td>\n",
       "      <td>addChild</td>\n",
       "      <td>class CompileNode\\n{\\t\\n\\tprivate boolean inli...</td>\n",
       "      <td>\\n\\t\\tchild.parent = this;\\n\\t\\tchildren.add(c...</td>\n",
       "    </tr>\n",
       "    <tr>\n",
       "      <th>4</th>\n",
       "      <td>maven_projects</td>\n",
       "      <td>AdoptOpenJDK_jitwatch/jitwatch/core/src/main/j...</td>\n",
       "      <td>AbstractCompilationVisitable</td>\n",
       "      <td>handleOther</td>\n",
       "      <td>class AbstractCompilationVisitable implements ...</td>\n",
       "      <td>\\t\\t\\n\\t\\tif (!ignoreTags.contains(tag.getName...</td>\n",
       "    </tr>\n",
       "  </tbody>\n",
       "</table>\n",
       "</div>"
      ],
      "text/plain": [
       "        proj_name                                      relative_path  \\\n",
       "0                  var/data/lvdthieu/code-generation/java_data/AJ...   \n",
       "1                  var/data/lvdthieu/code-generation/java_data/pa...   \n",
       "2  maven_projects  AdoptOpenJDK_jitwatch/jitwatch/core/src/main/j...   \n",
       "3  maven_projects  AdoptOpenJDK_jitwatch/jitwatch/core/src/main/j...   \n",
       "4  maven_projects  AdoptOpenJDK_jitwatch/jitwatch/core/src/main/j...   \n",
       "\n",
       "                     class_name        func_name  \\\n",
       "0                ColumnTypePool           create   \n",
       "1                          Main  storeToJsonFile   \n",
       "2            CompileChainWalker  processParseTag   \n",
       "3                   CompileNode         addChild   \n",
       "4  AbstractCompilationVisitable      handleOther   \n",
       "\n",
       "                                        masked_class  \\\n",
       "0  class ColumnTypePool implements FrameColumnTyp...   \n",
       "1  class Main {\\n    private static ArrayList<Cla...   \n",
       "2  class CompileChainWalker extends AbstractCompi...   \n",
       "3  class CompileNode\\n{\\t\\n\\tprivate boolean inli...   \n",
       "4  class AbstractCompilationVisitable implements ...   \n",
       "\n",
       "                                           func_body  \n",
       "0  \\n            boolean isIndexed = indexBlockCa...  \n",
       "1  \\n        Gson gson = new GsonBuilder().setPre...  \n",
       "2  \\n\\t\\tString methodID = null;\\n\\t\\tCompileNode...  \n",
       "3  \\n\\t\\tchild.parent = this;\\n\\t\\tchildren.add(c...  \n",
       "4  \\t\\t\\n\\t\\tif (!ignoreTags.contains(tag.getName...  "
      ]
     },
     "execution_count": 4,
     "metadata": {},
     "output_type": "execute_result"
    }
   ],
   "source": [
    "df.head()"
   ]
  }
 ],
 "metadata": {
  "kernelspec": {
   "display_name": "Python 3",
   "language": "python",
   "name": "python3"
  },
  "language_info": {
   "codemirror_mode": {
    "name": "ipython",
    "version": 3
   },
   "file_extension": ".py",
   "mimetype": "text/x-python",
   "name": "python",
   "nbconvert_exporter": "python",
   "pygments_lexer": "ipython3",
   "version": "3.11.8"
  },
  "orig_nbformat": 4
 },
 "nbformat": 4,
 "nbformat_minor": 2
}
