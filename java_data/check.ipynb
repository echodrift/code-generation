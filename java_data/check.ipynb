{
 "cells": [
  {
   "cell_type": "code",
   "execution_count": 5,
   "metadata": {},
   "outputs": [
    {
     "data": {
      "text/plain": [
       "0.9578396252411132"
      ]
     },
     "execution_count": 5,
     "metadata": {},
     "output_type": "execute_result"
    }
   ],
   "source": [
    "import pandas as pd\n",
    "\n",
    "df = pd.read_parquet(\"/home/hieuvd/lvdthieu/CodeGen/java_data/data/compile_info_codellama_v1.parquet\", \"fastparquet\")\n",
    "# df.to_parquet(\"/home/hieuvd/lvdthieu/CodeGen/java_data/data/deepseek.parquet\", \"fastparquet\")\n",
    "len(df[df[\"compile_info_filled_file_baseline_output\"] == \"<COMPILED_SUCCESSFULLY>\"]) / len(df)"
   ]
  },
  {
   "cell_type": "code",
   "execution_count": 9,
   "metadata": {},
   "outputs": [],
   "source": [
    "import pandas as pd\n",
    "\n",
    "df = pd.read_parquet(\"/home/hieuvd/lvdthieu/CodeGen/java_data/data/compile_info_deepseek_v1.parquet\", \"fastparquet\")\n",
    "# df.to_parquet(\"/home/hieuvd/lvdthieu/CodeGen/java_data/data/deepseek.parquet\", \"fastparquet\")\n",
    "len(df[df[\"compile_info_filled_file_baseline_output\"] == \"<COMPILED_SUCCESSFULLY>\"]) / len(df)\n",
    "df.to_csv(\"check.csv\")"
   ]
  },
  {
   "cell_type": "code",
   "execution_count": 8,
   "metadata": {},
   "outputs": [
    {
     "data": {
      "text/plain": [
       "0.9754753375585561"
      ]
     },
     "execution_count": 8,
     "metadata": {},
     "output_type": "execute_result"
    }
   ],
   "source": [
    "import pandas as pd\n",
    "\n",
    "df = pd.read_parquet(\"/home/hieuvd/lvdthieu/CodeGen/java_data/data/compile_info_deepseek_v2.parquet\", \"fastparquet\")\n",
    "# df.to_parquet(\"/home/hieuvd/lvdthieu/CodeGen/java_data/data/deepseek.parquet\", \"fastparquet\")\n",
    "len(df[df[\"compile_info_filled_file_finetune_output\"] == \"<COMPILED_SUCCESSFULLY>\"]) / len(df)"
   ]
  },
  {
   "cell_type": "code",
   "execution_count": null,
   "metadata": {},
   "outputs": [],
   "source": []
  }
 ],
 "metadata": {
  "kernelspec": {
   "display_name": "Python 3",
   "language": "python",
   "name": "python3"
  },
  "language_info": {
   "codemirror_mode": {
    "name": "ipython",
    "version": 3
   },
   "file_extension": ".py",
   "mimetype": "text/x-python",
   "name": "python",
   "nbconvert_exporter": "python",
   "pygments_lexer": "ipython3",
   "version": "3.11.5"
  },
  "orig_nbformat": 4
 },
 "nbformat": 4,
 "nbformat_minor": 2
}
