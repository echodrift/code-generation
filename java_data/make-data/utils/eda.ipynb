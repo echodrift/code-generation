{
 "cells": [
  {
   "cell_type": "code",
   "execution_count": 1,
   "metadata": {},
   "outputs": [
    {
     "name": "stdout",
     "output_type": "stream",
     "text": [
      "        proj_name                                      relative_path  \\\n",
      "0  ainilili_ratel  ratel/landlords-common/src/main/java/org/nico/...   \n",
      "1  ainilili_ratel  ratel/landlords-common/src/main/java/org/nico/...   \n",
      "2  ainilili_ratel  ratel/landlords-common/src/main/java/org/nico/...   \n",
      "3  ainilili_ratel  ratel/landlords-common/src/main/java/org/nico/...   \n",
      "4  ainilili_ratel  ratel/landlords-common/src/main/java/org/nico/...   \n",
      "\n",
      "                  class_name         func_name  \\\n",
      "0    EasyRobotDecisionMakers   howToPlayPokers   \n",
      "1  MediumRobotDecisionMakers      serialPokers   \n",
      "2        RobotDecisionMakers  getLandlordScore   \n",
      "3                    ByteKit           indexOf   \n",
      "4                   ByteLink           toArray   \n",
      "\n",
      "                                        masked_class  \\\n",
      "0  class EasyRobotDecisionMakers extends Abstract...   \n",
      "1  class MediumRobotDecisionMakers extends Abstra...   \n",
      "2  class RobotDecisionMakers {\\n\\t\\n\\tprivate sta...   \n",
      "3  class ByteKit {\\n\\n\\t/**\\n\\t * Target byte arr...   \n",
      "4  class ByteLink {\\n\\n\\tprivate ByteNode start;\\...   \n",
      "\n",
      "                                           func_body  len_input  len_output  \\\n",
      "0  \\n\\t\\tif (lastPokerSell != null && lastPokerSe...        298         348   \n",
      "1  \\n\\t\\tif(pokers == null || pokers.size() == 0)...       1446         112   \n",
      "2  \\n\\t\\treturn decisionMakersMap.get(difficultyC...        268          39   \n",
      "3  \\n\\t\\tint targetIndex = -1;\\n\\t\\tif (bs == nul...        221         187   \n",
      "4  \\n\\t\\tif (size == 0) {\\n\\t\\t\\treturn null;\\n\\t...        367          92   \n",
      "\n",
      "   total                                   inherit_elements  \\\n",
      "0    646  <methods>public non-sealed void <init>() ,publ...   \n",
      "1   1558  <methods>public non-sealed void <init>() ,publ...   \n",
      "2    307                                   <no_super_class>   \n",
      "3    408                                   <no_super_class>   \n",
      "4    459                                   <no_super_class>   \n",
      "\n",
      "                               method_qualified_name  \n",
      "0  public PokerSell howToPlayPokers(PokerSell, Cl...  \n",
      "1  private static java.lang.String serialPokers(L...  \n",
      "2  public static int getLandlordScore(int, List<P...  \n",
      "3                   public int indexOf(byte[], int)   \n",
      "4                           public byte[] toArray()   \n"
     ]
    }
   ],
   "source": [
    "import pandas as pd\n",
    "\n",
    "# Load the dataset\n",
    "df = pd.read_parquet('/var/data/lvdthieu/java-data-final-v2.parquet')\n",
    "\n",
    "# Display the first few rows\n",
    "print(df.head())\n"
   ]
  },
  {
   "cell_type": "code",
   "execution_count": 2,
   "metadata": {},
   "outputs": [
    {
     "name": "stdout",
     "output_type": "stream",
     "text": [
      "<class 'pandas.core.frame.DataFrame'>\n",
      "RangeIndex: 25848 entries, 0 to 25847\n",
      "Data columns (total 11 columns):\n",
      " #   Column                 Non-Null Count  Dtype \n",
      "---  ------                 --------------  ----- \n",
      " 0   proj_name              25848 non-null  object\n",
      " 1   relative_path          25848 non-null  object\n",
      " 2   class_name             25848 non-null  object\n",
      " 3   func_name              25848 non-null  object\n",
      " 4   masked_class           25848 non-null  object\n",
      " 5   func_body              25848 non-null  object\n",
      " 6   len_input              25848 non-null  int64 \n",
      " 7   len_output             25848 non-null  int64 \n",
      " 8   total                  25848 non-null  int64 \n",
      " 9   inherit_elements       25848 non-null  object\n",
      " 10  method_qualified_name  25848 non-null  object\n",
      "dtypes: int64(3), object(8)\n",
      "memory usage: 2.2+ MB\n",
      "None\n",
      "          len_input    len_output         total\n",
      "count  25848.000000  25848.000000  25848.000000\n",
      "mean     473.282149    140.087241    613.369390\n",
      "std      429.895261    188.120994    479.567091\n",
      "min       27.000000     11.000000     38.000000\n",
      "25%      147.000000     24.000000    237.000000\n",
      "50%      316.000000     72.000000    456.000000\n",
      "75%      672.250000    175.000000    872.250000\n",
      "max     2030.000000   1939.000000   2048.000000\n",
      "proj_name                0\n",
      "relative_path            0\n",
      "class_name               0\n",
      "func_name                0\n",
      "masked_class             0\n",
      "func_body                0\n",
      "len_input                0\n",
      "len_output               0\n",
      "total                    0\n",
      "inherit_elements         0\n",
      "method_qualified_name    0\n",
      "dtype: int64\n"
     ]
    }
   ],
   "source": [
    "# Basic information about the dataset\n",
    "print(df.info())\n",
    "\n",
    "# Statistical summary of numerical columns\n",
    "print(df.describe())\n",
    "\n",
    "# Check for missing values\n",
    "print(df.isnull().sum())"
   ]
  },
  {
   "cell_type": "code",
   "execution_count": 3,
   "metadata": {},
   "outputs": [
    {
     "ename": "ModuleNotFoundError",
     "evalue": "No module named 'missingno'",
     "output_type": "error",
     "traceback": [
      "\u001b[0;31m---------------------------------------------------------------------------\u001b[0m",
      "\u001b[0;31mModuleNotFoundError\u001b[0m                       Traceback (most recent call last)",
      "Cell \u001b[0;32mIn[3], line 1\u001b[0m\n\u001b[0;32m----> 1\u001b[0m \u001b[38;5;28;01mimport\u001b[39;00m \u001b[38;5;21;01mmissingno\u001b[39;00m \u001b[38;5;28;01mas\u001b[39;00m \u001b[38;5;21;01mmsno\u001b[39;00m\n\u001b[1;32m      3\u001b[0m \u001b[38;5;66;03m# Visualize missing data\u001b[39;00m\n\u001b[1;32m      4\u001b[0m msno\u001b[38;5;241m.\u001b[39mmatrix(df)\n",
      "\u001b[0;31mModuleNotFoundError\u001b[0m: No module named 'missingno'"
     ]
    }
   ],
   "source": [
    "import missingno as msno\n",
    "\n",
    "# Visualize missing data\n",
    "msno.matrix(df)\n",
    "msno.heatmap(df)"
   ]
  },
  {
   "cell_type": "code",
   "execution_count": null,
   "metadata": {},
   "outputs": [],
   "source": [
    "import matplotlib.pyplot as plt\n",
    "\n",
    "# Plot histograms\n",
    "df[['len_input', 'len_output', 'total']].hist(figsize=(10, 10), bins=30)\n",
    "plt.show()"
   ]
  },
  {
   "cell_type": "code",
   "execution_count": null,
   "metadata": {},
   "outputs": [],
   "source": [
    "import seaborn as sns\n",
    "\n",
    "# Plot count plots for categorical features\n",
    "categorical_cols = ['proj_name', 'relative_path', 'class_name', 'func_name', 'masked_class', 'inherit_elements', 'method_qualified_name']\n",
    "\n",
    "for col in categorical_cols:\n",
    "    plt.figure(figsize=(10, 5))\n",
    "    sns.countplot(y=col, data=df)\n",
    "    plt.show()"
   ]
  },
  {
   "cell_type": "code",
   "execution_count": null,
   "metadata": {},
   "outputs": [],
   "source": [
    "# Correlation matrix\n",
    "corr = df[['len_input', 'len_output', 'total']].corr()\n",
    "\n",
    "# Plot a heatmap\n",
    "plt.figure(figsize=(10, 8))\n",
    "sns.heatmap(corr, annot=True, cmap='coolwarm', vmin=-1, vmax=1)\n",
    "plt.show()"
   ]
  },
  {
   "cell_type": "code",
   "execution_count": null,
   "metadata": {},
   "outputs": [],
   "source": [
    "sns.pairplot(df[['len_input', 'len_output', 'total']])\n",
    "plt.show()"
   ]
  },
  {
   "cell_type": "code",
   "execution_count": null,
   "metadata": {},
   "outputs": [],
   "source": [
    "# Plot box plots\n",
    "for col in ['len_input', 'len_output', 'total']:\n",
    "    plt.figure(figsize=(10, 5))\n",
    "    sns.boxplot(x=df[col])\n",
    "    plt.show()"
   ]
  },
  {
   "cell_type": "code",
   "execution_count": null,
   "metadata": {},
   "outputs": [],
   "source": [
    "# Value counts\n",
    "for col in categorical_cols:\n",
    "    print(df[col].value_counts())\n",
    "    print('\\n')"
   ]
  },
  {
   "cell_type": "code",
   "execution_count": null,
   "metadata": {},
   "outputs": [],
   "source": [
    "# Violin plots\n",
    "for col in categorical_cols:\n",
    "    plt.figure(figsize=(10, 5))\n",
    "    sns.violinplot(x=col, y='total', data=df)  # 'total' is used as an example for numerical column\n",
    "    plt.show()\n",
    "\n",
    "# Scatter plots for numerical features\n",
    "sns.scatterplot(x='len_input', y='len_output', data=df)\n",
    "plt.show()\n"
   ]
  }
 ],
 "metadata": {
  "kernelspec": {
   "display_name": "codegen",
   "language": "python",
   "name": "python3"
  },
  "language_info": {
   "codemirror_mode": {
    "name": "ipython",
    "version": 3
   },
   "file_extension": ".py",
   "mimetype": "text/x-python",
   "name": "python",
   "nbconvert_exporter": "python",
   "pygments_lexer": "ipython3",
   "version": "3.11.8"
  }
 },
 "nbformat": 4,
 "nbformat_minor": 2
}
