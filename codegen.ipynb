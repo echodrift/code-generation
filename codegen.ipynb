{
 "cells": [
  {
   "cell_type": "code",
   "execution_count": 1,
   "metadata": {},
   "outputs": [],
   "source": [
    "import pandas as pd"
   ]
  },
  {
   "cell_type": "code",
   "execution_count": 6,
   "metadata": {},
   "outputs": [],
   "source": [
    "train_file = pd.read_parquet(\"./data/solfile/train_file.parquet\", engine=\"fastparquet\")"
   ]
  },
  {
   "cell_type": "code",
   "execution_count": 7,
   "metadata": {},
   "outputs": [
    {
     "name": "stdout",
     "output_type": "stream",
     "text": [
      "<class 'pandas.core.frame.DataFrame'>\n",
      "Index: 167310 entries, 0 to 167757\n",
      "Data columns (total 6 columns):\n",
      " #   Column            Non-Null Count   Dtype \n",
      "---  ------            --------------   ----- \n",
      " 0   file_name         167310 non-null  object\n",
      " 1   file_address      167310 non-null  object\n",
      " 2   source_code       167310 non-null  object\n",
      " 3   abi               167310 non-null  object\n",
      " 4   compiler_version  167310 non-null  object\n",
      " 5   library           167310 non-null  object\n",
      "dtypes: object(6)\n",
      "memory usage: 8.9+ MB\n"
     ]
    }
   ],
   "source": [
    "train_file.info()"
   ]
  },
  {
   "cell_type": "code",
   "execution_count": 8,
   "metadata": {},
   "outputs": [
    {
     "name": "stdout",
     "output_type": "stream",
     "text": [
      "<class 'pandas.core.frame.DataFrame'>\n",
      "Index: 18594 entries, 0 to 18638\n",
      "Data columns (total 6 columns):\n",
      " #   Column            Non-Null Count  Dtype \n",
      "---  ------            --------------  ----- \n",
      " 0   file_name         18594 non-null  object\n",
      " 1   file_address      18594 non-null  object\n",
      " 2   source_code       18594 non-null  object\n",
      " 3   abi               18594 non-null  object\n",
      " 4   compiler_version  18594 non-null  object\n",
      " 5   library           18594 non-null  object\n",
      "dtypes: object(6)\n",
      "memory usage: 1016.9+ KB\n"
     ]
    }
   ],
   "source": [
    "test_file = pd.read_parquet(\"./data/solfile/test_file.parquet\", engine=\"fastparquet\")\n",
    "test_file.info()"
   ]
  },
  {
   "cell_type": "code",
   "execution_count": 5,
   "metadata": {},
   "outputs": [],
   "source": [
    "train_file = train_file[train_file[\"language\"] == \"Solidity\"]\n",
    "test_file = test_file[test_file[\"language\"] == \"Solidity\"]\n",
    "train_file = train_file.drop(columns=[\"language\"])\n",
    "test_file = test_file.drop(columns=[\"language\"])\n",
    "train_file.to_parquet(\"./data/solfile/train_file.parquet\", engine=\"fastparquet\")\n",
    "test_file.to_parquet(\"./data/solfile/test_file.parquet\", engine=\"fastparquet\")"
   ]
  },
  {
   "cell_type": "code",
   "execution_count": 13,
   "metadata": {},
   "outputs": [],
   "source": [
    "versions = list(set(train_file[\"compiler_version\"].tolist() + test_file[\"compiler_version\"].tolist()))\n",
    "versions = [version.split('+')[0] for version in versions]\n",
    "string = \"\"\n",
    "for version in versions:\n",
    "    string = string + '{' + f'version: \"{version[1:]}\"'+ '},\\n'\n",
    "with open(\"sol_version.txt\", \"w\") as f:\n",
    "    f.write(string)"
   ]
  },
  {
   "cell_type": "code",
   "execution_count": null,
   "metadata": {},
   "outputs": [],
   "source": []
  }
 ],
 "metadata": {
  "kernelspec": {
   "display_name": "Python 3",
   "language": "python",
   "name": "python3"
  },
  "language_info": {
   "codemirror_mode": {
    "name": "ipython",
    "version": 3
   },
   "file_extension": ".py",
   "mimetype": "text/x-python",
   "name": "python",
   "nbconvert_exporter": "python",
   "pygments_lexer": "ipython3",
   "version": "3.11.5"
  }
 },
 "nbformat": 4,
 "nbformat_minor": 2
}
