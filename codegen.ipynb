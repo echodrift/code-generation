{
 "cells": [
  {
   "cell_type": "markdown",
   "metadata": {},
   "source": [
    "# Demo data"
   ]
  },
  {
   "cell_type": "code",
   "execution_count": 1,
   "metadata": {},
   "outputs": [],
   "source": [
    "import pandas as pd\n",
    "\n",
    "test_sol_files = pd.read_csv(\"./data/solfile/test_sol_file.csv\")\n"
   ]
  },
  {
   "cell_type": "code",
   "execution_count": 2,
   "metadata": {},
   "outputs": [
    {
     "name": "stdout",
     "output_type": "stream",
     "text": [
      "<class 'pandas.core.frame.DataFrame'>\n",
      "RangeIndex: 18639 entries, 0 to 18638\n",
      "Data columns (total 3 columns):\n",
      " #   Column            Non-Null Count  Dtype \n",
      "---  ------            --------------  ----- \n",
      " 0   Unnamed: 0        18639 non-null  int64 \n",
      " 1   contract_address  18639 non-null  object\n",
      " 2   source_code       18639 non-null  object\n",
      "dtypes: int64(1), object(2)\n",
      "memory usage: 437.0+ KB\n"
     ]
    }
   ],
   "source": [
    "test_sol_files.info()"
   ]
  },
  {
   "cell_type": "code",
   "execution_count": 3,
   "metadata": {},
   "outputs": [],
   "source": [
    "sol_file = test_sol_files.loc[0, \"source_code\"]"
   ]
  },
  {
   "cell_type": "code",
   "execution_count": 4,
   "metadata": {},
   "outputs": [],
   "source": [
    "with open(\"sample.sol\", \"w\") as f:\n",
    "    f.write(sol_file)"
   ]
  },
  {
   "cell_type": "code",
   "execution_count": 5,
   "metadata": {},
   "outputs": [
    {
     "data": {
      "text/plain": [
       "count    740796.000000\n",
       "mean         18.397077\n",
       "std          29.428295\n",
       "min           0.000000\n",
       "25%           3.000000\n",
       "50%           9.000000\n",
       "75%          22.000000\n",
       "max        1457.000000\n",
       "Name: num_token, dtype: float64"
      ]
     },
     "execution_count": 5,
     "metadata": {},
     "output_type": "execute_result"
    }
   ],
   "source": [
    "import pandas as pd\n",
    "\n",
    "train = pd.read_parquet(\"./out/data_train.parquet\", engine=\"fastparquet\")\n",
    "\n",
    "train[\"num_token\"] = train[\"function_body\"].apply(lambda string: len(string.split()))\n",
    "train[\"num_token\"].describe()"
   ]
  },
  {
   "cell_type": "code",
   "execution_count": 7,
   "metadata": {},
   "outputs": [
    {
     "data": {
      "text/plain": [
       "0.9137832817671802"
      ]
     },
     "execution_count": 7,
     "metadata": {},
     "output_type": "execute_result"
    }
   ],
   "source": [
    "len(train[train[\"num_token\"] < 50]) / len(train)"
   ]
  },
  {
   "cell_type": "code",
   "execution_count": 12,
   "metadata": {},
   "outputs": [
    {
     "data": {
      "text/plain": [
       "count    76178.000000\n",
       "mean       815.031374\n",
       "std        530.507409\n",
       "min         11.000000\n",
       "25%        356.000000\n",
       "50%        763.000000\n",
       "75%       1206.000000\n",
       "max       2048.000000\n",
       "Name: num_token, dtype: float64"
      ]
     },
     "execution_count": 12,
     "metadata": {},
     "output_type": "execute_result"
    }
   ],
   "source": [
    "test = pd.read_parquet(\"./out/data_test.parquet\", engine=\"fastparquet\")\n",
    "\n",
    "test[\"num_token\"] = test[\"contract_masked\"].apply(lambda string: len(string.split()))\n",
    "test[\"num_token\"].describe()"
   ]
  },
  {
   "cell_type": "code",
   "execution_count": 13,
   "metadata": {},
   "outputs": [
    {
     "data": {
      "text/plain": [
       "0.634028197117278"
      ]
     },
     "execution_count": 13,
     "metadata": {},
     "output_type": "execute_result"
    }
   ],
   "source": [
    "len(test[test[\"num_token\"] < 1024]) / len(test)"
   ]
  },
  {
   "cell_type": "code",
   "execution_count": 10,
   "metadata": {},
   "outputs": [
    {
     "data": {
      "text/plain": [
       "9                   \\r\\n    pendingOwner = newOwner;\\r\\n  \n",
       "17             \\r\\n        migrationPhase = false;\\r\\n    \n",
       "18       \\r\\n        return ERC20Basic(tokenAddress).tr...\n",
       "19       \\r\\n        return super.transfer(_to, _value)...\n",
       "20       \\n        return pool.underlyingBalance(addres...\n",
       "                               ...                        \n",
       "76123                   \\r\\n        god = _newGod;\\r\\n    \n",
       "76126    \\r\\n        interfaceContract = _interfaceCont...\n",
       "76133    \\r\\n        frozenHoldings[_owner] += _tokens;...\n",
       "76134    \\r\\n        frozenHoldings[_owner] -= _tokens;...\n",
       "76175           \\r\\n        _decimals = decimals_;\\r\\n    \n",
       "Name: function_body, Length: 5672, dtype: object"
      ]
     },
     "execution_count": 10,
     "metadata": {},
     "output_type": "execute_result"
    }
   ],
   "source": [
    "test[test[\"num_token\"] == 3][\"function_body\"]"
   ]
  },
  {
   "cell_type": "markdown",
   "metadata": {},
   "source": [
    "# Check variable accessibility"
   ]
  },
  {
   "cell_type": "code",
   "execution_count": 1,
   "metadata": {},
   "outputs": [
    {
     "data": {
      "text/plain": [
       "'// SPDX-License-Identifier: MIT\\npragma solidity ^0.8.9;\\n\\nstruct testType {\\n    uint testInt;\\n    string testString;\\n}\\n\\ncontract Test {\\n    uint x = 0;\\n    uint num = x;\\n    testType test;\\n    mapping (uint => string) map;\\n\\n    \\n    function something(testType memory x_, uint y) public pure {\\n        x_.testInt = 1;\\n        y = 0;\\n    }\\n}'"
      ]
     },
     "execution_count": 1,
     "metadata": {},
     "output_type": "execute_result"
    }
   ],
   "source": [
    "from solidity_parser import parser\n",
    "\n",
    "with open(\"./test.sol\", \"r\") as f:\n",
    "    sol_file = f.read()\n",
    "\n",
    "sol_file"
   ]
  },
  {
   "cell_type": "code",
   "execution_count": 2,
   "metadata": {},
   "outputs": [],
   "source": [
    "import json\n",
    "\n",
    "with open(\"test.json\", \"w\") as f:\n",
    "    f.write(json.dumps(parser.parse(sol_file, loc=True)))"
   ]
  },
  {
   "cell_type": "code",
   "execution_count": 4,
   "metadata": {},
   "outputs": [],
   "source": [
    "with open(\"./sample.sol\", \"r\") as f:\n",
    "    sample_file = f.read()\n",
    "    \n",
    "with open(\"sample.json\", \"w\") as f:\n",
    "    f.write(json.dumps(parser.parse(sample_file, loc=False)))"
   ]
  },
  {
   "cell_type": "markdown",
   "metadata": {},
   "source": [
    "# Check data"
   ]
  },
  {
   "cell_type": "code",
   "execution_count": 1,
   "metadata": {},
   "outputs": [],
   "source": [
    "import pandas as pd\n",
    "\n",
    "original_train = pd.read_csv(\"./data/solfile/train_sol_file.csv\")\n",
    "original_valid = pd.read_csv(\"./data/solfile/valid_sol_file.csv\")\n",
    "original_test = pd.read_csv(\"./data/solfile/test_sol_file.csv\") \n",
    "\n",
    "train_data = pd.concat([original_train, original_valid], axis=0).reset_index()\n",
    "\n",
    "train_data.to_parquet(\"./data/solfile/train_file.parquet\", engine=\"fastparquet\")\n",
    "original_test.to_parquet(\"./data/solfile/test_file.parquet\", engine=\"fastparquet\")"
   ]
  },
  {
   "cell_type": "code",
   "execution_count": 2,
   "metadata": {},
   "outputs": [
    {
     "name": "stdout",
     "output_type": "stream",
     "text": [
      "<class 'pandas.core.frame.DataFrame'>\n",
      "RangeIndex: 167758 entries, 0 to 167757\n",
      "Data columns (total 4 columns):\n",
      " #   Column            Non-Null Count   Dtype \n",
      "---  ------            --------------   ----- \n",
      " 0   index             167758 non-null  int64 \n",
      " 1   Unnamed: 0        167758 non-null  int64 \n",
      " 2   contract_address  167758 non-null  object\n",
      " 3   source_code       167758 non-null  object\n",
      "dtypes: int64(2), object(2)\n",
      "memory usage: 5.1+ MB\n",
      "None\n"
     ]
    }
   ],
   "source": [
    "# Test data\n",
    "\n",
    "train_data = pd.read_parquet(\"./data/solfile/train_file.parquet\", engine=\"fastparquet\")\n",
    "print(train_data.info())"
   ]
  },
  {
   "cell_type": "code",
   "execution_count": 3,
   "metadata": {},
   "outputs": [
    {
     "name": "stdout",
     "output_type": "stream",
     "text": [
      "<class 'pandas.core.frame.DataFrame'>\n",
      "RangeIndex: 167758 entries, 0 to 167757\n",
      "Data columns (total 4 columns):\n",
      " #   Column            Non-Null Count   Dtype \n",
      "---  ------            --------------   ----- \n",
      " 0   index             167758 non-null  int64 \n",
      " 1   Unnamed: 0        167758 non-null  int64 \n",
      " 2   contract_address  167758 non-null  object\n",
      " 3   source_code       167758 non-null  object\n",
      "dtypes: int64(2), object(2)\n",
      "memory usage: 5.1+ MB\n"
     ]
    }
   ],
   "source": [
    "train_data = train_data.reset_index(drop=True)\n",
    "train_data.info()"
   ]
  },
  {
   "cell_type": "code",
   "execution_count": 4,
   "metadata": {},
   "outputs": [
    {
     "name": "stdout",
     "output_type": "stream",
     "text": [
      "<class 'pandas.core.frame.DataFrame'>\n",
      "RangeIndex: 167758 entries, 0 to 167757\n",
      "Data columns (total 3 columns):\n",
      " #   Column            Non-Null Count   Dtype \n",
      "---  ------            --------------   ----- \n",
      " 0   index             167758 non-null  int64 \n",
      " 1   contract_address  167758 non-null  object\n",
      " 2   source_code       167758 non-null  object\n",
      "dtypes: int64(1), object(2)\n",
      "memory usage: 3.8+ MB\n"
     ]
    }
   ],
   "source": [
    "train_data.drop(columns=[\"Unnamed: 0\"], inplace=True)\n",
    "train_data.info()"
   ]
  },
  {
   "cell_type": "code",
   "execution_count": 5,
   "metadata": {},
   "outputs": [],
   "source": [
    "train_data.to_parquet(\"./data/solfile/train_file.parquet\", engine=\"fastparquet\")"
   ]
  },
  {
   "cell_type": "code",
   "execution_count": 6,
   "metadata": {},
   "outputs": [
    {
     "name": "stdout",
     "output_type": "stream",
     "text": [
      "<class 'pandas.core.frame.DataFrame'>\n",
      "RangeIndex: 167758 entries, 0 to 167757\n",
      "Data columns (total 3 columns):\n",
      " #   Column            Non-Null Count   Dtype \n",
      "---  ------            --------------   ----- \n",
      " 0   index             167758 non-null  int64 \n",
      " 1   contract_address  167758 non-null  object\n",
      " 2   source_code       167758 non-null  object\n",
      "dtypes: int64(1), object(2)\n",
      "memory usage: 3.8+ MB\n"
     ]
    }
   ],
   "source": [
    "train_data.info()"
   ]
  },
  {
   "cell_type": "code",
   "execution_count": 7,
   "metadata": {},
   "outputs": [
    {
     "name": "stdout",
     "output_type": "stream",
     "text": [
      "<class 'pandas.core.frame.DataFrame'>\n",
      "RangeIndex: 18639 entries, 0 to 18638\n",
      "Data columns (total 3 columns):\n",
      " #   Column            Non-Null Count  Dtype \n",
      "---  ------            --------------  ----- \n",
      " 0   Unnamed: 0        18639 non-null  int64 \n",
      " 1   contract_address  18639 non-null  object\n",
      " 2   source_code       18639 non-null  object\n",
      "dtypes: int64(1), object(2)\n",
      "memory usage: 437.0+ KB\n"
     ]
    }
   ],
   "source": [
    "test_data = pd.read_parquet(\"./data/solfile/test_file.parquet\")\n",
    "test_data.info()"
   ]
  },
  {
   "cell_type": "code",
   "execution_count": 12,
   "metadata": {},
   "outputs": [],
   "source": [
    "test_data.rename({\"Unnamed: 0\": \"index\"}, inplace=True)"
   ]
  },
  {
   "cell_type": "code",
   "execution_count": 13,
   "metadata": {},
   "outputs": [
    {
     "name": "stdout",
     "output_type": "stream",
     "text": [
      "<class 'pandas.core.frame.DataFrame'>\n",
      "Index: 18639 entries, 0 to 18638\n",
      "Data columns (total 3 columns):\n",
      " #   Column            Non-Null Count  Dtype \n",
      "---  ------            --------------  ----- \n",
      " 0   Unnamed: 0        18639 non-null  int64 \n",
      " 1   contract_address  18639 non-null  object\n",
      " 2   source_code       18639 non-null  object\n",
      "dtypes: int64(1), object(2)\n",
      "memory usage: 582.5+ KB\n"
     ]
    }
   ],
   "source": [
    "test_data.info()"
   ]
  },
  {
   "cell_type": "code",
   "execution_count": 14,
   "metadata": {},
   "outputs": [
    {
     "name": "stdout",
     "output_type": "stream",
     "text": [
      "<class 'pandas.core.frame.DataFrame'>\n",
      "Index: 18639 entries, index to 18638\n",
      "Data columns (total 3 columns):\n",
      " #   Column            Non-Null Count  Dtype \n",
      "---  ------            --------------  ----- \n",
      " 0   Unnamed: 0        18639 non-null  int64 \n",
      " 1   contract_address  18639 non-null  object\n",
      " 2   source_code       18639 non-null  object\n",
      "dtypes: int64(1), object(2)\n",
      "memory usage: 582.5+ KB\n"
     ]
    }
   ],
   "source": [
    "test_data.rename(index={0: \"index\"}, inplace=True)\n",
    "test_data.info()"
   ]
  },
  {
   "cell_type": "code",
   "execution_count": 15,
   "metadata": {},
   "outputs": [],
   "source": [
    "test_data.index.name = \"index\""
   ]
  },
  {
   "cell_type": "code",
   "execution_count": 16,
   "metadata": {},
   "outputs": [
    {
     "name": "stdout",
     "output_type": "stream",
     "text": [
      "<class 'pandas.core.frame.DataFrame'>\n",
      "Index: 18639 entries, index to 18638\n",
      "Data columns (total 3 columns):\n",
      " #   Column            Non-Null Count  Dtype \n",
      "---  ------            --------------  ----- \n",
      " 0   Unnamed: 0        18639 non-null  int64 \n",
      " 1   contract_address  18639 non-null  object\n",
      " 2   source_code       18639 non-null  object\n",
      "dtypes: int64(1), object(2)\n",
      "memory usage: 582.5+ KB\n"
     ]
    }
   ],
   "source": [
    "test_data.info()"
   ]
  },
  {
   "cell_type": "code",
   "execution_count": 17,
   "metadata": {},
   "outputs": [
    {
     "name": "stdout",
     "output_type": "stream",
     "text": [
      "<class 'pandas.core.frame.DataFrame'>\n",
      "Index: 18639 entries, index to 18638\n",
      "Data columns (total 3 columns):\n",
      " #   Column            Non-Null Count  Dtype \n",
      "---  ------            --------------  ----- \n",
      " 0   Unnamed: 0        18639 non-null  int64 \n",
      " 1   contract_address  18639 non-null  object\n",
      " 2   source_code       18639 non-null  object\n",
      "dtypes: int64(1), object(2)\n",
      "memory usage: 582.5+ KB\n"
     ]
    }
   ],
   "source": [
    "test_data = test_data.rename(index={0: \"index\"})\n",
    "test_data.info()"
   ]
  },
  {
   "cell_type": "code",
   "execution_count": 18,
   "metadata": {},
   "outputs": [
    {
     "name": "stdout",
     "output_type": "stream",
     "text": [
      "<class 'pandas.core.frame.DataFrame'>\n",
      "RangeIndex: 18639 entries, 0 to 18638\n",
      "Data columns (total 3 columns):\n",
      " #   Column            Non-Null Count  Dtype \n",
      "---  ------            --------------  ----- \n",
      " 0   Unnamed: 0        18639 non-null  int64 \n",
      " 1   contract_address  18639 non-null  object\n",
      " 2   source_code       18639 non-null  object\n",
      "dtypes: int64(1), object(2)\n",
      "memory usage: 437.0+ KB\n"
     ]
    }
   ],
   "source": [
    "test_data = test_data.reset_index(drop=True)\n",
    "test_data.info()"
   ]
  },
  {
   "cell_type": "code",
   "execution_count": 19,
   "metadata": {},
   "outputs": [
    {
     "data": {
      "text/html": [
       "<div>\n",
       "<style scoped>\n",
       "    .dataframe tbody tr th:only-of-type {\n",
       "        vertical-align: middle;\n",
       "    }\n",
       "\n",
       "    .dataframe tbody tr th {\n",
       "        vertical-align: top;\n",
       "    }\n",
       "\n",
       "    .dataframe thead th {\n",
       "        text-align: right;\n",
       "    }\n",
       "</style>\n",
       "<table border=\"1\" class=\"dataframe\">\n",
       "  <thead>\n",
       "    <tr style=\"text-align: right;\">\n",
       "      <th></th>\n",
       "      <th>contract_address</th>\n",
       "      <th>source_code</th>\n",
       "    </tr>\n",
       "  </thead>\n",
       "  <tbody>\n",
       "    <tr>\n",
       "      <th>0</th>\n",
       "      <td>0x39176c7d2fe75fbcd0bfaece2fd58472b15b5a53</td>\n",
       "      <td>/**\\r\\n *Submitted for verification at Ethersc...</td>\n",
       "    </tr>\n",
       "    <tr>\n",
       "      <th>1</th>\n",
       "      <td>0x8efe2c82bd31b67fa262c0d364773629f6ea828a</td>\n",
       "      <td>// hevm: flattened sources of src/DssSpell.sol...</td>\n",
       "    </tr>\n",
       "    <tr>\n",
       "      <th>2</th>\n",
       "      <td>0x286708f069225905194673755f12359e6aff6fe1</td>\n",
       "      <td>pragma solidity 0.4.25;\\r\\n\\r\\ncontract ERC20B...</td>\n",
       "    </tr>\n",
       "    <tr>\n",
       "      <th>3</th>\n",
       "      <td>0xb374387a340e6aa7d78385c4a4aac6b425a685b0</td>\n",
       "      <td>contract Strategy is BaseStrategyInitializable...</td>\n",
       "    </tr>\n",
       "    <tr>\n",
       "      <th>4</th>\n",
       "      <td>0x05b55fd424765323aaefa26ae46d5a88c4e8abd2</td>\n",
       "      <td>pragma solidity &gt;=0.4.22 &lt;0.7.0;\\r\\n\\r\\nabstra...</td>\n",
       "    </tr>\n",
       "    <tr>\n",
       "      <th>...</th>\n",
       "      <td>...</td>\n",
       "      <td>...</td>\n",
       "    </tr>\n",
       "    <tr>\n",
       "      <th>18634</th>\n",
       "      <td>0x48a7c27fca93b3282fc403cfa849b0ac3fe26645</td>\n",
       "      <td>// SPDX-License-Identifier: GPL-3.0\\r\\n\\r\\npra...</td>\n",
       "    </tr>\n",
       "    <tr>\n",
       "      <th>18635</th>\n",
       "      <td>0xb518575fef12793c0d3b703f35a75b8c9e09cb71</td>\n",
       "      <td>// SPDX-License-Identifier: MIT\\n\\npragma soli...</td>\n",
       "    </tr>\n",
       "    <tr>\n",
       "      <th>18636</th>\n",
       "      <td>0x805b28b949fc66fb9bb73e5c029d5a06ec83f322</td>\n",
       "      <td>// SPDX-License-Identifier: MIT\\r\\n\\r\\npragma ...</td>\n",
       "    </tr>\n",
       "    <tr>\n",
       "      <th>18637</th>\n",
       "      <td>0x9815c5a8626ec80352c3abf6f138a094d51f276d</td>\n",
       "      <td>pragma solidity ^0.6.12;\\r\\n\\r\\n// uncomment i...</td>\n",
       "    </tr>\n",
       "    <tr>\n",
       "      <th>18638</th>\n",
       "      <td>0x523a7fe78f3b11eff51441e3fcc95cb94a37d25c</td>\n",
       "      <td>// SPDX-License-Identifier: MIT\\r\\n\\r\\npragma ...</td>\n",
       "    </tr>\n",
       "  </tbody>\n",
       "</table>\n",
       "<p>18639 rows × 2 columns</p>\n",
       "</div>"
      ],
      "text/plain": [
       "                                 contract_address  \\\n",
       "0      0x39176c7d2fe75fbcd0bfaece2fd58472b15b5a53   \n",
       "1      0x8efe2c82bd31b67fa262c0d364773629f6ea828a   \n",
       "2      0x286708f069225905194673755f12359e6aff6fe1   \n",
       "3      0xb374387a340e6aa7d78385c4a4aac6b425a685b0   \n",
       "4      0x05b55fd424765323aaefa26ae46d5a88c4e8abd2   \n",
       "...                                           ...   \n",
       "18634  0x48a7c27fca93b3282fc403cfa849b0ac3fe26645   \n",
       "18635  0xb518575fef12793c0d3b703f35a75b8c9e09cb71   \n",
       "18636  0x805b28b949fc66fb9bb73e5c029d5a06ec83f322   \n",
       "18637  0x9815c5a8626ec80352c3abf6f138a094d51f276d   \n",
       "18638  0x523a7fe78f3b11eff51441e3fcc95cb94a37d25c   \n",
       "\n",
       "                                             source_code  \n",
       "0      /**\\r\\n *Submitted for verification at Ethersc...  \n",
       "1      // hevm: flattened sources of src/DssSpell.sol...  \n",
       "2      pragma solidity 0.4.25;\\r\\n\\r\\ncontract ERC20B...  \n",
       "3      contract Strategy is BaseStrategyInitializable...  \n",
       "4      pragma solidity >=0.4.22 <0.7.0;\\r\\n\\r\\nabstra...  \n",
       "...                                                  ...  \n",
       "18634  // SPDX-License-Identifier: GPL-3.0\\r\\n\\r\\npra...  \n",
       "18635  // SPDX-License-Identifier: MIT\\n\\npragma soli...  \n",
       "18636  // SPDX-License-Identifier: MIT\\r\\n\\r\\npragma ...  \n",
       "18637  pragma solidity ^0.6.12;\\r\\n\\r\\n// uncomment i...  \n",
       "18638  // SPDX-License-Identifier: MIT\\r\\n\\r\\npragma ...  \n",
       "\n",
       "[18639 rows x 2 columns]"
      ]
     },
     "execution_count": 19,
     "metadata": {},
     "output_type": "execute_result"
    }
   ],
   "source": [
    "test_data.drop(columns=[\"Unnamed: 0\"], inplace=True)\n",
    "test_data "
   ]
  },
  {
   "cell_type": "code",
   "execution_count": 20,
   "metadata": {},
   "outputs": [
    {
     "name": "stdout",
     "output_type": "stream",
     "text": [
      "<class 'pandas.core.frame.DataFrame'>\n",
      "RangeIndex: 18639 entries, 0 to 18638\n",
      "Data columns (total 2 columns):\n",
      " #   Column            Non-Null Count  Dtype \n",
      "---  ------            --------------  ----- \n",
      " 0   contract_address  18639 non-null  object\n",
      " 1   source_code       18639 non-null  object\n",
      "dtypes: object(2)\n",
      "memory usage: 291.4+ KB\n"
     ]
    }
   ],
   "source": [
    "test_data.info()"
   ]
  },
  {
   "cell_type": "code",
   "execution_count": 21,
   "metadata": {},
   "outputs": [],
   "source": [
    "test_data.to_parquet(\"./data/solfile/test_file.parquet\", engine=\"fastparquet\")"
   ]
  },
  {
   "cell_type": "code",
   "execution_count": 22,
   "metadata": {},
   "outputs": [
    {
     "name": "stdout",
     "output_type": "stream",
     "text": [
      "<class 'pandas.core.frame.DataFrame'>\n",
      "RangeIndex: 167758 entries, 0 to 167757\n",
      "Data columns (total 3 columns):\n",
      " #   Column            Non-Null Count   Dtype \n",
      "---  ------            --------------   ----- \n",
      " 0   index             167758 non-null  int64 \n",
      " 1   contract_address  167758 non-null  object\n",
      " 2   source_code       167758 non-null  object\n",
      "dtypes: int64(1), object(2)\n",
      "memory usage: 3.8+ MB\n"
     ]
    }
   ],
   "source": [
    "train_data.info()"
   ]
  },
  {
   "cell_type": "code",
   "execution_count": 23,
   "metadata": {},
   "outputs": [
    {
     "name": "stdout",
     "output_type": "stream",
     "text": [
      "<class 'pandas.core.frame.DataFrame'>\n",
      "RangeIndex: 167758 entries, 0 to 167757\n",
      "Data columns (total 2 columns):\n",
      " #   Column            Non-Null Count   Dtype \n",
      "---  ------            --------------   ----- \n",
      " 0   contract_address  167758 non-null  object\n",
      " 1   source_code       167758 non-null  object\n",
      "dtypes: object(2)\n",
      "memory usage: 2.6+ MB\n"
     ]
    }
   ],
   "source": [
    "train_data.drop(columns=[\"index\"], inplace=True)\n",
    "train_data.info()"
   ]
  },
  {
   "cell_type": "code",
   "execution_count": 24,
   "metadata": {},
   "outputs": [],
   "source": [
    "train_data.to_parquet(\"./data/solfile/train_file.parquet\", engine=\"fastparquet\")"
   ]
  },
  {
   "cell_type": "code",
   "execution_count": 25,
   "metadata": {},
   "outputs": [
    {
     "name": "stdout",
     "output_type": "stream",
     "text": [
      "<class 'pandas.core.frame.DataFrame'>\n",
      "RangeIndex: 167758 entries, 0 to 167757\n",
      "Data columns (total 2 columns):\n",
      " #   Column            Non-Null Count   Dtype \n",
      "---  ------            --------------   ----- \n",
      " 0   contract_address  167758 non-null  object\n",
      " 1   source_code       167758 non-null  object\n",
      "dtypes: object(2)\n",
      "memory usage: 2.6+ MB\n"
     ]
    }
   ],
   "source": [
    "train_data = pd.read_parquet(\"./data/solfile/train_file.parquet\", engine=\"fastparquet\")\n",
    "train_data.info()"
   ]
  },
  {
   "cell_type": "code",
   "execution_count": 26,
   "metadata": {},
   "outputs": [
    {
     "name": "stdout",
     "output_type": "stream",
     "text": [
      "<class 'pandas.core.frame.DataFrame'>\n",
      "RangeIndex: 18639 entries, 0 to 18638\n",
      "Data columns (total 2 columns):\n",
      " #   Column            Non-Null Count  Dtype \n",
      "---  ------            --------------  ----- \n",
      " 0   contract_address  18639 non-null  object\n",
      " 1   source_code       18639 non-null  object\n",
      "dtypes: object(2)\n",
      "memory usage: 291.4+ KB\n"
     ]
    }
   ],
   "source": [
    "test_data = pd.read_parquet(\"./data/solfile/test_file.parquet\", engine=\"fastparquet\")\n",
    "test_data.info()"
   ]
  },
  {
   "cell_type": "markdown",
   "metadata": {},
   "source": [
    "# Make data with accessible variable information"
   ]
  },
  {
   "cell_type": "code",
   "execution_count": 29,
   "metadata": {},
   "outputs": [
    {
     "name": "stdout",
     "output_type": "stream",
     "text": [
      "<class 'pandas.core.frame.DataFrame'>\n",
      "RangeIndex: 141329 entries, 0 to 141328\n",
      "Data columns (total 5 columns):\n",
      " #   Column           Non-Null Count   Dtype \n",
      "---  ------           --------------   ----- \n",
      " 0   file_address     141329 non-null  object\n",
      " 1   contract_name    141329 non-null  object\n",
      " 2   func_name        141329 non-null  object\n",
      " 3   masked_contract  141329 non-null  object\n",
      " 4   func_body        141329 non-null  object\n",
      "dtypes: object(5)\n",
      "memory usage: 5.4+ MB\n"
     ]
    }
   ],
   "source": [
    "import pandas as pd\n",
    "\n",
    "train_data = pd.read_parquet(\"./data/data/train_data.parquet\", engine=\"fastparquet\")\n",
    "train_data.info()"
   ]
  },
  {
   "cell_type": "code",
   "execution_count": null,
   "metadata": {},
   "outputs": [],
   "source": []
  }
 ],
 "metadata": {
  "kernelspec": {
   "display_name": "Python 3",
   "language": "python",
   "name": "python3"
  },
  "language_info": {
   "codemirror_mode": {
    "name": "ipython",
    "version": 3
   },
   "file_extension": ".py",
   "mimetype": "text/x-python",
   "name": "python",
   "nbconvert_exporter": "python",
   "pygments_lexer": "ipython3",
   "version": "3.11.5"
  }
 },
 "nbformat": 4,
 "nbformat_minor": 2
}
