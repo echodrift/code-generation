{
 "cells": [
  {
   "cell_type": "markdown",
   "metadata": {},
   "source": [
    "# Remove not solidity file"
   ]
  },
  {
   "cell_type": "code",
   "execution_count": 21,
   "metadata": {},
   "outputs": [],
   "source": [
    "import pandas as pd"
   ]
  },
  {
   "cell_type": "code",
   "execution_count": 24,
   "metadata": {},
   "outputs": [
    {
     "name": "stdout",
     "output_type": "stream",
     "text": [
      "<class 'pandas.core.frame.DataFrame'>\n",
      "RangeIndex: 167758 entries, 0 to 167757\n",
      "Data columns (total 7 columns):\n",
      " #   Column            Non-Null Count   Dtype \n",
      "---  ------            --------------   ----- \n",
      " 0   file_name         167758 non-null  object\n",
      " 1   file_address      167758 non-null  object\n",
      " 2   source_code       167758 non-null  object\n",
      " 3   abi               167758 non-null  object\n",
      " 4   compiler_version  167758 non-null  object\n",
      " 5   library           167758 non-null  object\n",
      " 6   language          167758 non-null  object\n",
      "dtypes: object(7)\n",
      "memory usage: 9.0+ MB\n"
     ]
    }
   ],
   "source": [
    "train_file = pd.read_parquet(\"./data/solfile/train_file.parquet\", engine=\"fastparquet\")\n",
    "train_file.info()"
   ]
  },
  {
   "cell_type": "code",
   "execution_count": 25,
   "metadata": {},
   "outputs": [
    {
     "name": "stdout",
     "output_type": "stream",
     "text": [
      "<class 'pandas.core.frame.DataFrame'>\n",
      "RangeIndex: 18639 entries, 0 to 18638\n",
      "Data columns (total 7 columns):\n",
      " #   Column            Non-Null Count  Dtype \n",
      "---  ------            --------------  ----- \n",
      " 0   file_name         18639 non-null  object\n",
      " 1   file_address      18639 non-null  object\n",
      " 2   source_code       18639 non-null  object\n",
      " 3   abi               18639 non-null  object\n",
      " 4   compiler_version  18639 non-null  object\n",
      " 5   library           18639 non-null  object\n",
      " 6   language          18639 non-null  object\n",
      "dtypes: object(7)\n",
      "memory usage: 1019.4+ KB\n"
     ]
    }
   ],
   "source": [
    "test_file = pd.read_parquet(\"./data/solfile/test_file.parquet\", engine=\"fastparquet\")\n",
    "test_file.info()"
   ]
  },
  {
   "cell_type": "code",
   "execution_count": 26,
   "metadata": {},
   "outputs": [],
   "source": [
    "train_file = train_file[train_file[\"language\"] == \"Solidity\"]\n",
    "test_file = test_file[test_file[\"language\"] == \"Solidity\"]\n",
    "train_file.reset_index(drop=True, inplace=True)\n",
    "test_file.reset_index(drop=True, inplace=True)\n",
    "train_file = train_file.drop(columns=[\"language\"])\n",
    "test_file = test_file.drop(columns=[\"language\"])\n",
    "train_file.to_parquet(\"./data/solfile/train_file.parquet\", engine=\"fastparquet\")\n",
    "test_file.to_parquet(\"./data/solfile/test_file.parquet\", engine=\"fastparquet\")"
   ]
  },
  {
   "cell_type": "markdown",
   "metadata": {},
   "source": [
    "# Check result"
   ]
  },
  {
   "cell_type": "code",
   "execution_count": 4,
   "metadata": {},
   "outputs": [
    {
     "name": "stdout",
     "output_type": "stream",
     "text": [
      "<class 'pandas.core.frame.DataFrame'>\n",
      "RangeIndex: 167310 entries, 0 to 167309\n",
      "Data columns (total 6 columns):\n",
      " #   Column            Non-Null Count   Dtype \n",
      "---  ------            --------------   ----- \n",
      " 0   file_name         167310 non-null  object\n",
      " 1   file_address      167310 non-null  object\n",
      " 2   source_code       167310 non-null  object\n",
      " 3   abi               167310 non-null  object\n",
      " 4   compiler_version  167310 non-null  object\n",
      " 5   library           167310 non-null  object\n",
      "dtypes: object(6)\n",
      "memory usage: 7.7+ MB\n"
     ]
    }
   ],
   "source": [
    "train_file = pd.read_parquet(\"./data/solfile/train_file.parquet\", engine=\"fastparquet\")\n",
    "train_file.info()"
   ]
  },
  {
   "cell_type": "code",
   "execution_count": 5,
   "metadata": {},
   "outputs": [
    {
     "name": "stdout",
     "output_type": "stream",
     "text": [
      "<class 'pandas.core.frame.DataFrame'>\n",
      "RangeIndex: 18594 entries, 0 to 18593\n",
      "Data columns (total 6 columns):\n",
      " #   Column            Non-Null Count  Dtype \n",
      "---  ------            --------------  ----- \n",
      " 0   file_name         18594 non-null  object\n",
      " 1   file_address      18594 non-null  object\n",
      " 2   source_code       18594 non-null  object\n",
      " 3   abi               18594 non-null  object\n",
      " 4   compiler_version  18594 non-null  object\n",
      " 5   library           18594 non-null  object\n",
      "dtypes: object(6)\n",
      "memory usage: 871.7+ KB\n"
     ]
    }
   ],
   "source": [
    "test_file = pd.read_parquet(\"./data/solfile/test_file.parquet\", engine=\"fastparquet\")\n",
    "test_file.info()"
   ]
  },
  {
   "cell_type": "markdown",
   "metadata": {},
   "source": [
    "# Experiment"
   ]
  },
  {
   "cell_type": "code",
   "execution_count": 6,
   "metadata": {},
   "outputs": [],
   "source": [
    "versions = list(set(train_file[\"compiler_version\"].tolist() + test_file[\"compiler_version\"].tolist()))\n",
    "versions = list(set([version.split('+')[0][1:].split('-')[0] for version in versions]))\n",
    "string = \"\"\n",
    "for version in versions:\n",
    "    string = string + '{' + f'version: \"{version}\"'+ '},\\n'\n",
    "with open(\"sol_version.txt\", \"w\") as f:\n",
    "    f.write(string)"
   ]
  },
  {
   "cell_type": "code",
   "execution_count": 21,
   "metadata": {},
   "outputs": [
    {
     "name": "stdout",
     "output_type": "stream",
     "text": [
      "\n",
      "\n",
      "----------------------------------------------------------------------------------------------------------------------------------------------------------------------------------------------------------------------------------------------------------------------------------------------------------------------------------------------------------------------------------------------------------------\n",
      "\u001b[31m\u001b[1mParserError:\u001b[22m\u001b[39m Expected ';' but got '}'\n",
      "  --> contracts/sample.sol:11:60:\n",
      "   |\n",
      "11 |     modifier onlyOwner { if (msg.sender != owner) throw; _ }\n",
      "   |                                                            ^\n",
      "\n",
      "\n",
      "\u001b[31m\u001b[1mError\u001b[22m\u001b[39m \u001b[31m\u001b[1mHH600:\u001b[22m\u001b[39m Compilation failed\n",
      "For more info go to https://hardhat.org/HH600 or run Hardhat with --show-stack-traces\n",
      "\n",
      "0x6abd2b75ff5f306a4d99bfab1ff84b57bb9d23e7\n"
     ]
    }
   ],
   "source": [
    "from subprocess import run \n",
    "\n",
    "for i in range(len(test_file)):\n",
    "    source = test_file.loc[i, \"source_code\"]\n",
    "    with open(\"./hardhat/contracts/sample.sol\", \"w\") as f:\n",
    "        f.write(source)\n",
    "    cmd = \"\"\"\n",
    "    cd hardhat\n",
    "    npx hardhat compile\n",
    "    \"\"\"\n",
    "    data = run(cmd, capture_output=True, shell=True, text=True)\n",
    "    # print(data.stdout)\n",
    "    # print(\"-\" * 400)\n",
    "    # print(data.stderr)\n",
    "    # print(test_file.loc[i, \"file_address\"])\n",
    "    if 'Compiled 1 Solidity file successfully' in data.stdout:\n",
    "        with open(\"compilable.txt\", \"a\") as f:\n",
    "            f.write(f\"{i}\\n---------------------------------------------------\\n\")\n",
    "    "
   ]
  },
  {
   "cell_type": "code",
   "execution_count": 3,
   "metadata": {},
   "outputs": [
    {
     "name": "stdout",
     "output_type": "stream",
     "text": [
      "<class 'pandas.core.frame.DataFrame'>\n",
      "RangeIndex: 167758 entries, 0 to 167757\n",
      "Data columns (total 16 columns):\n",
      " #   Column                 Non-Null Count   Dtype \n",
      "---  ------                 --------------   ----- \n",
      " 0   contract_name          167758 non-null  object\n",
      " 1   file_path              167758 non-null  object\n",
      " 2   contract_address       167758 non-null  object\n",
      " 3   language               167758 non-null  object\n",
      " 4   source_code            167758 non-null  object\n",
      " 5   abi                    167758 non-null  object\n",
      " 6   compiler_version       167758 non-null  object\n",
      " 7   optimization_used      167758 non-null  bool  \n",
      " 8   runs                   167758 non-null  int64 \n",
      " 9   constructor_arguments  167758 non-null  object\n",
      " 10  evm_version            167758 non-null  object\n",
      " 11  library                167758 non-null  object\n",
      " 12  license_type           167758 non-null  object\n",
      " 13  proxy                  167758 non-null  bool  \n",
      " 14  implementation         167758 non-null  object\n",
      " 15  swarm_source           167758 non-null  object\n",
      "dtypes: bool(2), int64(1), object(13)\n",
      "memory usage: 18.2+ MB\n"
     ]
    }
   ],
   "source": [
    "import pandas as pd\n",
    "ori_train_file = pd.read_parquet(\"./data/solfile/ori_train_file.parquet\", engine=\"fastparquet\")\n",
    "ori_train_file.info()"
   ]
  },
  {
   "cell_type": "code",
   "execution_count": 8,
   "metadata": {},
   "outputs": [
    {
     "name": "stdout",
     "output_type": "stream",
     "text": [
      "<class 'pandas.core.frame.DataFrame'>\n",
      "RangeIndex: 18639 entries, 0 to 18638\n",
      "Data columns (total 16 columns):\n",
      " #   Column                 Non-Null Count  Dtype \n",
      "---  ------                 --------------  ----- \n",
      " 0   contract_name          18639 non-null  object\n",
      " 1   file_path              18639 non-null  object\n",
      " 2   contract_address       18639 non-null  object\n",
      " 3   language               18639 non-null  object\n",
      " 4   source_code            18639 non-null  object\n",
      " 5   abi                    18639 non-null  object\n",
      " 6   compiler_version       18639 non-null  object\n",
      " 7   optimization_used      18639 non-null  bool  \n",
      " 8   runs                   18639 non-null  int64 \n",
      " 9   constructor_arguments  18639 non-null  object\n",
      " 10  evm_version            18639 non-null  object\n",
      " 11  library                18639 non-null  object\n",
      " 12  license_type           18639 non-null  object\n",
      " 13  proxy                  18639 non-null  bool  \n",
      " 14  implementation         18639 non-null  object\n",
      " 15  swarm_source           18639 non-null  object\n",
      "dtypes: bool(2), int64(1), object(13)\n",
      "memory usage: 2.0+ MB\n"
     ]
    }
   ],
   "source": [
    "ori_test_file = pd.read_parquet(\"./data/solfile/ori_test_file.parquet\", engine=\"fastparquet\")\n",
    "ori_test_file.info()"
   ]
  },
  {
   "cell_type": "code",
   "execution_count": 10,
   "metadata": {},
   "outputs": [
    {
     "data": {
      "text/plain": [
       "'contract Strategy is BaseStrategyInitializable {\\n    using SafeERC20 for IERC20;\\n    using Address for address;\\n    using SafeMath for uint256;\\n\\n    IUniswapV2Router02 constant public uniswapRouter = IUniswapV2Router02(address(0x7a250d5630B4cF539739dF2C5dAcb4c659F2488D));\\n    IUniswapV2Router02 constant public sushiswapRouter = IUniswapV2Router02(address(0xd9e1cE17f2641f24aE83637ab66a2cca9C378B9F));\\n    IERC20 public constant weth = IERC20(address(0xC02aaA39b223FE8D0A0e5C4F27eAD9083C756Cc2));\\n    IERC20 public constant rook = IERC20(address(0xfA5047c9c78B8877af97BDcb85Db743fD7313d4a));\\n    IUniswapV2Router02 public router;\\n    IDistributeV1 public distributor;\\n    IKToken public kToken;\\n    ILiquidityPool public pool;\\n    address public treasury;\\n    address[] public path;\\n    address[] public wethWantPath;\\n\\n    // unsigned. Indicates the losses incurred from the protocol\\'s deposit fees\\n    uint256 public incurredLosses;\\n    // amount to send to treasury. Used for future governance voting power\\n    uint256 public percentKeep;\\n    uint256 public constant _denominator = 10000;\\n\\n    constructor(address _vault,\\n        address _strategist,\\n        address _rewards,\\n        address _keeper,\\n        address _pool,\\n        address _voter,\\n        address _rewardDistributor\\n    ) public BaseStrategyInitializable(_vault) {\\n        _init(_vault, _strategist, _rewards, _keeper, _pool, _voter, _rewardDistributor);\\n    }\\n\\n    function clone(\\n        address _vault,\\n        address _strategist,\\n        address _rewards,\\n        address _keeper,\\n        address _pool,\\n        address _voter,\\n        address _rewardDistributor\\n    ) external returns (address payable newStrategy) {\\n        // Copied from https://github.com/optionality/clone-factory/blob/master/contracts/CloneFactory.sol\\n        bytes20 addressBytes = bytes20(address(this));\\n\\n        assembly {\\n        // EIP-1167 bytecode\\n            let clone_code := mload(0x40)\\n            mstore(clone_code, 0x3d602d80600a3d3981f3363d3d373d3d3d363d73000000000000000000000000)\\n            mstore(add(clone_code, 0x14), addressBytes)\\n            mstore(add(clone_code, 0x28), 0x5af43d82803e903d91602b57fd5bf30000000000000000000000000000000000)\\n            newStrategy := create(0, clone_code, 0x37)\\n        }\\n\\n        Strategy(newStrategy).init(_vault, _strategist, _rewards, _keeper, _pool, _voter, _rewardDistributor);\\n        emit Cloned(newStrategy);\\n    }\\n\\n    function init(\\n        address _vault,\\n        address _strategist,\\n        address _rewards,\\n        address _keeper,\\n        address _pool,\\n        address _voter,\\n        address _rewardDistributor\\n    ) external {\\n        super._initialize(_vault, _strategist, _rewards, _keeper);\\n        _init(_vault, _strategist, _rewards, _keeper, _pool, _voter, _rewardDistributor);\\n    }\\n\\n    function _init(\\n        address _vault,\\n        address _strategist,\\n        address _rewards,\\n        address _keeper,\\n        address _pool,\\n        address _voter,\\n        address _rewardDistributor\\n    ) internal {\\n\\n        // You can set these parameters on deployment to whatever you want\\n        // maxReportDelay = 6300;\\n        // profitFactor = 100;\\n        // debtThreshold = 0;\\n\\n        // check to see if KeeperDao can actually accept want (renBTC, DAI, USDC, ETH, WETH)\\n        pool = ILiquidityPool(address(_pool));\\n        kToken = pool.kToken(address(want));\\n        require(address(kToken) != address(0x0), \"Protocol doesn\\'t support this token!\");\\n        want.safeApprove(address(pool), uint256(- 1));\\n        kToken.approve(address(pool), uint256(- 1));\\n        treasury = address(_voter);\\n        rook.approve(address(uniswapRouter), uint256(- 1));\\n        rook.approve(address(sushiswapRouter), uint256(- 1));\\n        distributor = IDistributeV1(address(_rewardDistributor));\\n\\n        if (address(want) == address(weth)) {\\n            path = [address(rook), address(weth)];\\n        } else {\\n            path = [address(rook), address(weth), address(want)];\\n            wethWantPath = [address(weth), address(want)];\\n        }\\n    }\\n\\n    function name() external view override returns (string memory) {\\n        // Add your own name here, suggestion e.g. \"StrategyCreamYFI\"\\n        return string(\\n            abi.encodePacked(\"StrategyRook \", IName(address(want)).name())\\n        );\\n    }\\n\\n    function estimatedTotalAssets() public view override returns (uint256) {\\n        return valueOfStaked().add(balanceOfUnstaked()).add(valueOfReward());\\n    }\\n\\n    function balanceOfUnstaked() public view returns (uint256){\\n        return want.balanceOf(address(this));\\n    }\\n\\n    // valued in wants\\n    function valueOfStaked() public view returns (uint256){\\n        return pool.underlyingBalance(address(want), address(this));\\n    }\\n\\n    // kTokens have different virtual prices. Balance != want\\n    function balanceOfStaked() public view returns (uint256){\\n        return kToken.balanceOf(address(this));\\n    }\\n\\n    function balanceOfReward() public view returns (uint256){\\n        return rook.balanceOf(address(this));\\n    }\\n\\n    function valueOfReward() public view returns (uint256){\\n        return _estimateAmountsOut(rook.balanceOf(address(this)), path);\\n    }\\n\\n    // only way to find out is thru calculating a virtual price this way\\n    // TODO: return a reasonable value when div(0)\\n    function _inKTokens(uint256 wantAmount) internal view returns (uint256){\\n        return wantAmount.mul(balanceOfStaked()).div(valueOfStaked());\\n    }\\n\\n    function prepareReturn(uint256 _debtOutstanding) internal override returns (uint256 _profit, uint256 _loss, uint256 _debtPayment){\\n        // NOTE: Return `_profit` which is value generated by all positions, priced in `want`\\n        // NOTE: Should try to free up at least `_debtOutstanding` of underlying position\\n\\n        // sell any reward, leave some for treasury\\n        uint256 rewards = balanceOfReward();\\n        if (rewards > 0) {\\n            uint256 rewardsForVoting = rewards.mul(percentKeep).div(_denominator);\\n            if (rewardsForVoting > 0) {\\n                IERC20(rook).safeTransfer(treasury, rewardsForVoting);\\n            }\\n            uint256 rewardsRemaining = balanceOfReward();\\n            if (rewardsRemaining > 0) {\\n                _sell(rewardsRemaining);\\n            }\\n        }\\n\\n        // from selling rewards\\n        uint256 profit = balanceOfUnstaked();\\n        // this should be guaranteed if called by keeper. See {harvestTrigger()}\\n        if (profit > incurredLosses) {\\n            // we want strategy to pay off its own incurredLosses from deposit fees first so it doesn\\'t have to report _loss to the vault\\n            _profit = profit.sub(incurredLosses);\\n            if (incurredLosses > 0) {\\n                pool.deposit(address(want), incurredLosses);\\n                incurredLosses = 0;\\n            }\\n        } else {\\n            _loss = incurredLosses.sub(profit);\\n        }\\n\\n        // loss has been recorded.\\n        incurredLosses = 0;\\n\\n        if (_debtOutstanding > _profit) {\\n            // withdraw just enough to pay off debt\\n            uint256 _toWithdraw = Math.min(_debtOutstanding.sub(_profit), valueOfStaked());\\n            pool.withdraw(address(this), kToken, _inKTokens(_toWithdraw));\\n            _debtPayment = Math.min(_debtOutstanding, balanceOfUnstaked());\\n\\n        } else {\\n            _debtPayment = _debtOutstanding;\\n            _profit = _profit.sub(_debtOutstanding);\\n        }\\n\\n        return (_profit, _loss, _debtPayment);\\n    }\\n\\n    function adjustPosition(uint256 _debtOutstanding) internal override {\\n        // NOTE: Try to adjust positions so that `_debtOutstanding` can be freed up on *next* harvest (not immediately)\\n        // deposit any loose balance\\n        uint256 unstaked = balanceOfUnstaked();\\n        if (unstaked > 0) {\\n            _provideLiquidity(unstaked);\\n        }\\n    }\\n\\n    // NAV premium of 0.64% when depositing everytime. Need to keep track of this for _loss calculation.\\n    function _provideLiquidity(uint256 _amount) private {\\n        uint256 stakedBefore = valueOfStaked();\\n        pool.deposit(address(want), _amount);\\n        uint256 stakedAfter = valueOfStaked();\\n        uint256 stakedDelta = stakedAfter.sub(stakedBefore);\\n        uint256 depositFee = _amount.sub(stakedDelta);\\n        uint256 oneAsBips = 10000;\\n        uint256 need = depositFee.mul(oneAsBips).div(oneAsBips - pool.depositFeeInBips());\\n        incurredLosses = incurredLosses.add(need);\\n    }\\n\\n    function liquidatePosition(uint256 _amountNeeded) internal override returns (uint256 _liquidatedAmount, uint256 _loss) {\\n        // if _amountNeeded is more than currently available, need to unstake some and/or sell rewards to free up assets\\n        uint256 unstaked = balanceOfUnstaked();\\n        if (_amountNeeded > unstaked) {\\n            uint256 desiredWithdrawAmount = _amountNeeded.sub(unstaked);\\n\\n            // can\\'t withdraw more than staked\\n            uint256 actualWithdrawAmount = Math.min(desiredWithdrawAmount, valueOfStaked());\\n\\n            pool.withdraw(address(this), kToken, _inKTokens(actualWithdrawAmount));\\n\\n            _liquidatedAmount = balanceOfUnstaked();\\n            // already withdrew all that it could, any difference left is considered _loss,\\n            // which is possible because of KeeperDao\\'s initial deposit NAV premium of 0.64%\\n            // i.e initial 10,000 deposit -> 9,936 in pool. If withdraw immediately, _loss = 64\\n            _loss = _amountNeeded.sub(_liquidatedAmount);\\n\\n        } else {\\n            // already have all of _amountNeeded unstaked\\n            _liquidatedAmount = _amountNeeded;\\n            _loss = 0;\\n        }\\n\\n        return (_liquidatedAmount, _loss);\\n    }\\n\\n    // NOTE: Can override `tendTrigger` and `harvestTrigger` if necessary\\n    // Since claiming reward is done asynchronously, rewards could sit idle in strategy before next harvest() call\\n    // See {claimRewards()} for detail\\n    function prepareMigration(address _newStrategy) internal override {\\n        kToken.transfer(_newStrategy, balanceOfStaked());\\n        rook.transfer(_newStrategy, balanceOfReward());\\n    }\\n\\n    // Trigger harvest only if strategy has rewards, otherwise, there\\'s nothing to harvest.\\n    // This logic is added on top of existing gas efficient harvestTrigger() in the parent class\\n    function harvestTrigger(uint256 callCost) public override view returns (bool) {\\n        return super.harvestTrigger(_estimateAmountsOut(callCost, wethWantPath)) && balanceOfReward() > 0 && netPositive();\\n    }\\n\\n    // Indicator for whether strategy has earned enough rewards to offset incurred losses.\\n    // Adding this to harvestTrigger() will ensure that strategy will never have to report a positive _loss to the vault and lower its trust\\n    function netPositive() public view returns (bool){\\n        return valueOfReward() > incurredLosses;\\n    }\\n\\n    // Has to be called manually since this requires off-chain data.\\n    // Needs to be called before harvesting otherwise there\\'s nothing to harvest.\\n    function claimRewards(uint256 _earningsToDate, uint256 _nonce, bytes memory _signature) external onlyKeepers {\\n        require(_earningsToDate > 0, \"You are trying to claim 0 rewards\");\\n        distributor.claim(address(this), _earningsToDate, _nonce, _signature);\\n    }\\n\\n    function claimRewards(uint256 _earningsToDate, uint256 _nonce, bytes memory _signature, address _distributor) external onlyKeepers {\\n        require(_earningsToDate > 0, \"You are trying to claim 0 rewards\");\\n        IDistributeV1(address(_distributor)).claim(address(this), _earningsToDate, _nonce, _signature);\\n    }\\n\\n    function _sell(uint256 _amount) internal {\\n        // since claiming is async, no point in selling if strategy hasn\\'t claimed rewards\\n        uniswapRouter.swapExactTokensForTokens(_amount, uint256(0), path, address(this), now);\\n    }\\n\\n    function _estimateAmountsOut(uint256 _amount, address[] memory sellPath) public view returns (uint256){\\n        uint256 amountOut = 0;\\n        if (sellPath.length <= 0) {\\n            return _amount;\\n        }\\n\\n        if (_amount > 0) {\\n            amountOut = uniswapRouter.getAmountsOut(_amount, sellPath)[sellPath.length - 1];\\n        }\\n        return amountOut;\\n    }\\n\\n    function protectedTokens() internal view override returns (address[] memory){\\n        address[] memory protected = new address[](2);\\n        protected[0] = address(kToken);\\n        protected[1] = address(rook);\\n        return protected;\\n    }\\n\\n    function setKeep(uint256 _percentKeep) external onlyGovernance {\\n        percentKeep = _percentKeep;\\n    }\\n\\n    function setDistributor(address _distributor) external onlyGovernance {\\n        distributor = IDistributeV1(address(_distributor));\\n    }\\n\\n    function setTreasury(address _treasury) external onlyGovernance {\\n        treasury = _treasury;\\n    }\\n\\n    function setLiquidityPool(address _pool) external onlyGovernance {\\n        want.safeApprove(address(_pool), uint256(- 1));\\n        kToken.approve(address(_pool), uint256(- 1));\\n        pool = ILiquidityPool(_pool);\\n    }\\n\\n    function currentDepositFee() external view returns (uint256){\\n        return pool.depositFeeInBips();\\n    }\\n\\n    function switchDex(bool isUniswap) external onlyAuthorized {\\n        if (isUniswap) router = uniswapRouter;\\n        else router = sushiswapRouter;\\n    }\\n\\n    receive() external payable {}\\n}'"
      ]
     },
     "execution_count": 10,
     "metadata": {},
     "output_type": "execute_result"
    }
   ],
   "source": [
    "ori_test_file[ori_test_file[\"contract_address\"] == \"0xb374387a340e6aa7d78385c4a4aac6b425a685b0\"].loc[3, \"source_code\"]"
   ]
  },
  {
   "cell_type": "code",
   "execution_count": null,
   "metadata": {},
   "outputs": [],
   "source": []
  }
 ],
 "metadata": {
  "kernelspec": {
   "display_name": "Python 3",
   "language": "python",
   "name": "python3"
  },
  "language_info": {
   "codemirror_mode": {
    "name": "ipython",
    "version": 3
   },
   "file_extension": ".py",
   "mimetype": "text/x-python",
   "name": "python",
   "nbconvert_exporter": "python",
   "pygments_lexer": "ipython3",
   "version": "3.11.5"
  }
 },
 "nbformat": 4,
 "nbformat_minor": 2
}
