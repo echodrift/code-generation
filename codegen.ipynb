{
 "cells": [
  {
   "cell_type": "markdown",
   "metadata": {},
   "source": [
    "# Check result"
   ]
  },
  {
   "cell_type": "code",
   "execution_count": 1,
   "metadata": {},
   "outputs": [
    {
     "name": "stdout",
     "output_type": "stream",
     "text": [
      "<class 'pandas.core.frame.DataFrame'>\n",
      "RangeIndex: 167310 entries, 0 to 167309\n",
      "Data columns (total 6 columns):\n",
      " #   Column            Non-Null Count   Dtype \n",
      "---  ------            --------------   ----- \n",
      " 0   file_name         167310 non-null  object\n",
      " 1   file_address      167310 non-null  object\n",
      " 2   source_code       167310 non-null  object\n",
      " 3   abi               167310 non-null  object\n",
      " 4   compiler_version  167310 non-null  object\n",
      " 5   library           167310 non-null  object\n",
      "dtypes: object(6)\n",
      "memory usage: 7.7+ MB\n"
     ]
    }
   ],
   "source": [
    "import pandas as pd\n",
    "train_file = pd.read_parquet(\"./data/solfile/train_file.parquet\", engine=\"fastparquet\")\n",
    "train_file.info()"
   ]
  },
  {
   "cell_type": "code",
   "execution_count": 2,
   "metadata": {},
   "outputs": [
    {
     "name": "stdout",
     "output_type": "stream",
     "text": [
      "<class 'pandas.core.frame.DataFrame'>\n",
      "RangeIndex: 18594 entries, 0 to 18593\n",
      "Data columns (total 6 columns):\n",
      " #   Column            Non-Null Count  Dtype \n",
      "---  ------            --------------  ----- \n",
      " 0   file_name         18594 non-null  object\n",
      " 1   file_address      18594 non-null  object\n",
      " 2   source_code       18594 non-null  object\n",
      " 3   abi               18594 non-null  object\n",
      " 4   compiler_version  18594 non-null  object\n",
      " 5   library           18594 non-null  object\n",
      "dtypes: object(6)\n",
      "memory usage: 871.7+ KB\n"
     ]
    }
   ],
   "source": [
    "test_file = pd.read_parquet(\"./data/solfile/test_file.parquet\", engine=\"fastparquet\")\n",
    "test_file.info()"
   ]
  },
  {
   "cell_type": "markdown",
   "metadata": {},
   "source": [
    "# Experiment"
   ]
  },
  {
   "cell_type": "code",
   "execution_count": 3,
   "metadata": {},
   "outputs": [],
   "source": [
    "versions = list(set(train_file[\"compiler_version\"].tolist() + test_file[\"compiler_version\"].tolist()))\n",
    "versions = list(set([version.split('+')[0][1:].split('-')[0] for version in versions]))\n",
    "string = \"\"\n",
    "for version in versions:\n",
    "    string = string + '{' + f'version: \"{version}\"'+ '},\\n'\n",
    "with open(\"sol_version.txt\", \"w\") as f:\n",
    "    f.write(string)"
   ]
  },
  {
   "cell_type": "code",
   "execution_count": 4,
   "metadata": {},
   "outputs": [
    {
     "ename": "KeyboardInterrupt",
     "evalue": "",
     "output_type": "error",
     "traceback": [
      "\u001b[0;31m---------------------------------------------------------------------------\u001b[0m",
      "\u001b[0;31mKeyboardInterrupt\u001b[0m                         Traceback (most recent call last)",
      "Cell \u001b[0;32mIn[4], line 11\u001b[0m\n\u001b[1;32m      6\u001b[0m     f\u001b[38;5;241m.\u001b[39mwrite(source)\n\u001b[1;32m      7\u001b[0m cmd \u001b[38;5;241m=\u001b[39m \u001b[38;5;124m\"\"\"\u001b[39m\n\u001b[1;32m      8\u001b[0m \u001b[38;5;124mcd hardhat\u001b[39m\n\u001b[1;32m      9\u001b[0m \u001b[38;5;124mnpx hardhat compile\u001b[39m\n\u001b[1;32m     10\u001b[0m \u001b[38;5;124m\u001b[39m\u001b[38;5;124m\"\"\"\u001b[39m\n\u001b[0;32m---> 11\u001b[0m data \u001b[38;5;241m=\u001b[39m \u001b[43mrun\u001b[49m\u001b[43m(\u001b[49m\u001b[43mcmd\u001b[49m\u001b[43m,\u001b[49m\u001b[43m \u001b[49m\u001b[43mcapture_output\u001b[49m\u001b[38;5;241;43m=\u001b[39;49m\u001b[38;5;28;43;01mTrue\u001b[39;49;00m\u001b[43m,\u001b[49m\u001b[43m \u001b[49m\u001b[43mshell\u001b[49m\u001b[38;5;241;43m=\u001b[39;49m\u001b[38;5;28;43;01mTrue\u001b[39;49;00m\u001b[43m,\u001b[49m\u001b[43m \u001b[49m\u001b[43mtext\u001b[49m\u001b[38;5;241;43m=\u001b[39;49m\u001b[38;5;28;43;01mTrue\u001b[39;49;00m\u001b[43m)\u001b[49m\n\u001b[1;32m     12\u001b[0m \u001b[38;5;66;03m# print(data.stdout)\u001b[39;00m\n\u001b[1;32m     13\u001b[0m \u001b[38;5;66;03m# print(\"-\" * 400)\u001b[39;00m\n\u001b[1;32m     14\u001b[0m \u001b[38;5;66;03m# print(data.stderr)\u001b[39;00m\n\u001b[1;32m     15\u001b[0m \u001b[38;5;66;03m# print(test_file.loc[i, \"file_address\"])\u001b[39;00m\n\u001b[1;32m     16\u001b[0m \u001b[38;5;28;01mif\u001b[39;00m \u001b[38;5;124m'\u001b[39m\u001b[38;5;124mCompiled 1 Solidity file successfully\u001b[39m\u001b[38;5;124m'\u001b[39m \u001b[38;5;129;01min\u001b[39;00m data\u001b[38;5;241m.\u001b[39mstdout:\n",
      "File \u001b[0;32m/var/data/CG/miniconda3/envs/gen/lib/python3.11/subprocess.py:550\u001b[0m, in \u001b[0;36mrun\u001b[0;34m(input, capture_output, timeout, check, *popenargs, **kwargs)\u001b[0m\n\u001b[1;32m    548\u001b[0m \u001b[38;5;28;01mwith\u001b[39;00m Popen(\u001b[38;5;241m*\u001b[39mpopenargs, \u001b[38;5;241m*\u001b[39m\u001b[38;5;241m*\u001b[39mkwargs) \u001b[38;5;28;01mas\u001b[39;00m process:\n\u001b[1;32m    549\u001b[0m     \u001b[38;5;28;01mtry\u001b[39;00m:\n\u001b[0;32m--> 550\u001b[0m         stdout, stderr \u001b[38;5;241m=\u001b[39m \u001b[43mprocess\u001b[49m\u001b[38;5;241;43m.\u001b[39;49m\u001b[43mcommunicate\u001b[49m\u001b[43m(\u001b[49m\u001b[38;5;28;43minput\u001b[39;49m\u001b[43m,\u001b[49m\u001b[43m \u001b[49m\u001b[43mtimeout\u001b[49m\u001b[38;5;241;43m=\u001b[39;49m\u001b[43mtimeout\u001b[49m\u001b[43m)\u001b[49m\n\u001b[1;32m    551\u001b[0m     \u001b[38;5;28;01mexcept\u001b[39;00m TimeoutExpired \u001b[38;5;28;01mas\u001b[39;00m exc:\n\u001b[1;32m    552\u001b[0m         process\u001b[38;5;241m.\u001b[39mkill()\n",
      "File \u001b[0;32m/var/data/CG/miniconda3/envs/gen/lib/python3.11/subprocess.py:1209\u001b[0m, in \u001b[0;36mPopen.communicate\u001b[0;34m(self, input, timeout)\u001b[0m\n\u001b[1;32m   1206\u001b[0m     endtime \u001b[38;5;241m=\u001b[39m \u001b[38;5;28;01mNone\u001b[39;00m\n\u001b[1;32m   1208\u001b[0m \u001b[38;5;28;01mtry\u001b[39;00m:\n\u001b[0;32m-> 1209\u001b[0m     stdout, stderr \u001b[38;5;241m=\u001b[39m \u001b[38;5;28;43mself\u001b[39;49m\u001b[38;5;241;43m.\u001b[39;49m\u001b[43m_communicate\u001b[49m\u001b[43m(\u001b[49m\u001b[38;5;28;43minput\u001b[39;49m\u001b[43m,\u001b[49m\u001b[43m \u001b[49m\u001b[43mendtime\u001b[49m\u001b[43m,\u001b[49m\u001b[43m \u001b[49m\u001b[43mtimeout\u001b[49m\u001b[43m)\u001b[49m\n\u001b[1;32m   1210\u001b[0m \u001b[38;5;28;01mexcept\u001b[39;00m \u001b[38;5;167;01mKeyboardInterrupt\u001b[39;00m:\n\u001b[1;32m   1211\u001b[0m     \u001b[38;5;66;03m# https://bugs.python.org/issue25942\u001b[39;00m\n\u001b[1;32m   1212\u001b[0m     \u001b[38;5;66;03m# See the detailed comment in .wait().\u001b[39;00m\n\u001b[1;32m   1213\u001b[0m     \u001b[38;5;28;01mif\u001b[39;00m timeout \u001b[38;5;129;01mis\u001b[39;00m \u001b[38;5;129;01mnot\u001b[39;00m \u001b[38;5;28;01mNone\u001b[39;00m:\n",
      "File \u001b[0;32m/var/data/CG/miniconda3/envs/gen/lib/python3.11/subprocess.py:2108\u001b[0m, in \u001b[0;36mPopen._communicate\u001b[0;34m(self, input, endtime, orig_timeout)\u001b[0m\n\u001b[1;32m   2101\u001b[0m     \u001b[38;5;28mself\u001b[39m\u001b[38;5;241m.\u001b[39m_check_timeout(endtime, orig_timeout,\n\u001b[1;32m   2102\u001b[0m                         stdout, stderr,\n\u001b[1;32m   2103\u001b[0m                         skip_check_and_raise\u001b[38;5;241m=\u001b[39m\u001b[38;5;28;01mTrue\u001b[39;00m)\n\u001b[1;32m   2104\u001b[0m     \u001b[38;5;28;01mraise\u001b[39;00m \u001b[38;5;167;01mRuntimeError\u001b[39;00m(  \u001b[38;5;66;03m# Impossible :)\u001b[39;00m\n\u001b[1;32m   2105\u001b[0m         \u001b[38;5;124m'\u001b[39m\u001b[38;5;124m_check_timeout(..., skip_check_and_raise=True) \u001b[39m\u001b[38;5;124m'\u001b[39m\n\u001b[1;32m   2106\u001b[0m         \u001b[38;5;124m'\u001b[39m\u001b[38;5;124mfailed to raise TimeoutExpired.\u001b[39m\u001b[38;5;124m'\u001b[39m)\n\u001b[0;32m-> 2108\u001b[0m ready \u001b[38;5;241m=\u001b[39m \u001b[43mselector\u001b[49m\u001b[38;5;241;43m.\u001b[39;49m\u001b[43mselect\u001b[49m\u001b[43m(\u001b[49m\u001b[43mtimeout\u001b[49m\u001b[43m)\u001b[49m\n\u001b[1;32m   2109\u001b[0m \u001b[38;5;28mself\u001b[39m\u001b[38;5;241m.\u001b[39m_check_timeout(endtime, orig_timeout, stdout, stderr)\n\u001b[1;32m   2111\u001b[0m \u001b[38;5;66;03m# XXX Rewrite these to use non-blocking I/O on the file\u001b[39;00m\n\u001b[1;32m   2112\u001b[0m \u001b[38;5;66;03m# objects; they are no longer using C stdio!\u001b[39;00m\n",
      "File \u001b[0;32m/var/data/CG/miniconda3/envs/gen/lib/python3.11/selectors.py:415\u001b[0m, in \u001b[0;36m_PollLikeSelector.select\u001b[0;34m(self, timeout)\u001b[0m\n\u001b[1;32m    413\u001b[0m ready \u001b[38;5;241m=\u001b[39m []\n\u001b[1;32m    414\u001b[0m \u001b[38;5;28;01mtry\u001b[39;00m:\n\u001b[0;32m--> 415\u001b[0m     fd_event_list \u001b[38;5;241m=\u001b[39m \u001b[38;5;28mself\u001b[39m\u001b[38;5;241m.\u001b[39m_selector\u001b[38;5;241m.\u001b[39mpoll(timeout)\n\u001b[1;32m    416\u001b[0m \u001b[38;5;28;01mexcept\u001b[39;00m \u001b[38;5;167;01mInterruptedError\u001b[39;00m:\n\u001b[1;32m    417\u001b[0m     \u001b[38;5;28;01mreturn\u001b[39;00m ready\n",
      "\u001b[0;31mKeyboardInterrupt\u001b[0m: "
     ]
    }
   ],
   "source": [
    "from subprocess import run \n",
    "\n",
    "for i in range(len(test_file)):\n",
    "    source = test_file.loc[i, \"source_code\"]\n",
    "    with open(\"./hardhat/contracts/sample.sol\", \"w\") as f:\n",
    "        f.write(source)\n",
    "    cmd = \"\"\"\n",
    "    cd hardhat\n",
    "    npx hardhat compile\n",
    "    \"\"\"\n",
    "    data = run(cmd, capture_output=True, shell=True, text=True)\n",
    "    # print(data.stdout)\n",
    "    # print(\"-\" * 400)\n",
    "    # print(data.stderr)\n",
    "    # print(test_file.loc[i, \"file_address\"])\n",
    "    if 'Compiled 1 Solidity file successfully' in data.stdout:\n",
    "        with open(\"compilable.txt\", \"a\") as f:\n",
    "            f.write(f\"{i}\\n---------------------------------------------------\\n\")\n",
    "    "
   ]
  },
  {
   "cell_type": "code",
   "execution_count": 2,
   "metadata": {},
   "outputs": [
    {
     "name": "stdout",
     "output_type": "stream",
     "text": [
      "<class 'pandas.core.frame.DataFrame'>\n",
      "RangeIndex: 911681 entries, 0 to 911680\n",
      "Data columns (total 7 columns):\n",
      " #   Column            Non-Null Count   Dtype \n",
      "---  ------            --------------   ----- \n",
      " 0   file_name         911681 non-null  object\n",
      " 1   file_address      911681 non-null  object\n",
      " 2   contract_name     911681 non-null  object\n",
      " 3   func_name         857494 non-null  object\n",
      " 4   masked_contract   911681 non-null  object\n",
      " 5   func_body         911681 non-null  object\n",
      " 6   func_requirement  911681 non-null  object\n",
      "dtypes: object(7)\n",
      "memory usage: 48.7+ MB\n"
     ]
    }
   ],
   "source": [
    "import pandas as pd\n",
    "train_data = pd.read_parquet(\"./data/data/train_data.parquet\", engine=\"fastparquet\")\n",
    "train_data.info()"
   ]
  },
  {
   "cell_type": "code",
   "execution_count": 3,
   "metadata": {},
   "outputs": [
    {
     "data": {
      "text/html": [
       "<div>\n",
       "<style scoped>\n",
       "    .dataframe tbody tr th:only-of-type {\n",
       "        vertical-align: middle;\n",
       "    }\n",
       "\n",
       "    .dataframe tbody tr th {\n",
       "        vertical-align: top;\n",
       "    }\n",
       "\n",
       "    .dataframe thead th {\n",
       "        text-align: right;\n",
       "    }\n",
       "</style>\n",
       "<table border=\"1\" class=\"dataframe\">\n",
       "  <thead>\n",
       "    <tr style=\"text-align: right;\">\n",
       "      <th></th>\n",
       "      <th>file_name</th>\n",
       "      <th>file_address</th>\n",
       "      <th>contract_name</th>\n",
       "      <th>func_name</th>\n",
       "      <th>masked_contract</th>\n",
       "      <th>func_body</th>\n",
       "      <th>func_requirement</th>\n",
       "    </tr>\n",
       "  </thead>\n",
       "  <tbody>\n",
       "    <tr>\n",
       "      <th>0</th>\n",
       "      <td>TangentStake</td>\n",
       "      <td>0x5db4b520284049d7dcb21c6317664190791bb8e5</td>\n",
       "      <td>TangentStake</td>\n",
       "      <td>TangentStake</td>\n",
       "      <td>contract TangentStake is Owned {\\r\\n    // pre...</td>\n",
       "      <td>\\r\\n        tokenContract = Tangent(tokenAddre...</td>\n",
       "      <td>constructor, sets initial rate to 1000 TAN per...</td>\n",
       "    </tr>\n",
       "    <tr>\n",
       "      <th>1</th>\n",
       "      <td>TangentStake</td>\n",
       "      <td>0x5db4b520284049d7dcb21c6317664190791bb8e5</td>\n",
       "      <td>TangentStake</td>\n",
       "      <td>revalue</td>\n",
       "      <td>contract TangentStake is Owned {\\r\\n    // pre...</td>\n",
       "      <td>\\r\\n        require( (newMul.div(newDiv)) &lt;= (...</td>\n",
       "      <td>decreases the rate of Tangents to Ether, the c...</td>\n",
       "    </tr>\n",
       "    <tr>\n",
       "      <th>2</th>\n",
       "      <td>TangentStake</td>\n",
       "      <td>0x5db4b520284049d7dcb21c6317664190791bb8e5</td>\n",
       "      <td>TangentStake</td>\n",
       "      <td>getEarnings</td>\n",
       "      <td>contract TangentStake is Owned {\\r\\n    // pre...</td>\n",
       "      <td>\\r\\n        Purchase memory cpurchase;\\r\\n    ...</td>\n",
       "      <td>returns the current amount of wei that will be...</td>\n",
       "    </tr>\n",
       "    <tr>\n",
       "      <th>3</th>\n",
       "      <td>TangentStake</td>\n",
       "      <td>0x5db4b520284049d7dcb21c6317664190791bb8e5</td>\n",
       "      <td>TangentStake</td>\n",
       "      <td>cashOut</td>\n",
       "      <td>contract TangentStake is Owned {\\r\\n    // pre...</td>\n",
       "      <td>\\r\\n        require(0 &lt;= index &amp;&amp; index &lt; purc...</td>\n",
       "      <td>Cash out Ether and Tangent at for the purchase...</td>\n",
       "    </tr>\n",
       "    <tr>\n",
       "      <th>4</th>\n",
       "      <td>TangentStake</td>\n",
       "      <td>0x5db4b520284049d7dcb21c6317664190791bb8e5</td>\n",
       "      <td>TangentStake</td>\n",
       "      <td></td>\n",
       "      <td>contract TangentStake is Owned {\\r\\n    // pre...</td>\n",
       "      <td>\\r\\n        require(msg.value != 0);\\r\\n      ...</td>\n",
       "      <td>The fallback function used to purchase stakes\\...</td>\n",
       "    </tr>\n",
       "  </tbody>\n",
       "</table>\n",
       "</div>"
      ],
      "text/plain": [
       "      file_name                                file_address contract_name  \\\n",
       "0  TangentStake  0x5db4b520284049d7dcb21c6317664190791bb8e5  TangentStake   \n",
       "1  TangentStake  0x5db4b520284049d7dcb21c6317664190791bb8e5  TangentStake   \n",
       "2  TangentStake  0x5db4b520284049d7dcb21c6317664190791bb8e5  TangentStake   \n",
       "3  TangentStake  0x5db4b520284049d7dcb21c6317664190791bb8e5  TangentStake   \n",
       "4  TangentStake  0x5db4b520284049d7dcb21c6317664190791bb8e5  TangentStake   \n",
       "\n",
       "      func_name                                    masked_contract  \\\n",
       "0  TangentStake  contract TangentStake is Owned {\\r\\n    // pre...   \n",
       "1       revalue  contract TangentStake is Owned {\\r\\n    // pre...   \n",
       "2   getEarnings  contract TangentStake is Owned {\\r\\n    // pre...   \n",
       "3       cashOut  contract TangentStake is Owned {\\r\\n    // pre...   \n",
       "4                contract TangentStake is Owned {\\r\\n    // pre...   \n",
       "\n",
       "                                           func_body  \\\n",
       "0  \\r\\n        tokenContract = Tangent(tokenAddre...   \n",
       "1  \\r\\n        require( (newMul.div(newDiv)) <= (...   \n",
       "2  \\r\\n        Purchase memory cpurchase;\\r\\n    ...   \n",
       "3  \\r\\n        require(0 <= index && index < purc...   \n",
       "4  \\r\\n        require(msg.value != 0);\\r\\n      ...   \n",
       "\n",
       "                                    func_requirement  \n",
       "0  constructor, sets initial rate to 1000 TAN per...  \n",
       "1  decreases the rate of Tangents to Ether, the c...  \n",
       "2  returns the current amount of wei that will be...  \n",
       "3  Cash out Ether and Tangent at for the purchase...  \n",
       "4  The fallback function used to purchase stakes\\...  "
      ]
     },
     "execution_count": 3,
     "metadata": {},
     "output_type": "execute_result"
    }
   ],
   "source": [
    "train_data.head()"
   ]
  },
  {
   "cell_type": "code",
   "execution_count": 4,
   "metadata": {},
   "outputs": [],
   "source": [
    "train_data.to_parquet(\"./data/data/train_data1.parquet\", engine=\"fastparquet\")"
   ]
  },
  {
   "cell_type": "code",
   "execution_count": 5,
   "metadata": {},
   "outputs": [
    {
     "name": "stdout",
     "output_type": "stream",
     "text": [
      "<class 'pandas.core.frame.DataFrame'>\n",
      "RangeIndex: 92821 entries, 0 to 92820\n",
      "Data columns (total 7 columns):\n",
      " #   Column            Non-Null Count  Dtype \n",
      "---  ------            --------------  ----- \n",
      " 0   file_name         92821 non-null  object\n",
      " 1   file_address      92821 non-null  object\n",
      " 2   contract_name     92821 non-null  object\n",
      " 3   func_name         87393 non-null  object\n",
      " 4   masked_contract   92821 non-null  object\n",
      " 5   func_body         92821 non-null  object\n",
      " 6   func_requirement  92821 non-null  object\n",
      "dtypes: object(7)\n",
      "memory usage: 5.0+ MB\n"
     ]
    }
   ],
   "source": [
    "test_data = pd.read_parquet(\"./data/data/test_data.parquet\", engine=\"fastparquet\")\n",
    "test_data.info()"
   ]
  },
  {
   "cell_type": "code",
   "execution_count": 6,
   "metadata": {},
   "outputs": [],
   "source": [
    "test_data.to_parquet(\"./data/data/test_data.parquet\", engine=\"fastparquet\")"
   ]
  },
  {
   "cell_type": "code",
   "execution_count": 3,
   "metadata": {},
   "outputs": [
    {
     "name": "stdout",
     "output_type": "stream",
     "text": [
      "<class 'pandas.core.frame.DataFrame'>\n",
      "RangeIndex: 911681 entries, 0 to 911680\n",
      "Data columns (total 7 columns):\n",
      " #   Column            Non-Null Count   Dtype \n",
      "---  ------            --------------   ----- \n",
      " 0   file_name         911681 non-null  object\n",
      " 1   file_address      911681 non-null  object\n",
      " 2   contract_name     911681 non-null  object\n",
      " 3   func_name         857494 non-null  object\n",
      " 4   masked_contract   911681 non-null  object\n",
      " 5   func_body         911681 non-null  object\n",
      " 6   func_requirement  911681 non-null  object\n",
      "dtypes: object(7)\n",
      "memory usage: 48.7+ MB\n"
     ]
    }
   ],
   "source": [
    "import pandas as pd\n",
    "train_data = pd.read_parquet(\"./data/data/train_data.parquet\", engine=\"fastparquet\")\n",
    "train_data.info()"
   ]
  },
  {
   "cell_type": "code",
   "execution_count": 5,
   "metadata": {},
   "outputs": [
    {
     "name": "stdout",
     "output_type": "stream",
     "text": [
      "<class 'pandas.core.frame.DataFrame'>\n",
      "RangeIndex: 911681 entries, 0 to 911680\n",
      "Data columns (total 7 columns):\n",
      " #   Column            Non-Null Count   Dtype \n",
      "---  ------            --------------   ----- \n",
      " 0   file_name         911681 non-null  object\n",
      " 1   file_address      911681 non-null  object\n",
      " 2   contract_name     911681 non-null  object\n",
      " 3   func_name         857494 non-null  object\n",
      " 4   masked_contract   911681 non-null  object\n",
      " 5   func_body         911681 non-null  object\n",
      " 6   func_requirement  911681 non-null  object\n",
      "dtypes: object(7)\n",
      "memory usage: 48.7+ MB\n"
     ]
    }
   ],
   "source": [
    "import pandas as pd\n",
    "train_data = pd.read_parquet(\"./data/data/train_data.parquet\", engine=\"fastparquet\")\n",
    "train_data.info()"
   ]
  },
  {
   "cell_type": "code",
   "execution_count": 6,
   "metadata": {},
   "outputs": [
    {
     "name": "stdout",
     "output_type": "stream",
     "text": [
      "<class 'pandas.core.frame.DataFrame'>\n",
      "RangeIndex: 92821 entries, 0 to 92820\n",
      "Data columns (total 7 columns):\n",
      " #   Column            Non-Null Count  Dtype \n",
      "---  ------            --------------  ----- \n",
      " 0   file_name         92821 non-null  object\n",
      " 1   file_address      92821 non-null  object\n",
      " 2   contract_name     92821 non-null  object\n",
      " 3   func_name         87393 non-null  object\n",
      " 4   masked_contract   92821 non-null  object\n",
      " 5   func_body         92821 non-null  object\n",
      " 6   func_requirement  92821 non-null  object\n",
      "dtypes: object(7)\n",
      "memory usage: 5.0+ MB\n"
     ]
    }
   ],
   "source": [
    "test_data = pd.read_parquet(\"./data/data/test_data.parquet\", engine=\"fastparquet\")\n",
    "test_data.info()"
   ]
  },
  {
   "cell_type": "code",
   "execution_count": 7,
   "metadata": {},
   "outputs": [],
   "source": [
    "train_data = train_data.dropna().reset_index(drop=True)\n",
    "test_data = test_data.dropna().reset_index(drop=True)"
   ]
  },
  {
   "cell_type": "code",
   "execution_count": 8,
   "metadata": {},
   "outputs": [
    {
     "name": "stdout",
     "output_type": "stream",
     "text": [
      "<class 'pandas.core.frame.DataFrame'>\n",
      "RangeIndex: 857494 entries, 0 to 857493\n",
      "Data columns (total 7 columns):\n",
      " #   Column            Non-Null Count   Dtype \n",
      "---  ------            --------------   ----- \n",
      " 0   file_name         857494 non-null  object\n",
      " 1   file_address      857494 non-null  object\n",
      " 2   contract_name     857494 non-null  object\n",
      " 3   func_name         857494 non-null  object\n",
      " 4   masked_contract   857494 non-null  object\n",
      " 5   func_body         857494 non-null  object\n",
      " 6   func_requirement  857494 non-null  object\n",
      "dtypes: object(7)\n",
      "memory usage: 45.8+ MB\n"
     ]
    }
   ],
   "source": [
    "train_data.info()"
   ]
  },
  {
   "cell_type": "code",
   "execution_count": 9,
   "metadata": {},
   "outputs": [
    {
     "name": "stdout",
     "output_type": "stream",
     "text": [
      "<class 'pandas.core.frame.DataFrame'>\n",
      "RangeIndex: 87393 entries, 0 to 87392\n",
      "Data columns (total 7 columns):\n",
      " #   Column            Non-Null Count  Dtype \n",
      "---  ------            --------------  ----- \n",
      " 0   file_name         87393 non-null  object\n",
      " 1   file_address      87393 non-null  object\n",
      " 2   contract_name     87393 non-null  object\n",
      " 3   func_name         87393 non-null  object\n",
      " 4   masked_contract   87393 non-null  object\n",
      " 5   func_body         87393 non-null  object\n",
      " 6   func_requirement  87393 non-null  object\n",
      "dtypes: object(7)\n",
      "memory usage: 4.7+ MB\n"
     ]
    }
   ],
   "source": [
    "test_data.info()"
   ]
  },
  {
   "cell_type": "code",
   "execution_count": 22,
   "metadata": {},
   "outputs": [],
   "source": [
    "train_data.to_parquet(\"./data/data/train_data.parquet\", engine=\"fastparquet\")\n",
    "test_data.to_parquet(\"./data/data/test_data.parquet\", engine=\"fastparquet\")"
   ]
  },
  {
   "cell_type": "code",
   "execution_count": 29,
   "metadata": {},
   "outputs": [
    {
     "name": "stdout",
     "output_type": "stream",
     "text": [
      "<class 'pandas.core.frame.DataFrame'>\n",
      "RangeIndex: 857494 entries, 0 to 857493\n",
      "Data columns (total 7 columns):\n",
      " #   Column            Non-Null Count   Dtype \n",
      "---  ------            --------------   ----- \n",
      " 0   file_name         857494 non-null  object\n",
      " 1   file_address      857494 non-null  object\n",
      " 2   contract_name     857494 non-null  object\n",
      " 3   func_name         857494 non-null  object\n",
      " 4   masked_contract   857494 non-null  object\n",
      " 5   func_body         857494 non-null  object\n",
      " 6   func_requirement  857494 non-null  object\n",
      "dtypes: object(7)\n",
      "memory usage: 45.8+ MB\n"
     ]
    }
   ],
   "source": [
    "train_data = pd.read_parquet(\"./data/data/train_data.parquet\", engine=\"fastparquet\")\n",
    "train_data.info()"
   ]
  },
  {
   "cell_type": "code",
   "execution_count": 30,
   "metadata": {},
   "outputs": [
    {
     "name": "stdout",
     "output_type": "stream",
     "text": [
      "<class 'pandas.core.frame.DataFrame'>\n",
      "MultiIndex: 87393 entries, ('KKNK', '0x39176c7d2fe75fbcd0bfaece2fd58472b15b5a53') to ('NCashToken', '0x523a7fe78f3b11eff51441e3fcc95cb94a37d25c')\n",
      "Data columns (total 5 columns):\n",
      " #   Column            Non-Null Count  Dtype \n",
      "---  ------            --------------  ----- \n",
      " 0   contract_name     87393 non-null  object\n",
      " 1   func_name         87393 non-null  object\n",
      " 2   masked_contract   87393 non-null  object\n",
      " 3   func_body         87393 non-null  object\n",
      " 4   func_requirement  87393 non-null  object\n",
      "dtypes: object(5)\n",
      "memory usage: 4.8+ MB\n"
     ]
    }
   ],
   "source": [
    "test_data = pd.read_parquet(\"./data/data/test_data.parquet\", engine=\"fastparquet\")\n",
    "test_data.info()"
   ]
  },
  {
   "cell_type": "code",
   "execution_count": 23,
   "metadata": {},
   "outputs": [
    {
     "data": {
      "text/html": [
       "<div>\n",
       "<style scoped>\n",
       "    .dataframe tbody tr th:only-of-type {\n",
       "        vertical-align: middle;\n",
       "    }\n",
       "\n",
       "    .dataframe tbody tr th {\n",
       "        vertical-align: top;\n",
       "    }\n",
       "\n",
       "    .dataframe thead th {\n",
       "        text-align: right;\n",
       "    }\n",
       "</style>\n",
       "<table border=\"1\" class=\"dataframe\">\n",
       "  <thead>\n",
       "    <tr style=\"text-align: right;\">\n",
       "      <th></th>\n",
       "      <th>file_name</th>\n",
       "      <th>file_address</th>\n",
       "      <th>count</th>\n",
       "    </tr>\n",
       "  </thead>\n",
       "  <tbody>\n",
       "    <tr>\n",
       "      <th>0</th>\n",
       "      <td>Quotation</td>\n",
       "      <td>0x00000ddbc92c9501c6b48fc9a9e0ef8a97ca1884</td>\n",
       "      <td>519</td>\n",
       "    </tr>\n",
       "    <tr>\n",
       "      <th>1</th>\n",
       "      <td>TokenFunctions</td>\n",
       "      <td>0x00000f02fa3403f3356e1b367a2e2cb931467205</td>\n",
       "      <td>519</td>\n",
       "    </tr>\n",
       "    <tr>\n",
       "      <th>2</th>\n",
       "      <td>ClaimsReward</td>\n",
       "      <td>0xcafea1ca793a4e8e68f31632e816afff5443d998</td>\n",
       "      <td>519</td>\n",
       "    </tr>\n",
       "    <tr>\n",
       "      <th>3</th>\n",
       "      <td>Quotation</td>\n",
       "      <td>0x9dae0663f252d05314b7352403fa9c16f16f25ee</td>\n",
       "      <td>473</td>\n",
       "    </tr>\n",
       "    <tr>\n",
       "      <th>4</th>\n",
       "      <td>ComptrollerProxy</td>\n",
       "      <td>0xdb96fd43b278d1347ab5d458462c66bcb9c5e2a0</td>\n",
       "      <td>467</td>\n",
       "    </tr>\n",
       "    <tr>\n",
       "      <th>...</th>\n",
       "      <td>...</td>\n",
       "      <td>...</td>\n",
       "      <td>...</td>\n",
       "    </tr>\n",
       "    <tr>\n",
       "      <th>78458</th>\n",
       "      <td>PixelGlyphs</td>\n",
       "      <td>0xf38d6bf300d52ba7880b43cddb3f94ee3c6c4ea6</td>\n",
       "      <td>1</td>\n",
       "    </tr>\n",
       "    <tr>\n",
       "      <th>78459</th>\n",
       "      <td>TrumpFarmer</td>\n",
       "      <td>0x58d46475da68984bacf1f2843b85e0fdbcbc6cef</td>\n",
       "      <td>1</td>\n",
       "    </tr>\n",
       "    <tr>\n",
       "      <th>78460</th>\n",
       "      <td>PixelERC20</td>\n",
       "      <td>0x28f6691ace7a960ed6b549a2c486982e89f963fc</td>\n",
       "      <td>1</td>\n",
       "    </tr>\n",
       "    <tr>\n",
       "      <th>78461</th>\n",
       "      <td>PixelDoodleKongz</td>\n",
       "      <td>0x4d6ffd928de08271ef424aa0a3e82fe7884c43d5</td>\n",
       "      <td>1</td>\n",
       "    </tr>\n",
       "    <tr>\n",
       "      <th>78462</th>\n",
       "      <td>zukiducks</td>\n",
       "      <td>0x372f917ee8352662d35d429d8ff7e47602c07ae4</td>\n",
       "      <td>1</td>\n",
       "    </tr>\n",
       "  </tbody>\n",
       "</table>\n",
       "<p>78463 rows × 3 columns</p>\n",
       "</div>"
      ],
      "text/plain": [
       "              file_name                                file_address  count\n",
       "0             Quotation  0x00000ddbc92c9501c6b48fc9a9e0ef8a97ca1884    519\n",
       "1        TokenFunctions  0x00000f02fa3403f3356e1b367a2e2cb931467205    519\n",
       "2          ClaimsReward  0xcafea1ca793a4e8e68f31632e816afff5443d998    519\n",
       "3             Quotation  0x9dae0663f252d05314b7352403fa9c16f16f25ee    473\n",
       "4      ComptrollerProxy  0xdb96fd43b278d1347ab5d458462c66bcb9c5e2a0    467\n",
       "...                 ...                                         ...    ...\n",
       "78458       PixelGlyphs  0xf38d6bf300d52ba7880b43cddb3f94ee3c6c4ea6      1\n",
       "78459       TrumpFarmer  0x58d46475da68984bacf1f2843b85e0fdbcbc6cef      1\n",
       "78460        PixelERC20  0x28f6691ace7a960ed6b549a2c486982e89f963fc      1\n",
       "78461  PixelDoodleKongz  0x4d6ffd928de08271ef424aa0a3e82fe7884c43d5      1\n",
       "78462         zukiducks  0x372f917ee8352662d35d429d8ff7e47602c07ae4      1\n",
       "\n",
       "[78463 rows x 3 columns]"
      ]
     },
     "execution_count": 23,
     "metadata": {},
     "output_type": "execute_result"
    }
   ],
   "source": [
    "train_data[[\"file_name\", \"file_address\"]].value_counts().reset_index(name=\"count\")"
   ]
  },
  {
   "cell_type": "code",
   "execution_count": 28,
   "metadata": {},
   "outputs": [
    {
     "ename": "KeyError",
     "evalue": "\"None of [Index(['file_name', 'file_address'], dtype='object')] are in the [columns]\"",
     "output_type": "error",
     "traceback": [
      "\u001b[0;31m---------------------------------------------------------------------------\u001b[0m",
      "\u001b[0;31mKeyError\u001b[0m                                  Traceback (most recent call last)",
      "Cell \u001b[0;32mIn[28], line 1\u001b[0m\n\u001b[0;32m----> 1\u001b[0m \u001b[43mtest_data\u001b[49m\u001b[43m[\u001b[49m\u001b[43m[\u001b[49m\u001b[38;5;124;43m\"\u001b[39;49m\u001b[38;5;124;43mfile_name\u001b[39;49m\u001b[38;5;124;43m\"\u001b[39;49m\u001b[43m,\u001b[49m\u001b[43m \u001b[49m\u001b[38;5;124;43m\"\u001b[39;49m\u001b[38;5;124;43mfile_address\u001b[39;49m\u001b[38;5;124;43m\"\u001b[39;49m\u001b[43m]\u001b[49m\u001b[43m]\u001b[49m\u001b[38;5;241m.\u001b[39mvalue_counts()\u001b[38;5;241m.\u001b[39mreset_index(name\u001b[38;5;241m=\u001b[39m\u001b[38;5;124m\"\u001b[39m\u001b[38;5;124mcount\u001b[39m\u001b[38;5;124m\"\u001b[39m)\n",
      "File \u001b[0;32m/var/data/CG/miniconda3/envs/gen/lib/python3.11/site-packages/pandas/core/frame.py:3899\u001b[0m, in \u001b[0;36mDataFrame.__getitem__\u001b[0;34m(self, key)\u001b[0m\n\u001b[1;32m   3897\u001b[0m     \u001b[38;5;28;01mif\u001b[39;00m is_iterator(key):\n\u001b[1;32m   3898\u001b[0m         key \u001b[38;5;241m=\u001b[39m \u001b[38;5;28mlist\u001b[39m(key)\n\u001b[0;32m-> 3899\u001b[0m     indexer \u001b[38;5;241m=\u001b[39m \u001b[38;5;28;43mself\u001b[39;49m\u001b[38;5;241;43m.\u001b[39;49m\u001b[43mcolumns\u001b[49m\u001b[38;5;241;43m.\u001b[39;49m\u001b[43m_get_indexer_strict\u001b[49m\u001b[43m(\u001b[49m\u001b[43mkey\u001b[49m\u001b[43m,\u001b[49m\u001b[43m \u001b[49m\u001b[38;5;124;43m\"\u001b[39;49m\u001b[38;5;124;43mcolumns\u001b[39;49m\u001b[38;5;124;43m\"\u001b[39;49m\u001b[43m)\u001b[49m[\u001b[38;5;241m1\u001b[39m]\n\u001b[1;32m   3901\u001b[0m \u001b[38;5;66;03m# take() does not accept boolean indexers\u001b[39;00m\n\u001b[1;32m   3902\u001b[0m \u001b[38;5;28;01mif\u001b[39;00m \u001b[38;5;28mgetattr\u001b[39m(indexer, \u001b[38;5;124m\"\u001b[39m\u001b[38;5;124mdtype\u001b[39m\u001b[38;5;124m\"\u001b[39m, \u001b[38;5;28;01mNone\u001b[39;00m) \u001b[38;5;241m==\u001b[39m \u001b[38;5;28mbool\u001b[39m:\n",
      "File \u001b[0;32m/var/data/CG/miniconda3/envs/gen/lib/python3.11/site-packages/pandas/core/indexes/base.py:6115\u001b[0m, in \u001b[0;36mIndex._get_indexer_strict\u001b[0;34m(self, key, axis_name)\u001b[0m\n\u001b[1;32m   6112\u001b[0m \u001b[38;5;28;01melse\u001b[39;00m:\n\u001b[1;32m   6113\u001b[0m     keyarr, indexer, new_indexer \u001b[38;5;241m=\u001b[39m \u001b[38;5;28mself\u001b[39m\u001b[38;5;241m.\u001b[39m_reindex_non_unique(keyarr)\n\u001b[0;32m-> 6115\u001b[0m \u001b[38;5;28;43mself\u001b[39;49m\u001b[38;5;241;43m.\u001b[39;49m\u001b[43m_raise_if_missing\u001b[49m\u001b[43m(\u001b[49m\u001b[43mkeyarr\u001b[49m\u001b[43m,\u001b[49m\u001b[43m \u001b[49m\u001b[43mindexer\u001b[49m\u001b[43m,\u001b[49m\u001b[43m \u001b[49m\u001b[43maxis_name\u001b[49m\u001b[43m)\u001b[49m\n\u001b[1;32m   6117\u001b[0m keyarr \u001b[38;5;241m=\u001b[39m \u001b[38;5;28mself\u001b[39m\u001b[38;5;241m.\u001b[39mtake(indexer)\n\u001b[1;32m   6118\u001b[0m \u001b[38;5;28;01mif\u001b[39;00m \u001b[38;5;28misinstance\u001b[39m(key, Index):\n\u001b[1;32m   6119\u001b[0m     \u001b[38;5;66;03m# GH 42790 - Preserve name from an Index\u001b[39;00m\n",
      "File \u001b[0;32m/var/data/CG/miniconda3/envs/gen/lib/python3.11/site-packages/pandas/core/indexes/base.py:6176\u001b[0m, in \u001b[0;36mIndex._raise_if_missing\u001b[0;34m(self, key, indexer, axis_name)\u001b[0m\n\u001b[1;32m   6174\u001b[0m     \u001b[38;5;28;01mif\u001b[39;00m use_interval_msg:\n\u001b[1;32m   6175\u001b[0m         key \u001b[38;5;241m=\u001b[39m \u001b[38;5;28mlist\u001b[39m(key)\n\u001b[0;32m-> 6176\u001b[0m     \u001b[38;5;28;01mraise\u001b[39;00m \u001b[38;5;167;01mKeyError\u001b[39;00m(\u001b[38;5;124mf\u001b[39m\u001b[38;5;124m\"\u001b[39m\u001b[38;5;124mNone of [\u001b[39m\u001b[38;5;132;01m{\u001b[39;00mkey\u001b[38;5;132;01m}\u001b[39;00m\u001b[38;5;124m] are in the [\u001b[39m\u001b[38;5;132;01m{\u001b[39;00maxis_name\u001b[38;5;132;01m}\u001b[39;00m\u001b[38;5;124m]\u001b[39m\u001b[38;5;124m\"\u001b[39m)\n\u001b[1;32m   6178\u001b[0m not_found \u001b[38;5;241m=\u001b[39m \u001b[38;5;28mlist\u001b[39m(ensure_index(key)[missing_mask\u001b[38;5;241m.\u001b[39mnonzero()[\u001b[38;5;241m0\u001b[39m]]\u001b[38;5;241m.\u001b[39munique())\n\u001b[1;32m   6179\u001b[0m \u001b[38;5;28;01mraise\u001b[39;00m \u001b[38;5;167;01mKeyError\u001b[39;00m(\u001b[38;5;124mf\u001b[39m\u001b[38;5;124m\"\u001b[39m\u001b[38;5;132;01m{\u001b[39;00mnot_found\u001b[38;5;132;01m}\u001b[39;00m\u001b[38;5;124m not in index\u001b[39m\u001b[38;5;124m\"\u001b[39m)\n",
      "\u001b[0;31mKeyError\u001b[0m: \"None of [Index(['file_name', 'file_address'], dtype='object')] are in the [columns]\""
     ]
    }
   ],
   "source": [
    "test_data[[\"file_name\", \"file_address\"]].value_counts().reset_index(name=\"count\")"
   ]
  },
  {
   "cell_type": "code",
   "execution_count": 26,
   "metadata": {},
   "outputs": [
    {
     "name": "stdout",
     "output_type": "stream",
     "text": [
      "<class 'pandas.core.frame.DataFrame'>\n",
      "MultiIndex: 87393 entries, ('KKNK', '0x39176c7d2fe75fbcd0bfaece2fd58472b15b5a53') to ('NCashToken', '0x523a7fe78f3b11eff51441e3fcc95cb94a37d25c')\n",
      "Data columns (total 5 columns):\n",
      " #   Column            Non-Null Count  Dtype \n",
      "---  ------            --------------  ----- \n",
      " 0   contract_name     87393 non-null  object\n",
      " 1   func_name         87393 non-null  object\n",
      " 2   masked_contract   87393 non-null  object\n",
      " 3   func_body         87393 non-null  object\n",
      " 4   func_requirement  87393 non-null  object\n",
      "dtypes: object(5)\n",
      "memory usage: 6.3+ MB\n"
     ]
    }
   ],
   "source": [
    "test_data.info()"
   ]
  },
  {
   "cell_type": "code",
   "execution_count": 20,
   "metadata": {},
   "outputs": [
    {
     "name": "stdout",
     "output_type": "stream",
     "text": [
      "<class 'pandas.core.frame.DataFrame'>\n",
      "MultiIndex: 87393 entries, ('KKNK', '0x39176c7d2fe75fbcd0bfaece2fd58472b15b5a53') to ('NCashToken', '0x523a7fe78f3b11eff51441e3fcc95cb94a37d25c')\n",
      "Data columns (total 5 columns):\n",
      " #   Column            Non-Null Count  Dtype \n",
      "---  ------            --------------  ----- \n",
      " 0   contract_name     87393 non-null  object\n",
      " 1   func_name         87393 non-null  object\n",
      " 2   masked_contract   87393 non-null  object\n",
      " 3   func_body         87393 non-null  object\n",
      " 4   func_requirement  87393 non-null  object\n",
      "dtypes: object(5)\n",
      "memory usage: 6.3+ MB\n"
     ]
    }
   ],
   "source": [
    "test_data.info()"
   ]
  },
  {
   "cell_type": "code",
   "execution_count": 18,
   "metadata": {},
   "outputs": [],
   "source": [
    "test_file = pd.read_parquet(\"./data/solfile/test_file.parquet\", engine=\"fastparquet\")\n",
    "test_file.set_index([\"file_name\", \"file_address\"], inplace=True)\n",
    "\n",
    "test = test_data.join(test_file, how=\"inner\")"
   ]
  },
  {
   "cell_type": "code",
   "execution_count": 19,
   "metadata": {},
   "outputs": [
    {
     "name": "stdout",
     "output_type": "stream",
     "text": [
      "<class 'pandas.core.frame.DataFrame'>\n",
      "MultiIndex: 228807 entries, ('$COCAINU', '0x399e77f162c1e0da585cf48d492951941ebc6535') to ('zsToken', '0xd469bb16116443f389efef407d73ef7ab0ad96ce')\n",
      "Data columns (total 9 columns):\n",
      " #   Column            Non-Null Count   Dtype \n",
      "---  ------            --------------   ----- \n",
      " 0   contract_name     228807 non-null  object\n",
      " 1   func_name         228807 non-null  object\n",
      " 2   masked_contract   228807 non-null  object\n",
      " 3   func_body         228807 non-null  object\n",
      " 4   func_requirement  228807 non-null  object\n",
      " 5   source_code       228807 non-null  object\n",
      " 6   abi               228807 non-null  object\n",
      " 7   compiler_version  228807 non-null  object\n",
      " 8   library           228807 non-null  object\n",
      "dtypes: object(9)\n",
      "memory usage: 17.2+ MB\n"
     ]
    }
   ],
   "source": [
    "test.info()"
   ]
  },
  {
   "cell_type": "code",
   "execution_count": null,
   "metadata": {},
   "outputs": [],
   "source": []
  }
 ],
 "metadata": {
  "kernelspec": {
   "display_name": "Python 3",
   "language": "python",
   "name": "python3"
  },
  "language_info": {
   "codemirror_mode": {
    "name": "ipython",
    "version": 3
   },
   "file_extension": ".py",
   "mimetype": "text/x-python",
   "name": "python",
   "nbconvert_exporter": "python",
   "pygments_lexer": "ipython3",
   "version": "3.11.7"
  }
 },
 "nbformat": 4,
 "nbformat_minor": 2
}
