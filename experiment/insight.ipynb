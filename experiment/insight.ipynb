{
 "cells": [
  {
   "cell_type": "code",
   "execution_count": 2,
   "metadata": {},
   "outputs": [
    {
     "name": "stdout",
     "output_type": "stream",
     "text": [
      "<class 'pandas.core.frame.DataFrame'>\n",
      "RangeIndex: 94288 entries, 0 to 94287\n",
      "Data columns (total 1 columns):\n",
      " #   Column       Non-Null Count  Dtype \n",
      "---  ------       --------------  ----- \n",
      " 0   source_code  94288 non-null  object\n",
      "dtypes: object(1)\n",
      "memory usage: 736.8+ KB\n"
     ]
    }
   ],
   "source": [
    "import pandas as pd\n",
    "all_file = pd.read_parquet(\"/home/hieuvd/lvdthieu/CodeGen/data/solfile-v3/all_file.parquet\", engine=\"fastparquet\")\n",
    "all_file.info()"
   ]
  },
  {
   "cell_type": "code",
   "execution_count": 4,
   "metadata": {},
   "outputs": [
    {
     "data": {
      "text/plain": [
       "'pragma solidity ^0.4.20;\\r\\n\\r\\nlibrary SafeMath {\\r\\n    function add(uint a, uint b) internal pure returns (uint c) {\\r\\n        c = a + b;\\r\\n        require(c >= a);\\r\\n    }\\r\\n    function sub(uint a, uint b) internal pure returns (uint c) {\\r\\n        require(b <= a);\\r\\n        c = a - b;\\r\\n    }\\r\\n    function mul(uint a, uint b) internal pure returns (uint c) {\\r\\n        c = a * b;\\r\\n        require(a == 0 || c / a == b);\\r\\n    }\\r\\n    function div(uint a, uint b) internal pure returns (uint c) {\\r\\n        require(b > 0);\\r\\n        c = a / b;\\r\\n    }\\r\\n}\\r\\n\\r\\n\\r\\ncontract ERC20Interface {\\r\\n    function totalSupply() public constant returns (uint);\\r\\n    function balanceOf(address tokenOwner) public constant returns (uint balance);\\r\\n    function allowance(address tokenOwner, address spender) public constant returns (uint remaining);\\r\\n    function transfer(address to, uint tokens) public returns (bool success);\\r\\n    function approve(address spender, uint tokens) public returns (bool success);\\r\\n    function transferFrom(address from, address to, uint tokens) public returns (bool success);\\r\\n\\r\\n    event Transfer(address indexed from, address indexed to, uint tokens);\\r\\n    event Approval(address indexed tokenOwner, address indexed spender, uint tokens);\\r\\n}\\r\\n\\r\\n\\r\\ncontract ApproveAndCallFallBack {\\r\\n    function receiveApproval(address from, uint256 tokens, address token, bytes data) public;\\r\\n}\\r\\n\\r\\n\\r\\ncontract Owned {\\r\\n    address public owner;\\r\\n    address public newOwner;\\r\\n\\r\\n    event OwnershipTransferred(address indexed _from, address indexed _to);\\r\\n\\r\\n    function Owned() public {\\r\\n        owner = msg.sender;\\r\\n    }\\r\\n\\r\\n    modifier onlyOwner {\\r\\n        require(msg.sender == owner);\\r\\n        _;\\r\\n    }\\r\\n\\r\\n    function transferOwnership(address _newOwner) public onlyOwner {\\r\\n        newOwner = _newOwner;\\r\\n    }\\r\\n    function acceptOwnership() public {\\r\\n        require(msg.sender == newOwner);\\r\\n        OwnershipTransferred(owner, newOwner);\\r\\n        owner = newOwner;\\r\\n        newOwner = address(0);\\r\\n    }\\r\\n}\\r\\n\\r\\n\\r\\ncontract Tangent is ERC20Interface, Owned {\\r\\n    using SafeMath for uint;\\r\\n\\r\\n    string public symbol;\\r\\n    string public  name;\\r\\n    uint8 public decimals;\\r\\n    uint public _totalSupply;\\r\\n\\r\\n    mapping(address => uint) balances;\\r\\n    mapping(address => mapping(address => uint)) allowed;\\r\\n\\r\\n    function Tangent() public {\\r\\n        symbol = \"TAN\";\\r\\n        name = \"Tangent\";\\r\\n        decimals = 18;\\r\\n        _totalSupply = 1000000000 * 10**uint(decimals);\\r\\n        balances[owner] = _totalSupply;\\r\\n        Transfer(address(0), owner, _totalSupply);\\r\\n    }\\r\\n\\r\\n    function totalSupply() public constant returns (uint) {\\r\\n        return _totalSupply  - balances[address(0)];\\r\\n    }\\r\\n\\r\\n    function balanceOf(address tokenOwner) public constant returns (uint balance) {\\r\\n        return balances[tokenOwner];\\r\\n    }\\r\\n\\r\\n    function transfer(address to, uint tokens) public returns (bool success) {\\r\\n        balances[msg.sender] = balances[msg.sender].sub(tokens);\\r\\n        balances[to] = balances[to].add(tokens);\\r\\n        Transfer(msg.sender, to, tokens);\\r\\n        return true;\\r\\n    }\\r\\n\\r\\n    function approve(address spender, uint tokens) public returns (bool success) {\\r\\n        allowed[msg.sender][spender] = tokens;\\r\\n        Approval(msg.sender, spender, tokens);\\r\\n        return true;\\r\\n    }\\r\\n\\r\\n    function transferFrom(address from, address to, uint tokens) public returns (bool success) {\\r\\n        balances[from] = balances[from].sub(tokens);\\r\\n        allowed[from][msg.sender] = allowed[from][msg.sender].sub(tokens);\\r\\n        balances[to] = balances[to].add(tokens);\\r\\n        Transfer(from, to, tokens);\\r\\n        return true;\\r\\n    }\\r\\n\\r\\n    function allowance(address tokenOwner, address spender) public constant returns (uint remaining) {\\r\\n        return allowed[tokenOwner][spender];\\r\\n    }\\r\\n\\r\\n    function approveAndCall(address spender, uint tokens, bytes data) public returns (bool success) {\\r\\n        allowed[msg.sender][spender] = tokens;\\r\\n        Approval(msg.sender, spender, tokens);\\r\\n        ApproveAndCallFallBack(spender).receiveApproval(msg.sender, tokens, this, data);\\r\\n        return true;\\r\\n    }\\r\\n\\r\\n    function () public payable {\\r\\n        revert();\\r\\n    }\\r\\n\\r\\n    function transferAnyERC20Token(address tokenAddress, uint tokens) public onlyOwner returns (bool success) {\\r\\n        return ERC20Interface(tokenAddress).transfer(owner, tokens);\\r\\n    }\\r\\n}\\r\\n\\r\\ncontract TangentStake is Owned {\\r\\n    // prevents overflows\\r\\n    using SafeMath for uint;\\r\\n    \\r\\n    // represents a purchase object\\r\\n    // addr is the buying address\\r\\n    // amount is the number of wei in the purchase\\r\\n    // sf is the sum of (purchase amount / sum of previous purchase amounts)\\r\\n    struct Purchase {\\r\\n        address addr;\\r\\n        uint amount;\\r\\n        uint sf;\\r\\n    }\\r\\n    \\r\\n    // Purchase object array that holds entire purchase history\\r\\n    Purchase[] purchases;\\r\\n    \\r\\n    // tangents are rewarded along with Ether upon cashing out\\r\\n    Tangent tokenContract;\\r\\n    \\r\\n    // the rate of tangents to ether is multiplier / divisor\\r\\n    uint multiplier;\\r\\n    uint divisor;\\r\\n    \\r\\n    // accuracy multiplier\\r\\n    uint acm;\\r\\n    \\r\\n    uint netStakes;\\r\\n    \\r\\n    // logged when a purchase is made\\r\\n    event PurchaseEvent(uint index, address addr, uint eth, uint sf);\\r\\n    \\r\\n    // logged when a person cashes out or the contract is destroyed\\r\\n    event CashOutEvent(uint index, address addr, uint eth, uint tangles);\\r\\n    \\r\\n    event NetStakesChange(uint netStakes);\\r\\n    \\r\\n    // logged when the rate of tangents to ether is decreased\\r\\n    event Revaluation(uint oldMul, uint oldDiv, uint newMul, uint newDiv);\\r\\n    \\r\\n    // constructor, sets initial rate to 1000 TAN per 1 Ether\\r\\n    function TangentStake(address tokenAddress) public {\\r\\n        tokenContract = Tangent(tokenAddress);\\r\\n        multiplier = 1000;\\r\\n        divisor = 1;\\r\\n        acm = 10**18;\\r\\n        netStakes = 0;\\r\\n    }\\r\\n    \\r\\n    // decreases the rate of Tangents to Ether, the contract cannot be told\\r\\n    // to give out more Tangents per Ether, only fewer.\\r\\n    function revalue(uint newMul, uint newDiv) public onlyOwner {\\r\\n        require( (newMul.div(newDiv)) <= (multiplier.div(divisor)) );\\r\\n        Revaluation(multiplier, divisor, newMul, newDiv);\\r\\n        multiplier = newMul;\\r\\n        divisor = newDiv;\\r\\n        return;\\r\\n    }\\r\\n    \\r\\n    // returns the current amount of wei that will be given for the purchase \\r\\n    // at purchases[index]\\r\\n    function getEarnings(uint index) public constant returns (uint earnings, uint amount) {\\r\\n        Purchase memory cpurchase;\\r\\n        Purchase memory lpurchase;\\r\\n        \\r\\n        cpurchase = purchases[index];\\r\\n        amount = cpurchase.amount;\\r\\n        \\r\\n        if (cpurchase.addr == address(0)) {\\r\\n            return (0, amount);\\r\\n        }\\r\\n        \\r\\n        earnings = (index == 0) ? acm : 0;\\r\\n        lpurchase = purchases[purchases.length-1];\\r\\n        earnings = earnings.add( lpurchase.sf.sub(cpurchase.sf) );\\r\\n        earnings = earnings.mul(amount).div(acm);\\r\\n        return (earnings, amount);\\r\\n    }\\r\\n    \\r\\n    // Cash out Ether and Tangent at for the purchase at index \"index\".\\r\\n    // All of the Ether and Tangent associated with with that purchase will\\r\\n    // be sent to recipient, and no future withdrawals can be made for the\\r\\n    // purchase.\\r\\n    function cashOut(uint index) public {\\r\\n        require(0 <= index && index < purchases.length);\\r\\n        require(purchases[index].addr == msg.sender);\\r\\n        \\r\\n        uint earnings;\\r\\n        uint amount;\\r\\n        uint tangles;\\r\\n        \\r\\n        (earnings, amount) = getEarnings(index);\\r\\n        purchases[index].addr = address(0);\\r\\n        require(earnings != 0 && amount != 0);\\r\\n        netStakes = netStakes.sub(amount);\\r\\n        \\r\\n        tangles = earnings.mul(multiplier).div(divisor);\\r\\n        CashOutEvent(index, msg.sender, earnings, tangles);\\r\\n        NetStakesChange(netStakes);\\r\\n        \\r\\n        tokenContract.transfer(msg.sender, tangles);\\r\\n        msg.sender.transfer(earnings);\\r\\n        return;\\r\\n    }\\r\\n    \\r\\n    \\r\\n    // The fallback function used to purchase stakes\\r\\n    // sf is the sum of the proportions of:\\r\\n    // (ether of current purchase / sum of ether prior to purchase)\\r\\n    // It is used to calculate earnings upon withdrawal.\\r\\n    function () public payable {\\r\\n        require(msg.value != 0);\\r\\n        \\r\\n        uint index = purchases.length;\\r\\n        uint sf;\\r\\n        uint f;\\r\\n        \\r\\n        if (index == 0) {\\r\\n            sf = 0;\\r\\n        } else {\\r\\n            f = msg.value.mul(acm).div(netStakes);\\r\\n            sf = purchases[index-1].sf.add(f);\\r\\n        }\\r\\n        \\r\\n        netStakes = netStakes.add(msg.value);\\r\\n        purchases.push(Purchase(msg.sender, msg.value, sf));\\r\\n        \\r\\n        NetStakesChange(netStakes);\\r\\n        PurchaseEvent(index, msg.sender, msg.value, sf);\\r\\n        return;\\r\\n    }\\r\\n}'"
      ]
     },
     "execution_count": 4,
     "metadata": {},
     "output_type": "execute_result"
    }
   ],
   "source": [
    "all_file.loc[0, \"source_code\"]"
   ]
  },
  {
   "cell_type": "code",
   "execution_count": 3,
   "metadata": {},
   "outputs": [
    {
     "name": "stdout",
     "output_type": "stream",
     "text": [
      "<class 'pandas.core.frame.DataFrame'>\n",
      "RangeIndex: 0 entries\n",
      "Data columns (total 6 columns):\n",
      " #   Column            Non-Null Count  Dtype \n",
      "---  ------            --------------  ----- \n",
      " 0   source_idx        0 non-null      object\n",
      " 1   contract_name     0 non-null      object\n",
      " 2   func_name         0 non-null      object\n",
      " 3   masked_contract   0 non-null      object\n",
      " 4   function          0 non-null      object\n",
      " 5   func_requirement  0 non-null      object\n",
      "dtypes: object(6)\n",
      "memory usage: 132.0+ bytes\n"
     ]
    }
   ],
   "source": [
    "import pandas as pd\n",
    "mask_function = pd.read_parquet(\"/home/hieuvd/lvdthieu/CodeGen/data/data/mask_entire_function.parquet\", engine=\"fastparquet\")\n",
    "mask_function.info()"
   ]
  },
  {
   "cell_type": "code",
   "execution_count": 4,
   "metadata": {},
   "outputs": [
    {
     "name": "stdout",
     "output_type": "stream",
     "text": [
      "<class 'pandas.core.frame.DataFrame'>\n",
      "RangeIndex: 657 entries, 0 to 656\n",
      "Data columns (total 5 columns):\n",
      " #   Column           Non-Null Count  Dtype \n",
      "---  ------           --------------  ----- \n",
      " 0   source_idx       657 non-null    object\n",
      " 1   contract_name    657 non-null    object\n",
      " 2   func_name        615 non-null    object\n",
      " 3   masked_contract  657 non-null    object\n",
      " 4   function         657 non-null    object\n",
      "dtypes: object(5)\n",
      "memory usage: 25.8+ KB\n"
     ]
    }
   ],
   "source": [
    "mask_entire_function = pd.read_parquet(\"/home/hieuvd/lvdthieu/CodeGen/data/data/mask_entire_function.parquet\", engine=\"fastparquet\")\n",
    "mask_entire_function.info()"
   ]
  },
  {
   "cell_type": "code",
   "execution_count": 5,
   "metadata": {},
   "outputs": [
    {
     "name": "stdout",
     "output_type": "stream",
     "text": [
      "<class 'pandas.core.frame.DataFrame'>\n",
      "RangeIndex: 346379 entries, 0 to 346378\n",
      "Data columns (total 7 columns):\n",
      " #   Column                    Non-Null Count   Dtype \n",
      "---  ------                    --------------   ----- \n",
      " 0   source_idx                346379 non-null  object\n",
      " 1   contract_name             346379 non-null  object\n",
      " 2   func_name                 328075 non-null  object\n",
      " 3   masked_contract           346379 non-null  object\n",
      " 4   function                  346379 non-null  object\n",
      " 5   func_requirement          346379 non-null  object\n",
      " 6   function_removed_comment  346379 non-null  object\n",
      "dtypes: object(7)\n",
      "memory usage: 18.5+ MB\n"
     ]
    }
   ],
   "source": [
    "experiment = pd.read_parquet(\"/home/hieuvd/lvdthieu/CodeGen/data/data/experiment.parquet\", engine=\"fastparquet\")\n",
    "experiment.info()"
   ]
  },
  {
   "cell_type": "code",
   "execution_count": 9,
   "metadata": {},
   "outputs": [],
   "source": [
    "with open(\"test.sol\", \"a\") as f:\n",
    "    for func in experiment[experiment[\"function\"].str.contains(\"//\")][\"function\"].iloc[0:5]:\n",
    "        f.write(f\"{func}\\n---------------------------------------------------\\n\")"
   ]
  },
  {
   "cell_type": "code",
   "execution_count": 10,
   "metadata": {},
   "outputs": [
    {
     "data": {
      "text/plain": [
       "0     function SCT() {\\r\\n        balanceOf[msg.send...\n",
       "1     function transfer(address _to, uint256 _value)...\n",
       "2     function approve(address _spender, uint256 _va...\n",
       "3     function transferFrom(address _from, address _...\n",
       "11    function execute(\\r\\n    bytes calldata data,\\...\n",
       "Name: function, dtype: object"
      ]
     },
     "execution_count": 10,
     "metadata": {},
     "output_type": "execute_result"
    }
   ],
   "source": [
    "experiment[experiment[\"function\"].str.contains(\"//\")][\"function\"].iloc[0:5]\n"
   ]
  },
  {
   "cell_type": "code",
   "execution_count": 11,
   "metadata": {},
   "outputs": [],
   "source": [
    "with open(\"test.sol\", \"a\") as f:\n",
    "    for i in [0, 1, 2, 3, 11]:\n",
    "        f.write(f\"{experiment.loc[i, 'function_removed_comment']}\\n-------------------------------------\\n\")"
   ]
  },
  {
   "cell_type": "markdown",
   "metadata": {},
   "source": [
    "# Test length of body function"
   ]
  },
  {
   "cell_type": "code",
   "execution_count": 46,
   "metadata": {},
   "outputs": [
    {
     "name": "stdout",
     "output_type": "stream",
     "text": [
      "<class 'pandas.core.frame.DataFrame'>\n",
      "RangeIndex: 346379 entries, 0 to 346378\n",
      "Data columns (total 7 columns):\n",
      " #   Column                     Non-Null Count   Dtype \n",
      "---  ------                     --------------   ----- \n",
      " 0   source_idx                 346379 non-null  object\n",
      " 1   contract_name              346379 non-null  object\n",
      " 2   func_name                  328075 non-null  object\n",
      " 3   masked_contract            346379 non-null  object\n",
      " 4   func_body                  346379 non-null  object\n",
      " 5   func_requirement           346379 non-null  object\n",
      " 6   func_body_removed_comment  346379 non-null  object\n",
      "dtypes: object(7)\n",
      "memory usage: 18.5+ MB\n"
     ]
    }
   ],
   "source": [
    "only_mask_func_body_has_req = pd.read_parquet(\"/home/hieuvd/lvdthieu/CodeGen/data/data/only_mask_func_body_has_req.parquet\", engine=\"fastparquet\")\n",
    "only_mask_func_body_has_req.info()"
   ]
  },
  {
   "cell_type": "code",
   "execution_count": 47,
   "metadata": {},
   "outputs": [
    {
     "data": {
      "text/plain": [
       "0         \\n        balanceOf[msg.sender] = initialSuppl...\n",
       "1         \\n      require (_value > 0) ;\\n        requir...\n",
       "2         \\n          allowance[msg.sender][_spender] = ...\n",
       "3         \\n        require (balanceOf[_from] >= _value)...\n",
       "4                            \\n  owner.transfer(amount);\\n \n",
       "                                ...                        \n",
       "346374    \\n        require(_tokensToSell <= tokenSupply...\n",
       "346375    \\n        \\n        address _customerAddress =...\n",
       "346376    \\n        uint256 _tokenPriceInitial = tokenPr...\n",
       "346377    \\n\\n        uint256 tokens_ = (_tokens + 1e18)...\n",
       "346378    \\n        uint z = (x + 1) / 2;\\n        y = x...\n",
       "Name: func_body_removed_comment, Length: 346379, dtype: object"
      ]
     },
     "execution_count": 47,
     "metadata": {},
     "output_type": "execute_result"
    }
   ],
   "source": [
    "only_mask_func_body_has_req[\"func_body_removed_comment\"]"
   ]
  },
  {
   "cell_type": "code",
   "execution_count": 48,
   "metadata": {},
   "outputs": [],
   "source": [
    "def body_len(func_body):\n",
    "    special_chars = \";*{},():.=&~|^+/%*-><![]\"\n",
    "    for char in list(special_chars):\n",
    "        func_body = func_body.replace(char, ' ')\n",
    "    words = [word for word in func_body.split() if word]\n",
    "    return len(words)"
   ]
  },
  {
   "cell_type": "code",
   "execution_count": 49,
   "metadata": {},
   "outputs": [],
   "source": [
    "only_mask_func_body_has_req[\"body_len\"] = only_mask_func_body_has_req[\"func_body_removed_comment\"].apply(lambda x: body_len(x))"
   ]
  },
  {
   "cell_type": "code",
   "execution_count": 55,
   "metadata": {},
   "outputs": [
    {
     "name": "stdout",
     "output_type": "stream",
     "text": [
      "count    346379.000000\n",
      "mean         18.889915\n",
      "std          30.743028\n",
      "min           0.000000\n",
      "25%           4.000000\n",
      "50%          12.000000\n",
      "75%          25.000000\n",
      "max        9244.000000\n",
      "Name: body_len, dtype: float64\n"
     ]
    },
    {
     "data": {
      "text/plain": [
       "12.0"
      ]
     },
     "execution_count": 55,
     "metadata": {},
     "output_type": "execute_result"
    }
   ],
   "source": [
    "print(only_mask_func_body_has_req[\"body_len\"].describe())\n",
    "only_mask_func_body_has_req[\"body_len\"].median()\n"
   ]
  },
  {
   "cell_type": "code",
   "execution_count": 50,
   "metadata": {},
   "outputs": [],
   "source": [
    "counter = dict(only_mask_func_body_has_req[\"body_len\"].value_counts())"
   ]
  },
  {
   "cell_type": "code",
   "execution_count": 51,
   "metadata": {},
   "outputs": [],
   "source": [
    "mask_entire_function_has_req = pd.read_parquet(\"/home/hieuvd/lvdthieu/CodeGen/data/data/mask_entire_function_has_req.parquet\", engine=\"fastparquet\")"
   ]
  },
  {
   "cell_type": "code",
   "execution_count": 52,
   "metadata": {},
   "outputs": [],
   "source": [
    "def check_len(length):\n",
    "    check = only_mask_func_body_has_req[only_mask_func_body_has_req[\"body_len\"] == length].copy()\n",
    "    with open(\"check.sol\", \"w\") as f:\n",
    "        for idx in check.index:\n",
    "            f.write(f\"{mask_entire_function_has_req.loc[idx, 'function']}\\n--------------------------------------------------------------------------------\\n\")\n",
    "    "
   ]
  },
  {
   "cell_type": "code",
   "execution_count": 65,
   "metadata": {},
   "outputs": [],
   "source": [
    "check_len(11)"
   ]
  },
  {
   "cell_type": "code",
   "execution_count": 77,
   "metadata": {},
   "outputs": [
    {
     "name": "stdout",
     "output_type": "stream",
     "text": [
      "<class 'pandas.core.frame.DataFrame'>\n",
      "RangeIndex: 1251883 entries, 0 to 1251882\n",
      "Data columns (total 6 columns):\n",
      " #   Column                     Non-Null Count    Dtype \n",
      "---  ------                     --------------    ----- \n",
      " 0   source_idx                 1251883 non-null  object\n",
      " 1   contract_name              1251883 non-null  object\n",
      " 2   func_name                  1180119 non-null  object\n",
      " 3   masked_contract            1251883 non-null  object\n",
      " 4   func_body                  1251883 non-null  object\n",
      " 5   func_body_removed_comment  1251883 non-null  object\n",
      "dtypes: object(6)\n",
      "memory usage: 57.3+ MB\n"
     ]
    }
   ],
   "source": [
    "only_mask_func_body = pd.read_parquet(\"/home/hieuvd/lvdthieu/CodeGen/data/data/only_mask_func_body.parquet\", engine=\"fastparquet\")\n",
    "only_mask_func_body.info()"
   ]
  },
  {
   "cell_type": "code",
   "execution_count": 78,
   "metadata": {},
   "outputs": [],
   "source": [
    "only_mask_func_body[\"body_len\"] = only_mask_func_body[\"func_body_removed_comment\"].apply(lambda x: body_len(x))\n"
   ]
  },
  {
   "cell_type": "code",
   "execution_count": 79,
   "metadata": {},
   "outputs": [
    {
     "data": {
      "text/plain": [
       "count    1.251883e+06\n",
       "mean     1.850599e+01\n",
       "std      2.873090e+01\n",
       "min      0.000000e+00\n",
       "25%      4.000000e+00\n",
       "50%      1.000000e+01\n",
       "75%      2.500000e+01\n",
       "max      9.244000e+03\n",
       "Name: body_len, dtype: float64"
      ]
     },
     "execution_count": 79,
     "metadata": {},
     "output_type": "execute_result"
    }
   ],
   "source": [
    "only_mask_func_body[\"body_len\"].describe()"
   ]
  },
  {
   "cell_type": "code",
   "execution_count": 81,
   "metadata": {},
   "outputs": [],
   "source": [
    "repeat_cnt = dict(only_mask_func_body[\"func_body_removed_comment\"].value_counts())"
   ]
  },
  {
   "cell_type": "code",
   "execution_count": 82,
   "metadata": {},
   "outputs": [
    {
     "name": "stdout",
     "output_type": "stream",
     "text": [
      "<class 'pandas.core.frame.DataFrame'>\n",
      "RangeIndex: 1251883 entries, 0 to 1251882\n",
      "Data columns (total 8 columns):\n",
      " #   Column                     Non-Null Count    Dtype \n",
      "---  ------                     --------------    ----- \n",
      " 0   source_idx                 1251883 non-null  object\n",
      " 1   contract_name              1251883 non-null  object\n",
      " 2   func_name                  1180119 non-null  object\n",
      " 3   masked_contract            1251883 non-null  object\n",
      " 4   func_body                  1251883 non-null  object\n",
      " 5   func_body_removed_comment  1251883 non-null  object\n",
      " 6   body_len                   1251883 non-null  int64 \n",
      " 7   repeate_cnt                1251883 non-null  int64 \n",
      "dtypes: int64(2), object(6)\n",
      "memory usage: 76.4+ MB\n"
     ]
    }
   ],
   "source": [
    "only_mask_func_body[\"repeate_cnt\"] = only_mask_func_body[\"func_body_removed_comment\"].apply(lambda func: repeat_cnt[func])\n",
    "only_mask_func_body.info()"
   ]
  },
  {
   "cell_type": "code",
   "execution_count": 83,
   "metadata": {},
   "outputs": [],
   "source": [
    "only_mask_func_body = only_mask_func_body.sample(frac=1, random_state=11, ignore_index=True)"
   ]
  },
  {
   "cell_type": "code",
   "execution_count": 84,
   "metadata": {},
   "outputs": [],
   "source": [
    "only_mask_func_body.drop_duplicates(subset=[\"func_body_removed_comment\"], inplace=True, ignore_index=True)"
   ]
  },
  {
   "cell_type": "code",
   "execution_count": 85,
   "metadata": {},
   "outputs": [
    {
     "name": "stdout",
     "output_type": "stream",
     "text": [
      "<class 'pandas.core.frame.DataFrame'>\n",
      "RangeIndex: 308807 entries, 0 to 308806\n",
      "Data columns (total 8 columns):\n",
      " #   Column                     Non-Null Count   Dtype \n",
      "---  ------                     --------------   ----- \n",
      " 0   source_idx                 308807 non-null  object\n",
      " 1   contract_name              308807 non-null  object\n",
      " 2   func_name                  279233 non-null  object\n",
      " 3   masked_contract            308807 non-null  object\n",
      " 4   func_body                  308807 non-null  object\n",
      " 5   func_body_removed_comment  308807 non-null  object\n",
      " 6   body_len                   308807 non-null  int64 \n",
      " 7   repeate_cnt                308807 non-null  int64 \n",
      "dtypes: int64(2), object(6)\n",
      "memory usage: 18.8+ MB\n"
     ]
    }
   ],
   "source": [
    "only_mask_func_body.info()"
   ]
  },
  {
   "cell_type": "code",
   "execution_count": 86,
   "metadata": {},
   "outputs": [
    {
     "data": {
      "text/plain": [
       "count    308807.000000\n",
       "mean          4.053933\n",
       "std          92.717895\n",
       "min           1.000000\n",
       "25%           1.000000\n",
       "50%           1.000000\n",
       "75%           1.000000\n",
       "max       16687.000000\n",
       "Name: repeate_cnt, dtype: float64"
      ]
     },
     "execution_count": 86,
     "metadata": {},
     "output_type": "execute_result"
    }
   ],
   "source": [
    "only_mask_func_body[\"repeate_cnt\"].describe()"
   ]
  },
  {
   "cell_type": "code",
   "execution_count": 87,
   "metadata": {},
   "outputs": [
    {
     "data": {
      "text/plain": [
       "72876"
      ]
     },
     "execution_count": 87,
     "metadata": {},
     "output_type": "execute_result"
    }
   ],
   "source": [
    "len(only_mask_func_body[only_mask_func_body[\"repeate_cnt\"] > 1])"
   ]
  },
  {
   "cell_type": "code",
   "execution_count": 93,
   "metadata": {},
   "outputs": [],
   "source": [
    "def repeat_stats(df):\n",
    "    barr = [1, 5, 10, 20, 50, 100, 200, 500, 1000, 2000, 4000, 8000, 17000]\n",
    "    dist = []\n",
    "    for i in range(len(barr) - 1):\n",
    "        dist.append(len(df[(df[\"repeate_cnt\"]>barr[i]) & (df[\"repeate_cnt\"]<=barr[i+1])]))\n",
    "    return dist"
   ]
  },
  {
   "cell_type": "code",
   "execution_count": 94,
   "metadata": {},
   "outputs": [
    {
     "data": {
      "text/plain": [
       "[58292, 6970, 3493, 2137, 924, 501, 345, 104, 55, 27, 19, 9]"
      ]
     },
     "execution_count": 94,
     "metadata": {},
     "output_type": "execute_result"
    }
   ],
   "source": [
    "repeat_stats(only_mask_func_body)"
   ]
  },
  {
   "cell_type": "code",
   "execution_count": 97,
   "metadata": {},
   "outputs": [],
   "source": [
    "import matplotlib.pyplot as plt\n",
    "import seaborn as sns\n",
    "function_overview = [\n",
    "    {\"range\":\"2-5\",\"count\": 58292},\n",
    "    {\"range\":\"6-10\",\"count\": 6970},\n",
    "    {\"range\":\"11-20\",\"count\": 3493},\n",
    "    {\"range\":\"21-50\",\"count\": 2137},\n",
    "    {\"range\":\"51-100\",\"count\": 924},\n",
    "    {\"range\":\"101-200\",\"count\": 501},\n",
    "    {\"range\":\"201-500\",\"count\": 345},\n",
    "    {\"range\":\"501-1000\",\"count\": 104},\n",
    "    {\"range\":\"1001-2000\",\"count\": 55},\n",
    "    {\"range\":\"2001-4000\",\"count\": 27},\n",
    "    {\"range\":\"4001-8000\", \"count\": 19},\n",
    "    {\"range\":\"8001-17000\", \"count\": 9}\n",
    "]"
   ]
  },
  {
   "cell_type": "code",
   "execution_count": 101,
   "metadata": {},
   "outputs": [
    {
     "data": {
      "image/png": "[encoded data removed]",
      "text/plain": [
       "<Figure size 1200x800 with 1 Axes>"
      ]
     },
     "metadata": {},
     "output_type": "display_data"
    }
   ],
   "source": [
    "function_overview = pd.DataFrame(function_overview)\n",
    "\n",
    "plt.figure(figsize=(12,8))\n",
    "plt.ylabel(\"# Function\")\n",
    "plt.xlabel(\"# Repeated times\")\n",
    "ax = sns.barplot(function_overview, x=\"range\", y=\"count\")\n",
    "for i in ax.containers:\n",
    "    ax.bar_label(i,)"
   ]
  },
  {
   "cell_type": "code",
   "execution_count": null,
   "metadata": {},
   "outputs": [],
   "source": []
  }
 ],
 "metadata": {
  "kernelspec": {
   "display_name": "Python 3",
   "language": "python",
   "name": "python3"
  },
  "language_info": {
   "codemirror_mode": {
    "name": "ipython",
    "version": 3
   },
   "file_extension": ".py",
   "mimetype": "text/x-python",
   "name": "python",
   "nbconvert_exporter": "python",
   "pygments_lexer": "ipython3",
   "version": "3.11.5"
  }
 },
 "nbformat": 4,
 "nbformat_minor": 2
}
