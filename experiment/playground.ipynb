{
 "cells": [
  {
   "cell_type": "code",
   "execution_count": 8,
   "metadata": {},
   "outputs": [],
   "source": [
    "import pandas as pd"
   ]
  },
  {
   "cell_type": "code",
   "execution_count": 10,
   "metadata": {},
   "outputs": [
    {
     "name": "stdout",
     "output_type": "stream",
     "text": [
      "<class 'pandas.core.frame.DataFrame'>\n",
      "RangeIndex: 5644 entries, 0 to 5643\n",
      "Data columns (total 4 columns):\n",
      " #   Column         Non-Null Count  Dtype \n",
      "---  ------         --------------  ----- \n",
      " 0   contract_name  5644 non-null   object\n",
      " 1   func_name      4447 non-null   object\n",
      " 2   source_code    5644 non-null   object\n",
      " 3   source_idx     5644 non-null   int64 \n",
      "dtypes: int64(1), object(3)\n",
      "memory usage: 176.5+ KB\n"
     ]
    },
    {
     "ename": "",
     "evalue": "",
     "output_type": "error",
     "traceback": [
      "\u001b[1;31mThe Kernel crashed while executing code in the the current cell or a previous cell. Please review the code in the cell(s) to identify a possible cause of the failure. Click <a href='https://aka.ms/vscodeJupyterKernelCrash'>here</a> for more info. View Jupyter <a href='command:jupyter.viewOutput'>log</a> for further details."
     ]
    }
   ],
   "source": [
    "original = pd.read_parquet(\"/home/hieuvd/lvdthieu/CodeGen/data/compilable/codellama.parquet\", engine=\"fastparquet\")\n",
    "original.info()"
   ]
  },
  {
   "cell_type": "code",
   "execution_count": 5,
   "metadata": {},
   "outputs": [
    {
     "name": "stdout",
     "output_type": "stream",
     "text": [
      "<class 'pandas.core.frame.DataFrame'>\n",
      "Index: 204 entries, 2 to 386\n",
      "Data columns (total 5 columns):\n",
      " #   Column         Non-Null Count  Dtype \n",
      "---  ------         --------------  ----- \n",
      " 0   contract_name  204 non-null    object\n",
      " 1   func_name      147 non-null    object\n",
      " 2   source_code    204 non-null    object\n",
      " 3   source_idx     204 non-null    int64 \n",
      " 4   error          204 non-null    object\n",
      "dtypes: int64(1), object(4)\n",
      "memory usage: 9.6+ KB\n"
     ]
    }
   ],
   "source": [
    "import pandas as pd\n",
    "error = pd.read_parquet(\"/home/hieuvd/lvdthieu/CodeGen/compilation/error/error1.parquet\", engine=\"fastparquet\")\n",
    "error.info()"
   ]
  },
  {
   "cell_type": "code",
   "execution_count": 23,
   "metadata": {},
   "outputs": [],
   "source": [
    "with open(\"check.txt\", \"w\") as f:\n",
    "    for idx in error.index:\n",
    "        f.write(f\"{idx}\\n{error.loc[idx, 'error']}\\n------------------------------------------------------------\\n\")\n",
    "        "
   ]
  },
  {
   "cell_type": "code",
   "execution_count": 26,
   "metadata": {},
   "outputs": [],
   "source": [
    "with open(\"check.sol\", \"w\") as f:\n",
    "    for idx in error.index:\n",
    "        f.write(f\"{idx}\\n{error.loc[idx, 'source_code']}\\n------------------------------------------------------------\\n\")"
   ]
  },
  {
   "cell_type": "code",
   "execution_count": 30,
   "metadata": {},
   "outputs": [
    {
     "data": {
      "text/plain": [
       "source_idx                  14\n",
       "contract_name      ExchangerV4\n",
       "func_name        withdrawEther\n",
       "Name: 14, dtype: object"
      ]
     },
     "execution_count": 30,
     "metadata": {},
     "output_type": "execute_result"
    }
   ],
   "source": [
    "error.loc[14, [\"source_idx\", \"contract_name\", \"func_name\"]]\n"
   ]
  },
  {
   "cell_type": "code",
   "execution_count": 9,
   "metadata": {},
   "outputs": [
    {
     "name": "stdout",
     "output_type": "stream",
     "text": [
      "<class 'pandas.core.frame.DataFrame'>\n",
      "RangeIndex: 11601 entries, 0 to 11600\n",
      "Data columns (total 6 columns):\n",
      " #   Column                   Non-Null Count  Dtype \n",
      "---  ------                   --------------  ----- \n",
      " 0   contract_name            11601 non-null  object\n",
      " 1   func_name                8858 non-null   object\n",
      " 2   original_source_code     11601 non-null  object\n",
      " 3   filled_source_body       11601 non-null  object\n",
      " 4   filled_source_deepseek   11601 non-null  object\n",
      " 5   filled_source_codellama  11601 non-null  object\n",
      "dtypes: object(6)\n",
      "memory usage: 543.9+ KB\n"
     ]
    }
   ],
   "source": [
    "test_suite = pd.read_parquet(\"/home/hieuvd/lvdthieu/CodeGen/data/test_suite.parquet\", engine=\"fastparquet\")\n",
    "test_suite.info()"
   ]
  },
  {
   "cell_type": "code",
   "execution_count": 29,
   "metadata": {},
   "outputs": [],
   "source": [
    "with open(\"ground_truth.sol\", \"w\") as f:\n",
    "    f.write(test_suite.loc[14, \"original_source_code\"])"
   ]
  },
  {
   "cell_type": "code",
   "execution_count": 13,
   "metadata": {},
   "outputs": [
    {
     "name": "stdout",
     "output_type": "stream",
     "text": [
      "<class 'pandas.core.frame.DataFrame'>\n",
      "RangeIndex: 11601 entries, 0 to 11600\n",
      "Data columns (total 3 columns):\n",
      " #   Column         Non-Null Count  Dtype \n",
      "---  ------         --------------  ----- \n",
      " 0   contract_name  11601 non-null  object\n",
      " 1   func_name      8858 non-null   object\n",
      " 2   source_code    11601 non-null  object\n",
      "dtypes: object(3)\n",
      "memory usage: 272.0+ KB\n"
     ]
    }
   ],
   "source": [
    "deepseek = pd.read_parquet(\"/home/hieuvd/lvdthieu/CodeGen/data/test/deepseek.parquet\", engine=\"fastparquet\")\n",
    "deepseek.info()"
   ]
  },
  {
   "cell_type": "code",
   "execution_count": 16,
   "metadata": {},
   "outputs": [],
   "source": [
    "with open(\"gt.sol\", \"w\") as f:\n",
    "    f.write(deepseek.loc[6, \"source_code\"])"
   ]
  },
  {
   "cell_type": "code",
   "execution_count": 7,
   "metadata": {},
   "outputs": [
    {
     "name": "stdout",
     "output_type": "stream",
     "text": [
      "<class 'pandas.core.frame.DataFrame'>\n",
      "RangeIndex: 100 entries, 0 to 99\n",
      "Data columns (total 6 columns):\n",
      " #   Column                     Non-Null Count  Dtype \n",
      "---  ------                     --------------  ----- \n",
      " 0   contract_name              100 non-null    object\n",
      " 1   func_name                  89 non-null     object\n",
      " 2   func_body                  100 non-null    object\n",
      " 3   func_body_removed_comment  100 non-null    object\n",
      " 4   source_code                100 non-null    object\n",
      " 5   compile_info               100 non-null    object\n",
      "dtypes: object(6)\n",
      "memory usage: 4.8+ KB\n"
     ]
    }
   ],
   "source": [
    "import pandas as pd\n",
    "\n",
    "test_suite = pd.read_parquet(\"/home/hieuvd/lvdthieu/CodeGen/compilation/error/error1.parquet\", engine=\"fastparquet\")\n",
    "test_suite.info()"
   ]
  },
  {
   "cell_type": "code",
   "execution_count": 10,
   "metadata": {},
   "outputs": [
    {
     "data": {
      "text/plain": [
       "0     <COMPILED_SUCCESSFULLY>\n",
       "1     <COMPILED_SUCCESSFULLY>\n",
       "2     <COMPILED_SUCCESSFULLY>\n",
       "3     <COMPILED_SUCCESSFULLY>\n",
       "4     <COMPILED_SUCCESSFULLY>\n",
       "               ...           \n",
       "95    <COMPILED_SUCCESSFULLY>\n",
       "96    <COMPILED_SUCCESSFULLY>\n",
       "97    <COMPILED_SUCCESSFULLY>\n",
       "98    <COMPILED_SUCCESSFULLY>\n",
       "99    <COMPILED_SUCCESSFULLY>\n",
       "Name: compile_info, Length: 100, dtype: object"
      ]
     },
     "execution_count": 10,
     "metadata": {},
     "output_type": "execute_result"
    }
   ],
   "source": [
    "test_suite[\"compile_info\"]"
   ]
  },
  {
   "cell_type": "code",
   "execution_count": null,
   "metadata": {},
   "outputs": [],
   "source": []
  }
 ],
 "metadata": {
  "kernelspec": {
   "display_name": "Python 3",
   "language": "python",
   "name": "python3"
  },
  "language_info": {
   "codemirror_mode": {
    "name": "ipython",
    "version": 3
   },
   "file_extension": ".py",
   "mimetype": "text/x-python",
   "name": "python",
   "nbconvert_exporter": "python",
   "pygments_lexer": "ipython3",
   "version": "3.11.5"
  }
 },
 "nbformat": 4,
 "nbformat_minor": 2
}
