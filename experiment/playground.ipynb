{
 "cells": [
  {
   "attachments": {},
   "cell_type": "markdown",
   "metadata": {},
   "source": [
    "# Data manipulation"
   ]
  },
  {
   "cell_type": "code",
   "execution_count": 1,
   "metadata": {},
   "outputs": [
    {
     "name": "stdout",
     "output_type": "stream",
     "text": [
      "<class 'pandas.core.frame.DataFrame'>\n",
      "RangeIndex: 94288 entries, 0 to 94287\n",
      "Data columns (total 3 columns):\n",
      " #   Column        Non-Null Count  Dtype \n",
      "---  ------        --------------  ----- \n",
      " 0   source_code   94288 non-null  object\n",
      " 1   source_idx    94288 non-null  int64 \n",
      " 2   compile_info  94288 non-null  object\n",
      "dtypes: int64(1), object(2)\n",
      "memory usage: 2.2+ MB\n"
     ]
    }
   ],
   "source": [
    "import pandas as pd\n",
    "all_file = pd.read_parquet(\"/home/hieuvd/lvdthieu/CodeGen/data/compile_info/all_file/all_file.parquet\", \"fastparquet\")\n",
    "all_file.info()"
   ]
  },
  {
   "cell_type": "code",
   "execution_count": 2,
   "metadata": {},
   "outputs": [
    {
     "data": {
      "text/plain": [
       "count                       94288\n",
       "unique                          1\n",
       "top       <COMPILED_SUCCESSFULLY>\n",
       "freq                        94288\n",
       "Name: compile_info, dtype: object"
      ]
     },
     "execution_count": 2,
     "metadata": {},
     "output_type": "execute_result"
    }
   ],
   "source": [
    "all_file[\"compile_info\"].describe()"
   ]
  },
  {
   "cell_type": "code",
   "execution_count": 3,
   "metadata": {},
   "outputs": [
    {
     "name": "stdout",
     "output_type": "stream",
     "text": [
      "<class 'pandas.core.frame.DataFrame'>\n",
      "RangeIndex: 118663 entries, 0 to 118662\n",
      "Data columns (total 4 columns):\n",
      " #   Column           Non-Null Count   Dtype \n",
      "---  ------           --------------   ----- \n",
      " 0   source_idx       118663 non-null  object\n",
      " 1   contract_name    118663 non-null  object\n",
      " 2   contract_source  118663 non-null  object\n",
      " 3   count            118663 non-null  int64 \n",
      "dtypes: int64(1), object(3)\n",
      "memory usage: 3.6+ MB\n"
     ]
    }
   ],
   "source": [
    "contracts = pd.read_parquet(\"/home/hieuvd/lvdthieu/CodeGen/data/contracts/contracts_filtered.parquet\", engine=\"fastparquet\")\n",
    "contracts.info()"
   ]
  },
  {
   "cell_type": "code",
   "execution_count": 4,
   "metadata": {},
   "outputs": [
    {
     "name": "stdout",
     "output_type": "stream",
     "text": [
      "<class 'pandas.core.frame.DataFrame'>\n",
      "RangeIndex: 118663 entries, 0 to 118662\n",
      "Data columns (total 5 columns):\n",
      " #   Column           Non-Null Count   Dtype \n",
      "---  ------           --------------   ----- \n",
      " 0   source_idx       118663 non-null  object\n",
      " 1   contract_name    118663 non-null  object\n",
      " 2   contract_source  118663 non-null  object\n",
      " 3   contract_ast     118663 non-null  object\n",
      " 4   count            118663 non-null  object\n",
      "dtypes: object(5)\n",
      "memory usage: 4.5+ MB\n"
     ]
    }
   ],
   "source": [
    "contracts_v2 = pd.read_parquet(\"/home/hieuvd/lvdthieu/CodeGen/data/contracts/contracts_v2.parquet\",  engine=\"fastparquet\")\n",
    "contracts_v2.info()"
   ]
  },
  {
   "cell_type": "code",
   "execution_count": 5,
   "metadata": {},
   "outputs": [
    {
     "data": {
      "text/html": [
       "<div>\n",
       "<style scoped>\n",
       "    .dataframe tbody tr th:only-of-type {\n",
       "        vertical-align: middle;\n",
       "    }\n",
       "\n",
       "    .dataframe tbody tr th {\n",
       "        vertical-align: top;\n",
       "    }\n",
       "\n",
       "    .dataframe thead th {\n",
       "        text-align: right;\n",
       "    }\n",
       "</style>\n",
       "<table border=\"1\" class=\"dataframe\">\n",
       "  <thead>\n",
       "    <tr style=\"text-align: right;\">\n",
       "      <th></th>\n",
       "      <th>source_idx</th>\n",
       "      <th>contract_name</th>\n",
       "      <th>contract_source</th>\n",
       "      <th>contract_ast</th>\n",
       "      <th>count</th>\n",
       "    </tr>\n",
       "  </thead>\n",
       "  <tbody>\n",
       "  </tbody>\n",
       "</table>\n",
       "</div>"
      ],
      "text/plain": [
       "Empty DataFrame\n",
       "Columns: [source_idx, contract_name, contract_source, contract_ast, count]\n",
       "Index: []"
      ]
     },
     "execution_count": 5,
     "metadata": {},
     "output_type": "execute_result"
    }
   ],
   "source": [
    "contracts_v2[contracts_v2[\"contract_ast\"] == \"<PARSER_ERROR>\"]"
   ]
  },
  {
   "cell_type": "code",
   "execution_count": 7,
   "metadata": {},
   "outputs": [],
   "source": [
    "import string\n",
    "def normalized(s: str) -> str:\n",
    "    s = s.replace(string.whitespace, \" \")\n",
    "    s = \" \".join(s.split())\n",
    "    return s"
   ]
  },
  {
   "cell_type": "code",
   "execution_count": 8,
   "metadata": {},
   "outputs": [
    {
     "name": "stdout",
     "output_type": "stream",
     "text": [
      "<class 'pandas.core.frame.DataFrame'>\n",
      "RangeIndex: 94288 entries, 0 to 94287\n",
      "Data columns (total 2 columns):\n",
      " #   Column       Non-Null Count  Dtype \n",
      "---  ------       --------------  ----- \n",
      " 0   source_code  94288 non-null  object\n",
      " 1   ast          94288 non-null  object\n",
      "dtypes: object(2)\n",
      "memory usage: 1.4+ MB\n"
     ]
    }
   ],
   "source": [
    "all_file_v2 = pd.read_parquet(\"/home/hieuvd/lvdthieu/CodeGen/data/solfile/all_file_v2.parquet\", \"fastparquet\")\n",
    "all_file_v2.info()"
   ]
  },
  {
   "cell_type": "code",
   "execution_count": 9,
   "metadata": {},
   "outputs": [],
   "source": [
    "base = pd.read_parquet(\"/home/hieuvd/lvdthieu/CodeGen/data/compile_info/base/deepseek_compile_error.parquet\", engine=\"fastparquet\")"
   ]
  },
  {
   "cell_type": "code",
   "execution_count": 5,
   "metadata": {},
   "outputs": [
    {
     "data": {
      "text/html": [
       "<div>\n",
       "<style scoped>\n",
       "    .dataframe tbody tr th:only-of-type {\n",
       "        vertical-align: middle;\n",
       "    }\n",
       "\n",
       "    .dataframe tbody tr th {\n",
       "        vertical-align: top;\n",
       "    }\n",
       "\n",
       "    .dataframe thead th {\n",
       "        text-align: right;\n",
       "    }\n",
       "</style>\n",
       "<table border=\"1\" class=\"dataframe\">\n",
       "  <thead>\n",
       "    <tr style=\"text-align: right;\">\n",
       "      <th></th>\n",
       "      <th>contract_name</th>\n",
       "      <th>func_name</th>\n",
       "      <th>masked_contract</th>\n",
       "      <th>func_body</th>\n",
       "      <th>func_body_removed_comment</th>\n",
       "      <th>deepseek_output</th>\n",
       "      <th>file_source_idx</th>\n",
       "      <th>source_code</th>\n",
       "      <th>source_idx</th>\n",
       "      <th>compile_info</th>\n",
       "    </tr>\n",
       "  </thead>\n",
       "  <tbody>\n",
       "    <tr>\n",
       "      <th>0</th>\n",
       "      <td>BitcoinAlliance</td>\n",
       "      <td>transferFrom</td>\n",
       "      <td>contract BitcoinAlliance is ERC20Detailed {\\n\\...</td>\n",
       "      <td>\\r\\n    require(value &lt;= _balances[from]);\\r\\n...</td>\n",
       "      <td>\\n    require(value &lt;= _balances[from]);\\n    ...</td>\n",
       "      <td>\\n    require(value &lt;= _balances[from]);\\n    ...</td>\n",
       "      <td>9311</td>\n",
       "      <td>/**\\n * Bitcoin Alliance\\n * There will be 3 l...</td>\n",
       "      <td>0</td>\n",
       "      <td>contracts/sample.sol:159:1: ParserError: Expec...</td>\n",
       "    </tr>\n",
       "    <tr>\n",
       "      <th>1</th>\n",
       "      <td>BasicToken</td>\n",
       "      <td>transfer</td>\n",
       "      <td>contract BasicToken is ERC20Basic {using SafeM...</td>\n",
       "      <td>require(_to != address(0));require(_value &lt;= b...</td>\n",
       "      <td>require(_to != address(0));require(_value &lt;= b...</td>\n",
       "      <td>require(_to != address(0));require(_value &lt;= b...</td>\n",
       "      <td>56112</td>\n",
       "      <td>pragma solidity ^0.4.23;contract Ownable {addr...</td>\n",
       "      <td>1</td>\n",
       "      <td>&lt;COMPILED_SUCCESSFULLY&gt;</td>\n",
       "    </tr>\n",
       "    <tr>\n",
       "      <th>2</th>\n",
       "      <td>TokenBEP20</td>\n",
       "      <td>None</td>\n",
       "      <td>contract TokenBEP20 is BEP20Interface, Owned{\\...</td>\n",
       "      <td>\\r\\n    symbol = \"NYINU\";\\r\\n    name = \"NYAN ...</td>\n",
       "      <td>\\n    symbol = \"NYINU\";\\n    name = \"NYAN INU\"...</td>\n",
       "      <td>\\n    symbol = \"TKN\";\\n    name = \"Token\";\\n  ...</td>\n",
       "      <td>53891</td>\n",
       "      <td>/**\\n\\nNyan Inu ($NYINU) is a community-focuse...</td>\n",
       "      <td>2</td>\n",
       "      <td>contracts/sample.sol:94:1: ParserError: Expect...</td>\n",
       "    </tr>\n",
       "    <tr>\n",
       "      <th>3</th>\n",
       "      <td>BZxProxy</td>\n",
       "      <td>setOracleRegistry</td>\n",
       "      <td>contract BZxProxy is BZxStorage, Proxiable {\\n...</td>\n",
       "      <td>\\r\\n        if (_registry != address(0))\\r\\n  ...</td>\n",
       "      <td>\\n        if (_registry != address(0))\\n      ...</td>\n",
       "      <td>\\n        if (_registry != address(0))\\n      ...</td>\n",
       "      <td>21459</td>\n",
       "      <td>/*\\n\\n  Copyright 2018 bZeroX, LLC\\n\\n  Licens...</td>\n",
       "      <td>3</td>\n",
       "      <td>&lt;COMPILED_SUCCESSFULLY&gt;</td>\n",
       "    </tr>\n",
       "    <tr>\n",
       "      <th>4</th>\n",
       "      <td>KingdomStorage</td>\n",
       "      <td>startWar</td>\n",
       "      <td>contract KingdomStorage is ERC20 {\\n    using ...</td>\n",
       "      <td>\\r\\n\\t\\tuint invaderWarriorsNumber = getWarrio...</td>\n",
       "      <td>\\n\\t\\tuint invaderWarriorsNumber = getWarriors...</td>\n",
       "      <td>\\n\\t\\temit War(_attacked, _invader, 0, 0);\\n\\t</td>\n",
       "      <td>48631</td>\n",
       "      <td>/**\\n * https://GreenRabbit.site\\n *\\n * Welco...</td>\n",
       "      <td>4</td>\n",
       "      <td>&lt;COMPILED_SUCCESSFULLY&gt;</td>\n",
       "    </tr>\n",
       "  </tbody>\n",
       "</table>\n",
       "</div>"
      ],
      "text/plain": [
       "     contract_name          func_name  \\\n",
       "0  BitcoinAlliance       transferFrom   \n",
       "1       BasicToken           transfer   \n",
       "2       TokenBEP20               None   \n",
       "3         BZxProxy  setOracleRegistry   \n",
       "4   KingdomStorage           startWar   \n",
       "\n",
       "                                     masked_contract  \\\n",
       "0  contract BitcoinAlliance is ERC20Detailed {\\n\\...   \n",
       "1  contract BasicToken is ERC20Basic {using SafeM...   \n",
       "2  contract TokenBEP20 is BEP20Interface, Owned{\\...   \n",
       "3  contract BZxProxy is BZxStorage, Proxiable {\\n...   \n",
       "4  contract KingdomStorage is ERC20 {\\n    using ...   \n",
       "\n",
       "                                           func_body  \\\n",
       "0  \\r\\n    require(value <= _balances[from]);\\r\\n...   \n",
       "1  require(_to != address(0));require(_value <= b...   \n",
       "2  \\r\\n    symbol = \"NYINU\";\\r\\n    name = \"NYAN ...   \n",
       "3  \\r\\n        if (_registry != address(0))\\r\\n  ...   \n",
       "4  \\r\\n\\t\\tuint invaderWarriorsNumber = getWarrio...   \n",
       "\n",
       "                           func_body_removed_comment  \\\n",
       "0  \\n    require(value <= _balances[from]);\\n    ...   \n",
       "1  require(_to != address(0));require(_value <= b...   \n",
       "2  \\n    symbol = \"NYINU\";\\n    name = \"NYAN INU\"...   \n",
       "3  \\n        if (_registry != address(0))\\n      ...   \n",
       "4  \\n\\t\\tuint invaderWarriorsNumber = getWarriors...   \n",
       "\n",
       "                                     deepseek_output  file_source_idx  \\\n",
       "0  \\n    require(value <= _balances[from]);\\n    ...             9311   \n",
       "1  require(_to != address(0));require(_value <= b...            56112   \n",
       "2  \\n    symbol = \"TKN\";\\n    name = \"Token\";\\n  ...            53891   \n",
       "3  \\n        if (_registry != address(0))\\n      ...            21459   \n",
       "4     \\n\\t\\temit War(_attacked, _invader, 0, 0);\\n\\t            48631   \n",
       "\n",
       "                                         source_code  source_idx  \\\n",
       "0  /**\\n * Bitcoin Alliance\\n * There will be 3 l...           0   \n",
       "1  pragma solidity ^0.4.23;contract Ownable {addr...           1   \n",
       "2  /**\\n\\nNyan Inu ($NYINU) is a community-focuse...           2   \n",
       "3  /*\\n\\n  Copyright 2018 bZeroX, LLC\\n\\n  Licens...           3   \n",
       "4  /**\\n * https://GreenRabbit.site\\n *\\n * Welco...           4   \n",
       "\n",
       "                                        compile_info  \n",
       "0  contracts/sample.sol:159:1: ParserError: Expec...  \n",
       "1                            <COMPILED_SUCCESSFULLY>  \n",
       "2  contracts/sample.sol:94:1: ParserError: Expect...  \n",
       "3                            <COMPILED_SUCCESSFULLY>  \n",
       "4                            <COMPILED_SUCCESSFULLY>  "
      ]
     },
     "execution_count": 5,
     "metadata": {},
     "output_type": "execute_result"
    }
   ],
   "source": [
    "base.head()"
   ]
  },
  {
   "cell_type": "code",
   "execution_count": 10,
   "metadata": {},
   "outputs": [
    {
     "data": {
      "text/plain": [
       "3283"
      ]
     },
     "execution_count": 10,
     "metadata": {},
     "output_type": "execute_result"
    }
   ],
   "source": [
    "len(base[base[\"compile_info\"] == \"<COMPILED_SUCCESSFULLY>\"])"
   ]
  },
  {
   "attachments": {},
   "cell_type": "markdown",
   "metadata": {},
   "source": [
    "## Check contract filter"
   ]
  },
  {
   "cell_type": "code",
   "execution_count": 11,
   "metadata": {},
   "outputs": [
    {
     "name": "stdout",
     "output_type": "stream",
     "text": [
      "<class 'pandas.core.frame.DataFrame'>\n",
      "RangeIndex: 118663 entries, 0 to 118662\n",
      "Data columns (total 4 columns):\n",
      " #   Column           Non-Null Count   Dtype \n",
      "---  ------           --------------   ----- \n",
      " 0   source_idx       118663 non-null  object\n",
      " 1   contract_name    118663 non-null  object\n",
      " 2   contract_source  118663 non-null  object\n",
      " 3   count            118663 non-null  int64 \n",
      "dtypes: int64(1), object(3)\n",
      "memory usage: 3.6+ MB\n"
     ]
    }
   ],
   "source": [
    "contract = pd.read_parquet(\"/home/hieuvd/lvdthieu/CodeGen/data/contracts/contracts_filtered.parquet\", \"fastparquet\")\n",
    "contract.info()"
   ]
  },
  {
   "cell_type": "code",
   "execution_count": 12,
   "metadata": {},
   "outputs": [
    {
     "data": {
      "text/html": [
       "<div>\n",
       "<style scoped>\n",
       "    .dataframe tbody tr th:only-of-type {\n",
       "        vertical-align: middle;\n",
       "    }\n",
       "\n",
       "    .dataframe tbody tr th {\n",
       "        vertical-align: top;\n",
       "    }\n",
       "\n",
       "    .dataframe thead th {\n",
       "        text-align: right;\n",
       "    }\n",
       "</style>\n",
       "<table border=\"1\" class=\"dataframe\">\n",
       "  <thead>\n",
       "    <tr style=\"text-align: right;\">\n",
       "      <th></th>\n",
       "      <th>source_idx</th>\n",
       "      <th>contract_name</th>\n",
       "      <th>contract_source</th>\n",
       "      <th>count</th>\n",
       "    </tr>\n",
       "  </thead>\n",
       "  <tbody>\n",
       "    <tr>\n",
       "      <th>0</th>\n",
       "      <td>3511</td>\n",
       "      <td>Ownable</td>\n",
       "      <td>contract\\tOwnable\\t\\t{\\t\\t\\t\\t\\t\\t\\r\\n\\taddres...</td>\n",
       "      <td>54</td>\n",
       "    </tr>\n",
       "    <tr>\n",
       "      <th>1</th>\n",
       "      <td>71542</td>\n",
       "      <td>SCT</td>\n",
       "      <td>contract SCT is SafeMath{\\r\\n    string public...</td>\n",
       "      <td>1</td>\n",
       "    </tr>\n",
       "    <tr>\n",
       "      <th>2</th>\n",
       "      <td>64689</td>\n",
       "      <td>ERC20Mintable</td>\n",
       "      <td>contract ERC20Mintable is BaseToken, MinterRol...</td>\n",
       "      <td>4</td>\n",
       "    </tr>\n",
       "    <tr>\n",
       "      <th>3</th>\n",
       "      <td>4397</td>\n",
       "      <td>Context</td>\n",
       "      <td>contract Context {\\n    constructor () interna...</td>\n",
       "      <td>7</td>\n",
       "    </tr>\n",
       "    <tr>\n",
       "      <th>4</th>\n",
       "      <td>540</td>\n",
       "      <td>ERC20Interface</td>\n",
       "      <td>contract ERC20Interface {\\r\\n    function tota...</td>\n",
       "      <td>3809</td>\n",
       "    </tr>\n",
       "  </tbody>\n",
       "</table>\n",
       "</div>"
      ],
      "text/plain": [
       "  source_idx   contract_name  \\\n",
       "0       3511         Ownable   \n",
       "1      71542             SCT   \n",
       "2      64689   ERC20Mintable   \n",
       "3       4397         Context   \n",
       "4        540  ERC20Interface   \n",
       "\n",
       "                                     contract_source  count  \n",
       "0  contract\\tOwnable\\t\\t{\\t\\t\\t\\t\\t\\t\\r\\n\\taddres...     54  \n",
       "1  contract SCT is SafeMath{\\r\\n    string public...      1  \n",
       "2  contract ERC20Mintable is BaseToken, MinterRol...      4  \n",
       "3  contract Context {\\n    constructor () interna...      7  \n",
       "4  contract ERC20Interface {\\r\\n    function tota...   3809  "
      ]
     },
     "execution_count": 12,
     "metadata": {},
     "output_type": "execute_result"
    }
   ],
   "source": [
    "contract.head()"
   ]
  },
  {
   "cell_type": "code",
   "execution_count": 13,
   "metadata": {},
   "outputs": [
    {
     "data": {
      "text/plain": [
       "94287"
      ]
     },
     "execution_count": 13,
     "metadata": {},
     "output_type": "execute_result"
    }
   ],
   "source": [
    "contract[\"source_idx\"] = contract[\"source_idx\"].astype('int64')\n",
    "contract['source_idx'].max()"
   ]
  },
  {
   "attachments": {},
   "cell_type": "markdown",
   "metadata": {},
   "source": [
    "## Check all file version 2"
   ]
  },
  {
   "cell_type": "code",
   "execution_count": 13,
   "metadata": {},
   "outputs": [
    {
     "name": "stdout",
     "output_type": "stream",
     "text": [
      "<class 'pandas.core.frame.DataFrame'>\n",
      "RangeIndex: 94288 entries, 0 to 94287\n",
      "Data columns (total 2 columns):\n",
      " #   Column       Non-Null Count  Dtype \n",
      "---  ------       --------------  ----- \n",
      " 0   source_code  94288 non-null  object\n",
      " 1   ast          94288 non-null  object\n",
      "dtypes: object(2)\n",
      "memory usage: 1.4+ MB\n"
     ]
    }
   ],
   "source": [
    "all_file_v2 = pd.read_parquet(\"/home/hieuvd/lvdthieu/CodeGen/data/solfile/all_file_v2.parquet\", \"fastparquet\")\n",
    "all_file_v2.info()"
   ]
  },
  {
   "cell_type": "code",
   "execution_count": 14,
   "metadata": {},
   "outputs": [
    {
     "name": "stdout",
     "output_type": "stream",
     "text": [
      "<class 'pandas.core.frame.DataFrame'>\n",
      "RangeIndex: 5137 entries, 0 to 5136\n",
      "Data columns (total 10 columns):\n",
      " #   Column                     Non-Null Count  Dtype \n",
      "---  ------                     --------------  ----- \n",
      " 0   contract_name              5137 non-null   object\n",
      " 1   func_name                  4083 non-null   object\n",
      " 2   masked_contract            5137 non-null   object\n",
      " 3   func_body                  5137 non-null   object\n",
      " 4   func_body_removed_comment  5137 non-null   object\n",
      " 5   deepseek_output            5137 non-null   object\n",
      " 6   file_source_idx            5137 non-null   int64 \n",
      " 7   source_code                5137 non-null   object\n",
      " 8   source_idx                 5137 non-null   int64 \n",
      " 9   compile_info               5137 non-null   object\n",
      "dtypes: int64(2), object(8)\n",
      "memory usage: 401.5+ KB\n"
     ]
    }
   ],
   "source": [
    "finetune = pd.read_parquet(\"/home/hieuvd/lvdthieu/CodeGen/data/compile_info/finetune/deepseek_compile_error.parquet\", \"fastparquet\")\n",
    "finetune.info()"
   ]
  },
  {
   "cell_type": "code",
   "execution_count": 15,
   "metadata": {},
   "outputs": [
    {
     "name": "stdout",
     "output_type": "stream",
     "text": [
      "<class 'pandas.core.frame.DataFrame'>\n",
      "RangeIndex: 5137 entries, 0 to 5136\n",
      "Data columns (total 10 columns):\n",
      " #   Column                     Non-Null Count  Dtype \n",
      "---  ------                     --------------  ----- \n",
      " 0   contract_name              5137 non-null   object\n",
      " 1   func_name                  4083 non-null   object\n",
      " 2   masked_contract            5137 non-null   object\n",
      " 3   func_body                  5137 non-null   object\n",
      " 4   func_body_removed_comment  5137 non-null   object\n",
      " 5   deepseek_output            5137 non-null   object\n",
      " 6   file_source_idx            5137 non-null   int64 \n",
      " 7   source_code                5137 non-null   object\n",
      " 8   compile_info               5137 non-null   object\n",
      " 9   inherit_elements           5137 non-null   object\n",
      "dtypes: int64(1), object(9)\n",
      "memory usage: 401.5+ KB\n"
     ]
    }
   ],
   "source": [
    "test = pd.read_parquet(\"/home/hieuvd/lvdthieu/CodeGen/data/compile_info/finetune/deepseek_compile_error_and_inherit_element.parquet\", \"fastparquet\")\n",
    "test.info()"
   ]
  },
  {
   "cell_type": "code",
   "execution_count": 16,
   "metadata": {},
   "outputs": [
    {
     "data": {
      "text/plain": [
       "0       /**\\n * Bitcoin Alliance\\n * There will be 3 l...\n",
       "1       pragma solidity ^0.4.23;contract Ownable {addr...\n",
       "2       /**\\n\\nNyan Inu ($NYINU) is a community-focuse...\n",
       "3       /*\\n\\n  Copyright 2018 bZeroX, LLC\\n\\n  Licens...\n",
       "4       /**\\n * https://GreenRabbit.site\\n *\\n * Welco...\n",
       "                              ...                        \n",
       "5132    pragma solidity ^0.4.24;\\n\\n// ---------------...\n",
       "5133    /**\\n *Submitted for verification at Etherscan...\n",
       "5134    pragma solidity ^0.4.11;\\n\\n/**\\n * SafeMath L...\n",
       "5135    pragma solidity ^0.4.25;\\n\\ncontract DSNote {\\...\n",
       "5136    // SPDX-License-Identifier: MIT\\n/**\\n/*\\n   _...\n",
       "Name: source_code, Length: 5137, dtype: object"
      ]
     },
     "execution_count": 16,
     "metadata": {},
     "output_type": "execute_result"
    }
   ],
   "source": [
    "test[\"source_code\"]"
   ]
  },
  {
   "cell_type": "code",
   "execution_count": 17,
   "metadata": {},
   "outputs": [
    {
     "name": "stdout",
     "output_type": "stream",
     "text": [
      "<class 'pandas.core.frame.DataFrame'>\n",
      "RangeIndex: 27738 entries, 0 to 27737\n",
      "Data columns (total 10 columns):\n",
      " #   Column                     Non-Null Count  Dtype \n",
      "---  ------                     --------------  ----- \n",
      " 0   contract_name              27738 non-null  object\n",
      " 1   func_name                  21901 non-null  object\n",
      " 2   masked_contract            27738 non-null  object\n",
      " 3   func_body                  27738 non-null  object\n",
      " 4   func_body_removed_comment  27738 non-null  object\n",
      " 5   deepseek_output            27738 non-null  object\n",
      " 6   file_source_idx            27738 non-null  int64 \n",
      " 7   source_code                27738 non-null  object\n",
      " 8   compile_info               27738 non-null  object\n",
      " 9   inherit_elements           27738 non-null  object\n",
      "dtypes: int64(1), object(9)\n",
      "memory usage: 2.1+ MB\n"
     ]
    }
   ],
   "source": [
    "valid = pd.read_parquet(\"/home/hieuvd/lvdthieu/CodeGen/data/compile_info/compile_error_and_inherit_element/valid.parquet\", \"fastparquet\")\n",
    "valid.info()"
   ]
  },
  {
   "cell_type": "code",
   "execution_count": 20,
   "metadata": {},
   "outputs": [
    {
     "data": {
      "text/html": [
       "<div>\n",
       "<style scoped>\n",
       "    .dataframe tbody tr th:only-of-type {\n",
       "        vertical-align: middle;\n",
       "    }\n",
       "\n",
       "    .dataframe tbody tr th {\n",
       "        vertical-align: top;\n",
       "    }\n",
       "\n",
       "    .dataframe thead th {\n",
       "        text-align: right;\n",
       "    }\n",
       "</style>\n",
       "<table border=\"1\" class=\"dataframe\">\n",
       "  <thead>\n",
       "    <tr style=\"text-align: right;\">\n",
       "      <th></th>\n",
       "      <th>contract_name</th>\n",
       "      <th>func_name</th>\n",
       "      <th>masked_contract</th>\n",
       "      <th>func_body</th>\n",
       "      <th>func_body_removed_comment</th>\n",
       "      <th>deepseek_output</th>\n",
       "      <th>file_source_idx</th>\n",
       "      <th>source_code</th>\n",
       "      <th>compile_info</th>\n",
       "      <th>inherit_elements</th>\n",
       "    </tr>\n",
       "  </thead>\n",
       "  <tbody>\n",
       "    <tr>\n",
       "      <th>0</th>\n",
       "      <td>HegicERCPool</td>\n",
       "      <td>send</td>\n",
       "      <td>contract HegicERCPool is IERCLiquidityPool, Ow...</td>\n",
       "      <td>\\r\\n          require(lockedAmount &gt;= amount, ...</td>\n",
       "      <td>\\n          require(lockedAmount &gt;= amount, \"P...</td>\n",
       "      <td>\\n          require(amount &lt;= availableBalance...</td>\n",
       "      <td>83271</td>\n",
       "      <td>pragma solidity ^0.6.6;\\n\\nlibrary Address {\\n...</td>\n",
       "      <td>&lt;COMPILED_SUCCESSFULLY&gt;</td>\n",
       "      <td>['constructor () internal {&lt;BODY&gt;}', 'function...</td>\n",
       "    </tr>\n",
       "    <tr>\n",
       "      <th>1</th>\n",
       "      <td>ERC20</td>\n",
       "      <td>transferFrom</td>\n",
       "      <td>contract ERC20 is ERC20Interface,SafeMath {\\n\\...</td>\n",
       "      <td>\\r\\n      require(_to != address(0));\\r\\n     ...</td>\n",
       "      <td>\\n      require(_to != address(0));\\n      req...</td>\n",
       "      <td>\\n      require(_to != address(0));\\n      req...</td>\n",
       "      <td>63834</td>\n",
       "      <td>pragma solidity ^0.4.25;\\n\\ncontract SafeMath ...</td>\n",
       "      <td>&lt;COMPILED_SUCCESSFULLY&gt;</td>\n",
       "      <td>['string public name;', 'string public symbol;...</td>\n",
       "    </tr>\n",
       "    <tr>\n",
       "      <th>2</th>\n",
       "      <td>UniswapInterfaceMulticall</td>\n",
       "      <td>multicall</td>\n",
       "      <td>contract UniswapInterfaceMulticall {\\n    stru...</td>\n",
       "      <td>\\n        blockNumber = block.number;\\n       ...</td>\n",
       "      <td>\\n        blockNumber = block.number;\\n       ...</td>\n",
       "      <td>\\n        blockNumber = block.number;\\n       ...</td>\n",
       "      <td>48203</td>\n",
       "      <td>// SPDX-License-Identifier: MIT\\npragma solidi...</td>\n",
       "      <td>&lt;COMPILED_SUCCESSFULLY&gt;</td>\n",
       "      <td>[]</td>\n",
       "    </tr>\n",
       "    <tr>\n",
       "      <th>3</th>\n",
       "      <td>WrappedToken</td>\n",
       "      <td>burnFrom</td>\n",
       "      <td>contract WrappedToken is SecureContract, ERC20...</td>\n",
       "      <td>\\r\\n        require(hasRole(_BURNFROM, msg.sen...</td>\n",
       "      <td>\\n        require(hasRole(_BURNFROM, msg.sende...</td>\n",
       "      <td>\\n        require(hasRole(_BURNFROM, msg.sende...</td>\n",
       "      <td>80658</td>\n",
       "      <td>// SPDX-License-Identifier: MIT\\n\\npragma soli...</td>\n",
       "      <td>&lt;COMPILED_SUCCESSFULLY&gt;</td>\n",
       "      <td>['bytes32 public constant _ADMIN = keccak256(\"...</td>\n",
       "    </tr>\n",
       "    <tr>\n",
       "      <th>4</th>\n",
       "      <td>HWCIntegration</td>\n",
       "      <td>createTokenByHWC</td>\n",
       "      <td>contract HWCIntegration is BaseGameLogic {\\n\\r...</td>\n",
       "      <td>\\r\\n        //convert eth to hwc\\r\\n        ui...</td>\n",
       "      <td>\\n        \\n        uint256 tokenPrice = baseP...</td>\n",
       "      <td>\\n        require(hwcAddress[_userTo].index1 !...</td>\n",
       "      <td>40259</td>\n",
       "      <td>pragma solidity ^0.4.23;\\n\\n/**\\n * @title Saf...</td>\n",
       "      <td>contracts/sample.sol:1113:16: DeclarationError...</td>\n",
       "      <td>['uint public prizeFund = 0;', 'uint public ba...</td>\n",
       "    </tr>\n",
       "  </tbody>\n",
       "</table>\n",
       "</div>"
      ],
      "text/plain": [
       "               contract_name         func_name  \\\n",
       "0               HegicERCPool              send   \n",
       "1                      ERC20      transferFrom   \n",
       "2  UniswapInterfaceMulticall         multicall   \n",
       "3               WrappedToken          burnFrom   \n",
       "4             HWCIntegration  createTokenByHWC   \n",
       "\n",
       "                                     masked_contract  \\\n",
       "0  contract HegicERCPool is IERCLiquidityPool, Ow...   \n",
       "1  contract ERC20 is ERC20Interface,SafeMath {\\n\\...   \n",
       "2  contract UniswapInterfaceMulticall {\\n    stru...   \n",
       "3  contract WrappedToken is SecureContract, ERC20...   \n",
       "4  contract HWCIntegration is BaseGameLogic {\\n\\r...   \n",
       "\n",
       "                                           func_body  \\\n",
       "0  \\r\\n          require(lockedAmount >= amount, ...   \n",
       "1  \\r\\n      require(_to != address(0));\\r\\n     ...   \n",
       "2  \\n        blockNumber = block.number;\\n       ...   \n",
       "3  \\r\\n        require(hasRole(_BURNFROM, msg.sen...   \n",
       "4  \\r\\n        //convert eth to hwc\\r\\n        ui...   \n",
       "\n",
       "                           func_body_removed_comment  \\\n",
       "0  \\n          require(lockedAmount >= amount, \"P...   \n",
       "1  \\n      require(_to != address(0));\\n      req...   \n",
       "2  \\n        blockNumber = block.number;\\n       ...   \n",
       "3  \\n        require(hasRole(_BURNFROM, msg.sende...   \n",
       "4  \\n        \\n        uint256 tokenPrice = baseP...   \n",
       "\n",
       "                                     deepseek_output  file_source_idx  \\\n",
       "0  \\n          require(amount <= availableBalance...            83271   \n",
       "1  \\n      require(_to != address(0));\\n      req...            63834   \n",
       "2  \\n        blockNumber = block.number;\\n       ...            48203   \n",
       "3  \\n        require(hasRole(_BURNFROM, msg.sende...            80658   \n",
       "4  \\n        require(hwcAddress[_userTo].index1 !...            40259   \n",
       "\n",
       "                                         source_code  \\\n",
       "0  pragma solidity ^0.6.6;\\n\\nlibrary Address {\\n...   \n",
       "1  pragma solidity ^0.4.25;\\n\\ncontract SafeMath ...   \n",
       "2  // SPDX-License-Identifier: MIT\\npragma solidi...   \n",
       "3  // SPDX-License-Identifier: MIT\\n\\npragma soli...   \n",
       "4  pragma solidity ^0.4.23;\\n\\n/**\\n * @title Saf...   \n",
       "\n",
       "                                        compile_info  \\\n",
       "0                            <COMPILED_SUCCESSFULLY>   \n",
       "1                            <COMPILED_SUCCESSFULLY>   \n",
       "2                            <COMPILED_SUCCESSFULLY>   \n",
       "3                            <COMPILED_SUCCESSFULLY>   \n",
       "4  contracts/sample.sol:1113:16: DeclarationError...   \n",
       "\n",
       "                                    inherit_elements  \n",
       "0  ['constructor () internal {<BODY>}', 'function...  \n",
       "1  ['string public name;', 'string public symbol;...  \n",
       "2                                                 []  \n",
       "3  ['bytes32 public constant _ADMIN = keccak256(\"...  \n",
       "4  ['uint public prizeFund = 0;', 'uint public ba...  "
      ]
     },
     "execution_count": 20,
     "metadata": {},
     "output_type": "execute_result"
    }
   ],
   "source": [
    "valid.head()"
   ]
  },
  {
   "cell_type": "code",
   "execution_count": 21,
   "metadata": {},
   "outputs": [
    {
     "data": {
      "text/plain": [
       "\"['constructor () internal {<BODY>}', 'function owner() public view returns (address) {<BODY>}', 'function renounceOwnership() public virtual onlyOwner {<BODY>}', 'function transferOwnership(address newOwner) public virtual onlyOwner {<BODY>}', 'constructor (string memory name, string memory symbol) public {<BODY>}', 'function name() public view returns (string memory) {<BODY>}', 'function symbol() public view returns (string memory) {<BODY>}', 'function decimals() public view returns (uint8) {<BODY>}', 'function totalSupply() public view override returns (uint256) {<BODY>}', 'function balanceOf(address account) public view override returns (uint256) {<BODY>}', 'function transfer(address recipient, uint256 amount) public virtual override returns (bool) {<BODY>}', 'function allowance(address owner, address spender) public view virtual override returns (uint256) {<BODY>}', 'function approve(address spender, uint256 amount) public virtual override returns (bool) {<BODY>}', 'function transferFrom(address sender, address recipient, uint256 amount) public virtual override returns (bool) {<BODY>}', 'function increaseAllowance(address spender, uint256 addedValue) public virtual returns (bool) {<BODY>}', 'function decreaseAllowance(address spender, uint256 subtractedValue) public virtual returns (bool) {<BODY>}', 'function _transfer(address sender, address recipient, uint256 amount) internal virtual {<BODY>}', 'function _mint(address account, uint256 amount) internal virtual {<BODY>}', 'function _burn(address account, uint256 amount) internal virtual {<BODY>}', 'function _approve(address owner, address spender, uint256 amount) internal virtual {<BODY>}', 'function _setupDecimals(uint8 decimals_) internal {<BODY>}', 'function _beforeTokenTransfer(address from, address to, uint256 amount) internal virtual {<BODY>}', 'constructor () internal {<BODY>}', 'function _msgSender() internal view virtual returns (address payable) {<BODY>}', 'function _msgData() internal view virtual returns (bytes memory) {<BODY>}', 'constructor () internal {<BODY>}', 'function _msgSender() internal view virtual returns (address payable) {<BODY>}', 'function _msgData() internal view virtual returns (bytes memory) {<BODY>}']\""
      ]
     },
     "execution_count": 21,
     "metadata": {},
     "output_type": "execute_result"
    }
   ],
   "source": [
    "valid.loc[0, \"inherit_elements\"]"
   ]
  },
  {
   "cell_type": "code",
   "execution_count": 24,
   "metadata": {},
   "outputs": [
    {
     "data": {
      "text/html": [
       "<div>\n",
       "<style scoped>\n",
       "    .dataframe tbody tr th:only-of-type {\n",
       "        vertical-align: middle;\n",
       "    }\n",
       "\n",
       "    .dataframe tbody tr th {\n",
       "        vertical-align: top;\n",
       "    }\n",
       "\n",
       "    .dataframe thead th {\n",
       "        text-align: right;\n",
       "    }\n",
       "</style>\n",
       "<table border=\"1\" class=\"dataframe\">\n",
       "  <thead>\n",
       "    <tr style=\"text-align: right;\">\n",
       "      <th></th>\n",
       "      <th>source_idx</th>\n",
       "      <th>contract_name</th>\n",
       "      <th>func_name</th>\n",
       "      <th>masked_contract</th>\n",
       "      <th>func_body</th>\n",
       "      <th>func_body_removed_comment</th>\n",
       "      <th>len_input</th>\n",
       "      <th>len_output</th>\n",
       "      <th>total</th>\n",
       "      <th>deepseek_output</th>\n",
       "    </tr>\n",
       "  </thead>\n",
       "  <tbody>\n",
       "    <tr>\n",
       "      <th>0</th>\n",
       "      <td>100499</td>\n",
       "      <td>BitcoinAlliance</td>\n",
       "      <td>transferFrom</td>\n",
       "      <td>contract BitcoinAlliance is ERC20Detailed {\\n\\...</td>\n",
       "      <td>\\r\\n    require(value &lt;= _balances[from]);\\r\\n...</td>\n",
       "      <td>\\n    require(value &lt;= _balances[from]);\\n    ...</td>\n",
       "      <td>1472</td>\n",
       "      <td>370</td>\n",
       "      <td>1842</td>\n",
       "      <td>\\n    require(value &lt;= _balances[from]);\\n    ...</td>\n",
       "    </tr>\n",
       "    <tr>\n",
       "      <th>1</th>\n",
       "      <td>66215</td>\n",
       "      <td>BasicToken</td>\n",
       "      <td>transfer</td>\n",
       "      <td>contract BasicToken is ERC20Basic {using SafeM...</td>\n",
       "      <td>require(_to != address(0));require(_value &lt;= b...</td>\n",
       "      <td>require(_to != address(0));require(_value &lt;= b...</td>\n",
       "      <td>120</td>\n",
       "      <td>77</td>\n",
       "      <td>197</td>\n",
       "      <td>\\nbalances[msg.sender] = balances[msg.sender]....</td>\n",
       "    </tr>\n",
       "    <tr>\n",
       "      <th>2</th>\n",
       "      <td>107259</td>\n",
       "      <td>TokenBEP20</td>\n",
       "      <td>None</td>\n",
       "      <td>contract TokenBEP20 is BEP20Interface, Owned{\\...</td>\n",
       "      <td>\\r\\n    symbol = \"NYINU\";\\r\\n    name = \"NYAN ...</td>\n",
       "      <td>\\n    symbol = \"NYINU\";\\n    name = \"NYAN INU\"...</td>\n",
       "      <td>710</td>\n",
       "      <td>96</td>\n",
       "      <td>806</td>\n",
       "      <td>\\n    symbol = \"TKN\";\\n    name = \"Token\";\\n  ...</td>\n",
       "    </tr>\n",
       "    <tr>\n",
       "      <th>3</th>\n",
       "      <td>76252</td>\n",
       "      <td>BZxProxy</td>\n",
       "      <td>setOracleRegistry</td>\n",
       "      <td>contract BZxProxy is BZxStorage, Proxiable {\\n...</td>\n",
       "      <td>\\r\\n        if (_registry != address(0))\\r\\n  ...</td>\n",
       "      <td>\\n        if (_registry != address(0))\\n      ...</td>\n",
       "      <td>1046</td>\n",
       "      <td>28</td>\n",
       "      <td>1074</td>\n",
       "      <td>\\n        if (_registry != address(0))\\n      ...</td>\n",
       "    </tr>\n",
       "    <tr>\n",
       "      <th>4</th>\n",
       "      <td>27168</td>\n",
       "      <td>KingdomStorage</td>\n",
       "      <td>startWar</td>\n",
       "      <td>contract KingdomStorage is ERC20 {\\n    using ...</td>\n",
       "      <td>\\r\\n\\t\\tuint invaderWarriorsNumber = getWarrio...</td>\n",
       "      <td>\\n\\t\\tuint invaderWarriorsNumber = getWarriors...</td>\n",
       "      <td>1278</td>\n",
       "      <td>564</td>\n",
       "      <td>1842</td>\n",
       "      <td>\\n\\t\\tuint lostCoins = getTributeValue(_invade...</td>\n",
       "    </tr>\n",
       "  </tbody>\n",
       "</table>\n",
       "</div>"
      ],
      "text/plain": [
       "   source_idx    contract_name          func_name  \\\n",
       "0      100499  BitcoinAlliance       transferFrom   \n",
       "1       66215       BasicToken           transfer   \n",
       "2      107259       TokenBEP20               None   \n",
       "3       76252         BZxProxy  setOracleRegistry   \n",
       "4       27168   KingdomStorage           startWar   \n",
       "\n",
       "                                     masked_contract  \\\n",
       "0  contract BitcoinAlliance is ERC20Detailed {\\n\\...   \n",
       "1  contract BasicToken is ERC20Basic {using SafeM...   \n",
       "2  contract TokenBEP20 is BEP20Interface, Owned{\\...   \n",
       "3  contract BZxProxy is BZxStorage, Proxiable {\\n...   \n",
       "4  contract KingdomStorage is ERC20 {\\n    using ...   \n",
       "\n",
       "                                           func_body  \\\n",
       "0  \\r\\n    require(value <= _balances[from]);\\r\\n...   \n",
       "1  require(_to != address(0));require(_value <= b...   \n",
       "2  \\r\\n    symbol = \"NYINU\";\\r\\n    name = \"NYAN ...   \n",
       "3  \\r\\n        if (_registry != address(0))\\r\\n  ...   \n",
       "4  \\r\\n\\t\\tuint invaderWarriorsNumber = getWarrio...   \n",
       "\n",
       "                           func_body_removed_comment  len_input  len_output  \\\n",
       "0  \\n    require(value <= _balances[from]);\\n    ...       1472         370   \n",
       "1  require(_to != address(0));require(_value <= b...        120          77   \n",
       "2  \\n    symbol = \"NYINU\";\\n    name = \"NYAN INU\"...        710          96   \n",
       "3  \\n        if (_registry != address(0))\\n      ...       1046          28   \n",
       "4  \\n\\t\\tuint invaderWarriorsNumber = getWarriors...       1278         564   \n",
       "\n",
       "   total                                    deepseek_output  \n",
       "0   1842  \\n    require(value <= _balances[from]);\\n    ...  \n",
       "1    197  \\nbalances[msg.sender] = balances[msg.sender]....  \n",
       "2    806  \\n    symbol = \"TKN\";\\n    name = \"Token\";\\n  ...  \n",
       "3   1074  \\n        if (_registry != address(0))\\n      ...  \n",
       "4   1842  \\n\\t\\tuint lostCoins = getTributeValue(_invade...  "
      ]
     },
     "execution_count": 24,
     "metadata": {},
     "output_type": "execute_result"
    }
   ],
   "source": [
    "test = pd.read_json(\"/home/hieuvd/lvdthieu/CodeGen/data/test/refine/test.jsonl\", lines=True)\n",
    "test.head()"
   ]
  },
  {
   "cell_type": "code",
   "execution_count": 25,
   "metadata": {},
   "outputs": [
    {
     "data": {
      "text/plain": [
       "'\\n    symbol = \"TKN\";\\n    name = \"Token\";\\n    decimals = 18;\\n    _totalSupply = 10000000000000000000000000000000000000000;\\n    balances[owner] = _totalSupply;\\n    emit Transfer(address(0), owner, _totalSupply);\\n  \\n'"
      ]
     },
     "execution_count": 25,
     "metadata": {},
     "output_type": "execute_result"
    }
   ],
   "source": [
    "test.loc[2,\"deepseek_output\"]"
   ]
  },
  {
   "cell_type": "code",
   "execution_count": 26,
   "metadata": {},
   "outputs": [
    {
     "data": {
      "text/html": [
       "<div>\n",
       "<style scoped>\n",
       "    .dataframe tbody tr th:only-of-type {\n",
       "        vertical-align: middle;\n",
       "    }\n",
       "\n",
       "    .dataframe tbody tr th {\n",
       "        vertical-align: top;\n",
       "    }\n",
       "\n",
       "    .dataframe thead th {\n",
       "        text-align: right;\n",
       "    }\n",
       "</style>\n",
       "<table border=\"1\" class=\"dataframe\">\n",
       "  <thead>\n",
       "    <tr style=\"text-align: right;\">\n",
       "      <th></th>\n",
       "      <th>contract_name</th>\n",
       "      <th>func_name</th>\n",
       "      <th>masked_contract</th>\n",
       "      <th>func_body</th>\n",
       "      <th>func_body_removed_comment</th>\n",
       "      <th>deepseek_output</th>\n",
       "      <th>file_source_idx</th>\n",
       "      <th>source_code</th>\n",
       "      <th>source_idx</th>\n",
       "      <th>compile_info</th>\n",
       "    </tr>\n",
       "  </thead>\n",
       "  <tbody>\n",
       "    <tr>\n",
       "      <th>0</th>\n",
       "      <td>BitcoinAlliance</td>\n",
       "      <td>transferFrom</td>\n",
       "      <td>contract BitcoinAlliance is ERC20Detailed {\\n\\...</td>\n",
       "      <td>\\r\\n    require(value &lt;= _balances[from]);\\r\\n...</td>\n",
       "      <td>\\n    require(value &lt;= _balances[from]);\\n    ...</td>\n",
       "      <td>\\n    require(value &lt;= _balances[from]);\\n    ...</td>\n",
       "      <td>9311</td>\n",
       "      <td>/**\\n * Bitcoin Alliance\\n * There will be 3 l...</td>\n",
       "      <td>0</td>\n",
       "      <td>contracts/sample.sol:159:1: ParserError: Expec...</td>\n",
       "    </tr>\n",
       "    <tr>\n",
       "      <th>1</th>\n",
       "      <td>BasicToken</td>\n",
       "      <td>transfer</td>\n",
       "      <td>contract BasicToken is ERC20Basic {using SafeM...</td>\n",
       "      <td>require(_to != address(0));require(_value &lt;= b...</td>\n",
       "      <td>require(_to != address(0));require(_value &lt;= b...</td>\n",
       "      <td>\\nbalances[msg.sender] = balances[msg.sender]....</td>\n",
       "      <td>56112</td>\n",
       "      <td>pragma solidity ^0.4.23;contract Ownable {addr...</td>\n",
       "      <td>1</td>\n",
       "      <td>&lt;COMPILED_SUCCESSFULLY&gt;</td>\n",
       "    </tr>\n",
       "    <tr>\n",
       "      <th>2</th>\n",
       "      <td>TokenBEP20</td>\n",
       "      <td>None</td>\n",
       "      <td>contract TokenBEP20 is BEP20Interface, Owned{\\...</td>\n",
       "      <td>\\r\\n    symbol = \"NYINU\";\\r\\n    name = \"NYAN ...</td>\n",
       "      <td>\\n    symbol = \"NYINU\";\\n    name = \"NYAN INU\"...</td>\n",
       "      <td>\\n    symbol = \"TKN\";\\n    name = \"Token\";\\n  ...</td>\n",
       "      <td>53891</td>\n",
       "      <td>/**\\n\\nNyan Inu ($NYINU) is a community-focuse...</td>\n",
       "      <td>2</td>\n",
       "      <td>&lt;COMPILED_SUCCESSFULLY&gt;</td>\n",
       "    </tr>\n",
       "    <tr>\n",
       "      <th>3</th>\n",
       "      <td>BZxProxy</td>\n",
       "      <td>setOracleRegistry</td>\n",
       "      <td>contract BZxProxy is BZxStorage, Proxiable {\\n...</td>\n",
       "      <td>\\r\\n        if (_registry != address(0))\\r\\n  ...</td>\n",
       "      <td>\\n        if (_registry != address(0))\\n      ...</td>\n",
       "      <td>\\n        if (_registry != address(0))\\n      ...</td>\n",
       "      <td>21459</td>\n",
       "      <td>/*\\n\\n  Copyright 2018 bZeroX, LLC\\n\\n  Licens...</td>\n",
       "      <td>3</td>\n",
       "      <td>&lt;COMPILED_SUCCESSFULLY&gt;</td>\n",
       "    </tr>\n",
       "    <tr>\n",
       "      <th>4</th>\n",
       "      <td>KingdomStorage</td>\n",
       "      <td>startWar</td>\n",
       "      <td>contract KingdomStorage is ERC20 {\\n    using ...</td>\n",
       "      <td>\\r\\n\\t\\tuint invaderWarriorsNumber = getWarrio...</td>\n",
       "      <td>\\n\\t\\tuint invaderWarriorsNumber = getWarriors...</td>\n",
       "      <td>\\n\\t\\tuint lostCoins = getTributeValue(_invade...</td>\n",
       "      <td>48631</td>\n",
       "      <td>/**\\n * https://GreenRabbit.site\\n *\\n * Welco...</td>\n",
       "      <td>4</td>\n",
       "      <td>&lt;COMPILED_SUCCESSFULLY&gt;</td>\n",
       "    </tr>\n",
       "  </tbody>\n",
       "</table>\n",
       "</div>"
      ],
      "text/plain": [
       "     contract_name          func_name  \\\n",
       "0  BitcoinAlliance       transferFrom   \n",
       "1       BasicToken           transfer   \n",
       "2       TokenBEP20               None   \n",
       "3         BZxProxy  setOracleRegistry   \n",
       "4   KingdomStorage           startWar   \n",
       "\n",
       "                                     masked_contract  \\\n",
       "0  contract BitcoinAlliance is ERC20Detailed {\\n\\...   \n",
       "1  contract BasicToken is ERC20Basic {using SafeM...   \n",
       "2  contract TokenBEP20 is BEP20Interface, Owned{\\...   \n",
       "3  contract BZxProxy is BZxStorage, Proxiable {\\n...   \n",
       "4  contract KingdomStorage is ERC20 {\\n    using ...   \n",
       "\n",
       "                                           func_body  \\\n",
       "0  \\r\\n    require(value <= _balances[from]);\\r\\n...   \n",
       "1  require(_to != address(0));require(_value <= b...   \n",
       "2  \\r\\n    symbol = \"NYINU\";\\r\\n    name = \"NYAN ...   \n",
       "3  \\r\\n        if (_registry != address(0))\\r\\n  ...   \n",
       "4  \\r\\n\\t\\tuint invaderWarriorsNumber = getWarrio...   \n",
       "\n",
       "                           func_body_removed_comment  \\\n",
       "0  \\n    require(value <= _balances[from]);\\n    ...   \n",
       "1  require(_to != address(0));require(_value <= b...   \n",
       "2  \\n    symbol = \"NYINU\";\\n    name = \"NYAN INU\"...   \n",
       "3  \\n        if (_registry != address(0))\\n      ...   \n",
       "4  \\n\\t\\tuint invaderWarriorsNumber = getWarriors...   \n",
       "\n",
       "                                     deepseek_output  file_source_idx  \\\n",
       "0  \\n    require(value <= _balances[from]);\\n    ...             9311   \n",
       "1  \\nbalances[msg.sender] = balances[msg.sender]....            56112   \n",
       "2  \\n    symbol = \"TKN\";\\n    name = \"Token\";\\n  ...            53891   \n",
       "3  \\n        if (_registry != address(0))\\n      ...            21459   \n",
       "4  \\n\\t\\tuint lostCoins = getTributeValue(_invade...            48631   \n",
       "\n",
       "                                         source_code  source_idx  \\\n",
       "0  /**\\n * Bitcoin Alliance\\n * There will be 3 l...           0   \n",
       "1  pragma solidity ^0.4.23;contract Ownable {addr...           1   \n",
       "2  /**\\n\\nNyan Inu ($NYINU) is a community-focuse...           2   \n",
       "3  /*\\n\\n  Copyright 2018 bZeroX, LLC\\n\\n  Licens...           3   \n",
       "4  /**\\n * https://GreenRabbit.site\\n *\\n * Welco...           4   \n",
       "\n",
       "                                        compile_info  \n",
       "0  contracts/sample.sol:159:1: ParserError: Expec...  \n",
       "1                            <COMPILED_SUCCESSFULLY>  \n",
       "2                            <COMPILED_SUCCESSFULLY>  \n",
       "3                            <COMPILED_SUCCESSFULLY>  \n",
       "4                            <COMPILED_SUCCESSFULLY>  "
      ]
     },
     "execution_count": 26,
     "metadata": {},
     "output_type": "execute_result"
    }
   ],
   "source": [
    "refine = pd.read_parquet(\"/home/hieuvd/lvdthieu/CodeGen/data/compile_info/refine/deepseek_compile_error.parquet\", \"fastparquet\")\n",
    "refine.head()"
   ]
  },
  {
   "attachments": {},
   "cell_type": "markdown",
   "metadata": {},
   "source": [
    "## Calculate error type rate in the result"
   ]
  },
  {
   "cell_type": "code",
   "execution_count": 55,
   "metadata": {},
   "outputs": [],
   "source": [
    "import pandas as pd\n",
    "error_type = [\"ParserError\",\"DeclarationError\",\"TypeError\"]\n",
    "\n",
    "finetune = pd.read_parquet(\"/home/hieuvd/lvdthieu/CodeGen/data/compile_info/finetune/deepseek_compile_error.parquet\", \"fastparquet\")\n",
    "refine = pd.read_parquet(\"/home/hieuvd/lvdthieu/CodeGen/data/compile_info/refine/deepseek_compile_error.parquet\", \"fastparquet\")\n",
    "base = pd.read_parquet(\"/home/hieuvd/lvdthieu/CodeGen/data/compile_info/base/deepseek_compile_error.parquet\", \"fastparquet\")"
   ]
  },
  {
   "cell_type": "code",
   "execution_count": 65,
   "metadata": {},
   "outputs": [
    {
     "data": {
      "text/plain": [
       "{'ParserError': [1262, 432],\n",
       " 'DeclarationError': [316, 280],\n",
       " 'TypeError': [266, 262]}"
      ]
     },
     "execution_count": 65,
     "metadata": {},
     "output_type": "execute_result"
    }
   ],
   "source": [
    "stats = {\"ParserError\": [], \"DeclarationError\": [], \"TypeError\": []}\n",
    "for i in error_type:\n",
    "    stats[i].append(len(base[base[\"compile_info\"].str.contains(i)]))\n",
    "# for i in error_type:\n",
    "#     stats[i].append(len(finetune[finetune[\"compile_info\"].str.contains(i)]))\n",
    "for i in error_type:\n",
    "    stats[i].append(len(refine[refine[\"compile_info\"].str.contains(i)]))\n",
    "stats\n",
    "\n"
   ]
  },
  {
   "cell_type": "code",
   "execution_count": 62,
   "metadata": {},
   "outputs": [
    {
     "name": "stdout",
     "output_type": "stream",
     "text": [
      "1\n"
     ]
    }
   ],
   "source": [
    "print(len(refine[(refine[\"compile_info\"].str.contains(\"TypeError\")) & (refine[\"compile_info\"].str.contains(\"DeclarationError\"))]))"
   ]
  },
  {
   "cell_type": "code",
   "execution_count": 57,
   "metadata": {},
   "outputs": [
    {
     "data": {
      "text/plain": [
       "1854"
      ]
     },
     "execution_count": 57,
     "metadata": {},
     "output_type": "execute_result"
    }
   ],
   "source": [
    "len(base[~base[\"compile_info\"].str.contains(\"<COMPILED_SUCCESSFULLY>\")])"
   ]
  },
  {
   "cell_type": "code",
   "execution_count": 58,
   "metadata": {},
   "outputs": [
    {
     "data": {
      "text/plain": [
       "0.16612729234088458"
      ]
     },
     "execution_count": 58,
     "metadata": {},
     "output_type": "execute_result"
    }
   ],
   "source": [
    "(316 - 8) "
   ]
  },
  {
   "cell_type": "code",
   "execution_count": 66,
   "metadata": {},
   "outputs": [
    {
     "data": {
      "text/html": [
       "<div>\n",
       "<style scoped>\n",
       "    .dataframe tbody tr th:only-of-type {\n",
       "        vertical-align: middle;\n",
       "    }\n",
       "\n",
       "    .dataframe tbody tr th {\n",
       "        vertical-align: top;\n",
       "    }\n",
       "\n",
       "    .dataframe thead th {\n",
       "        text-align: right;\n",
       "    }\n",
       "</style>\n",
       "<table border=\"1\" class=\"dataframe\">\n",
       "  <thead>\n",
       "    <tr style=\"text-align: right;\">\n",
       "      <th></th>\n",
       "      <th>ParserError</th>\n",
       "      <th>DeclarationError</th>\n",
       "      <th>TypeError</th>\n",
       "    </tr>\n",
       "  </thead>\n",
       "  <tbody>\n",
       "    <tr>\n",
       "      <th>Deepseek base</th>\n",
       "      <td>1262</td>\n",
       "      <td>308</td>\n",
       "      <td>258</td>\n",
       "    </tr>\n",
       "    <tr>\n",
       "      <th>ReSC</th>\n",
       "      <td>432</td>\n",
       "      <td>279</td>\n",
       "      <td>262</td>\n",
       "    </tr>\n",
       "  </tbody>\n",
       "</table>\n",
       "</div>"
      ],
      "text/plain": [
       "               ParserError  DeclarationError  TypeError\n",
       "Deepseek base         1262               308        258\n",
       "ReSC                   432               279        262"
      ]
     },
     "execution_count": 66,
     "metadata": {},
     "output_type": "execute_result"
    }
   ],
   "source": [
    "stats[\"DeclarationError\"][0] -= 8\n",
    "stats[\"TypeError\"][0] -= 8\n",
    "stats[\"DeclarationError\"][1] -= 1\n",
    "df = pd.DataFrame(stats, index=[\"Deepseek base\", \"ReSC\"])\n",
    "df"
   ]
  },
  {
   "cell_type": "code",
   "execution_count": 31,
   "metadata": {},
   "outputs": [],
   "source": [
    "import pandas as pd \n",
    "deepseek = pd.read_parquet(\"/home/hieuvd/lvdthieu/CodeGen/data/compile_info/codellama/deepseek_compile_error.parquet\", \"fastparquet\")\n",
    "# codellama = pd.read_parquet(\"/home/hieuvd/lvdthieu/CodeGen/data/compile_info/base/deepseek_compile_error.parquet\", \"fastparquet\")\n"
   ]
  },
  {
   "cell_type": "code",
   "execution_count": 32,
   "metadata": {},
   "outputs": [],
   "source": [
    "ERROR = [\n",
    "    \"ParserError\",\n",
    "    \"DocstringParsingError\",\n",
    "    \"SyntaxError\",\n",
    "    \"DeclarationError\",\n",
    "    \"TypeError\",\n",
    "    \"UnimplementedFeatureError\",\n",
    "    \"InternalCompilerError\",\n",
    "    \"Exception\",\n",
    "    \"CompilerError\",\n",
    "]\n",
    "for error in ERROR:\n",
    "    deepseek[error] = deepseek[\"compile_info\"].str.contains(error)\n",
    "deepseek.head()\n",
    "def count_error(row):\n",
    "    cnt = 0\n",
    "    for error in ERROR:\n",
    "        cnt += row[error]\n",
    "    return cnt\n",
    "deepseek[\"cnt_err\"] = deepseek.apply(count_error, axis=1)\n",
    "\n",
    "    "
   ]
  },
  {
   "cell_type": "code",
   "execution_count": 33,
   "metadata": {},
   "outputs": [
    {
     "data": {
      "text/plain": [
       "41"
      ]
     },
     "execution_count": 33,
     "metadata": {},
     "output_type": "execute_result"
    }
   ],
   "source": [
    "len(deepseek[deepseek[\"TypeError\"] & deepseek[\"DeclarationError\"]])"
   ]
  },
  {
   "cell_type": "code",
   "execution_count": 34,
   "metadata": {},
   "outputs": [
    {
     "data": {
      "text/plain": [
       "0.5483045425463852"
      ]
     },
     "execution_count": 34,
     "metadata": {},
     "output_type": "execute_result"
    }
   ],
   "source": [
    "len(deepseek[deepseek[\"ParserError\"]]) / len(deepseek[~deepseek[\"compile_info\"].str.contains(\"<COMPILED_SUCCESSFULLY>\")])"
   ]
  },
  {
   "cell_type": "code",
   "execution_count": 41,
   "metadata": {},
   "outputs": [
    {
     "data": {
      "text/plain": [
       "0.19961612284069097"
      ]
     },
     "execution_count": 41,
     "metadata": {},
     "output_type": "execute_result"
    }
   ],
   "source": [
    "(len(deepseek[deepseek[\"TypeError\"]]) - 20) / len(deepseek[~deepseek[\"compile_info\"].str.contains(\"<COMPILED_SUCCESSFULLY>\")])"
   ]
  },
  {
   "cell_type": "code",
   "execution_count": 42,
   "metadata": {},
   "outputs": [
    {
     "data": {
      "text/plain": [
       "0.24504158669225848"
      ]
     },
     "execution_count": 42,
     "metadata": {},
     "output_type": "execute_result"
    }
   ],
   "source": [
    "(len(deepseek[deepseek[\"DeclarationError\"]]) - 21) / len(deepseek[~deepseek[\"compile_info\"].str.contains(\"<COMPILED_SUCCESSFULLY>\")])"
   ]
  },
  {
   "cell_type": "code",
   "execution_count": 44,
   "metadata": {},
   "outputs": [
    {
     "data": {
      "text/plain": [
       "0.9929622520793346"
      ]
     },
     "execution_count": 44,
     "metadata": {},
     "output_type": "execute_result"
    }
   ],
   "source": [
    "x = len(deepseek[deepseek[\"ParserError\"]]) / len(deepseek[~deepseek[\"compile_info\"].str.contains(\"<COMPILED_SUCCESSFULLY>\")]) + \\\n",
    "(len(deepseek[deepseek[\"TypeError\"]]) - 20) / len(deepseek[~deepseek[\"compile_info\"].str.contains(\"<COMPILED_SUCCESSFULLY>\")]) + \\\n",
    "(len(deepseek[deepseek[\"DeclarationError\"]]) - 21) / len(deepseek[~deepseek[\"compile_info\"].str.contains(\"<COMPILED_SUCCESSFULLY>\")])\n",
    "x"
   ]
  },
  {
   "cell_type": "code",
   "execution_count": 45,
   "metadata": {},
   "outputs": [
    {
     "data": {
      "text/plain": [
       "0.7100000000000009"
      ]
     },
     "execution_count": 45,
     "metadata": {},
     "output_type": "execute_result"
    }
   ],
   "source": [
    "100 - 54.83 - 19.96 - 24.50"
   ]
  },
  {
   "cell_type": "code",
   "execution_count": 46,
   "metadata": {},
   "outputs": [],
   "source": [
    "data = [[68.07, 13.92, 16.61, 1.40], \n",
    "        [54.83, 19.96, 24.50, 0.71]]\n",
    "df = pd.DataFrame(data, columns=[\"ParserError\", \"TypeError\", \"DeclarationError\", \"Other\"], index=[\"Deepseek\", \"CodeLlama\"])"
   ]
  },
  {
   "cell_type": "code",
   "execution_count": 47,
   "metadata": {},
   "outputs": [
    {
     "data": {
      "text/html": [
       "<div>\n",
       "<style scoped>\n",
       "    .dataframe tbody tr th:only-of-type {\n",
       "        vertical-align: middle;\n",
       "    }\n",
       "\n",
       "    .dataframe tbody tr th {\n",
       "        vertical-align: top;\n",
       "    }\n",
       "\n",
       "    .dataframe thead th {\n",
       "        text-align: right;\n",
       "    }\n",
       "</style>\n",
       "<table border=\"1\" class=\"dataframe\">\n",
       "  <thead>\n",
       "    <tr style=\"text-align: right;\">\n",
       "      <th></th>\n",
       "      <th>ParserError</th>\n",
       "      <th>TypeError</th>\n",
       "      <th>DeclarationError</th>\n",
       "      <th>Other</th>\n",
       "    </tr>\n",
       "  </thead>\n",
       "  <tbody>\n",
       "    <tr>\n",
       "      <th>Deepseek</th>\n",
       "      <td>68.07</td>\n",
       "      <td>13.92</td>\n",
       "      <td>16.61</td>\n",
       "      <td>1.40</td>\n",
       "    </tr>\n",
       "    <tr>\n",
       "      <th>CodeLlama</th>\n",
       "      <td>54.83</td>\n",
       "      <td>19.96</td>\n",
       "      <td>24.50</td>\n",
       "      <td>0.71</td>\n",
       "    </tr>\n",
       "  </tbody>\n",
       "</table>\n",
       "</div>"
      ],
      "text/plain": [
       "           ParserError  TypeError  DeclarationError  Other\n",
       "Deepseek         68.07      13.92             16.61   1.40\n",
       "CodeLlama        54.83      19.96             24.50   0.71"
      ]
     },
     "execution_count": 47,
     "metadata": {},
     "output_type": "execute_result"
    }
   ],
   "source": [
    "df"
   ]
  },
  {
   "attachments": {},
   "cell_type": "markdown",
   "metadata": {},
   "source": [
    "# Data peeking "
   ]
  },
  {
   "cell_type": "code",
   "execution_count": 2,
   "metadata": {},
   "outputs": [
    {
     "name": "stdout",
     "output_type": "stream",
     "text": [
      "<class 'pandas.core.frame.DataFrame'>\n",
      "RangeIndex: 27738 entries, 0 to 27737\n",
      "Data columns (total 10 columns):\n",
      " #   Column                     Non-Null Count  Dtype \n",
      "---  ------                     --------------  ----- \n",
      " 0   source_idx                 27738 non-null  int64 \n",
      " 1   contract_name              27738 non-null  object\n",
      " 2   func_name                  21901 non-null  object\n",
      " 3   masked_contract            27738 non-null  object\n",
      " 4   func_body                  27738 non-null  object\n",
      " 5   func_body_removed_comment  27738 non-null  object\n",
      " 6   len_input                  27738 non-null  int64 \n",
      " 7   len_output                 27738 non-null  int64 \n",
      " 8   total                      27738 non-null  int64 \n",
      " 9   deepseek_output            27738 non-null  object\n",
      "dtypes: int64(4), object(6)\n",
      "memory usage: 2.1+ MB\n",
      "None\n"
     ]
    }
   ],
   "source": [
    "import pandas as pd\n",
    "\n",
    "df = pd.read_json(\"/home/hieuvd/lvdthieu/CodeGen/data/validation/valid.jsonl\", lines=True)\n",
    "print(df.info())"
   ]
  },
  {
   "cell_type": "code",
   "execution_count": 4,
   "metadata": {},
   "outputs": [
    {
     "name": "stdout",
     "output_type": "stream",
     "text": [
      "<class 'pandas.core.frame.DataFrame'>\n",
      "RangeIndex: 27738 entries, 0 to 27737\n",
      "Data columns (total 13 columns):\n",
      " #   Column                     Non-Null Count  Dtype \n",
      "---  ------                     --------------  ----- \n",
      " 0   contract_name              27738 non-null  object\n",
      " 1   func_name                  21901 non-null  object\n",
      " 2   masked_contract            27738 non-null  object\n",
      " 3   func_body                  27738 non-null  object\n",
      " 4   func_body_removed_comment  27738 non-null  object\n",
      " 5   len_input                  27738 non-null  int64 \n",
      " 6   len_output                 27738 non-null  int64 \n",
      " 7   total                      27738 non-null  int64 \n",
      " 8   deepseek_output            27738 non-null  object\n",
      " 9   file_source_idx            27738 non-null  int64 \n",
      " 10  file_source                27738 non-null  object\n",
      " 11  filled_source_body         27738 non-null  object\n",
      " 12  filled_source_deepseek     27738 non-null  object\n",
      "dtypes: int64(4), object(9)\n",
      "memory usage: 2.8+ MB\n"
     ]
    }
   ],
   "source": [
    "valid_test_suite = pd.read_parquet(\"/home/hieuvd/lvdthieu/CodeGen/data/validation/test_suite.parquet\", \"fastparquet\")\n",
    "valid_test_suite.info()"
   ]
  },
  {
   "cell_type": "code",
   "execution_count": 6,
   "metadata": {},
   "outputs": [
    {
     "name": "stdout",
     "output_type": "stream",
     "text": [
      "<class 'pandas.core.frame.DataFrame'>\n",
      "RangeIndex: 5137 entries, 0 to 5136\n",
      "Data columns (total 10 columns):\n",
      " #   Column                     Non-Null Count  Dtype \n",
      "---  ------                     --------------  ----- \n",
      " 0   contract_name              5137 non-null   object\n",
      " 1   func_name                  4083 non-null   object\n",
      " 2   masked_contract            5137 non-null   object\n",
      " 3   func_body                  5137 non-null   object\n",
      " 4   func_body_removed_comment  5137 non-null   object\n",
      " 5   deepseek_output            5137 non-null   object\n",
      " 6   file_source_idx            5137 non-null   int64 \n",
      " 7   source_code                5137 non-null   object\n",
      " 8   source_idx                 5137 non-null   int64 \n",
      " 9   compile_info               5137 non-null   object\n",
      "dtypes: int64(2), object(8)\n",
      "memory usage: 401.5+ KB\n"
     ]
    },
    {
     "data": {
      "text/html": [
       "<div>\n",
       "<style scoped>\n",
       "    .dataframe tbody tr th:only-of-type {\n",
       "        vertical-align: middle;\n",
       "    }\n",
       "\n",
       "    .dataframe tbody tr th {\n",
       "        vertical-align: top;\n",
       "    }\n",
       "\n",
       "    .dataframe thead th {\n",
       "        text-align: right;\n",
       "    }\n",
       "</style>\n",
       "<table border=\"1\" class=\"dataframe\">\n",
       "  <thead>\n",
       "    <tr style=\"text-align: right;\">\n",
       "      <th></th>\n",
       "      <th>contract_name</th>\n",
       "      <th>func_name</th>\n",
       "      <th>masked_contract</th>\n",
       "      <th>func_body</th>\n",
       "      <th>func_body_removed_comment</th>\n",
       "      <th>deepseek_output</th>\n",
       "      <th>file_source_idx</th>\n",
       "      <th>source_code</th>\n",
       "      <th>source_idx</th>\n",
       "      <th>compile_info</th>\n",
       "    </tr>\n",
       "  </thead>\n",
       "  <tbody>\n",
       "    <tr>\n",
       "      <th>0</th>\n",
       "      <td>BitcoinAlliance</td>\n",
       "      <td>transferFrom</td>\n",
       "      <td>contract BitcoinAlliance is ERC20Detailed {\\n\\...</td>\n",
       "      <td>\\r\\n    require(value &lt;= _balances[from]);\\r\\n...</td>\n",
       "      <td>\\n    require(value &lt;= _balances[from]);\\n    ...</td>\n",
       "      <td>\\n    require(value &lt;= _balances[from]);\\n    ...</td>\n",
       "      <td>9311</td>\n",
       "      <td>/**\\n * Bitcoin Alliance\\n * There will be 3 l...</td>\n",
       "      <td>0</td>\n",
       "      <td>contracts/sample.sol:159:1: ParserError: Expec...</td>\n",
       "    </tr>\n",
       "    <tr>\n",
       "      <th>1</th>\n",
       "      <td>BasicToken</td>\n",
       "      <td>transfer</td>\n",
       "      <td>contract BasicToken is ERC20Basic {using SafeM...</td>\n",
       "      <td>require(_to != address(0));require(_value &lt;= b...</td>\n",
       "      <td>require(_to != address(0));require(_value &lt;= b...</td>\n",
       "      <td>require(_to != address(0));require(_value &lt;= b...</td>\n",
       "      <td>56112</td>\n",
       "      <td>pragma solidity ^0.4.23;contract Ownable {addr...</td>\n",
       "      <td>1</td>\n",
       "      <td>&lt;COMPILED_SUCCESSFULLY&gt;</td>\n",
       "    </tr>\n",
       "    <tr>\n",
       "      <th>2</th>\n",
       "      <td>TokenBEP20</td>\n",
       "      <td>None</td>\n",
       "      <td>contract TokenBEP20 is BEP20Interface, Owned{\\...</td>\n",
       "      <td>\\r\\n    symbol = \"NYINU\";\\r\\n    name = \"NYAN ...</td>\n",
       "      <td>\\n    symbol = \"NYINU\";\\n    name = \"NYAN INU\"...</td>\n",
       "      <td>\\n    symbol = \"TKN\";\\n    name = \"Token\";\\n  ...</td>\n",
       "      <td>53891</td>\n",
       "      <td>/**\\n\\nNyan Inu ($NYINU) is a community-focuse...</td>\n",
       "      <td>2</td>\n",
       "      <td>contracts/sample.sol:94:1: ParserError: Expect...</td>\n",
       "    </tr>\n",
       "    <tr>\n",
       "      <th>3</th>\n",
       "      <td>BZxProxy</td>\n",
       "      <td>setOracleRegistry</td>\n",
       "      <td>contract BZxProxy is BZxStorage, Proxiable {\\n...</td>\n",
       "      <td>\\r\\n        if (_registry != address(0))\\r\\n  ...</td>\n",
       "      <td>\\n        if (_registry != address(0))\\n      ...</td>\n",
       "      <td>\\n        if (_registry != address(0))\\n      ...</td>\n",
       "      <td>21459</td>\n",
       "      <td>/*\\n\\n  Copyright 2018 bZeroX, LLC\\n\\n  Licens...</td>\n",
       "      <td>3</td>\n",
       "      <td>&lt;COMPILED_SUCCESSFULLY&gt;</td>\n",
       "    </tr>\n",
       "    <tr>\n",
       "      <th>4</th>\n",
       "      <td>KingdomStorage</td>\n",
       "      <td>startWar</td>\n",
       "      <td>contract KingdomStorage is ERC20 {\\n    using ...</td>\n",
       "      <td>\\r\\n\\t\\tuint invaderWarriorsNumber = getWarrio...</td>\n",
       "      <td>\\n\\t\\tuint invaderWarriorsNumber = getWarriors...</td>\n",
       "      <td>\\n\\t\\temit War(_attacked, _invader, 0, 0);\\n\\t</td>\n",
       "      <td>48631</td>\n",
       "      <td>/**\\n * https://GreenRabbit.site\\n *\\n * Welco...</td>\n",
       "      <td>4</td>\n",
       "      <td>&lt;COMPILED_SUCCESSFULLY&gt;</td>\n",
       "    </tr>\n",
       "  </tbody>\n",
       "</table>\n",
       "</div>"
      ],
      "text/plain": [
       "     contract_name          func_name  \\\n",
       "0  BitcoinAlliance       transferFrom   \n",
       "1       BasicToken           transfer   \n",
       "2       TokenBEP20               None   \n",
       "3         BZxProxy  setOracleRegistry   \n",
       "4   KingdomStorage           startWar   \n",
       "\n",
       "                                     masked_contract  \\\n",
       "0  contract BitcoinAlliance is ERC20Detailed {\\n\\...   \n",
       "1  contract BasicToken is ERC20Basic {using SafeM...   \n",
       "2  contract TokenBEP20 is BEP20Interface, Owned{\\...   \n",
       "3  contract BZxProxy is BZxStorage, Proxiable {\\n...   \n",
       "4  contract KingdomStorage is ERC20 {\\n    using ...   \n",
       "\n",
       "                                           func_body  \\\n",
       "0  \\r\\n    require(value <= _balances[from]);\\r\\n...   \n",
       "1  require(_to != address(0));require(_value <= b...   \n",
       "2  \\r\\n    symbol = \"NYINU\";\\r\\n    name = \"NYAN ...   \n",
       "3  \\r\\n        if (_registry != address(0))\\r\\n  ...   \n",
       "4  \\r\\n\\t\\tuint invaderWarriorsNumber = getWarrio...   \n",
       "\n",
       "                           func_body_removed_comment  \\\n",
       "0  \\n    require(value <= _balances[from]);\\n    ...   \n",
       "1  require(_to != address(0));require(_value <= b...   \n",
       "2  \\n    symbol = \"NYINU\";\\n    name = \"NYAN INU\"...   \n",
       "3  \\n        if (_registry != address(0))\\n      ...   \n",
       "4  \\n\\t\\tuint invaderWarriorsNumber = getWarriors...   \n",
       "\n",
       "                                     deepseek_output  file_source_idx  \\\n",
       "0  \\n    require(value <= _balances[from]);\\n    ...             9311   \n",
       "1  require(_to != address(0));require(_value <= b...            56112   \n",
       "2  \\n    symbol = \"TKN\";\\n    name = \"Token\";\\n  ...            53891   \n",
       "3  \\n        if (_registry != address(0))\\n      ...            21459   \n",
       "4     \\n\\t\\temit War(_attacked, _invader, 0, 0);\\n\\t            48631   \n",
       "\n",
       "                                         source_code  source_idx  \\\n",
       "0  /**\\n * Bitcoin Alliance\\n * There will be 3 l...           0   \n",
       "1  pragma solidity ^0.4.23;contract Ownable {addr...           1   \n",
       "2  /**\\n\\nNyan Inu ($NYINU) is a community-focuse...           2   \n",
       "3  /*\\n\\n  Copyright 2018 bZeroX, LLC\\n\\n  Licens...           3   \n",
       "4  /**\\n * https://GreenRabbit.site\\n *\\n * Welco...           4   \n",
       "\n",
       "                                        compile_info  \n",
       "0  contracts/sample.sol:159:1: ParserError: Expec...  \n",
       "1                            <COMPILED_SUCCESSFULLY>  \n",
       "2  contracts/sample.sol:94:1: ParserError: Expect...  \n",
       "3                            <COMPILED_SUCCESSFULLY>  \n",
       "4                            <COMPILED_SUCCESSFULLY>  "
      ]
     },
     "execution_count": 6,
     "metadata": {},
     "output_type": "execute_result"
    }
   ],
   "source": [
    "compile_error = pd.read_parquet(\"/home/hieuvd/lvdthieu/CodeGen/data/compile_info/base/deepseek_compile_error.parquet\", \"fastparquet\")\n",
    "compile_error.info()\n",
    "compile_error.head()"
   ]
  }
 ],
 "metadata": {
  "kernelspec": {
   "display_name": "Python 3",
   "language": "python",
   "name": "python3"
  },
  "language_info": {
   "codemirror_mode": {
    "name": "ipython",
    "version": 3
   },
   "file_extension": ".py",
   "mimetype": "text/x-python",
   "name": "python",
   "nbconvert_exporter": "python",
   "pygments_lexer": "ipython3",
   "version": "3.11.5"
  }
 },
 "nbformat": 4,
 "nbformat_minor": 2
}
