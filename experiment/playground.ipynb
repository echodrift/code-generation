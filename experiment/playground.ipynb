{
 "cells": [
  {
   "cell_type": "code",
   "execution_count": null,
   "metadata": {},
   "outputs": [],
   "source": [
    "import pandas as pd\n",
    "\n",
    "test_data = pd.read_parquet(\"./data/data/test_data.parquet\", engine=\"fastparquet\")\n",
    "test_data.info()"
   ]
  },
  {
   "cell_type": "code",
   "execution_count": null,
   "metadata": {},
   "outputs": [],
   "source": [
    "test_data.head()"
   ]
  },
  {
   "cell_type": "code",
   "execution_count": null,
   "metadata": {},
   "outputs": [],
   "source": [
    "test_data[\"source_idx\"].nunique()"
   ]
  },
  {
   "cell_type": "code",
   "execution_count": null,
   "metadata": {},
   "outputs": [],
   "source": [
    "test_v2 = pd.read_parquet(\"./data/test/test-v2.parquet\", engine=\"fastparquet\")\n",
    "test_v2.info()"
   ]
  },
  {
   "cell_type": "code",
   "execution_count": null,
   "metadata": {},
   "outputs": [],
   "source": [
    "test_v3 = test_v2[~(test_v2[\"source_code_with_deepseek_output\"].str.contains(\"import\", regex=False))]\n"
   ]
  },
  {
   "cell_type": "code",
   "execution_count": null,
   "metadata": {},
   "outputs": [],
   "source": [
    "test_v3.info()"
   ]
  },
  {
   "cell_type": "code",
   "execution_count": null,
   "metadata": {},
   "outputs": [],
   "source": [
    "test_v3.reset_index(drop=True, inplace=True)"
   ]
  },
  {
   "cell_type": "code",
   "execution_count": null,
   "metadata": {},
   "outputs": [],
   "source": [
    "test_v3.to_parquet(\"./data/test/test-v3.parquet\")"
   ]
  },
  {
   "cell_type": "code",
   "execution_count": 13,
   "metadata": {
    "tags": []
   },
   "outputs": [],
   "source": [
    "import pandas as pd\n",
    "def view(path):\n",
    "    df = pd.read_parquet(path, engine=\"fastparquet\")\n",
    "    print(df.info())\n",
    "    print(df.head())"
   ]
  },
  {
   "cell_type": "code",
   "execution_count": 75,
   "metadata": {},
   "outputs": [
    {
     "name": "stdout",
     "output_type": "stream",
     "text": [
      "<class 'pandas.core.frame.DataFrame'>\n",
      "RangeIndex: 51015 entries, 0 to 51014\n",
      "Data columns (total 6 columns):\n",
      " #   Column            Non-Null Count  Dtype \n",
      "---  ------            --------------  ----- \n",
      " 0   source_idx        51015 non-null  object\n",
      " 1   contract_name     51015 non-null  object\n",
      " 2   func_name         47879 non-null  object\n",
      " 3   masked_contract   51015 non-null  object\n",
      " 4   func_body         51015 non-null  object\n",
      " 5   func_requirement  51015 non-null  object\n",
      "dtypes: object(6)\n",
      "memory usage: 2.3+ MB\n",
      "None\n",
      "  source_idx contract_name      func_name  \\\n",
      "0          0          KKNK           KKNK   \n",
      "1          0          KKNK       transfer   \n",
      "2          0          KKNK        approve   \n",
      "3          0          KKNK   transferFrom   \n",
      "4          0          KKNK  withdrawEther   \n",
      "5          0          KKNK                  \n",
      "6          1    BasicToken    totalSupply   \n",
      "7          1    BasicToken       transfer   \n",
      "8          1    BasicToken      balanceOf   \n",
      "9          1       Ownable           None   \n",
      "\n",
      "                                     masked_contract  \\\n",
      "0  contract KKNK is SafeMath{\\r\\n    string publi...   \n",
      "1  contract KKNK is SafeMath{\\r\\n    string publi...   \n",
      "2  contract KKNK is SafeMath{\\r\\n    string publi...   \n",
      "3  contract KKNK is SafeMath{\\r\\n    string publi...   \n",
      "4  contract KKNK is SafeMath{\\r\\n    string publi...   \n",
      "5  contract KKNK is SafeMath{\\r\\n    string publi...   \n",
      "6  contract BasicToken is ERC20Basic {\\r\\n  using...   \n",
      "7  contract BasicToken is ERC20Basic {\\r\\n  using...   \n",
      "8  contract BasicToken is ERC20Basic {\\r\\n  using...   \n",
      "9  contract Ownable {\\r\\n  address public owner;\\...   \n",
      "\n",
      "                                           func_body  \\\n",
      "0  \\r\\n        balanceOf[msg.sender] = initialSup...   \n",
      "1  \\r\\n        if (_to == 0x0) throw;            ...   \n",
      "2  \\r\\n\\t\\tif (_value <= 0) throw; \\r\\n        al...   \n",
      "3  \\r\\n        if (_to == 0x0) throw;            ...   \n",
      "4  \\r\\n\\t\\tif(msg.sender != owner)throw;\\r\\n\\t\\to...   \n",
      "5                                           \\r\\n       \n",
      "6                 \\r\\n    return totalSupply_;\\r\\n     \n",
      "7  \\r\\n    require(_value <= balances[msg.sender]...   \n",
      "8             \\r\\n    return balances[_owner];\\r\\n     \n",
      "9                  \\r\\n    owner = msg.sender;\\r\\n     \n",
      "\n",
      "                                    func_requirement  \n",
      "0  Initializes contract with initial supply token...  \n",
      "1                                         Send coins  \n",
      "2  Allow another contract to spend some tokens in...  \n",
      "3               A contract attempts to get the coins  \n",
      "4                          transfer balance to owner  \n",
      "5                                   can accept ether  \n",
      "6  *\\r\\n  * @dev Total number of tokens in existence  \n",
      "7  *\\r\\n  * @dev Transfer token for a specified a...  \n",
      "8  *\\r\\n  * @dev Gets the balance of the specifie...  \n",
      "9  *\\r\\n   * @dev The Ownable constructor sets th...  \n"
     ]
    }
   ],
   "source": [
    "view(\"/home/hieuvd/lvdthieu/CodeGen/data/data/test_data.parquet\")\n"
   ]
  },
  {
   "cell_type": "code",
   "execution_count": 76,
   "metadata": {},
   "outputs": [
    {
     "data": {
      "text/plain": [
       "count    51015.000000\n",
       "mean      4386.571812\n",
       "std       2534.794551\n",
       "min          0.000000\n",
       "25%       2136.000000\n",
       "50%       4391.000000\n",
       "75%       6592.000000\n",
       "max       8743.000000\n",
       "Name: source_idx, dtype: float64"
      ]
     },
     "execution_count": 76,
     "metadata": {},
     "output_type": "execute_result"
    }
   ],
   "source": [
    "test_data = pd.read_parquet(\"/home/hieuvd/lvdthieu/CodeGen/data/data/test_data.parquet\", engine=\"fastparquet\")\n",
    "test_data[\"source_idx\"] = test_data[\"source_idx\"].apply(lambda x: int(x))\n",
    "test_data[\"source_idx\"].describe()"
   ]
  },
  {
   "cell_type": "code",
   "execution_count": 99,
   "metadata": {},
   "outputs": [
    {
     "data": {
      "text/html": [
       "<div>\n",
       "<style scoped>\n",
       "    .dataframe tbody tr th:only-of-type {\n",
       "        vertical-align: middle;\n",
       "    }\n",
       "\n",
       "    .dataframe tbody tr th {\n",
       "        vertical-align: top;\n",
       "    }\n",
       "\n",
       "    .dataframe thead th {\n",
       "        text-align: right;\n",
       "    }\n",
       "</style>\n",
       "<table border=\"1\" class=\"dataframe\">\n",
       "  <thead>\n",
       "    <tr style=\"text-align: right;\">\n",
       "      <th></th>\n",
       "      <th>source_idx</th>\n",
       "      <th>contract_name</th>\n",
       "      <th>count</th>\n",
       "    </tr>\n",
       "  </thead>\n",
       "  <tbody>\n",
       "    <tr>\n",
       "      <th>0</th>\n",
       "      <td>0</td>\n",
       "      <td>KKNK</td>\n",
       "      <td>6</td>\n",
       "    </tr>\n",
       "    <tr>\n",
       "      <th>1</th>\n",
       "      <td>1</td>\n",
       "      <td>BasicToken</td>\n",
       "      <td>3</td>\n",
       "    </tr>\n",
       "    <tr>\n",
       "      <th>2</th>\n",
       "      <td>1</td>\n",
       "      <td>Claimable</td>\n",
       "      <td>2</td>\n",
       "    </tr>\n",
       "    <tr>\n",
       "      <th>3</th>\n",
       "      <td>1</td>\n",
       "      <td>Ownable</td>\n",
       "      <td>2</td>\n",
       "    </tr>\n",
       "    <tr>\n",
       "      <th>4</th>\n",
       "      <td>1</td>\n",
       "      <td>StacsToken</td>\n",
       "      <td>4</td>\n",
       "    </tr>\n",
       "    <tr>\n",
       "      <th>...</th>\n",
       "      <td>...</td>\n",
       "      <td>...</td>\n",
       "      <td>...</td>\n",
       "    </tr>\n",
       "    <tr>\n",
       "      <th>9565</th>\n",
       "      <td>8738</td>\n",
       "      <td>TeuToken</td>\n",
       "      <td>1</td>\n",
       "    </tr>\n",
       "    <tr>\n",
       "      <th>9566</th>\n",
       "      <td>8738</td>\n",
       "      <td>teuInitialTokenSale</td>\n",
       "      <td>24</td>\n",
       "    </tr>\n",
       "    <tr>\n",
       "      <th>9567</th>\n",
       "      <td>8740</td>\n",
       "      <td>GodMode</td>\n",
       "      <td>3</td>\n",
       "    </tr>\n",
       "    <tr>\n",
       "      <th>9568</th>\n",
       "      <td>8743</td>\n",
       "      <td>ERC20</td>\n",
       "      <td>18</td>\n",
       "    </tr>\n",
       "    <tr>\n",
       "      <th>9569</th>\n",
       "      <td>8743</td>\n",
       "      <td>NCashToken</td>\n",
       "      <td>1</td>\n",
       "    </tr>\n",
       "  </tbody>\n",
       "</table>\n",
       "<p>9570 rows × 3 columns</p>\n",
       "</div>"
      ],
      "text/plain": [
       "      source_idx        contract_name  count\n",
       "0              0                 KKNK      6\n",
       "1              1           BasicToken      3\n",
       "2              1            Claimable      2\n",
       "3              1              Ownable      2\n",
       "4              1           StacsToken      4\n",
       "...          ...                  ...    ...\n",
       "9565        8738             TeuToken      1\n",
       "9566        8738  teuInitialTokenSale     24\n",
       "9567        8740              GodMode      3\n",
       "9568        8743                ERC20     18\n",
       "9569        8743           NCashToken      1\n",
       "\n",
       "[9570 rows x 3 columns]"
      ]
     },
     "execution_count": 99,
     "metadata": {},
     "output_type": "execute_result"
    }
   ],
   "source": [
    "test = test_data.groupby([\"source_idx\", \"contract_name\"]).size().reset_index().rename(columns={0: \"count\"})\n",
    "test"
   ]
  },
  {
   "cell_type": "code",
   "execution_count": 93,
   "metadata": {},
   "outputs": [
    {
     "name": "stdout",
     "output_type": "stream",
     "text": [
      "<class 'pandas.core.frame.DataFrame'>\n",
      "Index: 8744 entries, 0 to 12077\n",
      "Data columns (total 1 columns):\n",
      " #   Column       Non-Null Count  Dtype \n",
      "---  ------       --------------  ----- \n",
      " 0   source_code  8744 non-null   object\n",
      "dtypes: object(1)\n",
      "memory usage: 136.6+ KB\n"
     ]
    }
   ],
   "source": [
    "test_file = pd.read_parquet(\"/home/hieuvd/lvdthieu/CodeGen/data/solfile-v3/test_file.parquet\", engine=\"fastparquet\")\n",
    "test_file.info()"
   ]
  },
  {
   "cell_type": "code",
   "execution_count": 94,
   "metadata": {},
   "outputs": [],
   "source": [
    "test_file.reset_index(drop=True, inplace=True)"
   ]
  },
  {
   "cell_type": "code",
   "execution_count": 95,
   "metadata": {},
   "outputs": [],
   "source": [
    "with open(\"check.sol\", \"w\") as f:\n",
    "    f.write(test_file.loc[5203, \"source_code\"])"
   ]
  },
  {
   "cell_type": "code",
   "execution_count": 96,
   "metadata": {},
   "outputs": [],
   "source": [
    "test_file.to_parquet(\"/home/hieuvd/lvdthieu/CodeGen/data/solfile-v3/test_file.parquet\", engine=\"fastparquet\")"
   ]
  },
  {
   "cell_type": "code",
   "execution_count": 100,
   "metadata": {},
   "outputs": [
    {
     "name": "stdout",
     "output_type": "stream",
     "text": [
      "<class 'pandas.core.frame.DataFrame'>\n",
      "RangeIndex: 85544 entries, 0 to 85543\n",
      "Data columns (total 1 columns):\n",
      " #   Column       Non-Null Count  Dtype \n",
      "---  ------       --------------  ----- \n",
      " 0   source_code  85544 non-null  object\n",
      "dtypes: object(1)\n",
      "memory usage: 668.4+ KB\n",
      "None\n",
      "                                         source_code\n",
      "0  pragma solidity ^0.4.20;\\r\\n\\r\\nlibrary SafeMa...\n",
      "1  // SPDX-License-Identifier: UNLICENSED\\r\\n\\r\\n...\n",
      "2  // SPDX-License-Identifier: GPL-3.0-or-later\\n...\n",
      "3  pragma solidity ^0.8.0;\\r\\n\\r\\ninterface IERC2...\n",
      "4  pragma solidity ^0.4.24;\\r\\n// This contract h...\n",
      "5  pragma solidity ^0.4.17;\\r\\n\\r\\n contract toke...\n",
      "6  /**\\r\\n *Submitted for verification at Ethersc...\n",
      "7  //Join our Telegram: https://t.me/BigBCat\\r\\n\\...\n",
      "8  pragma solidity ^0.5.17;\\r\\n\\r\\n\\r\\nlibrary Sa...\n",
      "9  /*\\r\\n\\r\\n\\r\\nhttps://t.me/stealthtokenofficia...\n"
     ]
    }
   ],
   "source": [
    "view(\"/home/hieuvd/lvdthieu/CodeGen/data/solfile-v3/train_file.parquet\")"
   ]
  },
  {
   "cell_type": "code",
   "execution_count": 101,
   "metadata": {},
   "outputs": [
    {
     "name": "stdout",
     "output_type": "stream",
     "text": [
      "<class 'pandas.core.frame.DataFrame'>\n",
      "RangeIndex: 16373 entries, 0 to 16372\n",
      "Data columns (total 6 columns):\n",
      " #   Column            Non-Null Count  Dtype \n",
      "---  ------            --------------  ----- \n",
      " 0   source_idx        16373 non-null  object\n",
      " 1   contract_name     16373 non-null  object\n",
      " 2   func_name         15332 non-null  object\n",
      " 3   masked_contract   16373 non-null  object\n",
      " 4   func_body         16373 non-null  object\n",
      " 5   func_requirement  16373 non-null  object\n",
      "dtypes: object(6)\n",
      "memory usage: 767.6+ KB\n",
      "None\n",
      "  source_idx contract_name       func_name  \\\n",
      "0      82708       Context      _msgSender   \n",
      "1      82708        yVault       available   \n",
      "2      82708        yVault        withdraw   \n",
      "3      82709         Token     totalSupply   \n",
      "4      82709         Token       balanceOf   \n",
      "5      82709         Token        transfer   \n",
      "6      82709         Token    transferFrom   \n",
      "7      82709         Token         approve   \n",
      "8      82709         Token       allowance   \n",
      "9      82709     TCGCToken  approveAndCall   \n",
      "\n",
      "                                     masked_contract  \\\n",
      "0  contract Context {\\r\\n    constructor () inter...   \n",
      "1  contract yVault is ERC20 {\\r\\n    using SafeER...   \n",
      "2  contract yVault is ERC20 {\\r\\n    using SafeER...   \n",
      "3  contract Token {\\r\\n\\r\\n    /// @return total ...   \n",
      "4  contract Token {\\r\\n\\r\\n    /// @return total ...   \n",
      "5  contract Token {\\r\\n\\r\\n    /// @return total ...   \n",
      "6  contract Token {\\r\\n\\r\\n    /// @return total ...   \n",
      "7  contract Token {\\r\\n\\r\\n    /// @return total ...   \n",
      "8  contract Token {\\r\\n\\r\\n    /// @return total ...   \n",
      "9  contract TCGCToken is StandardToken {\\r\\n\\r\\n ...   \n",
      "\n",
      "                                           func_body  \\\n",
      "0             \\r\\n        return msg.sender;\\r\\n       \n",
      "1  \\r\\n        return token.balanceOf(address(thi...   \n",
      "2  \\r\\n        uint r = (balance().mul(_shares))....   \n",
      "3                                                      \n",
      "4                                                      \n",
      "5                                                      \n",
      "6                                                      \n",
      "7                                                      \n",
      "8                                                      \n",
      "9  \\r\\n        allowed[msg.sender][_spender] = _v...   \n",
      "\n",
      "                                    func_requirement  \n",
      "0      solhint-disable-previous-line no-empty-blocks  \n",
      "1  Custom logic in here for how much the vault al...  \n",
      "2  No rebalance implementation for lower fees and...  \n",
      "3                   / @return total amount of tokens  \n",
      "4  / @param _owner The address from which the bal...  \n",
      "5  / @notice send `_value` token to `_to` from `m...  \n",
      "6  / @notice send `_value` token to `_to` from `_...  \n",
      "7  / @notice `msg.sender` approves `_addr` to spe...  \n",
      "8  / @param _owner The address of the account own...  \n",
      "9     Approves and then calls the receiving contract  \n"
     ]
    }
   ],
   "source": [
    "view(\"/home/hieuvd/lvdthieu/CodeGen/parser/out/result30.parquet\")"
   ]
  },
  {
   "cell_type": "code",
   "execution_count": 102,
   "metadata": {},
   "outputs": [
    {
     "name": "stdout",
     "output_type": "stream",
     "text": [
      "<class 'pandas.core.frame.DataFrame'>\n",
      "RangeIndex: 544319 entries, 0 to 544318\n",
      "Data columns (total 6 columns):\n",
      " #   Column            Non-Null Count   Dtype \n",
      "---  ------            --------------   ----- \n",
      " 0   source_idx        544319 non-null  object\n",
      " 1   contract_name     544319 non-null  object\n",
      " 2   func_name         510238 non-null  object\n",
      " 3   masked_contract   544319 non-null  object\n",
      " 4   func_body         544319 non-null  object\n",
      " 5   func_requirement  544319 non-null  object\n",
      "dtypes: object(6)\n",
      "memory usage: 24.9+ MB\n"
     ]
    }
   ],
   "source": [
    "train_file = pd.read_parquet(\"/home/hieuvd/lvdthieu/CodeGen/data/data/train_data.parquet\", engine=\"fastparquet\")\n",
    "train_file.info()"
   ]
  },
  {
   "cell_type": "code",
   "execution_count": 103,
   "metadata": {},
   "outputs": [
    {
     "data": {
      "text/html": [
       "<div>\n",
       "<style scoped>\n",
       "    .dataframe tbody tr th:only-of-type {\n",
       "        vertical-align: middle;\n",
       "    }\n",
       "\n",
       "    .dataframe tbody tr th {\n",
       "        vertical-align: top;\n",
       "    }\n",
       "\n",
       "    .dataframe thead th {\n",
       "        text-align: right;\n",
       "    }\n",
       "</style>\n",
       "<table border=\"1\" class=\"dataframe\">\n",
       "  <thead>\n",
       "    <tr style=\"text-align: right;\">\n",
       "      <th></th>\n",
       "      <th>source_idx</th>\n",
       "      <th>contract_name</th>\n",
       "      <th>count</th>\n",
       "    </tr>\n",
       "  </thead>\n",
       "  <tbody>\n",
       "    <tr>\n",
       "      <th>0</th>\n",
       "      <td>0</td>\n",
       "      <td>TangentStake</td>\n",
       "      <td>5</td>\n",
       "    </tr>\n",
       "    <tr>\n",
       "      <th>1</th>\n",
       "      <td>10</td>\n",
       "      <td>COVIDBots</td>\n",
       "      <td>3</td>\n",
       "    </tr>\n",
       "    <tr>\n",
       "      <th>2</th>\n",
       "      <td>10</td>\n",
       "      <td>ERC721</td>\n",
       "      <td>26</td>\n",
       "    </tr>\n",
       "    <tr>\n",
       "      <th>3</th>\n",
       "      <td>10003</td>\n",
       "      <td>SZUSDT</td>\n",
       "      <td>2</td>\n",
       "    </tr>\n",
       "    <tr>\n",
       "      <th>4</th>\n",
       "      <td>10012</td>\n",
       "      <td>ERC20</td>\n",
       "      <td>17</td>\n",
       "    </tr>\n",
       "    <tr>\n",
       "      <th>...</th>\n",
       "      <td>...</td>\n",
       "      <td>...</td>\n",
       "      <td>...</td>\n",
       "    </tr>\n",
       "    <tr>\n",
       "      <th>102602</th>\n",
       "      <td>9995</td>\n",
       "      <td>Ownable</td>\n",
       "      <td>4</td>\n",
       "    </tr>\n",
       "    <tr>\n",
       "      <th>102603</th>\n",
       "      <td>9995</td>\n",
       "      <td>Pausable</td>\n",
       "      <td>2</td>\n",
       "    </tr>\n",
       "    <tr>\n",
       "      <th>102604</th>\n",
       "      <td>9998</td>\n",
       "      <td>BonePaymentToken</td>\n",
       "      <td>6</td>\n",
       "    </tr>\n",
       "    <tr>\n",
       "      <th>102605</th>\n",
       "      <td>9998</td>\n",
       "      <td>ERC20</td>\n",
       "      <td>18</td>\n",
       "    </tr>\n",
       "    <tr>\n",
       "      <th>102606</th>\n",
       "      <td>9998</td>\n",
       "      <td>Ownable</td>\n",
       "      <td>4</td>\n",
       "    </tr>\n",
       "  </tbody>\n",
       "</table>\n",
       "<p>102607 rows × 3 columns</p>\n",
       "</div>"
      ],
      "text/plain": [
       "       source_idx     contract_name  count\n",
       "0               0      TangentStake      5\n",
       "1              10         COVIDBots      3\n",
       "2              10            ERC721     26\n",
       "3           10003            SZUSDT      2\n",
       "4           10012             ERC20     17\n",
       "...           ...               ...    ...\n",
       "102602       9995           Ownable      4\n",
       "102603       9995          Pausable      2\n",
       "102604       9998  BonePaymentToken      6\n",
       "102605       9998             ERC20     18\n",
       "102606       9998           Ownable      4\n",
       "\n",
       "[102607 rows x 3 columns]"
      ]
     },
     "execution_count": 103,
     "metadata": {},
     "output_type": "execute_result"
    }
   ],
   "source": [
    "train = train_file.groupby([\"source_idx\", \"contract_name\"]).size().reset_index().rename(columns={0: \"count\"})\n",
    "train"
   ]
  },
  {
   "cell_type": "code",
   "execution_count": 5,
   "metadata": {},
   "outputs": [
    {
     "name": "stdout",
     "output_type": "stream",
     "text": [
      "<class 'pandas.core.frame.DataFrame'>\n",
      "RangeIndex: 8744 entries, 0 to 8743\n",
      "Data columns (total 1 columns):\n",
      " #   Column       Non-Null Count  Dtype \n",
      "---  ------       --------------  ----- \n",
      " 0   source_code  8744 non-null   object\n",
      "dtypes: object(1)\n",
      "memory usage: 68.4+ KB\n",
      "None\n",
      "                                         source_code\n",
      "0  /**\\r\\n *Submitted for verification at Ethersc...\n",
      "1  pragma solidity 0.4.25;\\r\\n\\r\\ncontract ERC20B...\n",
      "2  pragma solidity >=0.4.22 <0.7.0;\\r\\n\\r\\nabstra...\n",
      "3  pragma solidity 0.8.4;\\r\\n\\r\\n// SPDX-License-...\n",
      "4  //* SVChain.org \\r\\n\\r\\npragma solidity ^0.4.2...\n",
      "5  // SPDX-License-Identifier: MIT\\r\\n\\r\\npragma ...\n",
      "6  pragma solidity ^0.4.18;\\r\\n/** --------------...\n",
      "7  /*\\r\\n\\r\\n\\r\\nTelegram : https://t.me/goodluck...\n",
      "8  /* ===========================================...\n",
      "9  pragma solidity 0.6.12;\\n\\n/*\\n    Owned contr...\n"
     ]
    }
   ],
   "source": [
    "view(\"/home/hieuvd/lvdthieu/CodeGen/data/test/test_file.parquet\")"
   ]
  },
  {
   "cell_type": "code",
   "execution_count": 6,
   "metadata": {},
   "outputs": [
    {
     "data": {
      "text/plain": [
       "30"
      ]
     },
     "execution_count": 6,
     "metadata": {},
     "output_type": "execute_result"
    }
   ],
   "source": [
    "dfs = []\n",
    "for i in range(1, 31):\n",
    "    dfs.append(pd.read_parquet(f\"/home/hieuvd/lvdthieu/CodeGen/compilation/error/error{i}.parquet\"))\n",
    "len(dfs)"
   ]
  },
  {
   "cell_type": "code",
   "execution_count": 7,
   "metadata": {},
   "outputs": [
    {
     "name": "stdout",
     "output_type": "stream",
     "text": [
      "<class 'pandas.core.frame.DataFrame'>\n",
      "Index: 3334 entries, 2 to 12074\n",
      "Data columns (total 2 columns):\n",
      " #   Column       Non-Null Count  Dtype \n",
      "---  ------       --------------  ----- \n",
      " 0   source_code  3334 non-null   object\n",
      " 1   error        3334 non-null   object\n",
      "dtypes: object(2)\n",
      "memory usage: 78.1+ KB\n"
     ]
    }
   ],
   "source": [
    "error = pd.concat(dfs, axis=0)\n",
    "error.info()"
   ]
  },
  {
   "cell_type": "code",
   "execution_count": 10,
   "metadata": {},
   "outputs": [
    {
     "data": {
      "text/html": [
       "<div>\n",
       "<style scoped>\n",
       "    .dataframe tbody tr th:only-of-type {\n",
       "        vertical-align: middle;\n",
       "    }\n",
       "\n",
       "    .dataframe tbody tr th {\n",
       "        vertical-align: top;\n",
       "    }\n",
       "\n",
       "    .dataframe thead th {\n",
       "        text-align: right;\n",
       "    }\n",
       "</style>\n",
       "<table border=\"1\" class=\"dataframe\">\n",
       "  <thead>\n",
       "    <tr style=\"text-align: right;\">\n",
       "      <th></th>\n",
       "      <th>source_code</th>\n",
       "      <th>error</th>\n",
       "    </tr>\n",
       "    <tr>\n",
       "      <th>index</th>\n",
       "      <th></th>\n",
       "      <th></th>\n",
       "    </tr>\n",
       "  </thead>\n",
       "  <tbody>\n",
       "    <tr>\n",
       "      <th>2</th>\n",
       "      <td>contract Strategy is BaseStrategyInitializable...</td>\n",
       "      <td>Warning: SPDX license identifier not provided ...</td>\n",
       "    </tr>\n",
       "    <tr>\n",
       "      <th>13</th>\n",
       "      <td>contract ThisExternalAssembly {\\r\\n    uint pu...</td>\n",
       "      <td>ParserError: Expected ';' but got '}'\\n  --&gt; c...</td>\n",
       "    </tr>\n",
       "    <tr>\n",
       "      <th>20</th>\n",
       "      <td>pragma solidity ^0.5.2;\\r\\n\\r\\n\\r\\n\\r\\n/**\\r\\n...</td>\n",
       "      <td>contracts/sample.sol:17:19: DeclarationError: ...</td>\n",
       "    </tr>\n",
       "    <tr>\n",
       "      <th>24</th>\n",
       "      <td>pragma solidity ^0.8.0;\\r\\n/**\\r\\n * @dev Cont...</td>\n",
       "      <td>Warning: SPDX license identifier not provided ...</td>\n",
       "    </tr>\n",
       "    <tr>\n",
       "      <th>29</th>\n",
       "      <td>pragma solidity ^0.8.4;\\r\\n\\r\\n\\r\\n\\r\\n\\r\\n\\r\\...</td>\n",
       "      <td>Warning: SPDX license identifier not provided ...</td>\n",
       "    </tr>\n",
       "  </tbody>\n",
       "</table>\n",
       "</div>"
      ],
      "text/plain": [
       "                                             source_code  \\\n",
       "index                                                      \n",
       "2      contract Strategy is BaseStrategyInitializable...   \n",
       "13     contract ThisExternalAssembly {\\r\\n    uint pu...   \n",
       "20     pragma solidity ^0.5.2;\\r\\n\\r\\n\\r\\n\\r\\n/**\\r\\n...   \n",
       "24     pragma solidity ^0.8.0;\\r\\n/**\\r\\n * @dev Cont...   \n",
       "29     pragma solidity ^0.8.4;\\r\\n\\r\\n\\r\\n\\r\\n\\r\\n\\r\\...   \n",
       "\n",
       "                                                   error  \n",
       "index                                                     \n",
       "2      Warning: SPDX license identifier not provided ...  \n",
       "13     ParserError: Expected ';' but got '}'\\n  --> c...  \n",
       "20     contracts/sample.sol:17:19: DeclarationError: ...  \n",
       "24     Warning: SPDX license identifier not provided ...  \n",
       "29     Warning: SPDX license identifier not provided ...  "
      ]
     },
     "execution_count": 10,
     "metadata": {},
     "output_type": "execute_result"
    }
   ],
   "source": [
    "error.head()"
   ]
  },
  {
   "cell_type": "code",
   "execution_count": 11,
   "metadata": {},
   "outputs": [
    {
     "data": {
      "text/plain": [
       "'Warning: SPDX license identifier not provided in source file. Before publishing, consider adding a comment containing \"SPDX-License-Identifier: <SPDX-License>\" to each source file. Use \"SPDX-License-Identifier: UNLICENSED\" for non-open-source code. Please see https://spdx.org for more information.\\n--> contracts/sample.sol\\n\\n\\nWarning: Source file does not specify required compiler version! Consider adding \"pragma solidity ^0.8.13;\"\\n--> contracts/sample.sol\\n\\n\\nDeclarationError: Identifier not found or not unique.\\n --> contracts/sample.sol:1:22:\\n  |\\n1 | contract Strategy is BaseStrategyInitializable {\\n  |                      ^^^^^^^^^^^^^^^^^^^^^^^^^\\n\\n\\nError HH600: Compilation failed\\nHardhatError: HH600: Compilation failed\\n    at SimpleTaskDefinition.action (/home/hieuvd/lvdthieu/CodeGen/compilation/compilers/hardhat1/node_modules/hardhat/src/builtin-tasks/compile.ts:499:15)\\n    at Environment._runTaskDefinition (/home/hieuvd/lvdthieu/CodeGen/compilation/compilers/hardhat1/node_modules/hardhat/src/internal/core/runtime-environment.ts:358:14)\\n    at OverriddenTaskDefinition._action (/home/hieuvd/lvdthieu/CodeGen/compilation/compilers/hardhat1/node_modules/@typechain/hardhat/src/index.ts:28:30)\\n    at Environment._runTaskDefinition (/home/hieuvd/lvdthieu/CodeGen/compilation/compilers/hardhat1/node_modules/hardhat/src/internal/core/runtime-environment.ts:358:14)\\n    at Environment.run (/home/hieuvd/lvdthieu/CodeGen/compilation/compilers/hardhat1/node_modules/hardhat/src/internal/core/runtime-environment.ts:191:14)\\n    at SimpleTaskDefinition.action (/home/hieuvd/lvdthieu/CodeGen/compilation/compilers/hardhat1/node_modules/hardhat/src/builtin-tasks/compile.ts:1406:63)\\n    at Environment._runTaskDefinition (/home/hieuvd/lvdthieu/CodeGen/compilation/compilers/hardhat1/node_modules/hardhat/src/internal/core/runtime-environment.ts:358:14)\\n    at Environment.run (/home/hieuvd/lvdthieu/CodeGen/compilation/compilers/hardhat1/node_modules/hardhat/src/internal/core/runtime-environment.ts:191:14)\\n    at SimpleTaskDefinition.action (/home/hieuvd/lvdthieu/CodeGen/compilation/compilers/hardhat1/node_modules/hardhat/src/builtin-tasks/compile.ts:1486:7)\\n    at Environment._runTaskDefinition (/home/hieuvd/lvdthieu/CodeGen/compilation/compilers/hardhat1/node_modules/hardhat/src/internal/core/runtime-environment.ts:358:14)\\n'"
      ]
     },
     "execution_count": 11,
     "metadata": {},
     "output_type": "execute_result"
    }
   ],
   "source": [
    "error.loc[2, \"error\"]"
   ]
  },
  {
   "cell_type": "code",
   "execution_count": 4,
   "metadata": {},
   "outputs": [
    {
     "name": "stdout",
     "output_type": "stream",
     "text": [
      "<class 'pandas.core.frame.DataFrame'>\n",
      "RangeIndex: 51015 entries, 0 to 51014\n",
      "Data columns (total 6 columns):\n",
      " #   Column            Non-Null Count  Dtype \n",
      "---  ------            --------------  ----- \n",
      " 0   source_idx        51015 non-null  object\n",
      " 1   contract_name     51015 non-null  object\n",
      " 2   func_name         47879 non-null  object\n",
      " 3   masked_contract   51015 non-null  object\n",
      " 4   func_body         51015 non-null  object\n",
      " 5   func_requirement  51015 non-null  object\n",
      "dtypes: object(6)\n",
      "memory usage: 2.3+ MB\n",
      "None\n",
      "  source_idx contract_name      func_name  \\\n",
      "0          0          KKNK           KKNK   \n",
      "1          0          KKNK       transfer   \n",
      "2          0          KKNK        approve   \n",
      "3          0          KKNK   transferFrom   \n",
      "4          0          KKNK  withdrawEther   \n",
      "\n",
      "                                     masked_contract  \\\n",
      "0  contract KKNK is SafeMath{\\r\\n    string publi...   \n",
      "1  contract KKNK is SafeMath{\\r\\n    string publi...   \n",
      "2  contract KKNK is SafeMath{\\r\\n    string publi...   \n",
      "3  contract KKNK is SafeMath{\\r\\n    string publi...   \n",
      "4  contract KKNK is SafeMath{\\r\\n    string publi...   \n",
      "\n",
      "                                           func_body  \\\n",
      "0  \\r\\n        balanceOf[msg.sender] = initialSup...   \n",
      "1  \\r\\n        if (_to == 0x0) throw;            ...   \n",
      "2  \\r\\n\\t\\tif (_value <= 0) throw; \\r\\n        al...   \n",
      "3  \\r\\n        if (_to == 0x0) throw;            ...   \n",
      "4  \\r\\n\\t\\tif(msg.sender != owner)throw;\\r\\n\\t\\to...   \n",
      "\n",
      "                                    func_requirement  \n",
      "0  Initializes contract with initial supply token...  \n",
      "1                                         Send coins  \n",
      "2  Allow another contract to spend some tokens in...  \n",
      "3               A contract attempts to get the coins  \n",
      "4                          transfer balance to owner  \n"
     ]
    }
   ],
   "source": [
    "view(\"/home/hieuvd/lvdthieu/CodeGen/data/test/test_data.parquet\")"
   ]
  },
  {
   "cell_type": "code",
   "execution_count": 8,
   "metadata": {},
   "outputs": [
    {
     "data": {
      "text/plain": [
       "4508"
      ]
     },
     "execution_count": 8,
     "metadata": {},
     "output_type": "execute_result"
    }
   ],
   "source": [
    "test_data = pd.read_parquet(\"/home/hieuvd/lvdthieu/CodeGen/data/test/test_data.parquet\")\n",
    "test_data[\"source_idx\"].nunique()"
   ]
  },
  {
   "cell_type": "code",
   "execution_count": 2,
   "metadata": {},
   "outputs": [
    {
     "name": "stdout",
     "output_type": "stream",
     "text": [
      "<class 'pandas.core.frame.DataFrame'>\n",
      "RangeIndex: 11781 entries, 0 to 11780\n",
      "Data columns (total 9 columns):\n",
      " #   Column            Non-Null Count  Dtype \n",
      "---  ------            --------------  ----- \n",
      " 0   file_name         11781 non-null  object\n",
      " 1   file_address      11781 non-null  object\n",
      " 2   contract_name     11781 non-null  object\n",
      " 3   func_name         10691 non-null  object\n",
      " 4   masked_contract   11781 non-null  object\n",
      " 5   func_body         11781 non-null  object\n",
      " 6   func_requirement  11781 non-null  object\n",
      " 7   deepseek_output   11781 non-null  object\n",
      " 8   finetune_output   11781 non-null  object\n",
      "dtypes: object(9)\n",
      "memory usage: 828.5+ KB\n"
     ]
    }
   ],
   "source": [
    "import json\n",
    "import pandas as pd\n",
    "\n",
    "with open(\"/home/hieuvd/lvdthieu/CodeGen/data/test/test.jsonl\", \"r\") as f:\n",
    "    data = [json.loads(line) for line in f]\n",
    "\n",
    "df = pd.DataFrame(data)\n",
    "df.info()"
   ]
  },
  {
   "cell_type": "code",
   "execution_count": 3,
   "metadata": {},
   "outputs": [],
   "source": [
    "test_file_v1 = pd.read_parquet(\"/home/hieuvd/lvdthieu/CodeGen/data/solfile/test_file.parquet\", engine=\"fastparquet\")"
   ]
  },
  {
   "cell_type": "code",
   "execution_count": 4,
   "metadata": {},
   "outputs": [
    {
     "name": "stdout",
     "output_type": "stream",
     "text": [
      "<class 'pandas.core.frame.DataFrame'>\n",
      "RangeIndex: 18594 entries, 0 to 18593\n",
      "Data columns (total 6 columns):\n",
      " #   Column            Non-Null Count  Dtype \n",
      "---  ------            --------------  ----- \n",
      " 0   file_name         18594 non-null  object\n",
      " 1   file_address      18594 non-null  object\n",
      " 2   source_code       18594 non-null  object\n",
      " 3   abi               18594 non-null  object\n",
      " 4   compiler_version  18594 non-null  object\n",
      " 5   library           18594 non-null  object\n",
      "dtypes: object(6)\n",
      "memory usage: 871.7+ KB\n"
     ]
    }
   ],
   "source": [
    "test_file_v1.info()"
   ]
  },
  {
   "cell_type": "code",
   "execution_count": 5,
   "metadata": {},
   "outputs": [],
   "source": [
    "test_file_v1 = test_file_v1[[\"file_name\", \"file_address\", \"source_code\"]]"
   ]
  },
  {
   "cell_type": "code",
   "execution_count": 30,
   "metadata": {},
   "outputs": [
    {
     "data": {
      "text/plain": [
       "11781"
      ]
     },
     "execution_count": 30,
     "metadata": {},
     "output_type": "execute_result"
    }
   ],
   "source": [
    "source_code = []\n",
    "for i in range(len(df)):\n",
    "    tmp = test_file_v1[(test_file_v1[\"file_name\"] == df.loc[i, \"file_name\"]) &\n",
    "                       (test_file_v1[\"file_address\"] == df.loc[i, \"file_address\"])][\"source_code\"]\n",
    "    if len(tmp) == 1:\n",
    "        source_code.append(tmp.iloc[0])\n",
    "    else:\n",
    "        for j in range(len(tmp)):\n",
    "            source = tmp.iloc[j]\n",
    "            #  + df.loc[i, \"func_body\"] + masked_contract[start_of_function+20:]\n",
    "            #  and contract in source\n",
    "            if (df.loc[i, \"contract_name\"] in source and\n",
    "                (df.loc[i, \"func_name\"] if df.loc[i, \"func_name\"] else \"\") in source and\n",
    "                df.loc[i, \"func_body\"] in source):\n",
    "                source_code.append(source)\n",
    "                break\n",
    "len(source_code)"
   ]
  },
  {
   "cell_type": "code",
   "execution_count": 31,
   "metadata": {},
   "outputs": [],
   "source": [
    "df[\"source_code\"] = source_code\n",
    "\n",
    "df.to_parquet(\"/home/hieuvd/lvdthieu/CodeGen/data/test/test_refine.parquet\", engine=\"fastparquet\")"
   ]
  },
  {
   "cell_type": "code",
   "execution_count": 3,
   "metadata": {},
   "outputs": [
    {
     "name": "stdout",
     "output_type": "stream",
     "text": [
      "<class 'pandas.core.frame.DataFrame'>\n",
      "RangeIndex: 11781 entries, 0 to 11780\n",
      "Data columns (total 10 columns):\n",
      " #   Column            Non-Null Count  Dtype \n",
      "---  ------            --------------  ----- \n",
      " 0   file_name         11781 non-null  object\n",
      " 1   file_address      11781 non-null  object\n",
      " 2   contract_name     11781 non-null  object\n",
      " 3   func_name         10691 non-null  object\n",
      " 4   masked_contract   11781 non-null  object\n",
      " 5   func_body         11781 non-null  object\n",
      " 6   func_requirement  11781 non-null  object\n",
      " 7   deepseek_output   11781 non-null  object\n",
      " 8   finetune_output   11781 non-null  object\n",
      " 9   source_code       11781 non-null  object\n",
      "dtypes: object(10)\n",
      "memory usage: 920.5+ KB\n"
     ]
    }
   ],
   "source": [
    "test_cases = pd.read_parquet(\"/home/hieuvd/lvdthieu/CodeGen/data/test/test_refine.parquet\", engine=\"fastparquet\")\n",
    "test_cases.info()"
   ]
  },
  {
   "cell_type": "code",
   "execution_count": 39,
   "metadata": {},
   "outputs": [
    {
     "data": {
      "text/plain": [
       "6267"
      ]
     },
     "execution_count": 39,
     "metadata": {},
     "output_type": "execute_result"
    }
   ],
   "source": [
    "len(test_cases[[\"contract_name\", \"func_name\"]].drop_duplicates())"
   ]
  },
  {
   "cell_type": "code",
   "execution_count": 32,
   "metadata": {},
   "outputs": [
    {
     "data": {
      "text/plain": [
       "1000"
      ]
     },
     "execution_count": 32,
     "metadata": {},
     "output_type": "execute_result"
    }
   ],
   "source": [
    "cnt = 0\n",
    "for i in range(1000):\n",
    "    if test_cases.loc[i, \"contract_name\"] in test_cases.loc[i, \"source_code\"]:\n",
    "        cnt += 1\n",
    "cnt"
   ]
  },
  {
   "cell_type": "code",
   "execution_count": 29,
   "metadata": {},
   "outputs": [],
   "source": [
    "with open(\"check.sol\", \"a\") as f:\n",
    "    for i in range(5):\n",
    "        f.write(f\"{test_cases.loc[i, 'source_code']}\\n_____________________________________________________________\\n\")"
   ]
  },
  {
   "cell_type": "code",
   "execution_count": 4,
   "metadata": {},
   "outputs": [
    {
     "name": "stdout",
     "output_type": "stream",
     "text": [
      "<class 'pandas.core.frame.DataFrame'>\n",
      "RangeIndex: 10742 entries, 0 to 10741\n",
      "Data columns (total 8 columns):\n",
      " #   Column                  Non-Null Count  Dtype \n",
      "---  ------                  --------------  ----- \n",
      " 0   contract_name           10742 non-null  object\n",
      " 1   func_name               10742 non-null  object\n",
      " 2   original_source_code    10742 non-null  object\n",
      " 3   filled_source_body      10742 non-null  object\n",
      " 4   filled_source_baseline  10742 non-null  object\n",
      " 5   filled_source_finetune  10742 non-null  object\n",
      " 6   func_body               10742 non-null  object\n",
      " 7   func_req                10742 non-null  object\n",
      "dtypes: object(8)\n",
      "memory usage: 671.5+ KB\n"
     ]
    }
   ],
   "source": [
    "import pandas as pd\n",
    "filled = pd.read_parquet(\"/home/hieuvd/lvdthieu/CodeGen/out/filled.parquet\", engine=\"fastparquet\")\n",
    "filled.info()"
   ]
  },
  {
   "cell_type": "code",
   "execution_count": 5,
   "metadata": {},
   "outputs": [],
   "source": [
    "filled.drop_duplicates(subset=[\"contract_name\", \"func_name\", \"func_body\", \"func_req\"], inplace=True, ignore_index=True)"
   ]
  },
  {
   "cell_type": "code",
   "execution_count": 6,
   "metadata": {},
   "outputs": [
    {
     "name": "stdout",
     "output_type": "stream",
     "text": [
      "<class 'pandas.core.frame.DataFrame'>\n",
      "RangeIndex: 7018 entries, 0 to 7017\n",
      "Data columns (total 8 columns):\n",
      " #   Column                  Non-Null Count  Dtype \n",
      "---  ------                  --------------  ----- \n",
      " 0   contract_name           7018 non-null   object\n",
      " 1   func_name               7018 non-null   object\n",
      " 2   original_source_code    7018 non-null   object\n",
      " 3   filled_source_body      7018 non-null   object\n",
      " 4   filled_source_baseline  7018 non-null   object\n",
      " 5   filled_source_finetune  7018 non-null   object\n",
      " 6   func_body               7018 non-null   object\n",
      " 7   func_req                7018 non-null   object\n",
      "dtypes: object(8)\n",
      "memory usage: 438.8+ KB\n"
     ]
    }
   ],
   "source": [
    "filled.info()"
   ]
  },
  {
   "cell_type": "code",
   "execution_count": 7,
   "metadata": {},
   "outputs": [],
   "source": [
    "filled[[\"contract_name\", \"func_name\", \"original_source_code\", \"func_body\", \"func_req\"]].rename(columns={\"original_source_code\": \"source_code\"}).to_parquet(\"/home/hieuvd/lvdthieu/CodeGen/data/test/original_v2.parquet\", engine=\"fastparquet\")"
   ]
  },
  {
   "cell_type": "code",
   "execution_count": 8,
   "metadata": {},
   "outputs": [],
   "source": [
    "filled[[\"contract_name\", \"func_name\", \"filled_source_body\", \"func_body\", \"func_req\"]].rename(columns={\"filled_source_body\": \"source_code\"}).to_parquet(\"/home/hieuvd/lvdthieu/CodeGen/data/test/body_v2.parquet\", engine=\"fastparquet\")"
   ]
  },
  {
   "cell_type": "code",
   "execution_count": 9,
   "metadata": {},
   "outputs": [],
   "source": [
    "filled[[\"contract_name\", \"func_name\", \"filled_source_baseline\", \"func_body\", \"func_req\"]].rename(columns={\"filled_source_baseline\": \"source_code\"}).to_parquet(\"/home/hieuvd/lvdthieu/CodeGen/data/test/baseline_v2.parquet\", engine=\"fastparquet\")"
   ]
  },
  {
   "cell_type": "code",
   "execution_count": 10,
   "metadata": {},
   "outputs": [],
   "source": [
    "filled[[\"contract_name\", \"func_name\", \"filled_source_finetune\", \"func_body\", \"func_req\"]].rename(columns={\"filled_source_finetune\": \"source_code\"}).to_parquet(\"/home/hieuvd/lvdthieu/CodeGen/data/test/finetune_v2.parquet\", engine=\"fastparquet\")"
   ]
  },
  {
   "cell_type": "code",
   "execution_count": 11,
   "metadata": {},
   "outputs": [
    {
     "name": "stdout",
     "output_type": "stream",
     "text": [
      "<class 'pandas.core.frame.DataFrame'>\n",
      "RangeIndex: 7018 entries, 0 to 7017\n",
      "Data columns (total 5 columns):\n",
      " #   Column         Non-Null Count  Dtype \n",
      "---  ------         --------------  ----- \n",
      " 0   contract_name  7018 non-null   object\n",
      " 1   func_name      7018 non-null   object\n",
      " 2   source_code    7018 non-null   object\n",
      " 3   func_body      7018 non-null   object\n",
      " 4   func_req       7018 non-null   object\n",
      "dtypes: object(5)\n",
      "memory usage: 274.3+ KB\n"
     ]
    }
   ],
   "source": [
    "origin = pd.read_parquet(\"/home/hieuvd/lvdthieu/CodeGen/data/test/original_v2.parquet\")\n",
    "origin.info()"
   ]
  },
  {
   "cell_type": "code",
   "execution_count": 14,
   "metadata": {},
   "outputs": [
    {
     "name": "stdout",
     "output_type": "stream",
     "text": [
      "<class 'pandas.core.frame.DataFrame'>\n",
      "RangeIndex: 4346 entries, 0 to 4345\n",
      "Data columns (total 6 columns):\n",
      " #   Column         Non-Null Count  Dtype \n",
      "---  ------         --------------  ----- \n",
      " 0   contract_name  4346 non-null   object\n",
      " 1   func_name      4346 non-null   object\n",
      " 2   source_code    4346 non-null   object\n",
      " 3   func_body      4346 non-null   object\n",
      " 4   func_req       4346 non-null   object\n",
      " 5   source_idx     4346 non-null   int64 \n",
      "dtypes: int64(1), object(5)\n",
      "memory usage: 203.8+ KB\n",
      "None\n",
      "   contract_name          func_name  \\\n",
      "0           KKNK            approve   \n",
      "1     BasicToken          balanceOf   \n",
      "2      Claimable     claimOwnership   \n",
      "3  StandardToken  increaseAllowance   \n",
      "4     StacsToken       endMigration   \n",
      "\n",
      "                                         source_code  \\\n",
      "0  /**\\r\\n *Submitted for verification at Ethersc...   \n",
      "1  pragma solidity 0.4.25;\\r\\n\\r\\ncontract ERC20B...   \n",
      "2  pragma solidity 0.4.25;\\r\\n\\r\\ncontract ERC20B...   \n",
      "3  pragma solidity 0.4.25;\\r\\n\\r\\ncontract ERC20B...   \n",
      "4  pragma solidity 0.4.25;\\r\\n\\r\\ncontract ERC20B...   \n",
      "\n",
      "                                           func_body  \\\n",
      "0  \\r\\n\\t\\tif (_value <= 0) throw; \\r\\n        al...   \n",
      "1             \\r\\n    return balances[_owner];\\r\\n     \n",
      "2  \\r\\n    emit OwnershipTransferred(owner, pendi...   \n",
      "3  \\r\\n    allowed[msg.sender][_spender] = (\\r\\n ...   \n",
      "4        \\r\\n        migrationPhase = false;\\r\\n       \n",
      "\n",
      "                                            func_req  source_idx  \n",
      "0  Allow another contract to spend some tokens in...           0  \n",
      "1  *\\r\\n  * @dev Gets the balance of the specifie...           1  \n",
      "2  *\\r\\n   * @dev Allows the pendingOwner address...           2  \n",
      "3  *\\r\\n   * @dev Increase the amount of tokens t...           3  \n",
      "4  *\\r\\n    * @dev End migration phase and disall...           4  \n"
     ]
    }
   ],
   "source": [
    "view(\"/home/hieuvd/lvdthieu/CodeGen/data/compilable/original_v2.parquet\")"
   ]
  },
  {
   "cell_type": "code",
   "execution_count": 15,
   "metadata": {},
   "outputs": [
    {
     "name": "stdout",
     "output_type": "stream",
     "text": [
      "<class 'pandas.core.frame.DataFrame'>\n",
      "RangeIndex: 4329 entries, 0 to 4328\n",
      "Data columns (total 6 columns):\n",
      " #   Column         Non-Null Count  Dtype \n",
      "---  ------         --------------  ----- \n",
      " 0   contract_name  4329 non-null   object\n",
      " 1   func_name      4329 non-null   object\n",
      " 2   source_code    4329 non-null   object\n",
      " 3   func_body      4329 non-null   object\n",
      " 4   func_req       4329 non-null   object\n",
      " 5   source_idx     4329 non-null   int64 \n",
      "dtypes: int64(1), object(5)\n",
      "memory usage: 203.1+ KB\n",
      "None\n",
      "   contract_name          func_name  \\\n",
      "0           KKNK            approve   \n",
      "1     BasicToken          balanceOf   \n",
      "2      Claimable     claimOwnership   \n",
      "3  StandardToken  increaseAllowance   \n",
      "4     StacsToken       endMigration   \n",
      "\n",
      "                                         source_code  \\\n",
      "0  /**\\n *Submitted for verification at Etherscan...   \n",
      "1  pragma solidity 0.4.25;\\n\\r\\ncontract ERC20Bas...   \n",
      "2  pragma solidity 0.4.25;\\n\\r\\ncontract ERC20Bas...   \n",
      "3  pragma solidity 0.4.25;\\n\\r\\ncontract ERC20Bas...   \n",
      "4  pragma solidity 0.4.25;\\n\\r\\ncontract ERC20Bas...   \n",
      "\n",
      "                                           func_body  \\\n",
      "0  \\r\\n\\t\\tif (_value <= 0) throw; \\r\\n        al...   \n",
      "1             \\r\\n    return balances[_owner];\\r\\n     \n",
      "2  \\r\\n    emit OwnershipTransferred(owner, pendi...   \n",
      "3  \\r\\n    allowed[msg.sender][_spender] = (\\r\\n ...   \n",
      "4        \\r\\n        migrationPhase = false;\\r\\n       \n",
      "\n",
      "                                            func_req  source_idx  \n",
      "0  Allow another contract to spend some tokens in...           0  \n",
      "1  *\\r\\n  * @dev Gets the balance of the specifie...           1  \n",
      "2  *\\r\\n   * @dev Allows the pendingOwner address...           2  \n",
      "3  *\\r\\n   * @dev Increase the amount of tokens t...           3  \n",
      "4  *\\r\\n    * @dev End migration phase and disall...           4  \n"
     ]
    }
   ],
   "source": [
    "view(\"/home/hieuvd/lvdthieu/CodeGen/data/compilable/body_v2.parquet\")"
   ]
  },
  {
   "cell_type": "code",
   "execution_count": 18,
   "metadata": {},
   "outputs": [
    {
     "name": "stdout",
     "output_type": "stream",
     "text": [
      "<class 'pandas.core.frame.DataFrame'>\n",
      "RangeIndex: 3120 entries, 0 to 3119\n",
      "Data columns (total 6 columns):\n",
      " #   Column         Non-Null Count  Dtype \n",
      "---  ------         --------------  ----- \n",
      " 0   contract_name  3120 non-null   object\n",
      " 1   func_name      3120 non-null   object\n",
      " 2   source_code    3120 non-null   object\n",
      " 3   func_body      3120 non-null   object\n",
      " 4   func_req       3120 non-null   object\n",
      " 5   source_idx     3120 non-null   int64 \n",
      "dtypes: int64(1), object(5)\n",
      "memory usage: 146.4+ KB\n",
      "None\n",
      "   contract_name          func_name  \\\n",
      "0           KKNK            approve   \n",
      "1     BasicToken          balanceOf   \n",
      "2      Claimable     claimOwnership   \n",
      "3  StandardToken  increaseAllowance   \n",
      "4     StacsToken       endMigration   \n",
      "\n",
      "                                         source_code  \\\n",
      "0  /**\\n *Submitted for verification at Etherscan...   \n",
      "1  pragma solidity 0.4.25;\\n\\r\\ncontract ERC20Bas...   \n",
      "2  pragma solidity 0.4.25;\\n\\r\\ncontract ERC20Bas...   \n",
      "3  pragma solidity 0.4.25;\\n\\r\\ncontract ERC20Bas...   \n",
      "4  pragma solidity 0.4.25;\\n\\r\\ncontract ERC20Bas...   \n",
      "\n",
      "                                           func_body  \\\n",
      "0  \\r\\n\\t\\tif (_value <= 0) throw; \\r\\n        al...   \n",
      "1             \\r\\n    return balances[_owner];\\r\\n     \n",
      "2  \\r\\n    emit OwnershipTransferred(owner, pendi...   \n",
      "3  \\r\\n    allowed[msg.sender][_spender] = (\\r\\n ...   \n",
      "4        \\r\\n        migrationPhase = false;\\r\\n       \n",
      "\n",
      "                                            func_req  source_idx  \n",
      "0  Allow another contract to spend some tokens in...           0  \n",
      "1  *\\r\\n  * @dev Gets the balance of the specifie...           1  \n",
      "2  *\\r\\n   * @dev Allows the pendingOwner address...           2  \n",
      "3  *\\r\\n   * @dev Increase the amount of tokens t...           3  \n",
      "4  *\\r\\n    * @dev End migration phase and disall...           4  \n"
     ]
    }
   ],
   "source": [
    "view(\"/home/hieuvd/lvdthieu/CodeGen/data/compilable/baseline_v2.parquet\")"
   ]
  },
  {
   "cell_type": "code",
   "execution_count": 19,
   "metadata": {},
   "outputs": [
    {
     "name": "stdout",
     "output_type": "stream",
     "text": [
      "<class 'pandas.core.frame.DataFrame'>\n",
      "RangeIndex: 3594 entries, 0 to 3593\n",
      "Data columns (total 6 columns):\n",
      " #   Column         Non-Null Count  Dtype \n",
      "---  ------         --------------  ----- \n",
      " 0   contract_name  3594 non-null   object\n",
      " 1   func_name      3594 non-null   object\n",
      " 2   source_code    3594 non-null   object\n",
      " 3   func_body      3594 non-null   object\n",
      " 4   func_req       3594 non-null   object\n",
      " 5   source_idx     3594 non-null   int64 \n",
      "dtypes: int64(1), object(5)\n",
      "memory usage: 168.6+ KB\n",
      "None\n",
      "   contract_name          func_name  \\\n",
      "0           KKNK            approve   \n",
      "1     BasicToken          balanceOf   \n",
      "2      Claimable     claimOwnership   \n",
      "3  StandardToken  increaseAllowance   \n",
      "4     StacsToken       endMigration   \n",
      "\n",
      "                                         source_code  \\\n",
      "0  /**\\n *Submitted for verification at Etherscan...   \n",
      "1  pragma solidity 0.4.25;\\n\\r\\ncontract ERC20Bas...   \n",
      "2  pragma solidity 0.4.25;\\n\\r\\ncontract ERC20Bas...   \n",
      "3  pragma solidity 0.4.25;\\n\\r\\ncontract ERC20Bas...   \n",
      "4  pragma solidity 0.4.25;\\n\\r\\ncontract ERC20Bas...   \n",
      "\n",
      "                                           func_body  \\\n",
      "0  \\r\\n\\t\\tif (_value <= 0) throw; \\r\\n        al...   \n",
      "1             \\r\\n    return balances[_owner];\\r\\n     \n",
      "2  \\r\\n    emit OwnershipTransferred(owner, pendi...   \n",
      "3  \\r\\n    allowed[msg.sender][_spender] = (\\r\\n ...   \n",
      "4        \\r\\n        migrationPhase = false;\\r\\n       \n",
      "\n",
      "                                            func_req  source_idx  \n",
      "0  Allow another contract to spend some tokens in...           0  \n",
      "1  *\\r\\n  * @dev Gets the balance of the specifie...           1  \n",
      "2  *\\r\\n   * @dev Allows the pendingOwner address...           2  \n",
      "3  *\\r\\n   * @dev Increase the amount of tokens t...           3  \n",
      "4  *\\r\\n    * @dev End migration phase and disall...           4  \n"
     ]
    }
   ],
   "source": [
    "view(\"/home/hieuvd/lvdthieu/CodeGen/data/compilable/finetune_v2.parquet\")"
   ]
  },
  {
   "cell_type": "code",
   "execution_count": 20,
   "metadata": {},
   "outputs": [
    {
     "name": "stdout",
     "output_type": "stream",
     "text": [
      "<class 'pandas.core.frame.DataFrame'>\n",
      "RangeIndex: 11781 entries, 0 to 11780\n",
      "Data columns (total 10 columns):\n",
      " #   Column            Non-Null Count  Dtype \n",
      "---  ------            --------------  ----- \n",
      " 0   file_name         11781 non-null  object\n",
      " 1   file_address      11781 non-null  object\n",
      " 2   contract_name     11781 non-null  object\n",
      " 3   func_name         10691 non-null  object\n",
      " 4   masked_contract   11781 non-null  object\n",
      " 5   func_body         11781 non-null  object\n",
      " 6   func_requirement  11781 non-null  object\n",
      " 7   deepseek_output   11781 non-null  object\n",
      " 8   finetune_output   11781 non-null  object\n",
      " 9   source_code       11781 non-null  object\n",
      "dtypes: object(10)\n",
      "memory usage: 920.5+ KB\n",
      "None\n",
      "    file_name                                file_address contract_name  \\\n",
      "0        KKNK  0x39176c7d2fe75fbcd0bfaece2fd58472b15b5a53          KKNK   \n",
      "1    DssSpell  0x8efe2c82bd31b67fa262c0d364773629f6ea828a       DssExec   \n",
      "2  StacsToken  0x286708f069225905194673755f12359e6aff6fe1    BasicToken   \n",
      "3  StacsToken  0x286708f069225905194673755f12359e6aff6fe1       Ownable   \n",
      "4  StacsToken  0x286708f069225905194673755f12359e6aff6fe1     Claimable   \n",
      "\n",
      "        func_name                                    masked_contract  \\\n",
      "0         approve  contract KKNK is SafeMath{\\r\\n    string publi...   \n",
      "1            None  contract DssExec {\\r\\n\\r\\n    Changelog      c...   \n",
      "2       balanceOf  contract BasicToken is ERC20Basic {\\r\\n  using...   \n",
      "3            None  contract Ownable {\\r\\n  address public owner;\\...   \n",
      "4  claimOwnership  contract Claimable is Ownable {\\r\\n  address p...   \n",
      "\n",
      "                                           func_body  \\\n",
      "0  \\r\\n\\t\\tif (_value <= 0) throw; \\r\\n        al...   \n",
      "1  \\r\\n        pause       = PauseAbstract(log.ge...   \n",
      "2             \\r\\n    return balances[_owner];\\r\\n     \n",
      "3                  \\r\\n    owner = msg.sender;\\r\\n     \n",
      "4  \\r\\n    emit OwnershipTransferred(owner, pendi...   \n",
      "\n",
      "                                    func_requirement  \\\n",
      "0  Allow another contract to spend some tokens in...   \n",
      "1  @param _description  A string description of t...   \n",
      "2  *\\r\\n  * @dev Gets the balance of the specifie...   \n",
      "3  *\\r\\n   * @dev The Ownable constructor sets th...   \n",
      "4  *\\r\\n   * @dev Allows the pendingOwner address...   \n",
      "\n",
      "                                     deepseek_output  \\\n",
      "0  \\n        allowance[msg.sender][_spender] = _v...   \n",
      "1  \\n        description = _description;\\n       ...   \n",
      "2                 \\n    return balances[_owner];\\n     \n",
      "3                      \\n    owner = msg.sender;\\n     \n",
      "4  \\n    emit OwnershipTransferred(owner, pending...   \n",
      "\n",
      "                                     finetune_output  \\\n",
      "0  \\n\\t\\tif (_value <= 0) throw; \\n        allowa...   \n",
      "1  \\n        description = _description;\\n       ...   \n",
      "2               \\n    return balances[_owner];\\n  \\n   \n",
      "3                    \\n    owner = msg.sender;\\n  \\n   \n",
      "4  \\n    OwnershipTransferred(owner, pendingOwner...   \n",
      "\n",
      "                                         source_code  \n",
      "0  /**\\r\\n *Submitted for verification at Ethersc...  \n",
      "1  // hevm: flattened sources of src/DssSpell.sol...  \n",
      "2  pragma solidity 0.4.25;\\r\\n\\r\\ncontract ERC20B...  \n",
      "3  pragma solidity 0.4.25;\\r\\n\\r\\ncontract ERC20B...  \n",
      "4  pragma solidity 0.4.25;\\r\\n\\r\\ncontract ERC20B...  \n"
     ]
    }
   ],
   "source": [
    "view(\"/home/hieuvd/lvdthieu/CodeGen/data/test/test_refine.parquet\")"
   ]
  },
  {
   "cell_type": "code",
   "execution_count": 2,
   "metadata": {},
   "outputs": [],
   "source": [
    "test_finetune = pd.read_parquet(\"/home/hieuvd/lvdthieu/CodeGen/data/test/test_refine.parquet\", engine=\"fastparquet\")\n"
   ]
  },
  {
   "cell_type": "code",
   "execution_count": 28,
   "metadata": {},
   "outputs": [
    {
     "name": "stdout",
     "output_type": "stream",
     "text": [
      "<class 'pandas.core.frame.DataFrame'>\n",
      "RangeIndex: 396 entries, 0 to 395\n",
      "Data columns (total 8 columns):\n",
      " #   Column                  Non-Null Count  Dtype \n",
      "---  ------                  --------------  ----- \n",
      " 0   contract_name           396 non-null    object\n",
      " 1   func_name               396 non-null    object\n",
      " 2   original_source_code    396 non-null    object\n",
      " 3   filled_source_body      396 non-null    object\n",
      " 4   filled_source_baseline  396 non-null    object\n",
      " 5   filled_source_finetune  396 non-null    object\n",
      " 6   func_body               396 non-null    object\n",
      " 7   func_req                396 non-null    object\n",
      "dtypes: object(8)\n",
      "memory usage: 24.9+ KB\n",
      "None\n",
      "   contract_name          func_name  \\\n",
      "0  ERC20Burnable               burn   \n",
      "1      SojuToken               mint   \n",
      "2        Ownable  transferOwnership   \n",
      "3          ERC20              _mint   \n",
      "4            AWX      stopMigration   \n",
      "\n",
      "                                original_source_code  \\\n",
      "0  // pragma solidity ^0.6.0;\\r\\n/**\\r\\n * @dev E...   \n",
      "1  // SojuToken with Governance.\\r\\ncontract Soju...   \n",
      "2  /**\\r\\n * @dev The contract has an owner addre...   \n",
      "3  /**\\r\\n * @dev Implementation of the `IERC20` ...   \n",
      "4  /**\\r\\n * @title AWX\\r\\n * @notice ERC20 token...   \n",
      "\n",
      "                                  filled_source_body  \\\n",
      "0  // pragma solidity ^0.6.0;\\n/**\\r\\n * @dev Ext...   \n",
      "1  // SojuToken with Governance.\\ncontract SojuTo...   \n",
      "2  /**\\n * @dev The contract has an owner address...   \n",
      "3  /**\\n * @dev Implementation of the `IERC20` in...   \n",
      "4  /**\\n * @title AWX\\r\\n * @notice ERC20 token i...   \n",
      "\n",
      "                              filled_source_baseline  \\\n",
      "0  // pragma solidity ^0.6.0;\\n/**\\r\\n * @dev Ext...   \n",
      "1  // SojuToken with Governance.\\ncontract SojuTo...   \n",
      "2  /**\\n * @dev The contract has an owner address...   \n",
      "3  /**\\n * @dev Implementation of the `IERC20` in...   \n",
      "4  /**\\n * @title AWX\\r\\n * @notice ERC20 token i...   \n",
      "\n",
      "                              filled_source_finetune  \\\n",
      "0  // pragma solidity ^0.6.0;\\n/**\\r\\n * @dev Ext...   \n",
      "1  // SojuToken with Governance.\\ncontract SojuTo...   \n",
      "2  /**\\n * @dev The contract has an owner address...   \n",
      "3  /**\\n * @dev Implementation of the `IERC20` in...   \n",
      "4  /**\\n * @title AWX\\r\\n * @notice ERC20 token i...   \n",
      "\n",
      "                                           func_body  \\\n",
      "0   \\r\\n        _burn(_msgSender(), amount);\\r\\n       \n",
      "1  \\r\\n        _mint(_to, _amount);\\r\\n        _m...   \n",
      "2  \\r\\n    require(_newOwner != address(0));\\r\\n ...   \n",
      "3  \\r\\n        require(account != address(0), \"ER...   \n",
      "4        \\r\\n        _migrationOpen = false;\\r\\n       \n",
      "\n",
      "                                            func_req  \n",
      "0  *\\r\\n     * @dev Destroys `amount` tokens from...  \n",
      "1  / @notice Creates `_amount` token to `_to`. Mu...  \n",
      "2  *\\r\\n   * @dev Allows the current owner to tra...  \n",
      "3  * @dev Creates `amount` tokens and assigns the...  \n",
      "4   *\\r\\n     * @dev Stop migration by setting flag.  \n"
     ]
    }
   ],
   "source": [
    "view(\"/home/hieuvd/lvdthieu/CodeGen/out/filled.parquet\")"
   ]
  },
  {
   "cell_type": "code",
   "execution_count": 33,
   "metadata": {},
   "outputs": [],
   "source": [
    "error = pd.read_parquet(\"/home/hieuvd/lvdthieu/CodeGen/compilation/error/error1.parquet\")"
   ]
  },
  {
   "cell_type": "code",
   "execution_count": 34,
   "metadata": {},
   "outputs": [
    {
     "data": {
      "text/html": [
       "<div>\n",
       "<style scoped>\n",
       "    .dataframe tbody tr th:only-of-type {\n",
       "        vertical-align: middle;\n",
       "    }\n",
       "\n",
       "    .dataframe tbody tr th {\n",
       "        vertical-align: top;\n",
       "    }\n",
       "\n",
       "    .dataframe thead th {\n",
       "        text-align: right;\n",
       "    }\n",
       "</style>\n",
       "<table border=\"1\" class=\"dataframe\">\n",
       "  <thead>\n",
       "    <tr style=\"text-align: right;\">\n",
       "      <th></th>\n",
       "      <th>source_code</th>\n",
       "      <th>error</th>\n",
       "    </tr>\n",
       "    <tr>\n",
       "      <th>index</th>\n",
       "      <th></th>\n",
       "      <th></th>\n",
       "    </tr>\n",
       "  </thead>\n",
       "  <tbody>\n",
       "    <tr>\n",
       "      <th>2</th>\n",
       "      <td>contract Strategy is BaseStrategyInitializable...</td>\n",
       "      <td>Warning: SPDX license identifier not provided ...</td>\n",
       "    </tr>\n",
       "    <tr>\n",
       "      <th>13</th>\n",
       "      <td>contract ThisExternalAssembly {\\r\\n    uint pu...</td>\n",
       "      <td>ParserError: Expected ';' but got '}'\\n  --&gt; c...</td>\n",
       "    </tr>\n",
       "    <tr>\n",
       "      <th>20</th>\n",
       "      <td>pragma solidity ^0.5.2;\\r\\n\\r\\n\\r\\n\\r\\n/**\\r\\n...</td>\n",
       "      <td>contracts/sample.sol:17:19: DeclarationError: ...</td>\n",
       "    </tr>\n",
       "    <tr>\n",
       "      <th>24</th>\n",
       "      <td>pragma solidity ^0.8.0;\\r\\n/**\\r\\n * @dev Cont...</td>\n",
       "      <td>Warning: SPDX license identifier not provided ...</td>\n",
       "    </tr>\n",
       "    <tr>\n",
       "      <th>29</th>\n",
       "      <td>pragma solidity ^0.8.4;\\r\\n\\r\\n\\r\\n\\r\\n\\r\\n\\r\\...</td>\n",
       "      <td>Warning: SPDX license identifier not provided ...</td>\n",
       "    </tr>\n",
       "  </tbody>\n",
       "</table>\n",
       "</div>"
      ],
      "text/plain": [
       "                                             source_code  \\\n",
       "index                                                      \n",
       "2      contract Strategy is BaseStrategyInitializable...   \n",
       "13     contract ThisExternalAssembly {\\r\\n    uint pu...   \n",
       "20     pragma solidity ^0.5.2;\\r\\n\\r\\n\\r\\n\\r\\n/**\\r\\n...   \n",
       "24     pragma solidity ^0.8.0;\\r\\n/**\\r\\n * @dev Cont...   \n",
       "29     pragma solidity ^0.8.4;\\r\\n\\r\\n\\r\\n\\r\\n\\r\\n\\r\\...   \n",
       "\n",
       "                                                   error  \n",
       "index                                                     \n",
       "2      Warning: SPDX license identifier not provided ...  \n",
       "13     ParserError: Expected ';' but got '}'\\n  --> c...  \n",
       "20     contracts/sample.sol:17:19: DeclarationError: ...  \n",
       "24     Warning: SPDX license identifier not provided ...  \n",
       "29     Warning: SPDX license identifier not provided ...  "
      ]
     },
     "execution_count": 34,
     "metadata": {},
     "output_type": "execute_result"
    }
   ],
   "source": [
    "error.head()"
   ]
  },
  {
   "cell_type": "code",
   "execution_count": 38,
   "metadata": {},
   "outputs": [],
   "source": [
    "with open(\"check.txt\",\"w\") as f:\n",
    "    f.write(error.loc[2, \"error\"])"
   ]
  },
  {
   "cell_type": "code",
   "execution_count": 36,
   "metadata": {},
   "outputs": [
    {
     "data": {
      "text/plain": [
       "'contract Strategy is BaseStrategyInitializable {\\n    using SafeERC20 for IERC20;\\n    using Address for address;\\n    using SafeMath for uint256;\\n\\n    IUniswapV2Router02 constant public uniswapRouter = IUniswapV2Router02(address(0x7a250d5630B4cF539739dF2C5dAcb4c659F2488D));\\n    IUniswapV2Router02 constant public sushiswapRouter = IUniswapV2Router02(address(0xd9e1cE17f2641f24aE83637ab66a2cca9C378B9F));\\n    IERC20 public constant weth = IERC20(address(0xC02aaA39b223FE8D0A0e5C4F27eAD9083C756Cc2));\\n    IERC20 public constant rook = IERC20(address(0xfA5047c9c78B8877af97BDcb85Db743fD7313d4a));\\n    IUniswapV2Router02 public router;\\n    IDistributeV1 public distributor;\\n    IKToken public kToken;\\n    ILiquidityPool public pool;\\n    address public treasury;\\n    address[] public path;\\n    address[] public wethWantPath;\\n\\n    // unsigned. Indicates the losses incurred from the protocol\\'s deposit fees\\n    uint256 public incurredLosses;\\n    // amount to send to treasury. Used for future governance voting power\\n    uint256 public percentKeep;\\n    uint256 public constant _denominator = 10000;\\n\\n    constructor(address _vault,\\n        address _strategist,\\n        address _rewards,\\n        address _keeper,\\n        address _pool,\\n        address _voter,\\n        address _rewardDistributor\\n    ) public BaseStrategyInitializable(_vault) {\\n        _init(_vault, _strategist, _rewards, _keeper, _pool, _voter, _rewardDistributor);\\n    }\\n\\n    function clone(\\n        address _vault,\\n        address _strategist,\\n        address _rewards,\\n        address _keeper,\\n        address _pool,\\n        address _voter,\\n        address _rewardDistributor\\n    ) external returns (address payable newStrategy) {\\n        // Copied from https://github.com/optionality/clone-factory/blob/master/contracts/CloneFactory.sol\\n        bytes20 addressBytes = bytes20(address(this));\\n\\n        assembly {\\n        // EIP-1167 bytecode\\n            let clone_code := mload(0x40)\\n            mstore(clone_code, 0x3d602d80600a3d3981f3363d3d373d3d3d363d73000000000000000000000000)\\n            mstore(add(clone_code, 0x14), addressBytes)\\n            mstore(add(clone_code, 0x28), 0x5af43d82803e903d91602b57fd5bf30000000000000000000000000000000000)\\n            newStrategy := create(0, clone_code, 0x37)\\n        }\\n\\n        Strategy(newStrategy).init(_vault, _strategist, _rewards, _keeper, _pool, _voter, _rewardDistributor);\\n        emit Cloned(newStrategy);\\n    }\\n\\n    function init(\\n        address _vault,\\n        address _strategist,\\n        address _rewards,\\n        address _keeper,\\n        address _pool,\\n        address _voter,\\n        address _rewardDistributor\\n    ) external {\\n        super._initialize(_vault, _strategist, _rewards, _keeper);\\n        _init(_vault, _strategist, _rewards, _keeper, _pool, _voter, _rewardDistributor);\\n    }\\n\\n    function _init(\\n        address _vault,\\n        address _strategist,\\n        address _rewards,\\n        address _keeper,\\n        address _pool,\\n        address _voter,\\n        address _rewardDistributor\\n    ) internal {\\n\\n        // You can set these parameters on deployment to whatever you want\\n        // maxReportDelay = 6300;\\n        // profitFactor = 100;\\n        // debtThreshold = 0;\\n\\n        // check to see if KeeperDao can actually accept want (renBTC, DAI, USDC, ETH, WETH)\\n        pool = ILiquidityPool(address(_pool));\\n        kToken = pool.kToken(address(want));\\n        require(address(kToken) != address(0x0), \"Protocol doesn\\'t support this token!\");\\n        want.safeApprove(address(pool), uint256(- 1));\\n        kToken.approve(address(pool), uint256(- 1));\\n        treasury = address(_voter);\\n        rook.approve(address(uniswapRouter), uint256(- 1));\\n        rook.approve(address(sushiswapRouter), uint256(- 1));\\n        distributor = IDistributeV1(address(_rewardDistributor));\\n\\n        if (address(want) == address(weth)) {\\n            path = [address(rook), address(weth)];\\n        } else {\\n            path = [address(rook), address(weth), address(want)];\\n            wethWantPath = [address(weth), address(want)];\\n        }\\n    }\\n\\n    function name() external view override returns (string memory) {\\n        // Add your own name here, suggestion e.g. \"StrategyCreamYFI\"\\n        return string(\\n            abi.encodePacked(\"StrategyRook \", IName(address(want)).name())\\n        );\\n    }\\n\\n    function estimatedTotalAssets() public view override returns (uint256) {\\n        return valueOfStaked().add(balanceOfUnstaked()).add(valueOfReward());\\n    }\\n\\n    function balanceOfUnstaked() public view returns (uint256){\\n        return want.balanceOf(address(this));\\n    }\\n\\n    // valued in wants\\n    function valueOfStaked() public view returns (uint256){\\n        return pool.underlyingBalance(address(want), address(this));\\n    }\\n\\n    // kTokens have different virtual prices. Balance != want\\n    function balanceOfStaked() public view returns (uint256){\\n        return kToken.balanceOf(address(this));\\n    }\\n\\n    function balanceOfReward() public view returns (uint256){\\n        return rook.balanceOf(address(this));\\n    }\\n\\n    function valueOfReward() public view returns (uint256){\\n        return _estimateAmountsOut(rook.balanceOf(address(this)), path);\\n    }\\n\\n    // only way to find out is thru calculating a virtual price this way\\n    // TODO: return a reasonable value when div(0)\\n    function _inKTokens(uint256 wantAmount) internal view returns (uint256){\\n        return wantAmount.mul(balanceOfStaked()).div(valueOfStaked());\\n    }\\n\\n    function prepareReturn(uint256 _debtOutstanding) internal override returns (uint256 _profit, uint256 _loss, uint256 _debtPayment){\\n        // NOTE: Return `_profit` which is value generated by all positions, priced in `want`\\n        // NOTE: Should try to free up at least `_debtOutstanding` of underlying position\\n\\n        // sell any reward, leave some for treasury\\n        uint256 rewards = balanceOfReward();\\n        if (rewards > 0) {\\n            uint256 rewardsForVoting = rewards.mul(percentKeep).div(_denominator);\\n            if (rewardsForVoting > 0) {\\n                IERC20(rook).safeTransfer(treasury, rewardsForVoting);\\n            }\\n            uint256 rewardsRemaining = balanceOfReward();\\n            if (rewardsRemaining > 0) {\\n                _sell(rewardsRemaining);\\n            }\\n        }\\n\\n        // from selling rewards\\n        uint256 profit = balanceOfUnstaked();\\n        // this should be guaranteed if called by keeper. See {harvestTrigger()}\\n        if (profit > incurredLosses) {\\n            // we want strategy to pay off its own incurredLosses from deposit fees first so it doesn\\'t have to report _loss to the vault\\n            _profit = profit.sub(incurredLosses);\\n            if (incurredLosses > 0) {\\n                pool.deposit(address(want), incurredLosses);\\n                incurredLosses = 0;\\n            }\\n        } else {\\n            _loss = incurredLosses.sub(profit);\\n        }\\n\\n        // loss has been recorded.\\n        incurredLosses = 0;\\n\\n        if (_debtOutstanding > _profit) {\\n            // withdraw just enough to pay off debt\\n            uint256 _toWithdraw = Math.min(_debtOutstanding.sub(_profit), valueOfStaked());\\n            pool.withdraw(address(this), kToken, _inKTokens(_toWithdraw));\\n            _debtPayment = Math.min(_debtOutstanding, balanceOfUnstaked());\\n\\n        } else {\\n            _debtPayment = _debtOutstanding;\\n            _profit = _profit.sub(_debtOutstanding);\\n        }\\n\\n        return (_profit, _loss, _debtPayment);\\n    }\\n\\n    function adjustPosition(uint256 _debtOutstanding) internal override {\\n        // NOTE: Try to adjust positions so that `_debtOutstanding` can be freed up on *next* harvest (not immediately)\\n        // deposit any loose balance\\n        uint256 unstaked = balanceOfUnstaked();\\n        if (unstaked > 0) {\\n            _provideLiquidity(unstaked);\\n        }\\n    }\\n\\n    // NAV premium of 0.64% when depositing everytime. Need to keep track of this for _loss calculation.\\n    function _provideLiquidity(uint256 _amount) private {\\n        uint256 stakedBefore = valueOfStaked();\\n        pool.deposit(address(want), _amount);\\n        uint256 stakedAfter = valueOfStaked();\\n        uint256 stakedDelta = stakedAfter.sub(stakedBefore);\\n        uint256 depositFee = _amount.sub(stakedDelta);\\n        uint256 oneAsBips = 10000;\\n        uint256 need = depositFee.mul(oneAsBips).div(oneAsBips - pool.depositFeeInBips());\\n        incurredLosses = incurredLosses.add(need);\\n    }\\n\\n    function liquidatePosition(uint256 _amountNeeded) internal override returns (uint256 _liquidatedAmount, uint256 _loss) {\\n        // if _amountNeeded is more than currently available, need to unstake some and/or sell rewards to free up assets\\n        uint256 unstaked = balanceOfUnstaked();\\n        if (_amountNeeded > unstaked) {\\n            uint256 desiredWithdrawAmount = _amountNeeded.sub(unstaked);\\n\\n            // can\\'t withdraw more than staked\\n            uint256 actualWithdrawAmount = Math.min(desiredWithdrawAmount, valueOfStaked());\\n\\n            pool.withdraw(address(this), kToken, _inKTokens(actualWithdrawAmount));\\n\\n            _liquidatedAmount = balanceOfUnstaked();\\n            // already withdrew all that it could, any difference left is considered _loss,\\n            // which is possible because of KeeperDao\\'s initial deposit NAV premium of 0.64%\\n            // i.e initial 10,000 deposit -> 9,936 in pool. If withdraw immediately, _loss = 64\\n            _loss = _amountNeeded.sub(_liquidatedAmount);\\n\\n        } else {\\n            // already have all of _amountNeeded unstaked\\n            _liquidatedAmount = _amountNeeded;\\n            _loss = 0;\\n        }\\n\\n        return (_liquidatedAmount, _loss);\\n    }\\n\\n    // NOTE: Can override `tendTrigger` and `harvestTrigger` if necessary\\n    // Since claiming reward is done asynchronously, rewards could sit idle in strategy before next harvest() call\\n    // See {claimRewards()} for detail\\n    function prepareMigration(address _newStrategy) internal override {\\n        kToken.transfer(_newStrategy, balanceOfStaked());\\n        rook.transfer(_newStrategy, balanceOfReward());\\n    }\\n\\n    // Trigger harvest only if strategy has rewards, otherwise, there\\'s nothing to harvest.\\n    // This logic is added on top of existing gas efficient harvestTrigger() in the parent class\\n    function harvestTrigger(uint256 callCost) public override view returns (bool) {\\n        return super.harvestTrigger(_estimateAmountsOut(callCost, wethWantPath)) && balanceOfReward() > 0 && netPositive();\\n    }\\n\\n    // Indicator for whether strategy has earned enough rewards to offset incurred losses.\\n    // Adding this to harvestTrigger() will ensure that strategy will never have to report a positive _loss to the vault and lower its trust\\n    function netPositive() public view returns (bool){\\n        return valueOfReward() > incurredLosses;\\n    }\\n\\n    // Has to be called manually since this requires off-chain data.\\n    // Needs to be called before harvesting otherwise there\\'s nothing to harvest.\\n    function claimRewards(uint256 _earningsToDate, uint256 _nonce, bytes memory _signature) external onlyKeepers {\\n        require(_earningsToDate > 0, \"You are trying to claim 0 rewards\");\\n        distributor.claim(address(this), _earningsToDate, _nonce, _signature);\\n    }\\n\\n    function claimRewards(uint256 _earningsToDate, uint256 _nonce, bytes memory _signature, address _distributor) external onlyKeepers {\\n        require(_earningsToDate > 0, \"You are trying to claim 0 rewards\");\\n        IDistributeV1(address(_distributor)).claim(address(this), _earningsToDate, _nonce, _signature);\\n    }\\n\\n    function _sell(uint256 _amount) internal {\\n        // since claiming is async, no point in selling if strategy hasn\\'t claimed rewards\\n        uniswapRouter.swapExactTokensForTokens(_amount, uint256(0), path, address(this), now);\\n    }\\n\\n    function _estimateAmountsOut(uint256 _amount, address[] memory sellPath) public view returns (uint256){\\n        uint256 amountOut = 0;\\n        if (sellPath.length <= 0) {\\n            return _amount;\\n        }\\n\\n        if (_amount > 0) {\\n            amountOut = uniswapRouter.getAmountsOut(_amount, sellPath)[sellPath.length - 1];\\n        }\\n        return amountOut;\\n    }\\n\\n    function protectedTokens() internal view override returns (address[] memory){\\n        address[] memory protected = new address[](2);\\n        protected[0] = address(kToken);\\n        protected[1] = address(rook);\\n        return protected;\\n    }\\n\\n    function setKeep(uint256 _percentKeep) external onlyGovernance {\\n        percentKeep = _percentKeep;\\n    }\\n\\n    function setDistributor(address _distributor) external onlyGovernance {\\n        distributor = IDistributeV1(address(_distributor));\\n    }\\n\\n    function setTreasury(address _treasury) external onlyGovernance {\\n        treasury = _treasury;\\n    }\\n\\n    function setLiquidityPool(address _pool) external onlyGovernance {\\n        want.safeApprove(address(_pool), uint256(- 1));\\n        kToken.approve(address(_pool), uint256(- 1));\\n        pool = ILiquidityPool(_pool);\\n    }\\n\\n    function currentDepositFee() external view returns (uint256){\\n        return pool.depositFeeInBips();\\n    }\\n\\n    function switchDex(bool isUniswap) external onlyAuthorized {\\n        if (isUniswap) router = uniswapRouter;\\n        else router = sushiswapRouter;\\n    }\\n\\n    receive() external payable {}\\n}'"
      ]
     },
     "execution_count": 36,
     "metadata": {},
     "output_type": "execute_result"
    }
   ],
   "source": [
    "error.loc[2, \"source_code\"]"
   ]
  },
  {
   "cell_type": "code",
   "execution_count": 37,
   "metadata": {},
   "outputs": [],
   "source": [
    "with open(\"check.sol\", \"w\") as f:\n",
    "    f.write(error.loc[2, \"source_code\"])"
   ]
  },
  {
   "cell_type": "code",
   "execution_count": 40,
   "metadata": {},
   "outputs": [
    {
     "name": "stderr",
     "output_type": "stream",
     "text": [
      "Downloading readme: 100%|██████████| 21.0/21.0 [00:00<00:00, 170kB/s]\n",
      "Downloading data: 100%|██████████| 1.40G/1.40G [04:14<00:00, 5.51MB/s]\n",
      "Downloading data: 100%|██████████| 142M/142M [00:26<00:00, 5.42MB/s] \n",
      "Generating train split: 857494 examples [00:27, 30900.47 examples/s]\n",
      "Generating test split: 87393 examples [00:02, 35893.52 examples/s]\n"
     ]
    }
   ],
   "source": [
    "from datasets import load_dataset\n",
    "\n",
    "test = load_dataset(\"lvdthieu/codegen\", split=\"test\")\n",
    "test = pd.DataFrame(test)"
   ]
  },
  {
   "cell_type": "code",
   "execution_count": 48,
   "metadata": {},
   "outputs": [
    {
     "data": {
      "text/plain": [
       "0.7706910164429646"
      ]
     },
     "execution_count": 48,
     "metadata": {},
     "output_type": "execute_result"
    }
   ],
   "source": [
    "len(test[[\"masked_contract\"]].drop_duplicates()) / len(test)"
   ]
  },
  {
   "cell_type": "code",
   "execution_count": 49,
   "metadata": {},
   "outputs": [
    {
     "name": "stderr",
     "output_type": "stream",
     "text": [
      "Using the latest cached version of the dataset since lvdthieu/codegen couldn't be found on the Hugging Face Hub\n",
      "Found the latest cached dataset configuration 'default' at /home/hieuvd/.cache/huggingface/datasets/lvdthieu___codegen/default/0.0.0/7e8f03dc40a5ac1ef1496bf0d4461ac8b81c99fe (last modified on Mon Jan 22 11:45:04 2024).\n"
     ]
    }
   ],
   "source": [
    "train = load_dataset(\"lvdthieu/codegen\", split=\"train\")\n",
    "train = pd.DataFrame(train)"
   ]
  },
  {
   "cell_type": "code",
   "execution_count": 50,
   "metadata": {},
   "outputs": [
    {
     "data": {
      "text/plain": [
       "34155"
      ]
     },
     "execution_count": 50,
     "metadata": {},
     "output_type": "execute_result"
    }
   ],
   "source": [
    "len(test[test[\"masked_contract\"].isin(train[\"masked_contract\"].tolist())])"
   ]
  },
  {
   "cell_type": "code",
   "execution_count": 3,
   "metadata": {},
   "outputs": [
    {
     "name": "stdout",
     "output_type": "stream",
     "text": [
      "<class 'pandas.core.frame.DataFrame'>\n",
      "RangeIndex: 10742 entries, 0 to 10741\n",
      "Data columns (total 8 columns):\n",
      " #   Column                  Non-Null Count  Dtype \n",
      "---  ------                  --------------  ----- \n",
      " 0   contract_name           10742 non-null  object\n",
      " 1   func_name               10742 non-null  object\n",
      " 2   original_source_code    10742 non-null  object\n",
      " 3   filled_source_body      10742 non-null  object\n",
      " 4   filled_source_baseline  10742 non-null  object\n",
      " 5   filled_source_finetune  10742 non-null  object\n",
      " 6   func_body               10742 non-null  object\n",
      " 7   func_req                10742 non-null  object\n",
      "dtypes: object(8)\n",
      "memory usage: 671.5+ KB\n"
     ]
    }
   ],
   "source": [
    "import pandas as pd\n",
    "df = pd.read_parquet(\"/home/hieuvd/lvdthieu/CodeGen/out/filled.parquet\", engine=\"fastparquet\")\n",
    "df.info()"
   ]
  },
  {
   "cell_type": "code",
   "execution_count": 4,
   "metadata": {},
   "outputs": [
    {
     "data": {
      "text/plain": [
       "5687"
      ]
     },
     "execution_count": 4,
     "metadata": {},
     "output_type": "execute_result"
    }
   ],
   "source": [
    "len(df[[\"contract_name\", \"func_name\"]].drop_duplicates())"
   ]
  },
  {
   "cell_type": "code",
   "execution_count": 15,
   "metadata": {},
   "outputs": [
    {
     "name": "stdout",
     "output_type": "stream",
     "text": [
      "<class 'pandas.core.frame.DataFrame'>\n",
      "RangeIndex: 7672 entries, 0 to 7671\n",
      "Data columns (total 6 columns):\n",
      " #   Column         Non-Null Count  Dtype \n",
      "---  ------         --------------  ----- \n",
      " 0   contract_name  7672 non-null   object\n",
      " 1   func_name      7672 non-null   object\n",
      " 2   source_code    7672 non-null   object\n",
      " 3   func_body      7672 non-null   object\n",
      " 4   func_req       7672 non-null   object\n",
      " 5   source_idx     7672 non-null   int64 \n",
      "dtypes: int64(1), object(5)\n",
      "memory usage: 359.8+ KB\n",
      "None\n",
      "   contract_name          func_name  \\\n",
      "0           KKNK            approve   \n",
      "1     BasicToken          balanceOf   \n",
      "2      Claimable     claimOwnership   \n",
      "3  StandardToken  increaseAllowance   \n",
      "4     StacsToken       endMigration   \n",
      "\n",
      "                                         source_code  \\\n",
      "0  /**\\n *Submitted for verification at Etherscan...   \n",
      "1  pragma solidity 0.4.25;\\n\\r\\ncontract ERC20Bas...   \n",
      "2  pragma solidity 0.4.25;\\n\\r\\ncontract ERC20Bas...   \n",
      "3  pragma solidity 0.4.25;\\n\\r\\ncontract ERC20Bas...   \n",
      "4  pragma solidity 0.4.25;\\n\\r\\ncontract ERC20Bas...   \n",
      "\n",
      "                                           func_body  \\\n",
      "0  \\r\\n\\t\\tif (_value <= 0) throw; \\r\\n        al...   \n",
      "1             \\r\\n    return balances[_owner];\\r\\n     \n",
      "2  \\r\\n    emit OwnershipTransferred(owner, pendi...   \n",
      "3  \\r\\n    allowed[msg.sender][_spender] = (\\r\\n ...   \n",
      "4        \\r\\n        migrationPhase = false;\\r\\n       \n",
      "\n",
      "                                            func_req  source_idx  \n",
      "0  Allow another contract to spend some tokens in...           0  \n",
      "1  *\\r\\n  * @dev Gets the balance of the specifie...           1  \n",
      "2  *\\r\\n   * @dev Allows the pendingOwner address...           2  \n",
      "3  *\\r\\n   * @dev Increase the amount of tokens t...           3  \n",
      "4  *\\r\\n    * @dev End migration phase and disall...           4  \n"
     ]
    }
   ],
   "source": [
    "view(\"/home/hieuvd/lvdthieu/CodeGen/data/compilable/body.parquet\")"
   ]
  },
  {
   "cell_type": "code",
   "execution_count": 16,
   "metadata": {},
   "outputs": [
    {
     "name": "stdout",
     "output_type": "stream",
     "text": [
      "<class 'pandas.core.frame.DataFrame'>\n",
      "RangeIndex: 6021 entries, 0 to 6020\n",
      "Data columns (total 6 columns):\n",
      " #   Column         Non-Null Count  Dtype \n",
      "---  ------         --------------  ----- \n",
      " 0   contract_name  6021 non-null   object\n",
      " 1   func_name      6021 non-null   object\n",
      " 2   source_code    6021 non-null   object\n",
      " 3   func_body      6021 non-null   object\n",
      " 4   func_req       6021 non-null   object\n",
      " 5   source_idx     6021 non-null   int64 \n",
      "dtypes: int64(1), object(5)\n",
      "memory usage: 282.4+ KB\n",
      "None\n",
      "   contract_name          func_name  \\\n",
      "0           KKNK            approve   \n",
      "1     BasicToken          balanceOf   \n",
      "2      Claimable     claimOwnership   \n",
      "3  StandardToken  increaseAllowance   \n",
      "4     StacsToken       endMigration   \n",
      "\n",
      "                                         source_code  \\\n",
      "0  /**\\n *Submitted for verification at Etherscan...   \n",
      "1  pragma solidity 0.4.25;\\n\\r\\ncontract ERC20Bas...   \n",
      "2  pragma solidity 0.4.25;\\n\\r\\ncontract ERC20Bas...   \n",
      "3  pragma solidity 0.4.25;\\n\\r\\ncontract ERC20Bas...   \n",
      "4  pragma solidity 0.4.25;\\n\\r\\ncontract ERC20Bas...   \n",
      "\n",
      "                                           func_body  \\\n",
      "0  \\r\\n\\t\\tif (_value <= 0) throw; \\r\\n        al...   \n",
      "1             \\r\\n    return balances[_owner];\\r\\n     \n",
      "2  \\r\\n    emit OwnershipTransferred(owner, pendi...   \n",
      "3  \\r\\n    allowed[msg.sender][_spender] = (\\r\\n ...   \n",
      "4        \\r\\n        migrationPhase = false;\\r\\n       \n",
      "\n",
      "                                            func_req  source_idx  \n",
      "0  Allow another contract to spend some tokens in...           0  \n",
      "1  *\\r\\n  * @dev Gets the balance of the specifie...           1  \n",
      "2  *\\r\\n   * @dev Allows the pendingOwner address...           2  \n",
      "3  *\\r\\n   * @dev Increase the amount of tokens t...           3  \n",
      "4  *\\r\\n    * @dev End migration phase and disall...           4  \n"
     ]
    }
   ],
   "source": [
    "view(\"/home/hieuvd/lvdthieu/CodeGen/data/compilable/baseline.parquet\")"
   ]
  },
  {
   "cell_type": "code",
   "execution_count": 17,
   "metadata": {},
   "outputs": [
    {
     "name": "stdout",
     "output_type": "stream",
     "text": [
      "<class 'pandas.core.frame.DataFrame'>\n",
      "RangeIndex: 6814 entries, 0 to 6813\n",
      "Data columns (total 6 columns):\n",
      " #   Column         Non-Null Count  Dtype \n",
      "---  ------         --------------  ----- \n",
      " 0   contract_name  6814 non-null   object\n",
      " 1   func_name      6814 non-null   object\n",
      " 2   source_code    6814 non-null   object\n",
      " 3   func_body      6814 non-null   object\n",
      " 4   func_req       6814 non-null   object\n",
      " 5   source_idx     6814 non-null   int64 \n",
      "dtypes: int64(1), object(5)\n",
      "memory usage: 319.5+ KB\n",
      "None\n",
      "   contract_name          func_name  \\\n",
      "0           KKNK            approve   \n",
      "1     BasicToken          balanceOf   \n",
      "2      Claimable     claimOwnership   \n",
      "3  StandardToken  increaseAllowance   \n",
      "4     StacsToken       endMigration   \n",
      "\n",
      "                                         source_code  \\\n",
      "0  /**\\n *Submitted for verification at Etherscan...   \n",
      "1  pragma solidity 0.4.25;\\n\\r\\ncontract ERC20Bas...   \n",
      "2  pragma solidity 0.4.25;\\n\\r\\ncontract ERC20Bas...   \n",
      "3  pragma solidity 0.4.25;\\n\\r\\ncontract ERC20Bas...   \n",
      "4  pragma solidity 0.4.25;\\n\\r\\ncontract ERC20Bas...   \n",
      "\n",
      "                                           func_body  \\\n",
      "0  \\r\\n\\t\\tif (_value <= 0) throw; \\r\\n        al...   \n",
      "1             \\r\\n    return balances[_owner];\\r\\n     \n",
      "2  \\r\\n    emit OwnershipTransferred(owner, pendi...   \n",
      "3  \\r\\n    allowed[msg.sender][_spender] = (\\r\\n ...   \n",
      "4        \\r\\n        migrationPhase = false;\\r\\n       \n",
      "\n",
      "                                            func_req  source_idx  \n",
      "0  Allow another contract to spend some tokens in...           0  \n",
      "1  *\\r\\n  * @dev Gets the balance of the specifie...           1  \n",
      "2  *\\r\\n   * @dev Allows the pendingOwner address...           2  \n",
      "3  *\\r\\n   * @dev Increase the amount of tokens t...           3  \n",
      "4  *\\r\\n    * @dev End migration phase and disall...           4  \n"
     ]
    }
   ],
   "source": [
    "view(\"/home/hieuvd/lvdthieu/CodeGen/data/compilable/finetune.parquet\")"
   ]
  },
  {
   "cell_type": "code",
   "execution_count": 3,
   "metadata": {},
   "outputs": [],
   "source": [
    "finetune = pd.read_parquet(\"/home/hieuvd/lvdthieu/CodeGen/data/compilable/finetune.parquet\", engine=\"fastparquet\")"
   ]
  },
  {
   "cell_type": "code",
   "execution_count": 6,
   "metadata": {},
   "outputs": [
    {
     "data": {
      "text/plain": [
       "3662"
      ]
     },
     "execution_count": 6,
     "metadata": {},
     "output_type": "execute_result"
    }
   ],
   "source": [
    "len(finetune[[\"contract_name\", \"func_name\", \"func_body\", \"func_req\"]].drop_duplicates())"
   ]
  },
  {
   "cell_type": "code",
   "execution_count": 7,
   "metadata": {},
   "outputs": [],
   "source": [
    "finetune[\"len_func_body\"] = finetune[\"func_body\"].apply(lambda body: len(body.split()))"
   ]
  },
  {
   "cell_type": "code",
   "execution_count": 8,
   "metadata": {},
   "outputs": [
    {
     "data": {
      "text/plain": [
       "count    6814.000000\n",
       "mean        9.221456\n",
       "std         9.536190\n",
       "min         1.000000\n",
       "25%         2.000000\n",
       "50%         6.000000\n",
       "75%        13.000000\n",
       "max        49.000000\n",
       "Name: len_func_body, dtype: float64"
      ]
     },
     "execution_count": 8,
     "metadata": {},
     "output_type": "execute_result"
    }
   ],
   "source": [
    "finetune[\"len_func_body\"].describe()"
   ]
  },
  {
   "cell_type": "code",
   "execution_count": 21,
   "metadata": {},
   "outputs": [
    {
     "data": {
      "text/plain": [
       "<Axes: >"
      ]
     },
     "execution_count": 21,
     "metadata": {},
     "output_type": "execute_result"
    },
    {
     "data": {
      "image/png": "[encoded data removed]",
      "text/plain": [
       "<Figure size 640x480 with 1 Axes>"
      ]
     },
     "metadata": {},
     "output_type": "display_data"
    }
   ],
   "source": [
    "finetune[\"len_func_body\"].hist(bins=50,edgecolor='black')"
   ]
  },
  {
   "cell_type": "code",
   "execution_count": 27,
   "metadata": {},
   "outputs": [
    {
     "name": "stdout",
     "output_type": "stream",
     "text": [
      "<class 'pandas.core.frame.DataFrame'>\n",
      "RangeIndex: 595334 entries, 0 to 595333\n",
      "Data columns (total 6 columns):\n",
      " #   Column            Non-Null Count   Dtype \n",
      "---  ------            --------------   ----- \n",
      " 0   source_idx        595334 non-null  object\n",
      " 1   contract_name     595334 non-null  object\n",
      " 2   func_name         558117 non-null  object\n",
      " 3   masked_contract   595334 non-null  object\n",
      " 4   func_body         595334 non-null  object\n",
      " 5   func_requirement  595334 non-null  object\n",
      "dtypes: object(6)\n",
      "memory usage: 27.3+ MB\n"
     ]
    }
   ],
   "source": [
    "all_data = pd.read_parquet(\"/home/hieuvd/lvdthieu/CodeGen/data/data/data.parquet\", engine=\"fastparquet\")\n",
    "all_data.info()"
   ]
  },
  {
   "cell_type": "code",
   "execution_count": null,
   "metadata": {},
   "outputs": [],
   "source": [
    "all"
   ]
  },
  {
   "cell_type": "code",
   "execution_count": 29,
   "metadata": {},
   "outputs": [
    {
     "name": "stdout",
     "output_type": "stream",
     "text": [
      "<class 'pandas.core.frame.DataFrame'>\n",
      "RangeIndex: 346466 entries, 0 to 346465\n",
      "Data columns (total 6 columns):\n",
      " #   Column            Non-Null Count   Dtype \n",
      "---  ------            --------------   ----- \n",
      " 0   source_idx        346466 non-null  object\n",
      " 1   contract_name     346466 non-null  object\n",
      " 2   func_name         328156 non-null  object\n",
      " 3   masked_contract   346466 non-null  object\n",
      " 4   func_body         346466 non-null  object\n",
      " 5   func_requirement  346466 non-null  object\n",
      "dtypes: object(6)\n",
      "memory usage: 15.9+ MB\n"
     ]
    }
   ],
   "source": [
    "all_data.drop_duplicates(subset=[\"masked_contract\", \"func_body\"], ignore_index=True, inplace=True)\n",
    "all_data.info()"
   ]
  },
  {
   "cell_type": "code",
   "execution_count": 36,
   "metadata": {},
   "outputs": [],
   "source": [
    "all_data.to_parquet(\"/home/hieuvd/lvdthieu/CodeGen/data/data/all_data.parquet\", engine=\"fastparquet\")"
   ]
  },
  {
   "cell_type": "code",
   "execution_count": 38,
   "metadata": {},
   "outputs": [
    {
     "name": "stdout",
     "output_type": "stream",
     "text": [
      "<class 'pandas.core.frame.DataFrame'>\n",
      "RangeIndex: 595334 entries, 0 to 595333\n",
      "Data columns (total 6 columns):\n",
      " #   Column            Non-Null Count   Dtype \n",
      "---  ------            --------------   ----- \n",
      " 0   source_idx        595334 non-null  object\n",
      " 1   contract_name     595334 non-null  object\n",
      " 2   func_name         558117 non-null  object\n",
      " 3   masked_contract   595334 non-null  object\n",
      " 4   function          595334 non-null  object\n",
      " 5   func_requirement  595334 non-null  object\n",
      "dtypes: object(6)\n",
      "memory usage: 27.3+ MB\n"
     ]
    }
   ],
   "source": [
    "mask_func = pd.read_parquet(\"/home/hieuvd/lvdthieu/CodeGen/data/data/mask_entire_function.parquet\", engine=\"fastparquet\")\n",
    "mask_func.info()"
   ]
  },
  {
   "cell_type": "code",
   "execution_count": 39,
   "metadata": {},
   "outputs": [
    {
     "name": "stdout",
     "output_type": "stream",
     "text": [
      "<class 'pandas.core.frame.DataFrame'>\n",
      "RangeIndex: 346466 entries, 0 to 346465\n",
      "Data columns (total 6 columns):\n",
      " #   Column            Non-Null Count   Dtype \n",
      "---  ------            --------------   ----- \n",
      " 0   source_idx        346466 non-null  object\n",
      " 1   contract_name     346466 non-null  object\n",
      " 2   func_name         328156 non-null  object\n",
      " 3   masked_contract   346466 non-null  object\n",
      " 4   function          346466 non-null  object\n",
      " 5   func_requirement  346466 non-null  object\n",
      "dtypes: object(6)\n",
      "memory usage: 15.9+ MB\n"
     ]
    }
   ],
   "source": [
    "mask_func.drop_duplicates(subset=[\"masked_contract\", \"function\"], ignore_index=True, inplace=True)\n",
    "mask_func.info()"
   ]
  },
  {
   "cell_type": "code",
   "execution_count": 40,
   "metadata": {},
   "outputs": [],
   "source": [
    "mask_func.to_parquet(\"/home/hieuvd/lvdthieu/CodeGen/data/data/mask_entire_function.parquet\", engine=\"fastparquet\")"
   ]
  },
  {
   "cell_type": "code",
   "execution_count": 2,
   "metadata": {},
   "outputs": [
    {
     "name": "stdout",
     "output_type": "stream",
     "text": [
      "<class 'pandas.core.frame.DataFrame'>\n",
      "RangeIndex: 10742 entries, 0 to 10741\n",
      "Data columns (total 5 columns):\n",
      " #   Column         Non-Null Count  Dtype \n",
      "---  ------         --------------  ----- \n",
      " 0   contract_name  10742 non-null  object\n",
      " 1   func_name      10742 non-null  object\n",
      " 2   source_code    10742 non-null  object\n",
      " 3   func_body      10742 non-null  object\n",
      " 4   func_req       10742 non-null  object\n",
      "dtypes: object(5)\n",
      "memory usage: 419.7+ KB\n"
     ]
    }
   ],
   "source": [
    "import pandas as pd\n",
    "original = pd.read_parquet(\"/home/hieuvd/lvdthieu/CodeGen/data/test/original.parquet\", engine=\"fastparquet\")\n",
    "original.info()"
   ]
  },
  {
   "cell_type": "code",
   "execution_count": 2,
   "metadata": {},
   "outputs": [
    {
     "name": "stdout",
     "output_type": "stream",
     "text": [
      "<class 'pandas.core.frame.DataFrame'>\n",
      "RangeIndex: 248868 entries, 0 to 248867\n",
      "Data columns (total 2 columns):\n",
      " #   Column         Non-Null Count   Dtype \n",
      "---  ------         --------------   ----- \n",
      " 0   Unnamed: 0     248868 non-null  int64 \n",
      " 1   contract_name  248868 non-null  object\n",
      "dtypes: int64(1), object(1)\n",
      "memory usage: 3.8+ MB\n"
     ]
    }
   ],
   "source": [
    "import pandas as pd\n",
    "duplicate_contract = pd.read_csv(\"/home/hieuvd/lvdthieu/CodeGen/duplicate_contract.csv\")\n",
    "duplicate_contract.info()"
   ]
  },
  {
   "cell_type": "code",
   "execution_count": 4,
   "metadata": {},
   "outputs": [
    {
     "data": {
      "text/plain": [
       "count     2019.000000\n",
       "mean       123.263001\n",
       "std       1800.894760\n",
       "min          1.000000\n",
       "25%          2.000000\n",
       "50%          6.000000\n",
       "75%         17.000000\n",
       "max      52017.000000\n",
       "Name: count, dtype: float64"
      ]
     },
     "execution_count": 4,
     "metadata": {},
     "output_type": "execute_result"
    }
   ],
   "source": [
    "duplicate_contract[\"contract_name\"].value_counts().describe()"
   ]
  },
  {
   "cell_type": "code",
   "execution_count": 2,
   "metadata": {},
   "outputs": [
    {
     "name": "stdout",
     "output_type": "stream",
     "text": [
      "<class 'pandas.core.frame.DataFrame'>\n",
      "RangeIndex: 346466 entries, 0 to 346465\n",
      "Data columns (total 6 columns):\n",
      " #   Column            Non-Null Count   Dtype \n",
      "---  ------            --------------   ----- \n",
      " 0   source_idx        346466 non-null  object\n",
      " 1   contract_name     346466 non-null  object\n",
      " 2   func_name         328156 non-null  object\n",
      " 3   masked_contract   346466 non-null  object\n",
      " 4   func_body         346466 non-null  object\n",
      " 5   func_requirement  346466 non-null  object\n",
      "dtypes: object(6)\n",
      "memory usage: 15.9+ MB\n"
     ]
    }
   ],
   "source": [
    "import pandas as pd\n",
    "data = pd.read_parquet(\"/home/hieuvd/lvdthieu/CodeGen/data/data/only_mask_func_body.parquet\", engine=\"fastparquet\")\n",
    "data.info()"
   ]
  },
  {
   "cell_type": "code",
   "execution_count": 3,
   "metadata": {},
   "outputs": [
    {
     "data": {
      "text/plain": [
       "56420"
      ]
     },
     "execution_count": 3,
     "metadata": {},
     "output_type": "execute_result"
    }
   ],
   "source": [
    "\n",
    "len(data[[\"source_idx\", \"contract_name\"]].drop_duplicates())"
   ]
  },
  {
   "cell_type": "code",
   "execution_count": 3,
   "metadata": {},
   "outputs": [
    {
     "name": "stdout",
     "output_type": "stream",
     "text": [
      "<class 'pandas.core.frame.DataFrame'>\n",
      "RangeIndex: 267200 entries, 0 to 267199\n",
      "Data columns (total 3 columns):\n",
      " #   Column           Non-Null Count   Dtype \n",
      "---  ------           --------------   ----- \n",
      " 0   source_idx       267200 non-null  object\n",
      " 1   contract_name    267200 non-null  object\n",
      " 2   contract_source  267200 non-null  object\n",
      "dtypes: object(3)\n",
      "memory usage: 6.1+ MB\n"
     ]
    }
   ],
   "source": [
    "import pandas as pd\n",
    "contracts = pd.read_parquet(\"/home/hieuvd/lvdthieu/CodeGen/data/contracts.parquet\", engine=\"fastparquet\")\n",
    "contracts.info()"
   ]
  },
  {
   "cell_type": "code",
   "execution_count": 4,
   "metadata": {},
   "outputs": [],
   "source": [
    "barr = [1, 5, 10, 20, 50, 100, 200, 500, 1000, 2000, 4000]\n"
   ]
  },
  {
   "cell_type": "code",
   "execution_count": 5,
   "metadata": {},
   "outputs": [],
   "source": [
    "count = dict(contracts[\"contract_source\"].value_counts())"
   ]
  },
  {
   "cell_type": "code",
   "execution_count": 6,
   "metadata": {},
   "outputs": [],
   "source": [
    "contracts[\"count\"] = contracts[\"contract_source\"].apply(lambda source: count[source])"
   ]
  },
  {
   "cell_type": "code",
   "execution_count": 12,
   "metadata": {},
   "outputs": [
    {
     "data": {
      "text/html": [
       "<div>\n",
       "<style scoped>\n",
       "    .dataframe tbody tr th:only-of-type {\n",
       "        vertical-align: middle;\n",
       "    }\n",
       "\n",
       "    .dataframe tbody tr th {\n",
       "        vertical-align: top;\n",
       "    }\n",
       "\n",
       "    .dataframe thead th {\n",
       "        text-align: right;\n",
       "    }\n",
       "</style>\n",
       "<table border=\"1\" class=\"dataframe\">\n",
       "  <thead>\n",
       "    <tr style=\"text-align: right;\">\n",
       "      <th></th>\n",
       "      <th>source_idx</th>\n",
       "      <th>contract_name</th>\n",
       "      <th>contract_source</th>\n",
       "      <th>count</th>\n",
       "    </tr>\n",
       "  </thead>\n",
       "  <tbody>\n",
       "    <tr>\n",
       "      <th>0</th>\n",
       "      <td>0</td>\n",
       "      <td>ERC20Interface</td>\n",
       "      <td>contract ERC20Interface {\\r\\n    function tota...</td>\n",
       "      <td>3809</td>\n",
       "    </tr>\n",
       "    <tr>\n",
       "      <th>1</th>\n",
       "      <td>0</td>\n",
       "      <td>ApproveAndCallFallBack</td>\n",
       "      <td>contract ApproveAndCallFallBack {\\r\\n    funct...</td>\n",
       "      <td>3917</td>\n",
       "    </tr>\n",
       "    <tr>\n",
       "      <th>2</th>\n",
       "      <td>0</td>\n",
       "      <td>Owned</td>\n",
       "      <td>contract Owned {\\r\\n    address public owner;\\...</td>\n",
       "      <td>1598</td>\n",
       "    </tr>\n",
       "    <tr>\n",
       "      <th>3</th>\n",
       "      <td>0</td>\n",
       "      <td>Tangent</td>\n",
       "      <td>contract Tangent is ERC20Interface, Owned {\\r\\...</td>\n",
       "      <td>1</td>\n",
       "    </tr>\n",
       "    <tr>\n",
       "      <th>4</th>\n",
       "      <td>0</td>\n",
       "      <td>TangentStake</td>\n",
       "      <td>contract TangentStake is Owned {\\r\\n    // pre...</td>\n",
       "      <td>1</td>\n",
       "    </tr>\n",
       "    <tr>\n",
       "      <th>...</th>\n",
       "      <td>...</td>\n",
       "      <td>...</td>\n",
       "      <td>...</td>\n",
       "      <td>...</td>\n",
       "    </tr>\n",
       "    <tr>\n",
       "      <th>267195</th>\n",
       "      <td>94282</td>\n",
       "      <td>TeuToken</td>\n",
       "      <td>contract TeuToken is StandardToken, Ownable{\\r...</td>\n",
       "      <td>3</td>\n",
       "    </tr>\n",
       "    <tr>\n",
       "      <th>267196</th>\n",
       "      <td>94282</td>\n",
       "      <td>teuInitialTokenSale</td>\n",
       "      <td>contract teuInitialTokenSale is Ownable {\\r\\n\\...</td>\n",
       "      <td>1</td>\n",
       "    </tr>\n",
       "    <tr>\n",
       "      <th>267197</th>\n",
       "      <td>94284</td>\n",
       "      <td>GodMode</td>\n",
       "      <td>contract GodMode {\\r\\n    /// @dev Is the cont...</td>\n",
       "      <td>1</td>\n",
       "    </tr>\n",
       "    <tr>\n",
       "      <th>267198</th>\n",
       "      <td>94287</td>\n",
       "      <td>ERC20</td>\n",
       "      <td>contract ERC20 is Context, IERC20 {\\r\\n    usi...</td>\n",
       "      <td>358</td>\n",
       "    </tr>\n",
       "    <tr>\n",
       "      <th>267199</th>\n",
       "      <td>94287</td>\n",
       "      <td>NCashToken</td>\n",
       "      <td>contract NCashToken is ERC20, ERC20Burnable {\\...</td>\n",
       "      <td>1</td>\n",
       "    </tr>\n",
       "  </tbody>\n",
       "</table>\n",
       "<p>267200 rows × 4 columns</p>\n",
       "</div>"
      ],
      "text/plain": [
       "       source_idx           contract_name  \\\n",
       "0               0          ERC20Interface   \n",
       "1               0  ApproveAndCallFallBack   \n",
       "2               0                   Owned   \n",
       "3               0                 Tangent   \n",
       "4               0            TangentStake   \n",
       "...           ...                     ...   \n",
       "267195      94282                TeuToken   \n",
       "267196      94282     teuInitialTokenSale   \n",
       "267197      94284                 GodMode   \n",
       "267198      94287                   ERC20   \n",
       "267199      94287              NCashToken   \n",
       "\n",
       "                                          contract_source  count  \n",
       "0       contract ERC20Interface {\\r\\n    function tota...   3809  \n",
       "1       contract ApproveAndCallFallBack {\\r\\n    funct...   3917  \n",
       "2       contract Owned {\\r\\n    address public owner;\\...   1598  \n",
       "3       contract Tangent is ERC20Interface, Owned {\\r\\...      1  \n",
       "4       contract TangentStake is Owned {\\r\\n    // pre...      1  \n",
       "...                                                   ...    ...  \n",
       "267195  contract TeuToken is StandardToken, Ownable{\\r...      3  \n",
       "267196  contract teuInitialTokenSale is Ownable {\\r\\n\\...      1  \n",
       "267197  contract GodMode {\\r\\n    /// @dev Is the cont...      1  \n",
       "267198  contract ERC20 is Context, IERC20 {\\r\\n    usi...    358  \n",
       "267199  contract NCashToken is ERC20, ERC20Burnable {\\...      1  \n",
       "\n",
       "[267200 rows x 4 columns]"
      ]
     },
     "execution_count": 12,
     "metadata": {},
     "output_type": "execute_result"
    }
   ],
   "source": [
    "contracts"
   ]
  },
  {
   "cell_type": "code",
   "execution_count": 13,
   "metadata": {},
   "outputs": [],
   "source": [
    "contracts = contracts.sample(frac=1, ignore_index=True)"
   ]
  },
  {
   "cell_type": "code",
   "execution_count": 14,
   "metadata": {},
   "outputs": [
    {
     "data": {
      "text/html": [
       "<div>\n",
       "<style scoped>\n",
       "    .dataframe tbody tr th:only-of-type {\n",
       "        vertical-align: middle;\n",
       "    }\n",
       "\n",
       "    .dataframe tbody tr th {\n",
       "        vertical-align: top;\n",
       "    }\n",
       "\n",
       "    .dataframe thead th {\n",
       "        text-align: right;\n",
       "    }\n",
       "</style>\n",
       "<table border=\"1\" class=\"dataframe\">\n",
       "  <thead>\n",
       "    <tr style=\"text-align: right;\">\n",
       "      <th></th>\n",
       "      <th>source_idx</th>\n",
       "      <th>contract_name</th>\n",
       "      <th>contract_source</th>\n",
       "      <th>count</th>\n",
       "    </tr>\n",
       "  </thead>\n",
       "  <tbody>\n",
       "    <tr>\n",
       "      <th>0</th>\n",
       "      <td>3511</td>\n",
       "      <td>Ownable</td>\n",
       "      <td>contract\\tOwnable\\t\\t{\\t\\t\\t\\t\\t\\t\\r\\n\\taddres...</td>\n",
       "      <td>54</td>\n",
       "    </tr>\n",
       "    <tr>\n",
       "      <th>1</th>\n",
       "      <td>71542</td>\n",
       "      <td>SCT</td>\n",
       "      <td>contract SCT is SafeMath{\\r\\n    string public...</td>\n",
       "      <td>1</td>\n",
       "    </tr>\n",
       "    <tr>\n",
       "      <th>2</th>\n",
       "      <td>64689</td>\n",
       "      <td>ERC20Mintable</td>\n",
       "      <td>contract ERC20Mintable is BaseToken, MinterRol...</td>\n",
       "      <td>4</td>\n",
       "    </tr>\n",
       "    <tr>\n",
       "      <th>3</th>\n",
       "      <td>4397</td>\n",
       "      <td>Context</td>\n",
       "      <td>contract Context {\\n    constructor () interna...</td>\n",
       "      <td>7</td>\n",
       "    </tr>\n",
       "    <tr>\n",
       "      <th>4</th>\n",
       "      <td>540</td>\n",
       "      <td>ERC20Interface</td>\n",
       "      <td>contract ERC20Interface {\\r\\n    function tota...</td>\n",
       "      <td>3809</td>\n",
       "    </tr>\n",
       "    <tr>\n",
       "      <th>...</th>\n",
       "      <td>...</td>\n",
       "      <td>...</td>\n",
       "      <td>...</td>\n",
       "      <td>...</td>\n",
       "    </tr>\n",
       "    <tr>\n",
       "      <th>267195</th>\n",
       "      <td>76778</td>\n",
       "      <td>OfferToken</td>\n",
       "      <td>contract OfferToken is LexDAORole, ERC20Burnab...</td>\n",
       "      <td>2</td>\n",
       "    </tr>\n",
       "    <tr>\n",
       "      <th>267196</th>\n",
       "      <td>85966</td>\n",
       "      <td>POXToken</td>\n",
       "      <td>contract POXToken {\\r\\n    /*=================...</td>\n",
       "      <td>1</td>\n",
       "    </tr>\n",
       "    <tr>\n",
       "      <th>267197</th>\n",
       "      <td>75409</td>\n",
       "      <td>StandardToken</td>\n",
       "      <td>contract StandardToken is ERC20, BasicToken {\\...</td>\n",
       "      <td>271</td>\n",
       "    </tr>\n",
       "    <tr>\n",
       "      <th>267198</th>\n",
       "      <td>76113</td>\n",
       "      <td>ERC20Interface</td>\n",
       "      <td>contract ERC20Interface {\\r\\n    function tota...</td>\n",
       "      <td>3809</td>\n",
       "    </tr>\n",
       "    <tr>\n",
       "      <th>267199</th>\n",
       "      <td>952</td>\n",
       "      <td>Claimable</td>\n",
       "      <td>contract Claimable is Ownable {\\r\\n  address p...</td>\n",
       "      <td>28</td>\n",
       "    </tr>\n",
       "  </tbody>\n",
       "</table>\n",
       "<p>267200 rows × 4 columns</p>\n",
       "</div>"
      ],
      "text/plain": [
       "       source_idx   contract_name  \\\n",
       "0            3511         Ownable   \n",
       "1           71542             SCT   \n",
       "2           64689   ERC20Mintable   \n",
       "3            4397         Context   \n",
       "4             540  ERC20Interface   \n",
       "...           ...             ...   \n",
       "267195      76778      OfferToken   \n",
       "267196      85966        POXToken   \n",
       "267197      75409   StandardToken   \n",
       "267198      76113  ERC20Interface   \n",
       "267199        952       Claimable   \n",
       "\n",
       "                                          contract_source  count  \n",
       "0       contract\\tOwnable\\t\\t{\\t\\t\\t\\t\\t\\t\\r\\n\\taddres...     54  \n",
       "1       contract SCT is SafeMath{\\r\\n    string public...      1  \n",
       "2       contract ERC20Mintable is BaseToken, MinterRol...      4  \n",
       "3       contract Context {\\n    constructor () interna...      7  \n",
       "4       contract ERC20Interface {\\r\\n    function tota...   3809  \n",
       "...                                                   ...    ...  \n",
       "267195  contract OfferToken is LexDAORole, ERC20Burnab...      2  \n",
       "267196  contract POXToken {\\r\\n    /*=================...      1  \n",
       "267197  contract StandardToken is ERC20, BasicToken {\\...    271  \n",
       "267198  contract ERC20Interface {\\r\\n    function tota...   3809  \n",
       "267199  contract Claimable is Ownable {\\r\\n  address p...     28  \n",
       "\n",
       "[267200 rows x 4 columns]"
      ]
     },
     "execution_count": 14,
     "metadata": {},
     "output_type": "execute_result"
    }
   ],
   "source": [
    "contracts"
   ]
  },
  {
   "cell_type": "code",
   "execution_count": 16,
   "metadata": {},
   "outputs": [
    {
     "data": {
      "text/html": [
       "<div>\n",
       "<style scoped>\n",
       "    .dataframe tbody tr th:only-of-type {\n",
       "        vertical-align: middle;\n",
       "    }\n",
       "\n",
       "    .dataframe tbody tr th {\n",
       "        vertical-align: top;\n",
       "    }\n",
       "\n",
       "    .dataframe thead th {\n",
       "        text-align: right;\n",
       "    }\n",
       "</style>\n",
       "<table border=\"1\" class=\"dataframe\">\n",
       "  <thead>\n",
       "    <tr style=\"text-align: right;\">\n",
       "      <th></th>\n",
       "      <th>source_idx</th>\n",
       "      <th>contract_name</th>\n",
       "      <th>contract_source</th>\n",
       "      <th>count</th>\n",
       "    </tr>\n",
       "  </thead>\n",
       "  <tbody>\n",
       "    <tr>\n",
       "      <th>0</th>\n",
       "      <td>3511</td>\n",
       "      <td>Ownable</td>\n",
       "      <td>contract\\tOwnable\\t\\t{\\t\\t\\t\\t\\t\\t\\r\\n\\taddres...</td>\n",
       "      <td>54</td>\n",
       "    </tr>\n",
       "    <tr>\n",
       "      <th>1</th>\n",
       "      <td>71542</td>\n",
       "      <td>SCT</td>\n",
       "      <td>contract SCT is SafeMath{\\r\\n    string public...</td>\n",
       "      <td>1</td>\n",
       "    </tr>\n",
       "    <tr>\n",
       "      <th>2</th>\n",
       "      <td>64689</td>\n",
       "      <td>ERC20Mintable</td>\n",
       "      <td>contract ERC20Mintable is BaseToken, MinterRol...</td>\n",
       "      <td>4</td>\n",
       "    </tr>\n",
       "    <tr>\n",
       "      <th>3</th>\n",
       "      <td>4397</td>\n",
       "      <td>Context</td>\n",
       "      <td>contract Context {\\n    constructor () interna...</td>\n",
       "      <td>7</td>\n",
       "    </tr>\n",
       "    <tr>\n",
       "      <th>4</th>\n",
       "      <td>540</td>\n",
       "      <td>ERC20Interface</td>\n",
       "      <td>contract ERC20Interface {\\r\\n    function tota...</td>\n",
       "      <td>3809</td>\n",
       "    </tr>\n",
       "    <tr>\n",
       "      <th>...</th>\n",
       "      <td>...</td>\n",
       "      <td>...</td>\n",
       "      <td>...</td>\n",
       "      <td>...</td>\n",
       "    </tr>\n",
       "    <tr>\n",
       "      <th>118658</th>\n",
       "      <td>60352</td>\n",
       "      <td>Vault</td>\n",
       "      <td>contract Vault is Transferable {\\r\\n    \\r\\n  ...</td>\n",
       "      <td>1</td>\n",
       "    </tr>\n",
       "    <tr>\n",
       "      <th>118659</th>\n",
       "      <td>50945</td>\n",
       "      <td>MyAdvancedToken</td>\n",
       "      <td>contract MyAdvancedToken is owned, TokenERC20 ...</td>\n",
       "      <td>1</td>\n",
       "    </tr>\n",
       "    <tr>\n",
       "      <th>118660</th>\n",
       "      <td>80297</td>\n",
       "      <td>PayerInterface</td>\n",
       "      <td>contract PayerInterface {\\r\\n\\tfunction totalS...</td>\n",
       "      <td>1</td>\n",
       "    </tr>\n",
       "    <tr>\n",
       "      <th>118661</th>\n",
       "      <td>22220</td>\n",
       "      <td>EarthToken</td>\n",
       "      <td>contract EarthToken is ERC20 {\\r\\n    construc...</td>\n",
       "      <td>1</td>\n",
       "    </tr>\n",
       "    <tr>\n",
       "      <th>118662</th>\n",
       "      <td>85966</td>\n",
       "      <td>POXToken</td>\n",
       "      <td>contract POXToken {\\r\\n    /*=================...</td>\n",
       "      <td>1</td>\n",
       "    </tr>\n",
       "  </tbody>\n",
       "</table>\n",
       "<p>118663 rows × 4 columns</p>\n",
       "</div>"
      ],
      "text/plain": [
       "       source_idx    contract_name  \\\n",
       "0            3511          Ownable   \n",
       "1           71542              SCT   \n",
       "2           64689    ERC20Mintable   \n",
       "3            4397          Context   \n",
       "4             540   ERC20Interface   \n",
       "...           ...              ...   \n",
       "118658      60352            Vault   \n",
       "118659      50945  MyAdvancedToken   \n",
       "118660      80297   PayerInterface   \n",
       "118661      22220       EarthToken   \n",
       "118662      85966         POXToken   \n",
       "\n",
       "                                          contract_source  count  \n",
       "0       contract\\tOwnable\\t\\t{\\t\\t\\t\\t\\t\\t\\r\\n\\taddres...     54  \n",
       "1       contract SCT is SafeMath{\\r\\n    string public...      1  \n",
       "2       contract ERC20Mintable is BaseToken, MinterRol...      4  \n",
       "3       contract Context {\\n    constructor () interna...      7  \n",
       "4       contract ERC20Interface {\\r\\n    function tota...   3809  \n",
       "...                                                   ...    ...  \n",
       "118658  contract Vault is Transferable {\\r\\n    \\r\\n  ...      1  \n",
       "118659  contract MyAdvancedToken is owned, TokenERC20 ...      1  \n",
       "118660  contract PayerInterface {\\r\\n\\tfunction totalS...      1  \n",
       "118661  contract EarthToken is ERC20 {\\r\\n    construc...      1  \n",
       "118662  contract POXToken {\\r\\n    /*=================...      1  \n",
       "\n",
       "[118663 rows x 4 columns]"
      ]
     },
     "execution_count": 16,
     "metadata": {},
     "output_type": "execute_result"
    }
   ],
   "source": [
    "contracts.drop_duplicates(subset=[\"contract_source\"], ignore_index=True, inplace=True)\n",
    "contracts"
   ]
  },
  {
   "cell_type": "code",
   "execution_count": 17,
   "metadata": {},
   "outputs": [
    {
     "data": {
      "text/plain": [
       "[12310, 1772, 951, 458, 195, 82, 53, 27, 9, 6]"
      ]
     },
     "execution_count": 17,
     "metadata": {},
     "output_type": "execute_result"
    }
   ],
   "source": [
    "dis = []\n",
    "for i in range(len(barr) - 1):\n",
    "    dis.append(len(contracts[(contracts[\"count\"]>barr[i]) & (contracts[\"count\"]<=barr[i+1])]))\n",
    "\n",
    "dis"
   ]
  },
  {
   "cell_type": "code",
   "execution_count": 18,
   "metadata": {},
   "outputs": [],
   "source": [
    "import matplotlib.pyplot as plt\n",
    "import seaborn as sns\n",
    "contract_overview = [\n",
    "    {\"range\":\"2-5\",\"count\": 12310},\n",
    "    {\"range\":\"6-10\",\"count\": 1772},\n",
    "    {\"range\":\"11-20\",\"count\": 951},\n",
    "    {\"range\":\"21-50\",\"count\": 458},\n",
    "    {\"range\":\"51-100\",\"count\": 195},\n",
    "    {\"range\":\"101-200\",\"count\": 82},\n",
    "    {\"range\":\"201-500\",\"count\": 53},\n",
    "    {\"range\":\"501-1000\",\"count\": 27},\n",
    "    {\"range\":\"1001-2000\",\"count\": 9},\n",
    "    {\"range\":\"2001-4000\",\"count\": 6}\n",
    "]"
   ]
  },
  {
   "cell_type": "code",
   "execution_count": 19,
   "metadata": {},
   "outputs": [
    {
     "data": {
      "image/png": "[encoded data removed]",
      "text/plain": [
       "<Figure size 1200x600 with 1 Axes>"
      ]
     },
     "metadata": {},
     "output_type": "display_data"
    }
   ],
   "source": [
    "contract_overview = pd.DataFrame(contract_overview)\n",
    "\n",
    "plt.figure(figsize=(12,6))\n",
    "plt.ylabel(\"# contracts\")\n",
    "plt.xlabel(\"# Repeated times\")\n",
    "ax = sns.barplot(contract_overview, x=\"range\", y=\"count\")\n",
    "for i in ax.containers:\n",
    "    ax.bar_label(i,)"
   ]
  },
  {
   "cell_type": "markdown",
   "metadata": {},
   "source": [
    "Thống kê trên 94k compilable solidity files extract được 267200 contracts trong đó 118663 contracts unique"
   ]
  },
  {
   "cell_type": "code",
   "execution_count": null,
   "metadata": {},
   "outputs": [],
   "source": []
  }
 ],
 "metadata": {
  "kernelspec": {
   "display_name": "Python 3",
   "language": "python",
   "name": "python3"
  },
  "language_info": {
   "codemirror_mode": {
    "name": "ipython",
    "version": 3
   },
   "file_extension": ".py",
   "mimetype": "text/x-python",
   "name": "python",
   "nbconvert_exporter": "python",
   "pygments_lexer": "ipython3",
   "version": "3.11.5"
  }
 },
 "nbformat": 4,
 "nbformat_minor": 2
}
