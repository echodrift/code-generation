{
 "cells": [
  {
   "cell_type": "code",
   "execution_count": 2,
   "metadata": {},
   "outputs": [],
   "source": [
    "import pandas as pd"
   ]
  },
  {
   "cell_type": "code",
   "execution_count": 3,
   "metadata": {},
   "outputs": [
    {
     "name": "stdout",
     "output_type": "stream",
     "text": [
      "<class 'pandas.core.frame.DataFrame'>\n",
      "RangeIndex: 94288 entries, 0 to 94287\n",
      "Data columns (total 3 columns):\n",
      " #   Column        Non-Null Count  Dtype \n",
      "---  ------        --------------  ----- \n",
      " 0   source_code   94288 non-null  object\n",
      " 1   source_idx    94288 non-null  int64 \n",
      " 2   compile_info  94288 non-null  object\n",
      "dtypes: int64(1), object(2)\n",
      "memory usage: 2.2+ MB\n"
     ]
    }
   ],
   "source": [
    "all_file = pd.read_parquet(\"/home/hieuvd/lvdthieu/CodeGen/data/compile_info/all_file/all_file.parquet\", \"fastparquet\")\n",
    "all_file.info()"
   ]
  },
  {
   "cell_type": "code",
   "execution_count": 5,
   "metadata": {},
   "outputs": [
    {
     "data": {
      "text/plain": [
       "count                       94288\n",
       "unique                          1\n",
       "top       <COMPILED_SUCCESSFULLY>\n",
       "freq                        94288\n",
       "Name: compile_info, dtype: object"
      ]
     },
     "execution_count": 5,
     "metadata": {},
     "output_type": "execute_result"
    }
   ],
   "source": [
    "all_file[\"compile_info\"].describe()"
   ]
  },
  {
   "cell_type": "code",
   "execution_count": 1,
   "metadata": {},
   "outputs": [
    {
     "name": "stdout",
     "output_type": "stream",
     "text": [
      "<class 'pandas.core.frame.DataFrame'>\n",
      "RangeIndex: 118663 entries, 0 to 118662\n",
      "Data columns (total 4 columns):\n",
      " #   Column           Non-Null Count   Dtype \n",
      "---  ------           --------------   ----- \n",
      " 0   source_idx       118663 non-null  object\n",
      " 1   contract_name    118663 non-null  object\n",
      " 2   contract_source  118663 non-null  object\n",
      " 3   count            118663 non-null  int64 \n",
      "dtypes: int64(1), object(3)\n",
      "memory usage: 3.6+ MB\n"
     ]
    }
   ],
   "source": [
    "import pandas as pd\n",
    "contracts = pd.read_parquet(\"/home/hieuvd/lvdthieu/CodeGen/data/contracts/contracts_filtered.parquet\", engine=\"fastparquet\")\n",
    "contracts.info()"
   ]
  },
  {
   "cell_type": "code",
   "execution_count": 7,
   "metadata": {},
   "outputs": [
    {
     "name": "stdout",
     "output_type": "stream",
     "text": [
      "<class 'pandas.core.frame.DataFrame'>\n",
      "RangeIndex: 118663 entries, 0 to 118662\n",
      "Data columns (total 5 columns):\n",
      " #   Column           Non-Null Count   Dtype \n",
      "---  ------           --------------   ----- \n",
      " 0   source_idx       118663 non-null  object\n",
      " 1   contract_name    118663 non-null  object\n",
      " 2   contract_source  118663 non-null  object\n",
      " 3   contract_ast     118663 non-null  object\n",
      " 4   count            118663 non-null  object\n",
      "dtypes: object(5)\n",
      "memory usage: 4.5+ MB\n"
     ]
    }
   ],
   "source": [
    "import pandas as pd\n",
    "contracts_v2 = pd.read_parquet(\"/home/hieuvd/lvdthieu/CodeGen/data/contracts/contracts_v2.parquet\",  engine=\"fastparquet\")\n",
    "contracts_v2.info()"
   ]
  },
  {
   "cell_type": "code",
   "execution_count": 8,
   "metadata": {},
   "outputs": [
    {
     "data": {
      "text/plain": [
       "0         {\"type\":\"SourceUnit\",\"children\":[{\"type\":\"Cont...\n",
       "1         {\"type\":\"SourceUnit\",\"children\":[{\"type\":\"Cont...\n",
       "2         {\"type\":\"SourceUnit\",\"children\":[{\"type\":\"Cont...\n",
       "3         {\"type\":\"SourceUnit\",\"children\":[{\"type\":\"Cont...\n",
       "4         {\"type\":\"SourceUnit\",\"children\":[{\"type\":\"Cont...\n",
       "                                ...                        \n",
       "118658    {\"type\":\"SourceUnit\",\"children\":[{\"type\":\"Cont...\n",
       "118659    {\"type\":\"SourceUnit\",\"children\":[{\"type\":\"Cont...\n",
       "118660    {\"type\":\"SourceUnit\",\"children\":[{\"type\":\"Cont...\n",
       "118661    {\"type\":\"SourceUnit\",\"children\":[{\"type\":\"Cont...\n",
       "118662    {\"type\":\"SourceUnit\",\"children\":[{\"type\":\"Cont...\n",
       "Name: contract_ast, Length: 118663, dtype: object"
      ]
     },
     "execution_count": 8,
     "metadata": {},
     "output_type": "execute_result"
    }
   ],
   "source": [
    "contracts_v2['contract_ast']"
   ]
  },
  {
   "cell_type": "code",
   "execution_count": 9,
   "metadata": {},
   "outputs": [
    {
     "data": {
      "text/html": [
       "<div>\n",
       "<style scoped>\n",
       "    .dataframe tbody tr th:only-of-type {\n",
       "        vertical-align: middle;\n",
       "    }\n",
       "\n",
       "    .dataframe tbody tr th {\n",
       "        vertical-align: top;\n",
       "    }\n",
       "\n",
       "    .dataframe thead th {\n",
       "        text-align: right;\n",
       "    }\n",
       "</style>\n",
       "<table border=\"1\" class=\"dataframe\">\n",
       "  <thead>\n",
       "    <tr style=\"text-align: right;\">\n",
       "      <th></th>\n",
       "      <th>source_idx</th>\n",
       "      <th>contract_name</th>\n",
       "      <th>contract_source</th>\n",
       "      <th>contract_ast</th>\n",
       "      <th>count</th>\n",
       "    </tr>\n",
       "  </thead>\n",
       "  <tbody>\n",
       "  </tbody>\n",
       "</table>\n",
       "</div>"
      ],
      "text/plain": [
       "Empty DataFrame\n",
       "Columns: [source_idx, contract_name, contract_source, contract_ast, count]\n",
       "Index: []"
      ]
     },
     "execution_count": 9,
     "metadata": {},
     "output_type": "execute_result"
    }
   ],
   "source": [
    "contracts_v2[contracts_v2[\"contract_ast\"] == \"<PARSER_ERROR>\"]"
   ]
  },
  {
   "cell_type": "code",
   "execution_count": 1,
   "metadata": {},
   "outputs": [
    {
     "name": "stdout",
     "output_type": "stream",
     "text": [
      "<class 'pandas.core.frame.DataFrame'>\n",
      "RangeIndex: 28001 entries, 0 to 28000\n",
      "Data columns (total 10 columns):\n",
      " #   Column                     Non-Null Count  Dtype \n",
      "---  ------                     --------------  ----- \n",
      " 0   contract_name              28001 non-null  object\n",
      " 1   func_name                  21342 non-null  object\n",
      " 2   masked_contract            28001 non-null  object\n",
      " 3   func_body                  28001 non-null  object\n",
      " 4   func_body_removed_comment  28001 non-null  object\n",
      " 5   deepseek_output            28001 non-null  object\n",
      " 6   file_source_idx            28001 non-null  object\n",
      " 7   source_code                28001 non-null  object\n",
      " 8   source_idx                 28001 non-null  int64 \n",
      " 9   compile_info               28001 non-null  object\n",
      "dtypes: int64(1), object(9)\n",
      "memory usage: 2.1+ MB\n"
     ]
    }
   ],
   "source": [
    "import pandas as pd\n",
    "deepseek = pd.read_parquet(\"/home/hieuvd/lvdthieu/CodeGen/data/compile_info/deepseek_v1.parquet\", engine=\"fastparquet\")\n",
    "deepseek.info()"
   ]
  },
  {
   "cell_type": "code",
   "execution_count": 2,
   "metadata": {},
   "outputs": [
    {
     "name": "stdout",
     "output_type": "stream",
     "text": [
      "<class 'pandas.core.frame.DataFrame'>\n",
      "RangeIndex: 6000 entries, 0 to 5999\n",
      "Data columns (total 10 columns):\n",
      " #   Column                     Non-Null Count  Dtype \n",
      "---  ------                     --------------  ----- \n",
      " 0   contract_name              6000 non-null   object\n",
      " 1   func_name                  4522 non-null   object\n",
      " 2   masked_contract            6000 non-null   object\n",
      " 3   func_body                  6000 non-null   object\n",
      " 4   func_body_removed_comment  6000 non-null   object\n",
      " 5   deepseek_output            6000 non-null   object\n",
      " 6   file_source_idx            6000 non-null   int64 \n",
      " 7   file_source                6000 non-null   object\n",
      " 8   filled_source_body         6000 non-null   object\n",
      " 9   filled_source_deepseek     6000 non-null   object\n",
      "dtypes: int64(1), object(9)\n",
      "memory usage: 468.9+ KB\n"
     ]
    }
   ],
   "source": [
    "import pandas as pd\n",
    "test_suite = pd.read_parquet(\"/home/hieuvd/lvdthieu/CodeGen/data/test_suite_6k.parquet\", engine=\"fastparquet\")\n",
    "test_suite.info()"
   ]
  },
  {
   "cell_type": "code",
   "execution_count": 3,
   "metadata": {},
   "outputs": [
    {
     "data": {
      "text/html": [
       "<div>\n",
       "<style scoped>\n",
       "    .dataframe tbody tr th:only-of-type {\n",
       "        vertical-align: middle;\n",
       "    }\n",
       "\n",
       "    .dataframe tbody tr th {\n",
       "        vertical-align: top;\n",
       "    }\n",
       "\n",
       "    .dataframe thead th {\n",
       "        text-align: right;\n",
       "    }\n",
       "</style>\n",
       "<table border=\"1\" class=\"dataframe\">\n",
       "  <thead>\n",
       "    <tr style=\"text-align: right;\">\n",
       "      <th></th>\n",
       "      <th>contract_name</th>\n",
       "      <th>func_name</th>\n",
       "      <th>masked_contract</th>\n",
       "      <th>func_body</th>\n",
       "      <th>func_body_removed_comment</th>\n",
       "      <th>deepseek_output</th>\n",
       "      <th>file_source_idx</th>\n",
       "      <th>file_source</th>\n",
       "      <th>filled_source_body</th>\n",
       "      <th>filled_source_deepseek</th>\n",
       "    </tr>\n",
       "  </thead>\n",
       "  <tbody>\n",
       "  </tbody>\n",
       "</table>\n",
       "</div>"
      ],
      "text/plain": [
       "Empty DataFrame\n",
       "Columns: [contract_name, func_name, masked_contract, func_body, func_body_removed_comment, deepseek_output, file_source_idx, file_source, filled_source_body, filled_source_deepseek]\n",
       "Index: []"
      ]
     },
     "execution_count": 3,
     "metadata": {},
     "output_type": "execute_result"
    }
   ],
   "source": [
    "test_suite[test_suite[\"filled_source_deepseek\"].isnull()]"
   ]
  },
  {
   "cell_type": "code",
   "execution_count": 4,
   "metadata": {},
   "outputs": [
    {
     "data": {
      "text/plain": [
       "0       pragma solidity ^0.4.19;\\n\\ncontract SafeMath ...\n",
       "1       pragma solidity 0.4.26;\\n\\n/**\\n* Get % profit...\n",
       "2       // SPDX-License-Identifier: MIT\\n\\npragma soli...\n",
       "3       pragma solidity ^0.4.24;\\n\\n/**\\n * Math opera...\n",
       "4       pragma solidity ^0.4.24;/**\\n * @title SafeMat...\n",
       "                              ...                        \n",
       "5995    // SPDX-License-Identifier: MIT\\n\\npragma soli...\n",
       "5996    pragma solidity ^0.4.23;\\n\\ncontract Token {\\n...\n",
       "5997    pragma solidity ^0.5.0;\\n\\n\\n// --------------...\n",
       "5998    pragma solidity ^0.4.21;\\n\\n/**\\n * @title Lin...\n",
       "5999    pragma solidity ^0.5.0;\\n\\n\\ncontract ERC20Int...\n",
       "Name: filled_source_deepseek, Length: 6000, dtype: object"
      ]
     },
     "execution_count": 4,
     "metadata": {},
     "output_type": "execute_result"
    }
   ],
   "source": [
    "test_suite[\"filled_source_deepseek\"]"
   ]
  },
  {
   "cell_type": "code",
   "execution_count": 6,
   "metadata": {},
   "outputs": [
    {
     "name": "stdout",
     "output_type": "stream",
     "text": [
      "<class 'pandas.core.frame.DataFrame'>\n",
      "RangeIndex: 6000 entries, 0 to 5999\n",
      "Data columns (total 9 columns):\n",
      " #   Column                     Non-Null Count  Dtype \n",
      "---  ------                     --------------  ----- \n",
      " 0   contract_name              6000 non-null   object\n",
      " 1   func_name                  4522 non-null   object\n",
      " 2   masked_contract            6000 non-null   object\n",
      " 3   func_body                  6000 non-null   object\n",
      " 4   func_body_removed_comment  6000 non-null   object\n",
      " 5   file_source_idx            6000 non-null   int64 \n",
      " 6   source_code                6000 non-null   object\n",
      " 7   source_idx                 6000 non-null   int64 \n",
      " 8   compile_info               6000 non-null   object\n",
      "dtypes: int64(2), object(7)\n",
      "memory usage: 422.0+ KB\n"
     ]
    }
   ],
   "source": [
    "import pandas as pd\n",
    "body = pd.read_parquet(\"/home/hieuvd/lvdthieu/CodeGen/data/compile_info/test_6k_v1/body.parquet\", engine=\"fastparquet\")\n",
    "body.info()\n"
   ]
  },
  {
   "cell_type": "code",
   "execution_count": 7,
   "metadata": {},
   "outputs": [
    {
     "data": {
      "text/html": [
       "<div>\n",
       "<style scoped>\n",
       "    .dataframe tbody tr th:only-of-type {\n",
       "        vertical-align: middle;\n",
       "    }\n",
       "\n",
       "    .dataframe tbody tr th {\n",
       "        vertical-align: top;\n",
       "    }\n",
       "\n",
       "    .dataframe thead th {\n",
       "        text-align: right;\n",
       "    }\n",
       "</style>\n",
       "<table border=\"1\" class=\"dataframe\">\n",
       "  <thead>\n",
       "    <tr style=\"text-align: right;\">\n",
       "      <th></th>\n",
       "      <th>contract_name</th>\n",
       "      <th>func_name</th>\n",
       "      <th>masked_contract</th>\n",
       "      <th>func_body</th>\n",
       "      <th>func_body_removed_comment</th>\n",
       "      <th>file_source_idx</th>\n",
       "      <th>source_code</th>\n",
       "      <th>source_idx</th>\n",
       "      <th>compile_info</th>\n",
       "    </tr>\n",
       "  </thead>\n",
       "  <tbody>\n",
       "    <tr>\n",
       "      <th>109</th>\n",
       "      <td>TMTGOwnable</td>\n",
       "      <td>None</td>\n",
       "      <td>contract TMTGOwnable {\\n    address public own...</td>\n",
       "      <td>\\r\\n        owner = msg.sender;     \\r\\n      ...</td>\n",
       "      <td>\\n        owner = msg.sender;     \\n        ce...</td>\n",
       "      <td>86353</td>\n",
       "      <td>pragma solidity ^0.4.24;\\n\\n\\ncontract ERC20Ba...</td>\n",
       "      <td>109</td>\n",
       "      <td>DocstringParsingError: No description given fo...</td>\n",
       "    </tr>\n",
       "    <tr>\n",
       "      <th>630</th>\n",
       "      <td>TMTGOwnable</td>\n",
       "      <td>transferOwnership</td>\n",
       "      <td>contract TMTGOwnable {\\n    address public own...</td>\n",
       "      <td>\\r\\n        emit TMTG_RoleTransferred(Role.own...</td>\n",
       "      <td>\\n        emit TMTG_RoleTransferred(Role.owner...</td>\n",
       "      <td>42821</td>\n",
       "      <td>pragma solidity ^0.4.24;\\n\\n\\ncontract ERC20Ba...</td>\n",
       "      <td>630</td>\n",
       "      <td>DocstringParsingError: No description given fo...</td>\n",
       "    </tr>\n",
       "    <tr>\n",
       "      <th>1823</th>\n",
       "      <td>ERC20</td>\n",
       "      <td>None</td>\n",
       "      <td>contract ERC20 is Context, TRC20 {\\n    using ...</td>\n",
       "      <td>\\r\\n        _balances[msg.sender] = _totalSupp...</td>\n",
       "      <td>\\n        _balances[msg.sender] = _totalSupply...</td>\n",
       "      <td>44597</td>\n",
       "      <td>/*\\n\\n\\n_____/\\\\\\\\\\\\\\\\\\\\\\____/\\\\\\________/\\\\\\_...</td>\n",
       "      <td>1823</td>\n",
       "      <td>DocstringParsingError: No description given fo...</td>\n",
       "    </tr>\n",
       "    <tr>\n",
       "      <th>1868</th>\n",
       "      <td>TMTGBlacklist</td>\n",
       "      <td>unblacklist</td>\n",
       "      <td>contract TMTGBlacklist is TMTGOwnable {\\n    m...</td>\n",
       "      <td>\\r\\n        blacklisted[node] = false;\\r\\n    ...</td>\n",
       "      <td>\\n        blacklisted[node] = false;\\n        ...</td>\n",
       "      <td>86353</td>\n",
       "      <td>pragma solidity ^0.4.24;\\n\\n\\ncontract ERC20Ba...</td>\n",
       "      <td>1868</td>\n",
       "      <td>DocstringParsingError: No description given fo...</td>\n",
       "    </tr>\n",
       "    <tr>\n",
       "      <th>2332</th>\n",
       "      <td>TMTGBaseToken</td>\n",
       "      <td>reclaimToken</td>\n",
       "      <td>contract TMTGBaseToken is StandardToken, TMTGP...</td>\n",
       "      <td>\\r\\n        transfer(owner, balanceOf(this));\\...</td>\n",
       "      <td>\\n        transfer(owner, balanceOf(this));\\n</td>\n",
       "      <td>86353</td>\n",
       "      <td>pragma solidity ^0.4.24;\\n\\n\\ncontract ERC20Ba...</td>\n",
       "      <td>2332</td>\n",
       "      <td>DocstringParsingError: No description given fo...</td>\n",
       "    </tr>\n",
       "    <tr>\n",
       "      <th>4124</th>\n",
       "      <td>FiLinkToken</td>\n",
       "      <td>FiLinkToken</td>\n",
       "      <td>contract FiLinkToken is StandardToken {\\n\\r\\n ...</td>\n",
       "      <td>\\r\\n\\r\\n        totalSupply_ = INITIAL_SUPPLY;...</td>\n",
       "      <td>\\n\\n        totalSupply_ = INITIAL_SUPPLY;\\n\\n...</td>\n",
       "      <td>64446</td>\n",
       "      <td>pragma solidity ^0.4.18;\\n\\n/**\\n\\n* @title ER...</td>\n",
       "      <td>4124</td>\n",
       "      <td>contracts/sample.sol:392:5: Warning: Defining ...</td>\n",
       "    </tr>\n",
       "    <tr>\n",
       "      <th>5922</th>\n",
       "      <td>TokenERC20</td>\n",
       "      <td>approveAndCall</td>\n",
       "      <td>contract TokenERC20 {\\n    string public name;...</td>\n",
       "      <td>\\r\\n        tokenRecipient spender = tokenReci...</td>\n",
       "      <td>\\n        tokenRecipient spender = tokenRecipi...</td>\n",
       "      <td>2594</td>\n",
       "      <td>pragma solidity ^0.4.25;\\n\\ninterface tokenRec...</td>\n",
       "      <td>5922</td>\n",
       "      <td>contracts/sample.sol:25:5: Warning: Defining c...</td>\n",
       "    </tr>\n",
       "  </tbody>\n",
       "</table>\n",
       "</div>"
      ],
      "text/plain": [
       "      contract_name          func_name  \\\n",
       "109     TMTGOwnable               None   \n",
       "630     TMTGOwnable  transferOwnership   \n",
       "1823          ERC20               None   \n",
       "1868  TMTGBlacklist        unblacklist   \n",
       "2332  TMTGBaseToken       reclaimToken   \n",
       "4124    FiLinkToken        FiLinkToken   \n",
       "5922     TokenERC20     approveAndCall   \n",
       "\n",
       "                                        masked_contract  \\\n",
       "109   contract TMTGOwnable {\\n    address public own...   \n",
       "630   contract TMTGOwnable {\\n    address public own...   \n",
       "1823  contract ERC20 is Context, TRC20 {\\n    using ...   \n",
       "1868  contract TMTGBlacklist is TMTGOwnable {\\n    m...   \n",
       "2332  contract TMTGBaseToken is StandardToken, TMTGP...   \n",
       "4124  contract FiLinkToken is StandardToken {\\n\\r\\n ...   \n",
       "5922  contract TokenERC20 {\\n    string public name;...   \n",
       "\n",
       "                                              func_body  \\\n",
       "109   \\r\\n        owner = msg.sender;     \\r\\n      ...   \n",
       "630   \\r\\n        emit TMTG_RoleTransferred(Role.own...   \n",
       "1823  \\r\\n        _balances[msg.sender] = _totalSupp...   \n",
       "1868  \\r\\n        blacklisted[node] = false;\\r\\n    ...   \n",
       "2332  \\r\\n        transfer(owner, balanceOf(this));\\...   \n",
       "4124  \\r\\n\\r\\n        totalSupply_ = INITIAL_SUPPLY;...   \n",
       "5922  \\r\\n        tokenRecipient spender = tokenReci...   \n",
       "\n",
       "                              func_body_removed_comment  file_source_idx  \\\n",
       "109   \\n        owner = msg.sender;     \\n        ce...            86353   \n",
       "630   \\n        emit TMTG_RoleTransferred(Role.owner...            42821   \n",
       "1823  \\n        _balances[msg.sender] = _totalSupply...            44597   \n",
       "1868  \\n        blacklisted[node] = false;\\n        ...            86353   \n",
       "2332  \\n        transfer(owner, balanceOf(this));\\n                86353   \n",
       "4124  \\n\\n        totalSupply_ = INITIAL_SUPPLY;\\n\\n...            64446   \n",
       "5922  \\n        tokenRecipient spender = tokenRecipi...             2594   \n",
       "\n",
       "                                            source_code  source_idx  \\\n",
       "109   pragma solidity ^0.4.24;\\n\\n\\ncontract ERC20Ba...         109   \n",
       "630   pragma solidity ^0.4.24;\\n\\n\\ncontract ERC20Ba...         630   \n",
       "1823  /*\\n\\n\\n_____/\\\\\\\\\\\\\\\\\\\\\\____/\\\\\\________/\\\\\\_...        1823   \n",
       "1868  pragma solidity ^0.4.24;\\n\\n\\ncontract ERC20Ba...        1868   \n",
       "2332  pragma solidity ^0.4.24;\\n\\n\\ncontract ERC20Ba...        2332   \n",
       "4124  pragma solidity ^0.4.18;\\n\\n/**\\n\\n* @title ER...        4124   \n",
       "5922  pragma solidity ^0.4.25;\\n\\ninterface tokenRec...        5922   \n",
       "\n",
       "                                           compile_info  \n",
       "109   DocstringParsingError: No description given fo...  \n",
       "630   DocstringParsingError: No description given fo...  \n",
       "1823  DocstringParsingError: No description given fo...  \n",
       "1868  DocstringParsingError: No description given fo...  \n",
       "2332  DocstringParsingError: No description given fo...  \n",
       "4124  contracts/sample.sol:392:5: Warning: Defining ...  \n",
       "5922  contracts/sample.sol:25:5: Warning: Defining c...  "
      ]
     },
     "execution_count": 7,
     "metadata": {},
     "output_type": "execute_result"
    }
   ],
   "source": [
    "body[~(body[\"compile_info\"] == \"<COMPILED_SUCCESSFULLY>\")]"
   ]
  },
  {
   "cell_type": "code",
   "execution_count": 15,
   "metadata": {},
   "outputs": [
    {
     "data": {
      "text/plain": [
       "'DocstringParsingError: No description given for param newOwner\\n\\nError HH600: Compilation failed\\nHardhatError: HH600: Compilation failed\\n    at SimpleTaskDefinition.action (/home/hieuvd/lvdthieu/CodeGen/compilation/compilers/hardhat1/node_modules/hardhat/src/builtin-tasks/compile.ts:499:15)\\n    at Environment._runTaskDefinition (/home/hieuvd/lvdthieu/CodeGen/compilation/compilers/hardhat1/node_modules/hardhat/src/internal/core/runtime-environment.ts:358:14)\\n    at OverriddenTaskDefinition._action (/home/hieuvd/lvdthieu/CodeGen/compilation/compilers/hardhat1/node_modules/@typechain/hardhat/src/index.ts:28:30)\\n    at Environment._runTaskDefinition (/home/hieuvd/lvdthieu/CodeGen/compilation/compilers/hardhat1/node_modules/hardhat/src/internal/core/runtime-environment.ts:358:14)\\n    at Environment.run (/home/hieuvd/lvdthieu/CodeGen/compilation/compilers/hardhat1/node_modules/hardhat/src/internal/core/runtime-environment.ts:191:14)\\n    at SimpleTaskDefinition.action (/home/hieuvd/lvdthieu/CodeGen/compilation/compilers/hardhat1/node_modules/hardhat/src/builtin-tasks/compile.ts:1406:63)\\n    at Environment._runTaskDefinition (/home/hieuvd/lvdthieu/CodeGen/compilation/compilers/hardhat1/node_modules/hardhat/src/internal/core/runtime-environment.ts:358:14)\\n    at Environment.run (/home/hieuvd/lvdthieu/CodeGen/compilation/compilers/hardhat1/node_modules/hardhat/src/internal/core/runtime-environment.ts:191:14)\\n    at SimpleTaskDefinition.action (/home/hieuvd/lvdthieu/CodeGen/compilation/compilers/hardhat1/node_modules/hardhat/src/builtin-tasks/compile.ts:1486:7)\\n    at Environment._runTaskDefinition (/home/hieuvd/lvdthieu/CodeGen/compilation/compilers/hardhat1/node_modules/hardhat/src/internal/core/runtime-environment.ts:358:14)\\n'"
      ]
     },
     "execution_count": 15,
     "metadata": {},
     "output_type": "execute_result"
    }
   ],
   "source": [
    "with open(\"check.sol\", \"w\") as f:\n",
    "    f.write(body.loc[109, \"func_body\"])\n",
    "    f.write(\"\\n________________________________________________________________________________________\\n\")\n",
    "    f.write(body.loc[109, \"source_code\"])\n",
    "\n",
    "body.loc[109, \"compile_info\"]"
   ]
  },
  {
   "cell_type": "code",
   "execution_count": 8,
   "metadata": {},
   "outputs": [],
   "source": [
    "with open(\"check1.sol\", \"w\") as f:\n",
    "    f.write(all_file.loc[86353, \"source_code\"])"
   ]
  },
  {
   "cell_type": "code",
   "execution_count": 19,
   "metadata": {},
   "outputs": [
    {
     "data": {
      "text/plain": [
       "'pragma solidity ^0.4.24;\\r\\n\\r\\n// ----------------------------------------------------------------------------\\r\\n// \\'FIXED\\' \\'Example Fixed Supply Token\\' token contract\\r\\n//\\r\\n// Symbol      : BETTER\\r\\n// Name        : Better Token\\r\\n// Total supply: 10,000,000,000.000000000000000000\\r\\n// Decimals    : 18\\r\\n//\\r\\n// Enjoy.\\r\\n//\\r\\n// (c) Better Token / mybettertoken.com 2018.\\r\\n// ----------------------------------------------------------------------------\\r\\n\\r\\n\\r\\n// ----------------------------------------------------------------------------\\r\\n// Safe maths\\r\\n// ----------------------------------------------------------------------------\\r\\nlibrary SafeMath {\\r\\n    function add(uint a, uint b) internal pure returns (uint c) {\\r\\n        c = a + b;\\r\\n        require(c >= a);\\r\\n    }\\r\\n    function sub(uint a, uint b) internal pure returns (uint c) {\\r\\n        require(b <= a);\\r\\n        c = a - b;\\r\\n    }\\r\\n    function mul(uint a, uint b) internal pure returns (uint c) {\\r\\n        c = a * b;\\r\\n        require(a == 0 || c / a == b);\\r\\n    }\\r\\n    function div(uint a, uint b) internal pure returns (uint c) {\\r\\n        require(b > 0);\\r\\n        c = a / b;\\r\\n    }\\r\\n}\\r\\n\\r\\n\\r\\n// ----------------------------------------------------------------------------\\r\\n// ERC Token Standard #20 Interface\\r\\n// https://github.com/ethereum/EIPs/blob/master/EIPS/eip-20.md\\r\\n// ----------------------------------------------------------------------------\\r\\ncontract ERC20Interface {\\r\\n    function totalSupply() public constant returns (uint);\\r\\n    function balanceOf(address tokenOwner) public constant returns (uint balance);\\r\\n    function allowance(address tokenOwner, address spender) public constant returns (uint remaining);\\r\\n    function transfer(address to, uint tokens) public returns (bool success);\\r\\n    function approve(address spender, uint tokens) public returns (bool success);\\r\\n    function transferFrom(address from, address to, uint tokens) public returns (bool success);\\r\\n\\r\\n    event Transfer(address indexed from, address indexed to, uint tokens);\\r\\n    event Approval(address indexed tokenOwner, address indexed spender, uint tokens);\\r\\n}\\r\\n\\r\\n\\r\\n// ----------------------------------------------------------------------------\\r\\n// Contract function to receive approval and execute function in one call\\r\\n//\\r\\n// Borrowed from MiniMeToken\\r\\n// ----------------------------------------------------------------------------\\r\\ncontract ApproveAndCallFallBack {\\r\\n    function receiveApproval(address from, uint256 tokens, address token, bytes data) public;\\r\\n}\\r\\n\\r\\n\\r\\n// ----------------------------------------------------------------------------\\r\\n// Owned contract\\r\\n// ----------------------------------------------------------------------------\\r\\ncontract Owned {\\r\\n    address public owner;\\r\\n    address public newOwner;\\r\\n\\r\\n    event OwnershipTransferred(address indexed _from, address indexed _to);\\r\\n\\r\\n    constructor() public {\\r\\n        owner = msg.sender;\\r\\n    }\\r\\n\\r\\n    modifier onlyOwner {\\r\\n        require(msg.sender == owner);\\r\\n        _;\\r\\n    }\\r\\n\\r\\n    function transferOwnership(address _newOwner) public onlyOwner {\\r\\n        newOwner = _newOwner;\\r\\n    }\\r\\n    function acceptOwnership() public {\\r\\n        require(msg.sender == newOwner);\\r\\n        emit OwnershipTransferred(owner, newOwner);\\r\\n        owner = newOwner;\\r\\n        newOwner = address(0);\\r\\n    }\\r\\n}\\r\\n\\r\\n\\r\\n// ----------------------------------------------------------------------------\\r\\n// ERC20 Token, with the addition of symbol, name and decimals and a\\r\\n// fixed supply\\r\\n// ----------------------------------------------------------------------------\\r\\ncontract BETTER is ERC20Interface, Owned {\\r\\n    using SafeMath for uint;\\r\\n\\r\\n    string public symbol;\\r\\n    string public  name;\\r\\n    uint8 public decimals;\\r\\n    uint _totalSupply;\\r\\n\\r\\n    mapping(address => uint) balances;\\r\\n    mapping(address => mapping(address => uint)) allowed;\\r\\n\\r\\n\\r\\n    // ------------------------------------------------------------------------\\r\\n    // Constructor\\r\\n    // ------------------------------------------------------------------------\\r\\n    constructor() public {\\r\\n        symbol = \"BETTER\";\\r\\n        name = \"Better Token\";\\r\\n        decimals = 18;\\r\\n        _totalSupply = 10000000000 * 10**uint(decimals);\\r\\n        balances[owner] = _totalSupply;\\r\\n        emit Transfer(address(0), owner, _totalSupply);\\r\\n    }\\r\\n\\r\\n\\r\\n    // ------------------------------------------------------------------------\\r\\n    // Total supply\\r\\n    // ------------------------------------------------------------------------\\r\\n    function totalSupply() public view returns (uint) {\\r\\n        return _totalSupply.sub(balances[address(0)]);\\r\\n    }\\r\\n\\r\\n\\r\\n    // ------------------------------------------------------------------------\\r\\n    // Get the token balance for account tokenOwner\\r\\n    // ------------------------------------------------------------------------\\r\\n    function balanceOf(address tokenOwner) public view returns (uint balance) {\\r\\n        return balances[tokenOwner];\\r\\n    }\\r\\n\\r\\n\\r\\n    // ------------------------------------------------------------------------\\r\\n    // Transfer the balance from token owner\\'s account to to account\\r\\n    // - Owner\\'s account must have sufficient balance to transfer\\r\\n    // - 0 value transfers are allowed\\r\\n    // ------------------------------------------------------------------------\\r\\n    function transfer(address to, uint tokens) public returns (bool success) {\\r\\n        balances[msg.sender] = balances[msg.sender].sub(tokens);\\r\\n        balances[to] = balances[to].add(tokens);\\r\\n        emit Transfer(msg.sender, to, tokens);\\r\\n        return true;\\r\\n    }\\r\\n\\r\\n\\r\\n    // ------------------------------------------------------------------------\\r\\n    // Token owner can approve for spender to transferFrom(...) tokens\\r\\n    // from the token owner\\'s account\\r\\n    //\\r\\n    // https://github.com/ethereum/EIPs/blob/master/EIPS/eip-20-token-standard.md\\r\\n    // recommends that there are no checks for the approval double-spend attack\\r\\n    // as this should be implemented in user interfaces \\r\\n    // ------------------------------------------------------------------------\\r\\n    function approve(address spender, uint tokens) public returns (bool success) {\\r\\n        allowed[msg.sender][spender] = tokens;\\r\\n        emit Approval(msg.sender, spender, tokens);\\r\\n        return true;\\r\\n    }\\r\\n\\r\\n\\r\\n    // ------------------------------------------------------------------------\\r\\n    // Transfer tokens from the from account to the to account\\r\\n    // \\r\\n    // The calling account must already have sufficient tokens approve(...)-d\\r\\n    // for spending from the from account and\\r\\n    // - From account must have sufficient balance to transfer\\r\\n    // - Spender must have sufficient allowance to transfer\\r\\n    // - 0 value transfers are allowed\\r\\n    // ------------------------------------------------------------------------\\r\\n    function transferFrom(address from, address to, uint tokens) public returns (bool success) {\\r\\n        balances[from] = balances[from].sub(tokens);\\r\\n        allowed[from][msg.sender] = allowed[from][msg.sender].sub(tokens);\\r\\n        balances[to] = balances[to].add(tokens);\\r\\n        emit Transfer(from, to, tokens);\\r\\n        return true;\\r\\n    }\\r\\n\\r\\n\\r\\n    // ------------------------------------------------------------------------\\r\\n    // Returns the amount of tokens approved by the owner that can be\\r\\n    // transferred to the spender\\'s account\\r\\n    // ------------------------------------------------------------------------\\r\\n    function allowance(address tokenOwner, address spender) public view returns (uint remaining) {\\r\\n        return allowed[tokenOwner][spender];\\r\\n    }\\r\\n\\r\\n\\r\\n    // ------------------------------------------------------------------------\\r\\n    // Token owner can approve for spender to transferFrom(...) tokens\\r\\n    // from the token owner\\'s account. The spender contract function\\r\\n    // receiveApproval(...) is then executed\\r\\n    // ------------------------------------------------------------------------\\r\\n    function approveAndCall(address spender, uint tokens, bytes data) public returns (bool success) {\\r\\n        allowed[msg.sender][spender] = tokens;\\r\\n        emit Approval(msg.sender, spender, tokens);\\r\\n        ApproveAndCallFallBack(spender).receiveApproval(msg.sender, tokens, this, data);\\r\\n        return true;\\r\\n    }\\r\\n\\r\\n\\r\\n    // ------------------------------------------------------------------------\\r\\n    // Don\\'t accept ETH\\r\\n    // ------------------------------------------------------------------------\\r\\n    function () public payable {\\r\\n        revert();\\r\\n    }\\r\\n\\r\\n\\r\\n    // ------------------------------------------------------------------------\\r\\n    // Owner can transfer out any accidentally sent ERC20 tokens\\r\\n    // ------------------------------------------------------------------------\\r\\n    function transferAnyERC20Token(address tokenAddress, uint tokens) public onlyOwner returns (bool success) {\\r\\n        return ERC20Interface(tokenAddress).transfer(owner, tokens);\\r\\n    }\\r\\n}'"
      ]
     },
     "execution_count": 19,
     "metadata": {},
     "output_type": "execute_result"
    }
   ],
   "source": [
    "all_file.loc[863, \"source_code\"]"
   ]
  },
  {
   "cell_type": "code",
   "execution_count": 14,
   "metadata": {},
   "outputs": [
    {
     "name": "stdout",
     "output_type": "stream",
     "text": [
      "<class 'pandas.core.frame.DataFrame'>\n",
      "RangeIndex: 6000 entries, 0 to 5999\n",
      "Data columns (total 8 columns):\n",
      " #   Column                     Non-Null Count  Dtype \n",
      "---  ------                     --------------  ----- \n",
      " 0   contract_name              6000 non-null   object\n",
      " 1   func_name                  4522 non-null   object\n",
      " 2   masked_contract            6000 non-null   object\n",
      " 3   func_body                  6000 non-null   object\n",
      " 4   func_body_removed_comment  6000 non-null   object\n",
      " 5   deepseek_output            6000 non-null   object\n",
      " 6   file_source_idx            6000 non-null   int64 \n",
      " 7   file_source                6000 non-null   object\n",
      "dtypes: int64(1), object(7)\n",
      "memory usage: 375.1+ KB\n"
     ]
    }
   ],
   "source": [
    "import pandas as pd\n",
    "test = pd.read_parquet(\"/home/hieuvd/lvdthieu/CodeGen/data/test.parquet\", \"fastparquet\")\n",
    "test.info()"
   ]
  },
  {
   "cell_type": "code",
   "execution_count": 15,
   "metadata": {},
   "outputs": [
    {
     "data": {
      "text/html": [
       "<div>\n",
       "<style scoped>\n",
       "    .dataframe tbody tr th:only-of-type {\n",
       "        vertical-align: middle;\n",
       "    }\n",
       "\n",
       "    .dataframe tbody tr th {\n",
       "        vertical-align: top;\n",
       "    }\n",
       "\n",
       "    .dataframe thead th {\n",
       "        text-align: right;\n",
       "    }\n",
       "</style>\n",
       "<table border=\"1\" class=\"dataframe\">\n",
       "  <thead>\n",
       "    <tr style=\"text-align: right;\">\n",
       "      <th></th>\n",
       "      <th>contract_name</th>\n",
       "      <th>func_name</th>\n",
       "      <th>masked_contract</th>\n",
       "      <th>func_body</th>\n",
       "      <th>func_body_removed_comment</th>\n",
       "      <th>deepseek_output</th>\n",
       "      <th>file_source_idx</th>\n",
       "      <th>file_source</th>\n",
       "    </tr>\n",
       "  </thead>\n",
       "  <tbody>\n",
       "    <tr>\n",
       "      <th>0</th>\n",
       "      <td>BitEyeToken</td>\n",
       "      <td>BitEyeToken</td>\n",
       "      <td>contract BitEyeToken is ERC20Token, Ownable {\\...</td>\n",
       "      <td>\\r\\n    name = \"BitEye Token\";\\r\\n    symbol =...</td>\n",
       "      <td>\\n    name = \"BitEye Token\";\\n    symbol = \"BE...</td>\n",
       "      <td>\\n    name = \"BitEye Token\";\\n    symbol = \"BT...</td>\n",
       "      <td>33106</td>\n",
       "      <td>pragma solidity ^0.4.19;\\r\\n\\r\\ncontract SafeM...</td>\n",
       "    </tr>\n",
       "    <tr>\n",
       "      <th>1</th>\n",
       "      <td>HadsofFortune</td>\n",
       "      <td>init</td>\n",
       "      <td>contract HadsofFortune is Accessibility {\\nusi...</td>\n",
       "      <td>\\r\\n\\r\\nm_rgp.startTimestamp = timestamp + 1;\\...</td>\n",
       "      <td>\\n\\nm_rgp.startTimestamp = timestamp + 1;\\nemi...</td>\n",
       "      <td>Ether = investment;\\nemit LogSendExcessOfEther...</td>\n",
       "      <td>75941</td>\n",
       "      <td>pragma solidity 0.4.26;\\r\\n\\r\\n/**\\r\\n* Get % ...</td>\n",
       "    </tr>\n",
       "    <tr>\n",
       "      <th>2</th>\n",
       "      <td>HintHelpers</td>\n",
       "      <td>setAddresses</td>\n",
       "      <td>contract HintHelpers is LiquityBase, Ownable, ...</td>\n",
       "      <td>\\r\\n        checkContract(_sortedTrovesAddress...</td>\n",
       "      <td>\\n        checkContract(_sortedTrovesAddress);...</td>\n",
       "      <td>\\n        require(_sortedTrovesAddress != addr...</td>\n",
       "      <td>40393</td>\n",
       "      <td>// SPDX-License-Identifier: MIT\\r\\n\\r\\npragma ...</td>\n",
       "    </tr>\n",
       "    <tr>\n",
       "      <th>3</th>\n",
       "      <td>BEU</td>\n",
       "      <td>lock</td>\n",
       "      <td>contract BEU {\\n    using SafeMath for uint256...</td>\n",
       "      <td>\\r\\n        require(msg.sender == owner);     ...</td>\n",
       "      <td>\\n        require(msg.sender == owner);       ...</td>\n",
       "      <td>\\n        require(msg.sender == owner);       ...</td>\n",
       "      <td>72368</td>\n",
       "      <td>pragma solidity ^0.4.24;\\r\\n\\r\\n/**\\r\\n * Math...</td>\n",
       "    </tr>\n",
       "    <tr>\n",
       "      <th>4</th>\n",
       "      <td>MainCoinManager</td>\n",
       "      <td>AddERC20Maincoin</td>\n",
       "      <td>contract MainCoinManager is Manageable {\\n    ...</td>\n",
       "      <td>\\r\\n        emit MainCoinAdded(_token);\\r\\n   ...</td>\n",
       "      <td>\\n        emit MainCoinAdded(_token);\\n       ...</td>\n",
       "      <td>\\n        emit MainCoinAdded(_token);\\n       ...</td>\n",
       "      <td>38328</td>\n",
       "      <td>pragma solidity ^0.4.24;/**\\r\\n * @title SafeM...</td>\n",
       "    </tr>\n",
       "  </tbody>\n",
       "</table>\n",
       "</div>"
      ],
      "text/plain": [
       "     contract_name         func_name  \\\n",
       "0      BitEyeToken       BitEyeToken   \n",
       "1    HadsofFortune              init   \n",
       "2      HintHelpers      setAddresses   \n",
       "3              BEU              lock   \n",
       "4  MainCoinManager  AddERC20Maincoin   \n",
       "\n",
       "                                     masked_contract  \\\n",
       "0  contract BitEyeToken is ERC20Token, Ownable {\\...   \n",
       "1  contract HadsofFortune is Accessibility {\\nusi...   \n",
       "2  contract HintHelpers is LiquityBase, Ownable, ...   \n",
       "3  contract BEU {\\n    using SafeMath for uint256...   \n",
       "4  contract MainCoinManager is Manageable {\\n    ...   \n",
       "\n",
       "                                           func_body  \\\n",
       "0  \\r\\n    name = \"BitEye Token\";\\r\\n    symbol =...   \n",
       "1  \\r\\n\\r\\nm_rgp.startTimestamp = timestamp + 1;\\...   \n",
       "2  \\r\\n        checkContract(_sortedTrovesAddress...   \n",
       "3  \\r\\n        require(msg.sender == owner);     ...   \n",
       "4  \\r\\n        emit MainCoinAdded(_token);\\r\\n   ...   \n",
       "\n",
       "                           func_body_removed_comment  \\\n",
       "0  \\n    name = \"BitEye Token\";\\n    symbol = \"BE...   \n",
       "1  \\n\\nm_rgp.startTimestamp = timestamp + 1;\\nemi...   \n",
       "2  \\n        checkContract(_sortedTrovesAddress);...   \n",
       "3  \\n        require(msg.sender == owner);       ...   \n",
       "4  \\n        emit MainCoinAdded(_token);\\n       ...   \n",
       "\n",
       "                                     deepseek_output  file_source_idx  \\\n",
       "0  \\n    name = \"BitEye Token\";\\n    symbol = \"BT...            33106   \n",
       "1  Ether = investment;\\nemit LogSendExcessOfEther...            75941   \n",
       "2  \\n        require(_sortedTrovesAddress != addr...            40393   \n",
       "3  \\n        require(msg.sender == owner);       ...            72368   \n",
       "4  \\n        emit MainCoinAdded(_token);\\n       ...            38328   \n",
       "\n",
       "                                         file_source  \n",
       "0  pragma solidity ^0.4.19;\\r\\n\\r\\ncontract SafeM...  \n",
       "1  pragma solidity 0.4.26;\\r\\n\\r\\n/**\\r\\n* Get % ...  \n",
       "2  // SPDX-License-Identifier: MIT\\r\\n\\r\\npragma ...  \n",
       "3  pragma solidity ^0.4.24;\\r\\n\\r\\n/**\\r\\n * Math...  \n",
       "4  pragma solidity ^0.4.24;/**\\r\\n * @title SafeM...  "
      ]
     },
     "execution_count": 15,
     "metadata": {},
     "output_type": "execute_result"
    }
   ],
   "source": [
    "test.head()"
   ]
  },
  {
   "cell_type": "code",
   "execution_count": 11,
   "metadata": {},
   "outputs": [
    {
     "name": "stdout",
     "output_type": "stream",
     "text": [
      "<class 'pandas.core.frame.DataFrame'>\n",
      "RangeIndex: 6000 entries, 0 to 5999\n",
      "Data columns (total 7 columns):\n",
      " #   Column                     Non-Null Count  Dtype \n",
      "---  ------                     --------------  ----- \n",
      " 0   contract_name              6000 non-null   object\n",
      " 1   func_name                  4522 non-null   object\n",
      " 2   masked_contract            6000 non-null   object\n",
      " 3   func_body                  6000 non-null   object\n",
      " 4   func_body_removed_comment  6000 non-null   object\n",
      " 5   file_source_idx            6000 non-null   int64 \n",
      " 6   source_code                6000 non-null   object\n",
      "dtypes: int64(1), object(6)\n",
      "memory usage: 328.3+ KB\n"
     ]
    }
   ],
   "source": [
    "body = pd.read_parquet(\"/home/hieuvd/lvdthieu/CodeGen/data/test/test_6k_v1/body.parquet\", \"fastparquet\")\n",
    "body.info()"
   ]
  },
  {
   "cell_type": "code",
   "execution_count": 3,
   "metadata": {},
   "outputs": [
    {
     "name": "stdout",
     "output_type": "stream",
     "text": [
      "<class 'pandas.core.frame.DataFrame'>\n",
      "RangeIndex: 100 entries, 0 to 99\n",
      "Data columns (total 10 columns):\n",
      " #   Column                     Non-Null Count  Dtype \n",
      "---  ------                     --------------  ----- \n",
      " 0   contract_name              100 non-null    object\n",
      " 1   func_name                  76 non-null     object\n",
      " 2   masked_contract            100 non-null    object\n",
      " 3   func_body                  100 non-null    object\n",
      " 4   func_body_removed_comment  100 non-null    object\n",
      " 5   deepseek_output            100 non-null    object\n",
      " 6   file_source_idx            100 non-null    object\n",
      " 7   original_source_code       100 non-null    object\n",
      " 8   filled_source_body         100 non-null    object\n",
      " 9   filled_source_deepseek     100 non-null    object\n",
      "dtypes: object(10)\n",
      "memory usage: 7.9+ KB\n"
     ]
    }
   ],
   "source": [
    "import pandas as pd\n",
    "train = pd.read_parquet(\"/home/hieuvd/lvdthieu/CodeGen/data/train_suite.parquet\", \"fastparquet\")\n",
    "train.info()"
   ]
  },
  {
   "cell_type": "code",
   "execution_count": 4,
   "metadata": {},
   "outputs": [
    {
     "name": "stdout",
     "output_type": "stream",
     "text": [
      "<class 'pandas.core.frame.DataFrame'>\n",
      "RangeIndex: 94288 entries, 0 to 94287\n",
      "Data columns (total 2 columns):\n",
      " #   Column       Non-Null Count  Dtype \n",
      "---  ------       --------------  ----- \n",
      " 0   source_code  94288 non-null  object\n",
      " 1   ast          94288 non-null  object\n",
      "dtypes: object(2)\n",
      "memory usage: 1.4+ MB\n"
     ]
    }
   ],
   "source": [
    "all_file_v2 = pd.read_parquet(\"/home/hieuvd/lvdthieu/CodeGen/data/solfile/all_file_v2.parquet\", \"fastparquet\")\n",
    "all_file_v2.info()"
   ]
  },
  {
   "cell_type": "code",
   "execution_count": 6,
   "metadata": {},
   "outputs": [],
   "source": [
    "check = all_file_v2[all_file_v2[\"ast\"] == \"<PARSER_ERROR>\"]"
   ]
  },
  {
   "cell_type": "code",
   "execution_count": 1,
   "metadata": {},
   "outputs": [
    {
     "name": "stdout",
     "output_type": "stream",
     "text": [
      "<class 'pandas.core.frame.DataFrame'>\n",
      "RangeIndex: 6000 entries, 0 to 5999\n",
      "Data columns (total 10 columns):\n",
      " #   Column                     Non-Null Count  Dtype \n",
      "---  ------                     --------------  ----- \n",
      " 0   contract_name              6000 non-null   object\n",
      " 1   func_name                  4522 non-null   object\n",
      " 2   masked_contract            6000 non-null   object\n",
      " 3   func_body                  6000 non-null   object\n",
      " 4   func_body_removed_comment  6000 non-null   object\n",
      " 5   deepseek_output            6000 non-null   object\n",
      " 6   file_source_idx            6000 non-null   object\n",
      " 7   source_code                6000 non-null   object\n",
      " 8   source_idx                 6000 non-null   int64 \n",
      " 9   compile_info               6000 non-null   object\n",
      "dtypes: int64(1), object(9)\n",
      "memory usage: 468.9+ KB\n"
     ]
    }
   ],
   "source": [
    "import pandas as pd\n",
    "\n",
    "train = pd.read_parquet(\"/home/hieuvd/lvdthieu/CodeGen/data/compile_info/train_6k/deepseek.parquet\", \"fastparquet\")\n",
    "train.info()\n"
   ]
  },
  {
   "cell_type": "code",
   "execution_count": 2,
   "metadata": {},
   "outputs": [
    {
     "data": {
      "text/plain": [
       "count                        6000\n",
       "unique                       2202\n",
       "top       <COMPILED_SUCCESSFULLY>\n",
       "freq                         3762\n",
       "Name: compile_info, dtype: object"
      ]
     },
     "execution_count": 2,
     "metadata": {},
     "output_type": "execute_result"
    }
   ],
   "source": [
    "train[\"compile_info\"].describe()"
   ]
  },
  {
   "cell_type": "code",
   "execution_count": 2,
   "metadata": {},
   "outputs": [],
   "source": [
    "import pandas as pd\n",
    "deepseek = pd.read_parquet(\"/home/hieuvd/lvdthieu/CodeGen/data/compile_info/train_6k/deepseek.parquet\", \"fastparquet\")\n",
    "deepseek.to_csv(\"/home/hieuvd/lvdthieu/CodeGen/data/compile_info/train_6k/deepseek.csv\")"
   ]
  },
  {
   "cell_type": "code",
   "execution_count": 3,
   "metadata": {},
   "outputs": [
    {
     "name": "stdout",
     "output_type": "stream",
     "text": [
      "<class 'pandas.core.frame.DataFrame'>\n",
      "RangeIndex: 6000 entries, 0 to 5999\n",
      "Data columns (total 10 columns):\n",
      " #   Column                     Non-Null Count  Dtype \n",
      "---  ------                     --------------  ----- \n",
      " 0   contract_name              6000 non-null   object\n",
      " 1   func_name                  4522 non-null   object\n",
      " 2   masked_contract            6000 non-null   object\n",
      " 3   func_body                  6000 non-null   object\n",
      " 4   func_body_removed_comment  6000 non-null   object\n",
      " 5   deepseek_output            6000 non-null   object\n",
      " 6   file_source_idx            6000 non-null   object\n",
      " 7   source_code                6000 non-null   object\n",
      " 8   source_idx                 6000 non-null   int64 \n",
      " 9   compile_info               6000 non-null   object\n",
      "dtypes: int64(1), object(9)\n",
      "memory usage: 468.9+ KB\n"
     ]
    }
   ],
   "source": [
    "deepseek.info()"
   ]
  },
  {
   "cell_type": "code",
   "execution_count": 4,
   "metadata": {},
   "outputs": [
    {
     "data": {
      "text/html": [
       "<div>\n",
       "<style scoped>\n",
       "    .dataframe tbody tr th:only-of-type {\n",
       "        vertical-align: middle;\n",
       "    }\n",
       "\n",
       "    .dataframe tbody tr th {\n",
       "        vertical-align: top;\n",
       "    }\n",
       "\n",
       "    .dataframe thead th {\n",
       "        text-align: right;\n",
       "    }\n",
       "</style>\n",
       "<table border=\"1\" class=\"dataframe\">\n",
       "  <thead>\n",
       "    <tr style=\"text-align: right;\">\n",
       "      <th></th>\n",
       "      <th>contract_name</th>\n",
       "      <th>func_name</th>\n",
       "      <th>masked_contract</th>\n",
       "      <th>func_body</th>\n",
       "      <th>func_body_removed_comment</th>\n",
       "      <th>deepseek_output</th>\n",
       "      <th>file_source_idx</th>\n",
       "      <th>source_code</th>\n",
       "      <th>source_idx</th>\n",
       "      <th>compile_info</th>\n",
       "    </tr>\n",
       "  </thead>\n",
       "  <tbody>\n",
       "    <tr>\n",
       "      <th>0</th>\n",
       "      <td>BitEyeToken</td>\n",
       "      <td>BitEyeToken</td>\n",
       "      <td>contract BitEyeToken is ERC20Token, Ownable {\\...</td>\n",
       "      <td>\\r\\n    name = \"BitEye Token\";\\r\\n    symbol =...</td>\n",
       "      <td>\\n    name = \"BitEye Token\";\\n    symbol = \"BE...</td>\n",
       "      <td>\\n    name = \"BitEye\";\\n    symbol = \"BTEYE\";\\...</td>\n",
       "      <td>33106</td>\n",
       "      <td>pragma solidity ^0.4.19;\\n\\r\\ncontract SafeMat...</td>\n",
       "      <td>0</td>\n",
       "      <td>&lt;COMPILED_SUCCESSFULLY&gt;</td>\n",
       "    </tr>\n",
       "    <tr>\n",
       "      <th>1</th>\n",
       "      <td>HadsofFortune</td>\n",
       "      <td>init</td>\n",
       "      <td>contract HadsofFortune is Accessibility {\\nusi...</td>\n",
       "      <td>\\r\\n\\r\\nm_rgp.startTimestamp = timestamp + 1;\\...</td>\n",
       "      <td>\\n\\nm_rgp.startTimestamp = timestamp + 1;\\nemi...</td>\n",
       "      <td>\\n\\n\\n\\n\\n\\n\\n\\n\\n\\n\\n\\n\\n\\n\\n\\n\\n\\n\\n\\n\\n\\n\\n...</td>\n",
       "      <td>75941</td>\n",
       "      <td>pragma solidity 0.4.26;\\n\\r\\n/**\\r\\n* Get % pr...</td>\n",
       "      <td>1</td>\n",
       "      <td>&lt;COMPILED_SUCCESSFULLY&gt;</td>\n",
       "    </tr>\n",
       "    <tr>\n",
       "      <th>2</th>\n",
       "      <td>HintHelpers</td>\n",
       "      <td>setAddresses</td>\n",
       "      <td>contract HintHelpers is LiquityBase, Ownable, ...</td>\n",
       "      <td>\\r\\n        checkContract(_sortedTrovesAddress...</td>\n",
       "      <td>\\n        checkContract(_sortedTrovesAddress);...</td>\n",
       "      <td>\\n        require(_sortedTrovesAddress != addr...</td>\n",
       "      <td>40393</td>\n",
       "      <td>// SPDX-License-Identifier: MIT\\n\\r\\npragma so...</td>\n",
       "      <td>2</td>\n",
       "      <td>&lt;COMPILED_SUCCESSFULLY&gt;</td>\n",
       "    </tr>\n",
       "    <tr>\n",
       "      <th>3</th>\n",
       "      <td>BEU</td>\n",
       "      <td>lock</td>\n",
       "      <td>contract BEU {\\n    using SafeMath for uint256...</td>\n",
       "      <td>\\r\\n        require(msg.sender == owner);     ...</td>\n",
       "      <td>\\n        require(msg.sender == owner);       ...</td>\n",
       "      <td>\\n        require(_to != 0x0);                ...</td>\n",
       "      <td>72368</td>\n",
       "      <td>pragma solidity ^0.4.24;\\n\\r\\n/**\\r\\n * Math o...</td>\n",
       "      <td>3</td>\n",
       "      <td>contracts/sample.sol:145:24: ParserError: Expe...</td>\n",
       "    </tr>\n",
       "    <tr>\n",
       "      <th>4</th>\n",
       "      <td>MainCoinManager</td>\n",
       "      <td>AddERC20Maincoin</td>\n",
       "      <td>contract MainCoinManager is Manageable {\\n    ...</td>\n",
       "      <td>\\r\\n        emit MainCoinAdded(_token);\\r\\n   ...</td>\n",
       "      <td>\\n        emit MainCoinAdded(_token);\\n       ...</td>\n",
       "      <td>\\n        emit MainCoinAdded(_token);\\n       ...</td>\n",
       "      <td>38328</td>\n",
       "      <td>pragma solidity ^0.4.24;/**\\n * @title SafeMat...</td>\n",
       "      <td>4</td>\n",
       "      <td>&lt;COMPILED_SUCCESSFULLY&gt;</td>\n",
       "    </tr>\n",
       "  </tbody>\n",
       "</table>\n",
       "</div>"
      ],
      "text/plain": [
       "     contract_name         func_name  \\\n",
       "0      BitEyeToken       BitEyeToken   \n",
       "1    HadsofFortune              init   \n",
       "2      HintHelpers      setAddresses   \n",
       "3              BEU              lock   \n",
       "4  MainCoinManager  AddERC20Maincoin   \n",
       "\n",
       "                                     masked_contract  \\\n",
       "0  contract BitEyeToken is ERC20Token, Ownable {\\...   \n",
       "1  contract HadsofFortune is Accessibility {\\nusi...   \n",
       "2  contract HintHelpers is LiquityBase, Ownable, ...   \n",
       "3  contract BEU {\\n    using SafeMath for uint256...   \n",
       "4  contract MainCoinManager is Manageable {\\n    ...   \n",
       "\n",
       "                                           func_body  \\\n",
       "0  \\r\\n    name = \"BitEye Token\";\\r\\n    symbol =...   \n",
       "1  \\r\\n\\r\\nm_rgp.startTimestamp = timestamp + 1;\\...   \n",
       "2  \\r\\n        checkContract(_sortedTrovesAddress...   \n",
       "3  \\r\\n        require(msg.sender == owner);     ...   \n",
       "4  \\r\\n        emit MainCoinAdded(_token);\\r\\n   ...   \n",
       "\n",
       "                           func_body_removed_comment  \\\n",
       "0  \\n    name = \"BitEye Token\";\\n    symbol = \"BE...   \n",
       "1  \\n\\nm_rgp.startTimestamp = timestamp + 1;\\nemi...   \n",
       "2  \\n        checkContract(_sortedTrovesAddress);...   \n",
       "3  \\n        require(msg.sender == owner);       ...   \n",
       "4  \\n        emit MainCoinAdded(_token);\\n       ...   \n",
       "\n",
       "                                     deepseek_output file_source_idx  \\\n",
       "0  \\n    name = \"BitEye\";\\n    symbol = \"BTEYE\";\\...           33106   \n",
       "1  \\n\\n\\n\\n\\n\\n\\n\\n\\n\\n\\n\\n\\n\\n\\n\\n\\n\\n\\n\\n\\n\\n\\n...           75941   \n",
       "2  \\n        require(_sortedTrovesAddress != addr...           40393   \n",
       "3  \\n        require(_to != 0x0);                ...           72368   \n",
       "4  \\n        emit MainCoinAdded(_token);\\n       ...           38328   \n",
       "\n",
       "                                         source_code  source_idx  \\\n",
       "0  pragma solidity ^0.4.19;\\n\\r\\ncontract SafeMat...           0   \n",
       "1  pragma solidity 0.4.26;\\n\\r\\n/**\\r\\n* Get % pr...           1   \n",
       "2  // SPDX-License-Identifier: MIT\\n\\r\\npragma so...           2   \n",
       "3  pragma solidity ^0.4.24;\\n\\r\\n/**\\r\\n * Math o...           3   \n",
       "4  pragma solidity ^0.4.24;/**\\n * @title SafeMat...           4   \n",
       "\n",
       "                                        compile_info  \n",
       "0                            <COMPILED_SUCCESSFULLY>  \n",
       "1                            <COMPILED_SUCCESSFULLY>  \n",
       "2                            <COMPILED_SUCCESSFULLY>  \n",
       "3  contracts/sample.sol:145:24: ParserError: Expe...  \n",
       "4                            <COMPILED_SUCCESSFULLY>  "
      ]
     },
     "execution_count": 4,
     "metadata": {},
     "output_type": "execute_result"
    }
   ],
   "source": [
    "deepseek.head()"
   ]
  },
  {
   "cell_type": "code",
   "execution_count": 7,
   "metadata": {},
   "outputs": [
    {
     "name": "stdout",
     "output_type": "stream",
     "text": [
      "<class 'pandas.core.frame.DataFrame'>\n",
      "RangeIndex: 6000 entries, 0 to 5999\n",
      "Data columns (total 4 columns):\n",
      " #   Column           Non-Null Count  Dtype \n",
      "---  ------           --------------  ----- \n",
      " 0   masked_contract  6000 non-null   object\n",
      " 1   func_body        6000 non-null   object\n",
      " 2   deepseek_output  6000 non-null   object\n",
      " 3   compile_info     6000 non-null   object\n",
      "dtypes: object(4)\n",
      "memory usage: 187.6+ KB\n"
     ]
    }
   ],
   "source": [
    "deepseek = deepseek.drop(columns=[\"source_idx\", \"source_code\", \"file_source_idx\", \"func_body_removed_comment\", \"contract_name\", \"func_name\"])\n",
    "deepseek.info()"
   ]
  },
  {
   "cell_type": "code",
   "execution_count": 8,
   "metadata": {},
   "outputs": [],
   "source": [
    "deepseek.to_csv(\"/home/hieuvd/lvdthieu/CodeGen/data/compile_info/train_6k/deepseek.csv\")"
   ]
  },
  {
   "cell_type": "code",
   "execution_count": 10,
   "metadata": {},
   "outputs": [],
   "source": [
    "import string\n",
    "def normalized(s):\n",
    "    s = s.replace(string.whitespace, \" \")\n",
    "    s = \" \".join(s.split())\n",
    "    return s\n",
    "\n",
    "deepseek[\"deepseek_output\"] = deepseek[\"deepseek_output\"].apply(lambda x: normalized(x))\n"
   ]
  },
  {
   "cell_type": "code",
   "execution_count": 11,
   "metadata": {},
   "outputs": [],
   "source": [
    "deepseek[\"len_output\"] = deepseek[\"deepseek_output\"].apply(lambda x: len(x.split()))"
   ]
  },
  {
   "cell_type": "code",
   "execution_count": 12,
   "metadata": {},
   "outputs": [
    {
     "data": {
      "text/plain": [
       "count    6000.000000\n",
       "mean       14.464667\n",
       "std        11.268181\n",
       "min         0.000000\n",
       "25%         5.000000\n",
       "50%        13.000000\n",
       "75%        21.000000\n",
       "max       119.000000\n",
       "Name: len_output, dtype: float64"
      ]
     },
     "execution_count": 12,
     "metadata": {},
     "output_type": "execute_result"
    }
   ],
   "source": [
    "deepseek[\"len_output\"].describe()"
   ]
  },
  {
   "cell_type": "code",
   "execution_count": 14,
   "metadata": {},
   "outputs": [
    {
     "data": {
      "text/plain": [
       "19"
      ]
     },
     "execution_count": 14,
     "metadata": {},
     "output_type": "execute_result"
    }
   ],
   "source": [
    "from collections import Counter\n",
    "\n",
    "counter = Counter(deepseek[\"len_output\"].tolist())\n",
    "counter[0]"
   ]
  },
  {
   "cell_type": "code",
   "execution_count": 1,
   "metadata": {},
   "outputs": [
    {
     "name": "stdout",
     "output_type": "stream",
     "text": [
      "<class 'pandas.core.frame.DataFrame'>\n",
      "RangeIndex: 6000 entries, 0 to 5999\n",
      "Data columns (total 8 columns):\n",
      " #   Column                     Non-Null Count  Dtype \n",
      "---  ------                     --------------  ----- \n",
      " 0   contract_name              6000 non-null   object\n",
      " 1   func_name                  4522 non-null   object\n",
      " 2   masked_contract            6000 non-null   object\n",
      " 3   func_body                  6000 non-null   object\n",
      " 4   func_body_removed_comment  6000 non-null   object\n",
      " 5   deepseek_output            6000 non-null   object\n",
      " 6   file_source_idx            6000 non-null   int64 \n",
      " 7   file_source                6000 non-null   object\n",
      "dtypes: int64(1), object(7)\n",
      "memory usage: 375.1+ KB\n"
     ]
    }
   ],
   "source": [
    "import pandas as pd\n",
    "test_6k = pd.read_parquet(\"/home/hieuvd/lvdthieu/CodeGen/data/test/test_6k/raw_test_6k.parquet\", engine=\"fastparquet\")\n",
    "test_6k.info()"
   ]
  },
  {
   "cell_type": "code",
   "execution_count": 2,
   "metadata": {},
   "outputs": [
    {
     "data": {
      "text/html": [
       "<div>\n",
       "<style scoped>\n",
       "    .dataframe tbody tr th:only-of-type {\n",
       "        vertical-align: middle;\n",
       "    }\n",
       "\n",
       "    .dataframe tbody tr th {\n",
       "        vertical-align: top;\n",
       "    }\n",
       "\n",
       "    .dataframe thead th {\n",
       "        text-align: right;\n",
       "    }\n",
       "</style>\n",
       "<table border=\"1\" class=\"dataframe\">\n",
       "  <thead>\n",
       "    <tr style=\"text-align: right;\">\n",
       "      <th></th>\n",
       "      <th>contract_name</th>\n",
       "      <th>func_name</th>\n",
       "      <th>masked_contract</th>\n",
       "      <th>func_body</th>\n",
       "      <th>func_body_removed_comment</th>\n",
       "      <th>deepseek_output</th>\n",
       "      <th>file_source_idx</th>\n",
       "      <th>file_source</th>\n",
       "    </tr>\n",
       "  </thead>\n",
       "  <tbody>\n",
       "    <tr>\n",
       "      <th>0</th>\n",
       "      <td>BitEyeToken</td>\n",
       "      <td>BitEyeToken</td>\n",
       "      <td>contract BitEyeToken is ERC20Token, Ownable {\\...</td>\n",
       "      <td>\\r\\n    name = \"BitEye Token\";\\r\\n    symbol =...</td>\n",
       "      <td>\\n    name = \"BitEye Token\";\\n    symbol = \"BE...</td>\n",
       "      <td>\\n    name = \"BitEye Token\";\\n    symbol = \"BT...</td>\n",
       "      <td>33106</td>\n",
       "      <td>pragma solidity ^0.4.19;\\r\\n\\r\\ncontract SafeM...</td>\n",
       "    </tr>\n",
       "    <tr>\n",
       "      <th>1</th>\n",
       "      <td>HadsofFortune</td>\n",
       "      <td>init</td>\n",
       "      <td>contract HadsofFortune is Accessibility {\\nusi...</td>\n",
       "      <td>\\r\\n\\r\\nm_rgp.startTimestamp = timestamp + 1;\\...</td>\n",
       "      <td>\\n\\nm_rgp.startTimestamp = timestamp + 1;\\nemi...</td>\n",
       "      <td>Ether = investment;\\nemit LogSendExcessOfEther...</td>\n",
       "      <td>75941</td>\n",
       "      <td>pragma solidity 0.4.26;\\r\\n\\r\\n/**\\r\\n* Get % ...</td>\n",
       "    </tr>\n",
       "    <tr>\n",
       "      <th>2</th>\n",
       "      <td>HintHelpers</td>\n",
       "      <td>setAddresses</td>\n",
       "      <td>contract HintHelpers is LiquityBase, Ownable, ...</td>\n",
       "      <td>\\r\\n        checkContract(_sortedTrovesAddress...</td>\n",
       "      <td>\\n        checkContract(_sortedTrovesAddress);...</td>\n",
       "      <td>\\n        require(_sortedTrovesAddress != addr...</td>\n",
       "      <td>40393</td>\n",
       "      <td>// SPDX-License-Identifier: MIT\\r\\n\\r\\npragma ...</td>\n",
       "    </tr>\n",
       "    <tr>\n",
       "      <th>3</th>\n",
       "      <td>BEU</td>\n",
       "      <td>lock</td>\n",
       "      <td>contract BEU {\\n    using SafeMath for uint256...</td>\n",
       "      <td>\\r\\n        require(msg.sender == owner);     ...</td>\n",
       "      <td>\\n        require(msg.sender == owner);       ...</td>\n",
       "      <td>\\n        require(msg.sender == owner);       ...</td>\n",
       "      <td>72368</td>\n",
       "      <td>pragma solidity ^0.4.24;\\r\\n\\r\\n/**\\r\\n * Math...</td>\n",
       "    </tr>\n",
       "    <tr>\n",
       "      <th>4</th>\n",
       "      <td>MainCoinManager</td>\n",
       "      <td>AddERC20Maincoin</td>\n",
       "      <td>contract MainCoinManager is Manageable {\\n    ...</td>\n",
       "      <td>\\r\\n        emit MainCoinAdded(_token);\\r\\n   ...</td>\n",
       "      <td>\\n        emit MainCoinAdded(_token);\\n       ...</td>\n",
       "      <td>\\n        emit MainCoinAdded(_token);\\n       ...</td>\n",
       "      <td>38328</td>\n",
       "      <td>pragma solidity ^0.4.24;/**\\r\\n * @title SafeM...</td>\n",
       "    </tr>\n",
       "  </tbody>\n",
       "</table>\n",
       "</div>"
      ],
      "text/plain": [
       "     contract_name         func_name  \\\n",
       "0      BitEyeToken       BitEyeToken   \n",
       "1    HadsofFortune              init   \n",
       "2      HintHelpers      setAddresses   \n",
       "3              BEU              lock   \n",
       "4  MainCoinManager  AddERC20Maincoin   \n",
       "\n",
       "                                     masked_contract  \\\n",
       "0  contract BitEyeToken is ERC20Token, Ownable {\\...   \n",
       "1  contract HadsofFortune is Accessibility {\\nusi...   \n",
       "2  contract HintHelpers is LiquityBase, Ownable, ...   \n",
       "3  contract BEU {\\n    using SafeMath for uint256...   \n",
       "4  contract MainCoinManager is Manageable {\\n    ...   \n",
       "\n",
       "                                           func_body  \\\n",
       "0  \\r\\n    name = \"BitEye Token\";\\r\\n    symbol =...   \n",
       "1  \\r\\n\\r\\nm_rgp.startTimestamp = timestamp + 1;\\...   \n",
       "2  \\r\\n        checkContract(_sortedTrovesAddress...   \n",
       "3  \\r\\n        require(msg.sender == owner);     ...   \n",
       "4  \\r\\n        emit MainCoinAdded(_token);\\r\\n   ...   \n",
       "\n",
       "                           func_body_removed_comment  \\\n",
       "0  \\n    name = \"BitEye Token\";\\n    symbol = \"BE...   \n",
       "1  \\n\\nm_rgp.startTimestamp = timestamp + 1;\\nemi...   \n",
       "2  \\n        checkContract(_sortedTrovesAddress);...   \n",
       "3  \\n        require(msg.sender == owner);       ...   \n",
       "4  \\n        emit MainCoinAdded(_token);\\n       ...   \n",
       "\n",
       "                                     deepseek_output  file_source_idx  \\\n",
       "0  \\n    name = \"BitEye Token\";\\n    symbol = \"BT...            33106   \n",
       "1  Ether = investment;\\nemit LogSendExcessOfEther...            75941   \n",
       "2  \\n        require(_sortedTrovesAddress != addr...            40393   \n",
       "3  \\n        require(msg.sender == owner);       ...            72368   \n",
       "4  \\n        emit MainCoinAdded(_token);\\n       ...            38328   \n",
       "\n",
       "                                         file_source  \n",
       "0  pragma solidity ^0.4.19;\\r\\n\\r\\ncontract SafeM...  \n",
       "1  pragma solidity 0.4.26;\\r\\n\\r\\n/**\\r\\n* Get % ...  \n",
       "2  // SPDX-License-Identifier: MIT\\r\\n\\r\\npragma ...  \n",
       "3  pragma solidity ^0.4.24;\\r\\n\\r\\n/**\\r\\n * Math...  \n",
       "4  pragma solidity ^0.4.24;/**\\r\\n * @title SafeM...  "
      ]
     },
     "execution_count": 2,
     "metadata": {},
     "output_type": "execute_result"
    }
   ],
   "source": [
    "test_6k.head()"
   ]
  },
  {
   "cell_type": "code",
   "execution_count": 3,
   "metadata": {},
   "outputs": [
    {
     "name": "stdout",
     "output_type": "stream",
     "text": [
      "<class 'pandas.core.frame.DataFrame'>\n",
      "RangeIndex: 94288 entries, 0 to 94287\n",
      "Data columns (total 2 columns):\n",
      " #   Column       Non-Null Count  Dtype \n",
      "---  ------       --------------  ----- \n",
      " 0   source_code  94288 non-null  object\n",
      " 1   ast          94288 non-null  object\n",
      "dtypes: object(2)\n",
      "memory usage: 1.4+ MB\n"
     ]
    }
   ],
   "source": [
    "all_file_v2 = pd.read_parquet(\"/home/hieuvd/lvdthieu/CodeGen/data/solfile/all_file_v2.parquet\", \"fastparquet\")\n",
    "all_file_v2.info()"
   ]
  },
  {
   "cell_type": "code",
   "execution_count": 4,
   "metadata": {},
   "outputs": [
    {
     "data": {
      "text/plain": [
       "0"
      ]
     },
     "execution_count": 4,
     "metadata": {},
     "output_type": "execute_result"
    }
   ],
   "source": [
    "cnt = 0\n",
    "for i in test_6k.index:\n",
    "    if all_file_v2.loc[test_6k.loc[i, \"file_source_idx\"], \"ast\"] == \"<PARSER_ERROR>\":\n",
    "        cnt += 1\n",
    "        print(i)\n",
    "\n",
    "cnt        "
   ]
  },
  {
   "cell_type": "code",
   "execution_count": 5,
   "metadata": {},
   "outputs": [
    {
     "name": "stdout",
     "output_type": "stream",
     "text": [
      "<class 'pandas.core.frame.DataFrame'>\n",
      "RangeIndex: 6000 entries, 0 to 5999\n",
      "Data columns (total 10 columns):\n",
      " #   Column                     Non-Null Count  Dtype \n",
      "---  ------                     --------------  ----- \n",
      " 0   contract_name              6000 non-null   object\n",
      " 1   func_name                  4522 non-null   object\n",
      " 2   masked_contract            6000 non-null   object\n",
      " 3   func_body                  6000 non-null   object\n",
      " 4   func_body_removed_comment  6000 non-null   object\n",
      " 5   deepseek_output            6000 non-null   object\n",
      " 6   file_source_idx            6000 non-null   int64 \n",
      " 7   source_code                6000 non-null   object\n",
      " 8   source_idx                 6000 non-null   int64 \n",
      " 9   compile_info               6000 non-null   object\n",
      "dtypes: int64(2), object(8)\n",
      "memory usage: 468.9+ KB\n"
     ]
    }
   ],
   "source": [
    "valid = pd.read_parquet(\"/home/hieuvd/lvdthieu/CodeGen/data/compile_info/valid_6k/deepseek.parquet\", \"fastparquet\")\n",
    "valid.info()"
   ]
  },
  {
   "cell_type": "code",
   "execution_count": 6,
   "metadata": {},
   "outputs": [
    {
     "data": {
      "text/plain": [
       "count                        6000\n",
       "unique                       1883\n",
       "top       <COMPILED_SUCCESSFULLY>\n",
       "freq                         4049\n",
       "Name: compile_info, dtype: object"
      ]
     },
     "execution_count": 6,
     "metadata": {},
     "output_type": "execute_result"
    }
   ],
   "source": [
    "valid[\"compile_info\"].describe()"
   ]
  },
  {
   "cell_type": "code",
   "execution_count": 7,
   "metadata": {},
   "outputs": [
    {
     "name": "stdout",
     "output_type": "stream",
     "text": [
      "<class 'pandas.core.frame.DataFrame'>\n",
      "RangeIndex: 6000 entries, 0 to 5999\n",
      "Data columns (total 10 columns):\n",
      " #   Column                     Non-Null Count  Dtype \n",
      "---  ------                     --------------  ----- \n",
      " 0   contract_name              6000 non-null   object\n",
      " 1   func_name                  4522 non-null   object\n",
      " 2   masked_contract            6000 non-null   object\n",
      " 3   func_body                  6000 non-null   object\n",
      " 4   func_body_removed_comment  6000 non-null   object\n",
      " 5   deepseek_output            6000 non-null   object\n",
      " 6   file_source_idx            6000 non-null   object\n",
      " 7   source_code                6000 non-null   object\n",
      " 8   source_idx                 6000 non-null   int64 \n",
      " 9   compile_info               6000 non-null   object\n",
      "dtypes: int64(1), object(9)\n",
      "memory usage: 468.9+ KB\n"
     ]
    }
   ],
   "source": [
    "valid1 = pd.read_parquet(\"/home/hieuvd/lvdthieu/CodeGen/data/compile_info/valid_6k_bak/deepseek.parquet\",  \"fastparquet\")\n",
    "valid1.info()"
   ]
  },
  {
   "cell_type": "code",
   "execution_count": 8,
   "metadata": {},
   "outputs": [
    {
     "data": {
      "text/plain": [
       "count                        6000\n",
       "unique                       2078\n",
       "top       <COMPILED_SUCCESSFULLY>\n",
       "freq                         3885\n",
       "Name: compile_info, dtype: object"
      ]
     },
     "execution_count": 8,
     "metadata": {},
     "output_type": "execute_result"
    }
   ],
   "source": [
    "valid1[\"compile_info\"].describe()"
   ]
  },
  {
   "cell_type": "code",
   "execution_count": 9,
   "metadata": {},
   "outputs": [
    {
     "name": "stdout",
     "output_type": "stream",
     "text": [
      "<class 'pandas.core.frame.DataFrame'>\n",
      "RangeIndex: 6000 entries, 0 to 5999\n",
      "Data columns (total 10 columns):\n",
      " #   Column                     Non-Null Count  Dtype \n",
      "---  ------                     --------------  ----- \n",
      " 0   contract_name              6000 non-null   object\n",
      " 1   func_name                  4522 non-null   object\n",
      " 2   masked_contract            6000 non-null   object\n",
      " 3   func_body                  6000 non-null   object\n",
      " 4   func_body_removed_comment  6000 non-null   object\n",
      " 5   deepseek_output            6000 non-null   object\n",
      " 6   file_source_idx            6000 non-null   int64 \n",
      " 7   source_code                6000 non-null   object\n",
      " 8   source_idx                 6000 non-null   int64 \n",
      " 9   compile_info               6000 non-null   object\n",
      "dtypes: int64(2), object(8)\n",
      "memory usage: 468.9+ KB\n"
     ]
    }
   ],
   "source": [
    "train = pd.read_parquet(\"/home/hieuvd/lvdthieu/CodeGen/data/compile_info/train_6k/deepseek.parquet\", engine=\"fastparquet\")\n",
    "train.info()"
   ]
  },
  {
   "cell_type": "code",
   "execution_count": 10,
   "metadata": {},
   "outputs": [
    {
     "data": {
      "text/plain": [
       "count                        6000\n",
       "unique                       1975\n",
       "top       <COMPILED_SUCCESSFULLY>\n",
       "freq                         3934\n",
       "Name: compile_info, dtype: object"
      ]
     },
     "execution_count": 10,
     "metadata": {},
     "output_type": "execute_result"
    }
   ],
   "source": [
    "train[\"compile_info\"].describe()"
   ]
  },
  {
   "cell_type": "code",
   "execution_count": 40,
   "metadata": {},
   "outputs": [
    {
     "name": "stdout",
     "output_type": "stream",
     "text": [
      "<class 'pandas.core.frame.DataFrame'>\n",
      "RangeIndex: 6000 entries, 0 to 5999\n",
      "Data columns (total 10 columns):\n",
      " #   Column                     Non-Null Count  Dtype \n",
      "---  ------                     --------------  ----- \n",
      " 0   contract_name              6000 non-null   object\n",
      " 1   func_name                  4522 non-null   object\n",
      " 2   masked_contract            6000 non-null   object\n",
      " 3   func_body                  6000 non-null   object\n",
      " 4   func_body_removed_comment  6000 non-null   object\n",
      " 5   deepseek_output            6000 non-null   object\n",
      " 6   file_source_idx            6000 non-null   int64 \n",
      " 7   source_code                6000 non-null   object\n",
      " 8   source_idx                 6000 non-null   int64 \n",
      " 9   compile_info               6000 non-null   object\n",
      "dtypes: int64(2), object(8)\n",
      "memory usage: 468.9+ KB\n"
     ]
    }
   ],
   "source": [
    "refine2 = pd.read_parquet(\"/home/hieuvd/lvdthieu/CodeGen/data/compile_info/valid_6k/deepseek.parquet\", \"fastparquet\")\n",
    "refine2.info()"
   ]
  },
  {
   "cell_type": "code",
   "execution_count": 41,
   "metadata": {},
   "outputs": [
    {
     "data": {
      "text/plain": [
       "count                        6000\n",
       "unique                       1865\n",
       "top       <COMPILED_SUCCESSFULLY>\n",
       "freq                         4050\n",
       "Name: compile_info, dtype: object"
      ]
     },
     "execution_count": 41,
     "metadata": {},
     "output_type": "execute_result"
    }
   ],
   "source": [
    "refine2[\"compile_info\"].describe()"
   ]
  },
  {
   "cell_type": "code",
   "execution_count": 24,
   "metadata": {},
   "outputs": [
    {
     "name": "stdout",
     "output_type": "stream",
     "text": [
      "<class 'pandas.core.frame.DataFrame'>\n",
      "RangeIndex: 6000 entries, 0 to 5999\n",
      "Data columns (total 10 columns):\n",
      " #   Column                     Non-Null Count  Dtype \n",
      "---  ------                     --------------  ----- \n",
      " 0   contract_name              6000 non-null   object\n",
      " 1   func_name                  4522 non-null   object\n",
      " 2   masked_contract            6000 non-null   object\n",
      " 3   func_body                  6000 non-null   object\n",
      " 4   func_body_removed_comment  6000 non-null   object\n",
      " 5   deepseek_output            6000 non-null   object\n",
      " 6   file_source_idx            6000 non-null   object\n",
      " 7   original_source_code       6000 non-null   object\n",
      " 8   filled_source_body         6000 non-null   object\n",
      " 9   filled_source_deepseek     6000 non-null   object\n",
      "dtypes: object(10)\n",
      "memory usage: 468.9+ KB\n"
     ]
    }
   ],
   "source": [
    "test_suite1 = pd.read_parquet(\"/home/hieuvd/lvdthieu/CodeGen/data/test/train_6k/test_suite1.parquet\", \"fastparquet\")\n",
    "test_suite1.info()"
   ]
  },
  {
   "cell_type": "code",
   "execution_count": 26,
   "metadata": {},
   "outputs": [
    {
     "name": "stdout",
     "output_type": "stream",
     "text": [
      "<class 'pandas.core.frame.DataFrame'>\n",
      "RangeIndex: 6000 entries, 0 to 5999\n",
      "Data columns (total 10 columns):\n",
      " #   Column                     Non-Null Count  Dtype \n",
      "---  ------                     --------------  ----- \n",
      " 0   contract_name              6000 non-null   object\n",
      " 1   func_name                  4522 non-null   object\n",
      " 2   masked_contract            6000 non-null   object\n",
      " 3   func_body                  6000 non-null   object\n",
      " 4   func_body_removed_comment  6000 non-null   object\n",
      " 5   deepseek_output            6000 non-null   object\n",
      " 6   file_source_idx            6000 non-null   int64 \n",
      " 7   file_source                6000 non-null   object\n",
      " 8   filled_source_body         6000 non-null   object\n",
      " 9   filled_source_deepseek     6000 non-null   object\n",
      "dtypes: int64(1), object(9)\n",
      "memory usage: 468.9+ KB\n"
     ]
    }
   ],
   "source": [
    "test_suite = pd.read_parquet(\"/home/hieuvd/lvdthieu/CodeGen/data/test/train_6k/test_suite.parquet\")\n",
    "test_suite.info()"
   ]
  },
  {
   "cell_type": "code",
   "execution_count": 27,
   "metadata": {},
   "outputs": [
    {
     "data": {
      "text/plain": [
       "0       False\n",
       "1       False\n",
       "2       False\n",
       "3       False\n",
       "4       False\n",
       "        ...  \n",
       "5995     True\n",
       "5996    False\n",
       "5997    False\n",
       "5998    False\n",
       "5999    False\n",
       "Name: filled_source_deepseek, Length: 6000, dtype: bool"
      ]
     },
     "execution_count": 27,
     "metadata": {},
     "output_type": "execute_result"
    }
   ],
   "source": [
    "test_suite1[\"filled_source_deepseek\"] == test_suite[\"filled_source_deepseek\"]"
   ]
  },
  {
   "cell_type": "code",
   "execution_count": 31,
   "metadata": {},
   "outputs": [
    {
     "data": {
      "text/plain": [
       "contract_name    HadsofFortune\n",
       "func_name                 init\n",
       "Name: 1, dtype: object"
      ]
     },
     "execution_count": 31,
     "metadata": {},
     "output_type": "execute_result"
    }
   ],
   "source": [
    "i = 1\n",
    "with open(\"check.sol\", \"w\") as f:\n",
    "    f.write(test_suite1.loc[i, \"filled_source_deepseek\"])\n",
    "with open(\"check1.sol\", \"w\") as f:\n",
    "    f.write(test_suite.loc[i, \"filled_source_deepseek\"])\n",
    "\n",
    "test_suite.loc[i, [\"contract_name\", \"func_name\"]]"
   ]
  },
  {
   "cell_type": "code",
   "execution_count": 6,
   "metadata": {},
   "outputs": [
    {
     "name": "stdout",
     "output_type": "stream",
     "text": [
      "<class 'pandas.core.frame.DataFrame'>\n",
      "RangeIndex: 6000 entries, 0 to 5999\n",
      "Data columns (total 10 columns):\n",
      " #   Column                     Non-Null Count  Dtype \n",
      "---  ------                     --------------  ----- \n",
      " 0   contract_name              6000 non-null   object\n",
      " 1   func_name                  4522 non-null   object\n",
      " 2   masked_contract            6000 non-null   object\n",
      " 3   func_body                  6000 non-null   object\n",
      " 4   func_body_removed_comment  6000 non-null   object\n",
      " 5   deepseek_output            6000 non-null   object\n",
      " 6   file_source_idx            6000 non-null   object\n",
      " 7   source_code                6000 non-null   object\n",
      " 8   source_idx                 6000 non-null   int64 \n",
      " 9   compile_info               6000 non-null   object\n",
      "dtypes: int64(1), object(9)\n",
      "memory usage: 468.9+ KB\n"
     ]
    }
   ],
   "source": [
    "import pandas as pd\n",
    "\n",
    "refine2 = pd.read_parquet(\"/home/hieuvd/lvdthieu/CodeGen/data/compile_info/refine2_6k/deepseek_finetune.parquet\", \"fastparquet\")\n",
    "refine2.info()"
   ]
  },
  {
   "cell_type": "code",
   "execution_count": 7,
   "metadata": {},
   "outputs": [
    {
     "data": {
      "text/plain": [
       "0       33106\n",
       "1       75941\n",
       "2       40393\n",
       "3       72368\n",
       "4       38328\n",
       "        ...  \n",
       "5995     2287\n",
       "5996    83488\n",
       "5997    30938\n",
       "5998    13260\n",
       "5999    20015\n",
       "Name: file_source_idx, Length: 6000, dtype: object"
      ]
     },
     "execution_count": 7,
     "metadata": {},
     "output_type": "execute_result"
    }
   ],
   "source": [
    "finetune_6k[\"file_source_idx\"]"
   ]
  },
  {
   "cell_type": "code",
   "execution_count": 8,
   "metadata": {},
   "outputs": [
    {
     "name": "stdout",
     "output_type": "stream",
     "text": [
      "<class 'pandas.core.frame.DataFrame'>\n",
      "RangeIndex: 94288 entries, 0 to 94287\n",
      "Data columns (total 2 columns):\n",
      " #   Column       Non-Null Count  Dtype \n",
      "---  ------       --------------  ----- \n",
      " 0   source_code  94288 non-null  object\n",
      " 1   ast          94288 non-null  object\n",
      "dtypes: object(2)\n",
      "memory usage: 1.4+ MB\n"
     ]
    }
   ],
   "source": [
    "all_file_v2 = pd.read_parquet(\"/home/hieuvd/lvdthieu/CodeGen/data/solfile/all_file_v2.parquet\", \"fastparquet\")\n",
    "all_file_v2.info()"
   ]
  },
  {
   "cell_type": "code",
   "execution_count": 9,
   "metadata": {},
   "outputs": [],
   "source": [
    "finetune_6k[\"file_source_idx\"] = finetune_6k[\"file_source_idx\"].astype(\"int64\")"
   ]
  },
  {
   "cell_type": "code",
   "execution_count": 10,
   "metadata": {},
   "outputs": [
    {
     "name": "stdout",
     "output_type": "stream",
     "text": [
      "<class 'pandas.core.frame.DataFrame'>\n",
      "RangeIndex: 6000 entries, 0 to 5999\n",
      "Data columns (total 10 columns):\n",
      " #   Column                     Non-Null Count  Dtype \n",
      "---  ------                     --------------  ----- \n",
      " 0   contract_name              6000 non-null   object\n",
      " 1   func_name                  4522 non-null   object\n",
      " 2   masked_contract            6000 non-null   object\n",
      " 3   func_body                  6000 non-null   object\n",
      " 4   func_body_removed_comment  6000 non-null   object\n",
      " 5   deepseek_output            6000 non-null   object\n",
      " 6   file_source_idx            6000 non-null   int64 \n",
      " 7   source_code                6000 non-null   object\n",
      " 8   source_idx                 6000 non-null   int64 \n",
      " 9   compile_info               6000 non-null   object\n",
      "dtypes: int64(2), object(8)\n",
      "memory usage: 468.9+ KB\n"
     ]
    }
   ],
   "source": [
    "finetune_6k.info()"
   ]
  },
  {
   "cell_type": "code",
   "execution_count": 11,
   "metadata": {},
   "outputs": [],
   "source": [
    "finetune_6k[\"ast\"] = finetune_6k[\"file_source_idx\"].apply(lambda x: all_file_v2.loc[x, \"ast\"])"
   ]
  },
  {
   "cell_type": "code",
   "execution_count": 12,
   "metadata": {},
   "outputs": [
    {
     "data": {
      "text/html": [
       "<div>\n",
       "<style scoped>\n",
       "    .dataframe tbody tr th:only-of-type {\n",
       "        vertical-align: middle;\n",
       "    }\n",
       "\n",
       "    .dataframe tbody tr th {\n",
       "        vertical-align: top;\n",
       "    }\n",
       "\n",
       "    .dataframe thead th {\n",
       "        text-align: right;\n",
       "    }\n",
       "</style>\n",
       "<table border=\"1\" class=\"dataframe\">\n",
       "  <thead>\n",
       "    <tr style=\"text-align: right;\">\n",
       "      <th></th>\n",
       "      <th>contract_name</th>\n",
       "      <th>func_name</th>\n",
       "      <th>masked_contract</th>\n",
       "      <th>func_body</th>\n",
       "      <th>func_body_removed_comment</th>\n",
       "      <th>deepseek_output</th>\n",
       "      <th>file_source_idx</th>\n",
       "      <th>source_code</th>\n",
       "      <th>source_idx</th>\n",
       "      <th>compile_info</th>\n",
       "      <th>ast</th>\n",
       "    </tr>\n",
       "  </thead>\n",
       "  <tbody>\n",
       "    <tr>\n",
       "      <th>0</th>\n",
       "      <td>BitEyeToken</td>\n",
       "      <td>BitEyeToken</td>\n",
       "      <td>contract BitEyeToken is ERC20Token, Ownable {\\...</td>\n",
       "      <td>\\r\\n    name = \"BitEye Token\";\\r\\n    symbol =...</td>\n",
       "      <td>\\n    name = \"BitEye Token\";\\n    symbol = \"BE...</td>\n",
       "      <td>\\n    name = \"BitEye Token\";\\n    symbol = \"BT...</td>\n",
       "      <td>33106</td>\n",
       "      <td>pragma solidity ^0.4.19;\\n\\r\\ncontract SafeMat...</td>\n",
       "      <td>0</td>\n",
       "      <td>&lt;COMPILED_SUCCESSFULLY&gt;</td>\n",
       "      <td>{\"type\":\"SourceUnit\",\"children\":[{\"type\":\"Prag...</td>\n",
       "    </tr>\n",
       "    <tr>\n",
       "      <th>1</th>\n",
       "      <td>HadsofFortune</td>\n",
       "      <td>init</td>\n",
       "      <td>contract HadsofFortune is Accessibility {\\nusi...</td>\n",
       "      <td>\\r\\n\\r\\nm_rgp.startTimestamp = timestamp + 1;\\...</td>\n",
       "      <td>\\n\\nm_rgp.startTimestamp = timestamp + 1;\\nemi...</td>\n",
       "      <td>Ether = investment;\\nemit LogSendExcessOfEther...</td>\n",
       "      <td>75941</td>\n",
       "      <td>pragma solidity 0.4.26;\\n\\r\\n/**\\r\\n* Get % pr...</td>\n",
       "      <td>1</td>\n",
       "      <td>contracts/sample.sol:508:1: ParserError: Funct...</td>\n",
       "      <td>{\"type\":\"SourceUnit\",\"children\":[{\"type\":\"Prag...</td>\n",
       "    </tr>\n",
       "    <tr>\n",
       "      <th>2</th>\n",
       "      <td>HintHelpers</td>\n",
       "      <td>setAddresses</td>\n",
       "      <td>contract HintHelpers is LiquityBase, Ownable, ...</td>\n",
       "      <td>\\r\\n        checkContract(_sortedTrovesAddress...</td>\n",
       "      <td>\\n        checkContract(_sortedTrovesAddress);...</td>\n",
       "      <td>\\n        require(_sortedTrovesAddress != addr...</td>\n",
       "      <td>40393</td>\n",
       "      <td>// SPDX-License-Identifier: MIT\\n\\r\\npragma so...</td>\n",
       "      <td>2</td>\n",
       "      <td>contracts/sample.sol:1046:61: ParserError: Exp...</td>\n",
       "      <td>{\"type\":\"SourceUnit\",\"children\":[{\"type\":\"Prag...</td>\n",
       "    </tr>\n",
       "    <tr>\n",
       "      <th>3</th>\n",
       "      <td>BEU</td>\n",
       "      <td>lock</td>\n",
       "      <td>contract BEU {\\n    using SafeMath for uint256...</td>\n",
       "      <td>\\r\\n        require(msg.sender == owner);     ...</td>\n",
       "      <td>\\n        require(msg.sender == owner);       ...</td>\n",
       "      <td>\\n        require(msg.sender == owner);       ...</td>\n",
       "      <td>72368</td>\n",
       "      <td>pragma solidity ^0.4.24;\\n\\r\\n/**\\r\\n * Math o...</td>\n",
       "      <td>3</td>\n",
       "      <td>contracts/sample.sol:145:43: ParserError: Expe...</td>\n",
       "      <td>{\"type\":\"SourceUnit\",\"children\":[{\"type\":\"Prag...</td>\n",
       "    </tr>\n",
       "    <tr>\n",
       "      <th>4</th>\n",
       "      <td>MainCoinManager</td>\n",
       "      <td>AddERC20Maincoin</td>\n",
       "      <td>contract MainCoinManager is Manageable {\\n    ...</td>\n",
       "      <td>\\r\\n        emit MainCoinAdded(_token);\\r\\n   ...</td>\n",
       "      <td>\\n        emit MainCoinAdded(_token);\\n       ...</td>\n",
       "      <td>\\n        emit MainCoinAdded(_token);\\n       ...</td>\n",
       "      <td>38328</td>\n",
       "      <td>pragma solidity ^0.4.24;/**\\n * @title SafeMat...</td>\n",
       "      <td>4</td>\n",
       "      <td>&lt;COMPILED_SUCCESSFULLY&gt;</td>\n",
       "      <td>{\"type\":\"SourceUnit\",\"children\":[{\"type\":\"Prag...</td>\n",
       "    </tr>\n",
       "  </tbody>\n",
       "</table>\n",
       "</div>"
      ],
      "text/plain": [
       "     contract_name         func_name  \\\n",
       "0      BitEyeToken       BitEyeToken   \n",
       "1    HadsofFortune              init   \n",
       "2      HintHelpers      setAddresses   \n",
       "3              BEU              lock   \n",
       "4  MainCoinManager  AddERC20Maincoin   \n",
       "\n",
       "                                     masked_contract  \\\n",
       "0  contract BitEyeToken is ERC20Token, Ownable {\\...   \n",
       "1  contract HadsofFortune is Accessibility {\\nusi...   \n",
       "2  contract HintHelpers is LiquityBase, Ownable, ...   \n",
       "3  contract BEU {\\n    using SafeMath for uint256...   \n",
       "4  contract MainCoinManager is Manageable {\\n    ...   \n",
       "\n",
       "                                           func_body  \\\n",
       "0  \\r\\n    name = \"BitEye Token\";\\r\\n    symbol =...   \n",
       "1  \\r\\n\\r\\nm_rgp.startTimestamp = timestamp + 1;\\...   \n",
       "2  \\r\\n        checkContract(_sortedTrovesAddress...   \n",
       "3  \\r\\n        require(msg.sender == owner);     ...   \n",
       "4  \\r\\n        emit MainCoinAdded(_token);\\r\\n   ...   \n",
       "\n",
       "                           func_body_removed_comment  \\\n",
       "0  \\n    name = \"BitEye Token\";\\n    symbol = \"BE...   \n",
       "1  \\n\\nm_rgp.startTimestamp = timestamp + 1;\\nemi...   \n",
       "2  \\n        checkContract(_sortedTrovesAddress);...   \n",
       "3  \\n        require(msg.sender == owner);       ...   \n",
       "4  \\n        emit MainCoinAdded(_token);\\n       ...   \n",
       "\n",
       "                                     deepseek_output  file_source_idx  \\\n",
       "0  \\n    name = \"BitEye Token\";\\n    symbol = \"BT...            33106   \n",
       "1  Ether = investment;\\nemit LogSendExcessOfEther...            75941   \n",
       "2  \\n        require(_sortedTrovesAddress != addr...            40393   \n",
       "3  \\n        require(msg.sender == owner);       ...            72368   \n",
       "4  \\n        emit MainCoinAdded(_token);\\n       ...            38328   \n",
       "\n",
       "                                         source_code  source_idx  \\\n",
       "0  pragma solidity ^0.4.19;\\n\\r\\ncontract SafeMat...           0   \n",
       "1  pragma solidity 0.4.26;\\n\\r\\n/**\\r\\n* Get % pr...           1   \n",
       "2  // SPDX-License-Identifier: MIT\\n\\r\\npragma so...           2   \n",
       "3  pragma solidity ^0.4.24;\\n\\r\\n/**\\r\\n * Math o...           3   \n",
       "4  pragma solidity ^0.4.24;/**\\n * @title SafeMat...           4   \n",
       "\n",
       "                                        compile_info  \\\n",
       "0                            <COMPILED_SUCCESSFULLY>   \n",
       "1  contracts/sample.sol:508:1: ParserError: Funct...   \n",
       "2  contracts/sample.sol:1046:61: ParserError: Exp...   \n",
       "3  contracts/sample.sol:145:43: ParserError: Expe...   \n",
       "4                            <COMPILED_SUCCESSFULLY>   \n",
       "\n",
       "                                                 ast  \n",
       "0  {\"type\":\"SourceUnit\",\"children\":[{\"type\":\"Prag...  \n",
       "1  {\"type\":\"SourceUnit\",\"children\":[{\"type\":\"Prag...  \n",
       "2  {\"type\":\"SourceUnit\",\"children\":[{\"type\":\"Prag...  \n",
       "3  {\"type\":\"SourceUnit\",\"children\":[{\"type\":\"Prag...  \n",
       "4  {\"type\":\"SourceUnit\",\"children\":[{\"type\":\"Prag...  "
      ]
     },
     "execution_count": 12,
     "metadata": {},
     "output_type": "execute_result"
    }
   ],
   "source": [
    "finetune_6k.head()"
   ]
  },
  {
   "cell_type": "code",
   "execution_count": 13,
   "metadata": {},
   "outputs": [],
   "source": [
    "with open(\"/home/hieuvd/lvdthieu/CodeGen/parse_sample.json\", \"w\") as f:\n",
    "    f.write(finetune_6k.loc[0, \"ast\"])\n",
    "with open(\"/home/hieuvd/lvdthieu/CodeGen/parse_sample.sol\", \"w\") as f:\n",
    "    f.write(finetune_6k.loc[0, \"source_code\"])"
   ]
  },
  {
   "cell_type": "code",
   "execution_count": 7,
   "metadata": {},
   "outputs": [
    {
     "name": "stdout",
     "output_type": "stream",
     "text": [
      "<class 'pandas.core.frame.DataFrame'>\n",
      "RangeIndex: 6000 entries, 0 to 5999\n",
      "Data columns (total 10 columns):\n",
      " #   Column                     Non-Null Count  Dtype \n",
      "---  ------                     --------------  ----- \n",
      " 0   contract_name              6000 non-null   object\n",
      " 1   func_name                  4522 non-null   object\n",
      " 2   masked_contract            6000 non-null   object\n",
      " 3   func_body                  6000 non-null   object\n",
      " 4   func_body_removed_comment  6000 non-null   object\n",
      " 5   deepseek_output            6000 non-null   object\n",
      " 6   file_source_idx            6000 non-null   int64 \n",
      " 7   source_code                6000 non-null   object\n",
      " 8   source_idx                 6000 non-null   int64 \n",
      " 9   compile_info               6000 non-null   object\n",
      "dtypes: int64(2), object(8)\n",
      "memory usage: 468.9+ KB\n"
     ]
    }
   ],
   "source": [
    "import pandas as pd\n",
    "\n",
    "refine2 = pd.read_parquet(\"/home/hieuvd/lvdthieu/CodeGen/data/compile_info/refine2_6k/deepseek.parquet\", \"fastparquet\")\n",
    "refine2.info()\n"
   ]
  },
  {
   "cell_type": "code",
   "execution_count": 5,
   "metadata": {},
   "outputs": [
    {
     "name": "stdout",
     "output_type": "stream",
     "text": [
      "<class 'pandas.core.frame.DataFrame'>\n",
      "RangeIndex: 94288 entries, 0 to 94287\n",
      "Data columns (total 2 columns):\n",
      " #   Column       Non-Null Count  Dtype \n",
      "---  ------       --------------  ----- \n",
      " 0   source_code  94288 non-null  object\n",
      " 1   ast          94288 non-null  object\n",
      "dtypes: object(2)\n",
      "memory usage: 1.4+ MB\n"
     ]
    }
   ],
   "source": [
    "all_file_v2 = pd.read_parquet(\"/home/hieuvd/lvdthieu/CodeGen/data/solfile/all_file_v2.parquet\", \"fastparquet\")\n",
    "all_file_v2.info()"
   ]
  },
  {
   "cell_type": "code",
   "execution_count": 8,
   "metadata": {},
   "outputs": [],
   "source": [
    "refine2.drop(columns=[\"source_idx\"], inplace=True)"
   ]
  },
  {
   "cell_type": "code",
   "execution_count": 9,
   "metadata": {},
   "outputs": [
    {
     "name": "stdout",
     "output_type": "stream",
     "text": [
      "<class 'pandas.core.frame.DataFrame'>\n",
      "RangeIndex: 6000 entries, 0 to 5999\n",
      "Data columns (total 9 columns):\n",
      " #   Column                     Non-Null Count  Dtype \n",
      "---  ------                     --------------  ----- \n",
      " 0   contract_name              6000 non-null   object\n",
      " 1   func_name                  4522 non-null   object\n",
      " 2   masked_contract            6000 non-null   object\n",
      " 3   func_body                  6000 non-null   object\n",
      " 4   func_body_removed_comment  6000 non-null   object\n",
      " 5   deepseek_output            6000 non-null   object\n",
      " 6   file_source_idx            6000 non-null   int64 \n",
      " 7   source_code                6000 non-null   object\n",
      " 8   compile_info               6000 non-null   object\n",
      "dtypes: int64(1), object(8)\n",
      "memory usage: 422.0+ KB\n"
     ]
    }
   ],
   "source": [
    "refine2.info()"
   ]
  },
  {
   "cell_type": "code",
   "execution_count": 16,
   "metadata": {},
   "outputs": [],
   "source": [
    "refine2[\"origin\"], refine2[\"ast\"] = zip(*refine2[\"file_source_idx\"].apply(lambda x: (all_file_v2.loc[x, \"source_code\"], all_file_v2.loc[x, \"ast\"])))"
   ]
  },
  {
   "cell_type": "code",
   "execution_count": 17,
   "metadata": {},
   "outputs": [
    {
     "data": {
      "text/html": [
       "<div>\n",
       "<style scoped>\n",
       "    .dataframe tbody tr th:only-of-type {\n",
       "        vertical-align: middle;\n",
       "    }\n",
       "\n",
       "    .dataframe tbody tr th {\n",
       "        vertical-align: top;\n",
       "    }\n",
       "\n",
       "    .dataframe thead th {\n",
       "        text-align: right;\n",
       "    }\n",
       "</style>\n",
       "<table border=\"1\" class=\"dataframe\">\n",
       "  <thead>\n",
       "    <tr style=\"text-align: right;\">\n",
       "      <th></th>\n",
       "      <th>contract_name</th>\n",
       "      <th>func_name</th>\n",
       "      <th>masked_contract</th>\n",
       "      <th>func_body</th>\n",
       "      <th>func_body_removed_comment</th>\n",
       "      <th>deepseek_output</th>\n",
       "      <th>file_source_idx</th>\n",
       "      <th>source_code</th>\n",
       "      <th>compile_info</th>\n",
       "      <th>origin</th>\n",
       "      <th>ast</th>\n",
       "    </tr>\n",
       "  </thead>\n",
       "  <tbody>\n",
       "    <tr>\n",
       "      <th>0</th>\n",
       "      <td>BitEyeToken</td>\n",
       "      <td>BitEyeToken</td>\n",
       "      <td>contract BitEyeToken is ERC20Token, Ownable {\\...</td>\n",
       "      <td>\\r\\n    name = \"BitEye Token\";\\r\\n    symbol =...</td>\n",
       "      <td>\\n    name = \"BitEye Token\";\\n    symbol = \"BE...</td>\n",
       "      <td>\\n    name = \"BitEye\";\\n    symbol = \"BTEYE\";\\...</td>\n",
       "      <td>33106</td>\n",
       "      <td>pragma solidity ^0.4.19;\\n\\ncontract SafeMath ...</td>\n",
       "      <td>&lt;COMPILED_SUCCESSFULLY&gt;</td>\n",
       "      <td>pragma solidity ^0.4.19;\\r\\n\\r\\ncontract SafeM...</td>\n",
       "      <td>{\"type\":\"SourceUnit\",\"children\":[{\"type\":\"Prag...</td>\n",
       "    </tr>\n",
       "    <tr>\n",
       "      <th>1</th>\n",
       "      <td>HadsofFortune</td>\n",
       "      <td>init</td>\n",
       "      <td>contract HadsofFortune is Accessibility {\\nusi...</td>\n",
       "      <td>\\r\\n\\r\\nm_rgp.startTimestamp = timestamp + 1;\\...</td>\n",
       "      <td>\\n\\nm_rgp.startTimestamp = timestamp + 1;\\nemi...</td>\n",
       "      <td>\\n\\n\\n\\n\\n\\n\\n\\n\\n\\n\\n\\n\\n\\n\\n\\n\\n\\n\\n\\n\\n\\n\\n...</td>\n",
       "      <td>75941</td>\n",
       "      <td>pragma solidity 0.4.26;\\n\\n/**\\n* Get % profit...</td>\n",
       "      <td>&lt;COMPILED_SUCCESSFULLY&gt;</td>\n",
       "      <td>pragma solidity 0.4.26;\\r\\n\\r\\n/**\\r\\n* Get % ...</td>\n",
       "      <td>{\"type\":\"SourceUnit\",\"children\":[{\"type\":\"Prag...</td>\n",
       "    </tr>\n",
       "    <tr>\n",
       "      <th>2</th>\n",
       "      <td>HintHelpers</td>\n",
       "      <td>setAddresses</td>\n",
       "      <td>contract HintHelpers is LiquityBase, Ownable, ...</td>\n",
       "      <td>\\r\\n        checkContract(_sortedTrovesAddress...</td>\n",
       "      <td>\\n        checkContract(_sortedTrovesAddress);...</td>\n",
       "      <td>\\n        require(_sortedTrovesAddress != addr...</td>\n",
       "      <td>40393</td>\n",
       "      <td>// SPDX-License-Identifier: MIT\\n\\npragma soli...</td>\n",
       "      <td>&lt;COMPILED_SUCCESSFULLY&gt;</td>\n",
       "      <td>// SPDX-License-Identifier: MIT\\r\\n\\r\\npragma ...</td>\n",
       "      <td>{\"type\":\"SourceUnit\",\"children\":[{\"type\":\"Prag...</td>\n",
       "    </tr>\n",
       "    <tr>\n",
       "      <th>3</th>\n",
       "      <td>BEU</td>\n",
       "      <td>lock</td>\n",
       "      <td>contract BEU {\\n    using SafeMath for uint256...</td>\n",
       "      <td>\\r\\n        require(msg.sender == owner);     ...</td>\n",
       "      <td>\\n        require(msg.sender == owner);       ...</td>\n",
       "      <td>\\n        require(_to != 0x0);                ...</td>\n",
       "      <td>72368</td>\n",
       "      <td>pragma solidity ^0.4.24;\\n\\n/**\\n * Math opera...</td>\n",
       "      <td>contracts/sample.sol:145:24: ParserError: Expe...</td>\n",
       "      <td>pragma solidity ^0.4.24;\\r\\n\\r\\n/**\\r\\n * Math...</td>\n",
       "      <td>{\"type\":\"SourceUnit\",\"children\":[{\"type\":\"Prag...</td>\n",
       "    </tr>\n",
       "    <tr>\n",
       "      <th>4</th>\n",
       "      <td>MainCoinManager</td>\n",
       "      <td>AddERC20Maincoin</td>\n",
       "      <td>contract MainCoinManager is Manageable {\\n    ...</td>\n",
       "      <td>\\r\\n        emit MainCoinAdded(_token);\\r\\n   ...</td>\n",
       "      <td>\\n        emit MainCoinAdded(_token);\\n       ...</td>\n",
       "      <td>\\n        emit MainCoinAdded(_token);\\n       ...</td>\n",
       "      <td>38328</td>\n",
       "      <td>pragma solidity ^0.4.24;/**\\n * @title SafeMat...</td>\n",
       "      <td>&lt;COMPILED_SUCCESSFULLY&gt;</td>\n",
       "      <td>pragma solidity ^0.4.24;/**\\r\\n * @title SafeM...</td>\n",
       "      <td>{\"type\":\"SourceUnit\",\"children\":[{\"type\":\"Prag...</td>\n",
       "    </tr>\n",
       "  </tbody>\n",
       "</table>\n",
       "</div>"
      ],
      "text/plain": [
       "     contract_name         func_name  \\\n",
       "0      BitEyeToken       BitEyeToken   \n",
       "1    HadsofFortune              init   \n",
       "2      HintHelpers      setAddresses   \n",
       "3              BEU              lock   \n",
       "4  MainCoinManager  AddERC20Maincoin   \n",
       "\n",
       "                                     masked_contract  \\\n",
       "0  contract BitEyeToken is ERC20Token, Ownable {\\...   \n",
       "1  contract HadsofFortune is Accessibility {\\nusi...   \n",
       "2  contract HintHelpers is LiquityBase, Ownable, ...   \n",
       "3  contract BEU {\\n    using SafeMath for uint256...   \n",
       "4  contract MainCoinManager is Manageable {\\n    ...   \n",
       "\n",
       "                                           func_body  \\\n",
       "0  \\r\\n    name = \"BitEye Token\";\\r\\n    symbol =...   \n",
       "1  \\r\\n\\r\\nm_rgp.startTimestamp = timestamp + 1;\\...   \n",
       "2  \\r\\n        checkContract(_sortedTrovesAddress...   \n",
       "3  \\r\\n        require(msg.sender == owner);     ...   \n",
       "4  \\r\\n        emit MainCoinAdded(_token);\\r\\n   ...   \n",
       "\n",
       "                           func_body_removed_comment  \\\n",
       "0  \\n    name = \"BitEye Token\";\\n    symbol = \"BE...   \n",
       "1  \\n\\nm_rgp.startTimestamp = timestamp + 1;\\nemi...   \n",
       "2  \\n        checkContract(_sortedTrovesAddress);...   \n",
       "3  \\n        require(msg.sender == owner);       ...   \n",
       "4  \\n        emit MainCoinAdded(_token);\\n       ...   \n",
       "\n",
       "                                     deepseek_output  file_source_idx  \\\n",
       "0  \\n    name = \"BitEye\";\\n    symbol = \"BTEYE\";\\...            33106   \n",
       "1  \\n\\n\\n\\n\\n\\n\\n\\n\\n\\n\\n\\n\\n\\n\\n\\n\\n\\n\\n\\n\\n\\n\\n...            75941   \n",
       "2  \\n        require(_sortedTrovesAddress != addr...            40393   \n",
       "3  \\n        require(_to != 0x0);                ...            72368   \n",
       "4  \\n        emit MainCoinAdded(_token);\\n       ...            38328   \n",
       "\n",
       "                                         source_code  \\\n",
       "0  pragma solidity ^0.4.19;\\n\\ncontract SafeMath ...   \n",
       "1  pragma solidity 0.4.26;\\n\\n/**\\n* Get % profit...   \n",
       "2  // SPDX-License-Identifier: MIT\\n\\npragma soli...   \n",
       "3  pragma solidity ^0.4.24;\\n\\n/**\\n * Math opera...   \n",
       "4  pragma solidity ^0.4.24;/**\\n * @title SafeMat...   \n",
       "\n",
       "                                        compile_info  \\\n",
       "0                            <COMPILED_SUCCESSFULLY>   \n",
       "1                            <COMPILED_SUCCESSFULLY>   \n",
       "2                            <COMPILED_SUCCESSFULLY>   \n",
       "3  contracts/sample.sol:145:24: ParserError: Expe...   \n",
       "4                            <COMPILED_SUCCESSFULLY>   \n",
       "\n",
       "                                              origin  \\\n",
       "0  pragma solidity ^0.4.19;\\r\\n\\r\\ncontract SafeM...   \n",
       "1  pragma solidity 0.4.26;\\r\\n\\r\\n/**\\r\\n* Get % ...   \n",
       "2  // SPDX-License-Identifier: MIT\\r\\n\\r\\npragma ...   \n",
       "3  pragma solidity ^0.4.24;\\r\\n\\r\\n/**\\r\\n * Math...   \n",
       "4  pragma solidity ^0.4.24;/**\\r\\n * @title SafeM...   \n",
       "\n",
       "                                                 ast  \n",
       "0  {\"type\":\"SourceUnit\",\"children\":[{\"type\":\"Prag...  \n",
       "1  {\"type\":\"SourceUnit\",\"children\":[{\"type\":\"Prag...  \n",
       "2  {\"type\":\"SourceUnit\",\"children\":[{\"type\":\"Prag...  \n",
       "3  {\"type\":\"SourceUnit\",\"children\":[{\"type\":\"Prag...  \n",
       "4  {\"type\":\"SourceUnit\",\"children\":[{\"type\":\"Prag...  "
      ]
     },
     "execution_count": 17,
     "metadata": {},
     "output_type": "execute_result"
    }
   ],
   "source": [
    "refine2.head()"
   ]
  },
  {
   "cell_type": "code",
   "execution_count": 18,
   "metadata": {},
   "outputs": [
    {
     "name": "stdout",
     "output_type": "stream",
     "text": [
      "<class 'pandas.core.frame.DataFrame'>\n",
      "RangeIndex: 6000 entries, 0 to 5999\n",
      "Data columns (total 12 columns):\n",
      " #   Column                     Non-Null Count  Dtype \n",
      "---  ------                     --------------  ----- \n",
      " 0   contract_name              6000 non-null   object\n",
      " 1   func_name                  4522 non-null   object\n",
      " 2   masked_contract            6000 non-null   object\n",
      " 3   func_body                  6000 non-null   object\n",
      " 4   func_body_removed_comment  6000 non-null   object\n",
      " 5   deepseek_output            6000 non-null   object\n",
      " 6   file_source_idx            6000 non-null   int64 \n",
      " 7   source_code                6000 non-null   object\n",
      " 8   compile_info               6000 non-null   object\n",
      " 9   origin                     6000 non-null   object\n",
      " 10  ast                        6000 non-null   object\n",
      " 11  inherit_elements           6000 non-null   object\n",
      "dtypes: int64(1), object(11)\n",
      "memory usage: 562.6+ KB\n"
     ]
    }
   ],
   "source": [
    "result = pd.read_parquet(\"/home/hieuvd/lvdthieu/CodeGen/result.parquet\", \"fastparquet\")\n",
    "result.info()"
   ]
  },
  {
   "cell_type": "code",
   "execution_count": null,
   "metadata": {},
   "outputs": [],
   "source": []
  },
  {
   "cell_type": "code",
   "execution_count": 19,
   "metadata": {},
   "outputs": [
    {
     "data": {
      "text/html": [
       "<div>\n",
       "<style scoped>\n",
       "    .dataframe tbody tr th:only-of-type {\n",
       "        vertical-align: middle;\n",
       "    }\n",
       "\n",
       "    .dataframe tbody tr th {\n",
       "        vertical-align: top;\n",
       "    }\n",
       "\n",
       "    .dataframe thead th {\n",
       "        text-align: right;\n",
       "    }\n",
       "</style>\n",
       "<table border=\"1\" class=\"dataframe\">\n",
       "  <thead>\n",
       "    <tr style=\"text-align: right;\">\n",
       "      <th></th>\n",
       "      <th>contract_name</th>\n",
       "      <th>func_name</th>\n",
       "      <th>masked_contract</th>\n",
       "      <th>func_body</th>\n",
       "      <th>func_body_removed_comment</th>\n",
       "      <th>deepseek_output</th>\n",
       "      <th>file_source_idx</th>\n",
       "      <th>source_code</th>\n",
       "      <th>compile_info</th>\n",
       "      <th>origin</th>\n",
       "      <th>ast</th>\n",
       "      <th>inherit_elements</th>\n",
       "    </tr>\n",
       "  </thead>\n",
       "  <tbody>\n",
       "    <tr>\n",
       "      <th>0</th>\n",
       "      <td>BitEyeToken</td>\n",
       "      <td>BitEyeToken</td>\n",
       "      <td>contract BitEyeToken is ERC20Token, Ownable {\\...</td>\n",
       "      <td>\\r\\n    name = \"BitEye Token\";\\r\\n    symbol =...</td>\n",
       "      <td>\\n    name = \"BitEye Token\";\\n    symbol = \"BE...</td>\n",
       "      <td>\\n    name = \"BitEye\";\\n    symbol = \"BTEYE\";\\...</td>\n",
       "      <td>33106</td>\n",
       "      <td>pragma solidity ^0.4.19;\\n\\ncontract SafeMath ...</td>\n",
       "      <td>&lt;COMPILED_SUCCESSFULLY&gt;</td>\n",
       "      <td>pragma solidity ^0.4.19;\\r\\n\\r\\ncontract SafeM...</td>\n",
       "      <td>{\"type\":\"SourceUnit\",\"children\":[{\"type\":\"Prag...</td>\n",
       "      <td>['string public name;', 'string public symbol;...</td>\n",
       "    </tr>\n",
       "    <tr>\n",
       "      <th>1</th>\n",
       "      <td>HadsofFortune</td>\n",
       "      <td>init</td>\n",
       "      <td>contract HadsofFortune is Accessibility {\\nusi...</td>\n",
       "      <td>\\r\\n\\r\\nm_rgp.startTimestamp = timestamp + 1;\\...</td>\n",
       "      <td>\\n\\nm_rgp.startTimestamp = timestamp + 1;\\nemi...</td>\n",
       "      <td>\\n\\n\\n\\n\\n\\n\\n\\n\\n\\n\\n\\n\\n\\n\\n\\n\\n\\n\\n\\n\\n\\n\\n...</td>\n",
       "      <td>75941</td>\n",
       "      <td>pragma solidity 0.4.26;\\n\\n/**\\n* Get % profit...</td>\n",
       "      <td>&lt;COMPILED_SUCCESSFULLY&gt;</td>\n",
       "      <td>pragma solidity 0.4.26;\\r\\n\\r\\n/**\\r\\n* Get % ...</td>\n",
       "      <td>{\"type\":\"SourceUnit\",\"children\":[{\"type\":\"Prag...</td>\n",
       "      <td>['constructor() public {&lt;BODY&gt;}', 'function To...</td>\n",
       "    </tr>\n",
       "    <tr>\n",
       "      <th>2</th>\n",
       "      <td>HintHelpers</td>\n",
       "      <td>setAddresses</td>\n",
       "      <td>contract HintHelpers is LiquityBase, Ownable, ...</td>\n",
       "      <td>\\r\\n        checkContract(_sortedTrovesAddress...</td>\n",
       "      <td>\\n        checkContract(_sortedTrovesAddress);...</td>\n",
       "      <td>\\n        require(_sortedTrovesAddress != addr...</td>\n",
       "      <td>40393</td>\n",
       "      <td>// SPDX-License-Identifier: MIT\\n\\npragma soli...</td>\n",
       "      <td>&lt;COMPILED_SUCCESSFULLY&gt;</td>\n",
       "      <td>// SPDX-License-Identifier: MIT\\r\\n\\r\\npragma ...</td>\n",
       "      <td>{\"type\":\"SourceUnit\",\"children\":[{\"type\":\"Prag...</td>\n",
       "      <td>['uint constant public _100pct = 1000000000000...</td>\n",
       "    </tr>\n",
       "    <tr>\n",
       "      <th>3</th>\n",
       "      <td>BEU</td>\n",
       "      <td>lock</td>\n",
       "      <td>contract BEU {\\n    using SafeMath for uint256...</td>\n",
       "      <td>\\r\\n        require(msg.sender == owner);     ...</td>\n",
       "      <td>\\n        require(msg.sender == owner);       ...</td>\n",
       "      <td>\\n        require(_to != 0x0);                ...</td>\n",
       "      <td>72368</td>\n",
       "      <td>pragma solidity ^0.4.24;\\n\\n/**\\n * Math opera...</td>\n",
       "      <td>contracts/sample.sol:145:24: ParserError: Expe...</td>\n",
       "      <td>pragma solidity ^0.4.24;\\r\\n\\r\\n/**\\r\\n * Math...</td>\n",
       "      <td>{\"type\":\"SourceUnit\",\"children\":[{\"type\":\"Prag...</td>\n",
       "      <td>[]</td>\n",
       "    </tr>\n",
       "    <tr>\n",
       "      <th>4</th>\n",
       "      <td>MainCoinManager</td>\n",
       "      <td>AddERC20Maincoin</td>\n",
       "      <td>contract MainCoinManager is Manageable {\\n    ...</td>\n",
       "      <td>\\r\\n        emit MainCoinAdded(_token);\\r\\n   ...</td>\n",
       "      <td>\\n        emit MainCoinAdded(_token);\\n       ...</td>\n",
       "      <td>\\n        emit MainCoinAdded(_token);\\n       ...</td>\n",
       "      <td>38328</td>\n",
       "      <td>pragma solidity ^0.4.24;/**\\n * @title SafeMat...</td>\n",
       "      <td>&lt;COMPILED_SUCCESSFULLY&gt;</td>\n",
       "      <td>pragma solidity ^0.4.24;/**\\r\\n * @title SafeM...</td>\n",
       "      <td>{\"type\":\"SourceUnit\",\"children\":[{\"type\":\"Prag...</td>\n",
       "      <td>['constructor() public {&lt;BODY&gt;}', 'mapping(add...</td>\n",
       "    </tr>\n",
       "  </tbody>\n",
       "</table>\n",
       "</div>"
      ],
      "text/plain": [
       "     contract_name         func_name  \\\n",
       "0      BitEyeToken       BitEyeToken   \n",
       "1    HadsofFortune              init   \n",
       "2      HintHelpers      setAddresses   \n",
       "3              BEU              lock   \n",
       "4  MainCoinManager  AddERC20Maincoin   \n",
       "\n",
       "                                     masked_contract  \\\n",
       "0  contract BitEyeToken is ERC20Token, Ownable {\\...   \n",
       "1  contract HadsofFortune is Accessibility {\\nusi...   \n",
       "2  contract HintHelpers is LiquityBase, Ownable, ...   \n",
       "3  contract BEU {\\n    using SafeMath for uint256...   \n",
       "4  contract MainCoinManager is Manageable {\\n    ...   \n",
       "\n",
       "                                           func_body  \\\n",
       "0  \\r\\n    name = \"BitEye Token\";\\r\\n    symbol =...   \n",
       "1  \\r\\n\\r\\nm_rgp.startTimestamp = timestamp + 1;\\...   \n",
       "2  \\r\\n        checkContract(_sortedTrovesAddress...   \n",
       "3  \\r\\n        require(msg.sender == owner);     ...   \n",
       "4  \\r\\n        emit MainCoinAdded(_token);\\r\\n   ...   \n",
       "\n",
       "                           func_body_removed_comment  \\\n",
       "0  \\n    name = \"BitEye Token\";\\n    symbol = \"BE...   \n",
       "1  \\n\\nm_rgp.startTimestamp = timestamp + 1;\\nemi...   \n",
       "2  \\n        checkContract(_sortedTrovesAddress);...   \n",
       "3  \\n        require(msg.sender == owner);       ...   \n",
       "4  \\n        emit MainCoinAdded(_token);\\n       ...   \n",
       "\n",
       "                                     deepseek_output  file_source_idx  \\\n",
       "0  \\n    name = \"BitEye\";\\n    symbol = \"BTEYE\";\\...            33106   \n",
       "1  \\n\\n\\n\\n\\n\\n\\n\\n\\n\\n\\n\\n\\n\\n\\n\\n\\n\\n\\n\\n\\n\\n\\n...            75941   \n",
       "2  \\n        require(_sortedTrovesAddress != addr...            40393   \n",
       "3  \\n        require(_to != 0x0);                ...            72368   \n",
       "4  \\n        emit MainCoinAdded(_token);\\n       ...            38328   \n",
       "\n",
       "                                         source_code  \\\n",
       "0  pragma solidity ^0.4.19;\\n\\ncontract SafeMath ...   \n",
       "1  pragma solidity 0.4.26;\\n\\n/**\\n* Get % profit...   \n",
       "2  // SPDX-License-Identifier: MIT\\n\\npragma soli...   \n",
       "3  pragma solidity ^0.4.24;\\n\\n/**\\n * Math opera...   \n",
       "4  pragma solidity ^0.4.24;/**\\n * @title SafeMat...   \n",
       "\n",
       "                                        compile_info  \\\n",
       "0                            <COMPILED_SUCCESSFULLY>   \n",
       "1                            <COMPILED_SUCCESSFULLY>   \n",
       "2                            <COMPILED_SUCCESSFULLY>   \n",
       "3  contracts/sample.sol:145:24: ParserError: Expe...   \n",
       "4                            <COMPILED_SUCCESSFULLY>   \n",
       "\n",
       "                                              origin  \\\n",
       "0  pragma solidity ^0.4.19;\\r\\n\\r\\ncontract SafeM...   \n",
       "1  pragma solidity 0.4.26;\\r\\n\\r\\n/**\\r\\n* Get % ...   \n",
       "2  // SPDX-License-Identifier: MIT\\r\\n\\r\\npragma ...   \n",
       "3  pragma solidity ^0.4.24;\\r\\n\\r\\n/**\\r\\n * Math...   \n",
       "4  pragma solidity ^0.4.24;/**\\r\\n * @title SafeM...   \n",
       "\n",
       "                                                 ast  \\\n",
       "0  {\"type\":\"SourceUnit\",\"children\":[{\"type\":\"Prag...   \n",
       "1  {\"type\":\"SourceUnit\",\"children\":[{\"type\":\"Prag...   \n",
       "2  {\"type\":\"SourceUnit\",\"children\":[{\"type\":\"Prag...   \n",
       "3  {\"type\":\"SourceUnit\",\"children\":[{\"type\":\"Prag...   \n",
       "4  {\"type\":\"SourceUnit\",\"children\":[{\"type\":\"Prag...   \n",
       "\n",
       "                                    inherit_elements  \n",
       "0  ['string public name;', 'string public symbol;...  \n",
       "1  ['constructor() public {<BODY>}', 'function To...  \n",
       "2  ['uint constant public _100pct = 1000000000000...  \n",
       "3                                                 []  \n",
       "4  ['constructor() public {<BODY>}', 'mapping(add...  "
      ]
     },
     "execution_count": 19,
     "metadata": {},
     "output_type": "execute_result"
    }
   ],
   "source": [
    "result.head()"
   ]
  },
  {
   "cell_type": "code",
   "execution_count": 20,
   "metadata": {},
   "outputs": [
    {
     "data": {
      "text/plain": [
       "0       ['string public name;', 'string public symbol;...\n",
       "1       ['constructor() public {<BODY>}', 'function To...\n",
       "2       ['uint constant public _100pct = 1000000000000...\n",
       "3                                                      []\n",
       "4       ['constructor() public {<BODY>}', 'mapping(add...\n",
       "                              ...                        \n",
       "5995                                                   []\n",
       "5996    ['function transfer(address _to, uint256 _valu...\n",
       "5997                                                   []\n",
       "5998    ['address public owner;', 'address public newO...\n",
       "5999    ['function totalSupply() public view returns (...\n",
       "Name: inherit_elements, Length: 6000, dtype: object"
      ]
     },
     "execution_count": 20,
     "metadata": {},
     "output_type": "execute_result"
    }
   ],
   "source": [
    "result[\"inherit_elements\"]"
   ]
  },
  {
   "cell_type": "code",
   "execution_count": 21,
   "metadata": {},
   "outputs": [
    {
     "data": {
      "text/plain": [
       "\"['string public name;', 'string public symbol;', 'uint256 public totalSupply;', 'uint8 public decimals;', 'mapping (address => uint256) balances;', 'mapping (address => mapping (address => uint256)) allowed;', 'function transfer(address _to, uint256 _value)\\\\n      public\\\\n      onlyPayloadSize(2 * 32)\\\\n      returns (bool success)\\\\n  {<BODY>}', 'function transferFrom(address _from, address _to, uint256 _value)\\\\n    public\\\\n    onlyPayloadSize(3 * 32)\\\\n    returns (bool success)\\\\n  {<BODY>}', 'function approve(address _spender, uint256 _value)\\\\n    public\\\\n    onlyPayloadSize(2 * 32)\\\\n    returns (bool success)\\\\n  {<BODY>}', 'function allowance(address _owner, address _spender) public constant returns (uint) {<BODY>}', 'function balanceOf(address _holder) public constant returns (uint) {<BODY>}', 'address public owner;', 'function Ownable() public {<BODY>}', 'function transferOwnership(address _newOwner) public onlyOwner {<BODY>}', 'function safeMul(uint a, uint b) internal pure returns (uint256) {<BODY>}', 'function safeDiv(uint a, uint b) internal pure returns (uint256) {<BODY>}', 'function safeSub(uint a, uint b) internal pure returns (uint256) {<BODY>}', 'function safeAdd(uint a, uint b) internal pure returns (uint256) {<BODY>}']\""
      ]
     },
     "execution_count": 21,
     "metadata": {},
     "output_type": "execute_result"
    }
   ],
   "source": [
    "result.loc[0, \"inherit_elements\"]"
   ]
  },
  {
   "cell_type": "code",
   "execution_count": null,
   "metadata": {},
   "outputs": [],
   "source": []
  }
 ],
 "metadata": {
  "kernelspec": {
   "display_name": "Python 3",
   "language": "python",
   "name": "python3"
  },
  "language_info": {
   "codemirror_mode": {
    "name": "ipython",
    "version": 3
   },
   "file_extension": ".py",
   "mimetype": "text/x-python",
   "name": "python",
   "nbconvert_exporter": "python",
   "pygments_lexer": "ipython3",
   "version": "3.11.5"
  }
 },
 "nbformat": 4,
 "nbformat_minor": 2
}
