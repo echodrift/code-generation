{
 "cells": [
  {
   "cell_type": "code",
   "execution_count": 8,
   "metadata": {},
   "outputs": [],
   "source": [
    "import pandas as pd"
   ]
  },
  {
   "cell_type": "code",
   "execution_count": 10,
   "metadata": {},
   "outputs": [
    {
     "name": "stdout",
     "output_type": "stream",
     "text": [
      "<class 'pandas.core.frame.DataFrame'>\n",
      "RangeIndex: 5644 entries, 0 to 5643\n",
      "Data columns (total 4 columns):\n",
      " #   Column         Non-Null Count  Dtype \n",
      "---  ------         --------------  ----- \n",
      " 0   contract_name  5644 non-null   object\n",
      " 1   func_name      4447 non-null   object\n",
      " 2   source_code    5644 non-null   object\n",
      " 3   source_idx     5644 non-null   int64 \n",
      "dtypes: int64(1), object(3)\n",
      "memory usage: 176.5+ KB\n"
     ]
    },
    {
     "ename": "",
     "evalue": "",
     "output_type": "error",
     "traceback": [
      "\u001b[1;31mThe Kernel crashed while executing code in the the current cell or a previous cell. Please review the code in the cell(s) to identify a possible cause of the failure. Click <a href='https://aka.ms/vscodeJupyterKernelCrash'>here</a> for more info. View Jupyter <a href='command:jupyter.viewOutput'>log</a> for further details."
     ]
    }
   ],
   "source": [
    "original = pd.read_parquet(\"/home/hieuvd/lvdthieu/CodeGen/data/compilable/codellama.parquet\", engine=\"fastparquet\")\n",
    "original.info()"
   ]
  },
  {
   "cell_type": "code",
   "execution_count": 5,
   "metadata": {},
   "outputs": [
    {
     "name": "stdout",
     "output_type": "stream",
     "text": [
      "<class 'pandas.core.frame.DataFrame'>\n",
      "Index: 204 entries, 2 to 386\n",
      "Data columns (total 5 columns):\n",
      " #   Column         Non-Null Count  Dtype \n",
      "---  ------         --------------  ----- \n",
      " 0   contract_name  204 non-null    object\n",
      " 1   func_name      147 non-null    object\n",
      " 2   source_code    204 non-null    object\n",
      " 3   source_idx     204 non-null    int64 \n",
      " 4   error          204 non-null    object\n",
      "dtypes: int64(1), object(4)\n",
      "memory usage: 9.6+ KB\n"
     ]
    }
   ],
   "source": [
    "import pandas as pd\n",
    "error = pd.read_parquet(\"/home/hieuvd/lvdthieu/CodeGen/compilation/error/error1.parquet\", engine=\"fastparquet\")\n",
    "error.info()"
   ]
  },
  {
   "cell_type": "code",
   "execution_count": 23,
   "metadata": {},
   "outputs": [],
   "source": [
    "with open(\"check.txt\", \"w\") as f:\n",
    "    for idx in error.index:\n",
    "        f.write(f\"{idx}\\n{error.loc[idx, 'error']}\\n------------------------------------------------------------\\n\")\n",
    "        "
   ]
  },
  {
   "cell_type": "code",
   "execution_count": 26,
   "metadata": {},
   "outputs": [],
   "source": [
    "with open(\"check.sol\", \"w\") as f:\n",
    "    for idx in error.index:\n",
    "        f.write(f\"{idx}\\n{error.loc[idx, 'source_code']}\\n------------------------------------------------------------\\n\")"
   ]
  },
  {
   "cell_type": "code",
   "execution_count": 30,
   "metadata": {},
   "outputs": [
    {
     "data": {
      "text/plain": [
       "source_idx                  14\n",
       "contract_name      ExchangerV4\n",
       "func_name        withdrawEther\n",
       "Name: 14, dtype: object"
      ]
     },
     "execution_count": 30,
     "metadata": {},
     "output_type": "execute_result"
    }
   ],
   "source": [
    "error.loc[14, [\"source_idx\", \"contract_name\", \"func_name\"]]\n"
   ]
  },
  {
   "cell_type": "code",
   "execution_count": 9,
   "metadata": {},
   "outputs": [
    {
     "name": "stdout",
     "output_type": "stream",
     "text": [
      "<class 'pandas.core.frame.DataFrame'>\n",
      "RangeIndex: 11601 entries, 0 to 11600\n",
      "Data columns (total 6 columns):\n",
      " #   Column                   Non-Null Count  Dtype \n",
      "---  ------                   --------------  ----- \n",
      " 0   contract_name            11601 non-null  object\n",
      " 1   func_name                8858 non-null   object\n",
      " 2   original_source_code     11601 non-null  object\n",
      " 3   filled_source_body       11601 non-null  object\n",
      " 4   filled_source_deepseek   11601 non-null  object\n",
      " 5   filled_source_codellama  11601 non-null  object\n",
      "dtypes: object(6)\n",
      "memory usage: 543.9+ KB\n"
     ]
    }
   ],
   "source": [
    "test_suite = pd.read_parquet(\"/home/hieuvd/lvdthieu/CodeGen/data/test_suite.parquet\", engine=\"fastparquet\")\n",
    "test_suite.info()"
   ]
  },
  {
   "cell_type": "code",
   "execution_count": 29,
   "metadata": {},
   "outputs": [],
   "source": [
    "with open(\"ground_truth.sol\", \"w\") as f:\n",
    "    f.write(test_suite.loc[14, \"original_source_code\"])"
   ]
  },
  {
   "cell_type": "code",
   "execution_count": 13,
   "metadata": {},
   "outputs": [
    {
     "name": "stdout",
     "output_type": "stream",
     "text": [
      "<class 'pandas.core.frame.DataFrame'>\n",
      "RangeIndex: 11601 entries, 0 to 11600\n",
      "Data columns (total 3 columns):\n",
      " #   Column         Non-Null Count  Dtype \n",
      "---  ------         --------------  ----- \n",
      " 0   contract_name  11601 non-null  object\n",
      " 1   func_name      8858 non-null   object\n",
      " 2   source_code    11601 non-null  object\n",
      "dtypes: object(3)\n",
      "memory usage: 272.0+ KB\n"
     ]
    }
   ],
   "source": [
    "deepseek = pd.read_parquet(\"/home/hieuvd/lvdthieu/CodeGen/data/test/deepseek.parquet\", engine=\"fastparquet\")\n",
    "deepseek.info()"
   ]
  },
  {
   "cell_type": "code",
   "execution_count": 16,
   "metadata": {},
   "outputs": [],
   "source": [
    "with open(\"gt.sol\", \"w\") as f:\n",
    "    f.write(deepseek.loc[6, \"source_code\"])"
   ]
  },
  {
   "cell_type": "code",
   "execution_count": 1,
   "metadata": {},
   "outputs": [
    {
     "name": "stdout",
     "output_type": "stream",
     "text": [
      "<class 'pandas.core.frame.DataFrame'>\n",
      "RangeIndex: 94288 entries, 0 to 94287\n",
      "Data columns (total 2 columns):\n",
      " #   Column       Non-Null Count  Dtype \n",
      "---  ------       --------------  ----- \n",
      " 0   source_code  94288 non-null  object\n",
      " 1   ast          94288 non-null  object\n",
      "dtypes: object(2)\n",
      "memory usage: 1.4+ MB\n"
     ]
    }
   ],
   "source": [
    "import pandas as pd\n",
    "all_file = pd.read_parquet(\"/home/hieuvd/lvdthieu/CodeGen/data/solfile/all_file_v2.parquet\", engine=\"fastparquet\")\n",
    "all_file.info()"
   ]
  },
  {
   "cell_type": "code",
   "execution_count": 2,
   "metadata": {},
   "outputs": [
    {
     "data": {
      "text/plain": [
       "87"
      ]
     },
     "execution_count": 2,
     "metadata": {},
     "output_type": "execute_result"
    }
   ],
   "source": [
    "len(all_file[all_file[\"ast\"] == \"<PARSER_ERROR>\"])"
   ]
  },
  {
   "cell_type": "code",
   "execution_count": 10,
   "metadata": {},
   "outputs": [
    {
     "data": {
      "text/html": [
       "<div>\n",
       "<style scoped>\n",
       "    .dataframe tbody tr th:only-of-type {\n",
       "        vertical-align: middle;\n",
       "    }\n",
       "\n",
       "    .dataframe tbody tr th {\n",
       "        vertical-align: top;\n",
       "    }\n",
       "\n",
       "    .dataframe thead th {\n",
       "        text-align: right;\n",
       "    }\n",
       "</style>\n",
       "<table border=\"1\" class=\"dataframe\">\n",
       "  <thead>\n",
       "    <tr style=\"text-align: right;\">\n",
       "      <th></th>\n",
       "      <th>source_idx</th>\n",
       "    </tr>\n",
       "  </thead>\n",
       "  <tbody>\n",
       "    <tr>\n",
       "      <th>count</th>\n",
       "      <td>28001.00000</td>\n",
       "    </tr>\n",
       "    <tr>\n",
       "      <th>mean</th>\n",
       "      <td>14000.00000</td>\n",
       "    </tr>\n",
       "    <tr>\n",
       "      <th>std</th>\n",
       "      <td>8083.33678</td>\n",
       "    </tr>\n",
       "    <tr>\n",
       "      <th>min</th>\n",
       "      <td>0.00000</td>\n",
       "    </tr>\n",
       "    <tr>\n",
       "      <th>25%</th>\n",
       "      <td>7000.00000</td>\n",
       "    </tr>\n",
       "    <tr>\n",
       "      <th>50%</th>\n",
       "      <td>14000.00000</td>\n",
       "    </tr>\n",
       "    <tr>\n",
       "      <th>75%</th>\n",
       "      <td>21000.00000</td>\n",
       "    </tr>\n",
       "    <tr>\n",
       "      <th>max</th>\n",
       "      <td>28000.00000</td>\n",
       "    </tr>\n",
       "  </tbody>\n",
       "</table>\n",
       "</div>"
      ],
      "text/plain": [
       "        source_idx\n",
       "count  28001.00000\n",
       "mean   14000.00000\n",
       "std     8083.33678\n",
       "min        0.00000\n",
       "25%     7000.00000\n",
       "50%    14000.00000\n",
       "75%    21000.00000\n",
       "max    28000.00000"
      ]
     },
     "execution_count": 10,
     "metadata": {},
     "output_type": "execute_result"
    }
   ],
   "source": [
    "test_suite.describe()"
   ]
  },
  {
   "cell_type": "code",
   "execution_count": 11,
   "metadata": {},
   "outputs": [
    {
     "data": {
      "text/html": [
       "<div>\n",
       "<style scoped>\n",
       "    .dataframe tbody tr th:only-of-type {\n",
       "        vertical-align: middle;\n",
       "    }\n",
       "\n",
       "    .dataframe tbody tr th {\n",
       "        vertical-align: top;\n",
       "    }\n",
       "\n",
       "    .dataframe thead th {\n",
       "        text-align: right;\n",
       "    }\n",
       "</style>\n",
       "<table border=\"1\" class=\"dataframe\">\n",
       "  <thead>\n",
       "    <tr style=\"text-align: right;\">\n",
       "      <th></th>\n",
       "      <th>contract_name</th>\n",
       "      <th>func_name</th>\n",
       "      <th>func_body</th>\n",
       "      <th>func_body_removed_comment</th>\n",
       "      <th>source_code</th>\n",
       "      <th>source_idx</th>\n",
       "      <th>compile_info</th>\n",
       "    </tr>\n",
       "  </thead>\n",
       "  <tbody>\n",
       "    <tr>\n",
       "      <th>0</th>\n",
       "      <td>DataDump</td>\n",
       "      <td>postData</td>\n",
       "      <td>\\r\\n\\t\\tDataDumped(recipient, topic, data);\\r\\n\\t</td>\n",
       "      <td>\\n\\t\\tDataDumped(recipient, topic, data);\\n\\t</td>\n",
       "      <td>pragma solidity ^0.4.11;\\n\\r\\ncontract Owned {...</td>\n",
       "      <td>0</td>\n",
       "      <td>&lt;COMPILED_SUCCESSFULLY&gt;</td>\n",
       "    </tr>\n",
       "    <tr>\n",
       "      <th>1</th>\n",
       "      <td>SolidusToken</td>\n",
       "      <td>disablePurchasing</td>\n",
       "      <td>\\r\\n        require(msg.sender == owner);\\r\\n ...</td>\n",
       "      <td>\\n        require(msg.sender == owner);\\n     ...</td>\n",
       "      <td>pragma solidity ^0.4.15;\\n\\r\\ncontract Solidus...</td>\n",
       "      <td>1</td>\n",
       "      <td>&lt;COMPILED_SUCCESSFULLY&gt;</td>\n",
       "    </tr>\n",
       "    <tr>\n",
       "      <th>2</th>\n",
       "      <td>HegicERCPool</td>\n",
       "      <td>send</td>\n",
       "      <td>\\r\\n          require(lockedAmount &gt;= amount, ...</td>\n",
       "      <td>\\n          require(lockedAmount &gt;= amount, \"P...</td>\n",
       "      <td>pragma solidity ^0.6.6;\\n\\r\\nlibrary Address {...</td>\n",
       "      <td>2</td>\n",
       "      <td>&lt;COMPILED_SUCCESSFULLY&gt;</td>\n",
       "    </tr>\n",
       "    <tr>\n",
       "      <th>3</th>\n",
       "      <td>WrappedToken</td>\n",
       "      <td>burnFrom</td>\n",
       "      <td>\\r\\n        require(hasRole(_BURNFROM, msg.sen...</td>\n",
       "      <td>\\n        require(hasRole(_BURNFROM, msg.sende...</td>\n",
       "      <td>// SPDX-License-Identifier: MIT\\n\\r\\npragma so...</td>\n",
       "      <td>3</td>\n",
       "      <td>&lt;COMPILED_SUCCESSFULLY&gt;</td>\n",
       "    </tr>\n",
       "    <tr>\n",
       "      <th>4</th>\n",
       "      <td>BitcoinAlliance</td>\n",
       "      <td>transferFrom</td>\n",
       "      <td>\\r\\n    require(value &lt;= _balances[from]);\\r\\n...</td>\n",
       "      <td>\\n    require(value &lt;= _balances[from]);\\n    ...</td>\n",
       "      <td>/**\\n * Bitcoin Alliance\\r\\n * There will be 3...</td>\n",
       "      <td>4</td>\n",
       "      <td>contracts/sample.sol:155:52: ParserError: Expe...</td>\n",
       "    </tr>\n",
       "  </tbody>\n",
       "</table>\n",
       "</div>"
      ],
      "text/plain": [
       "     contract_name          func_name  \\\n",
       "0         DataDump           postData   \n",
       "1     SolidusToken  disablePurchasing   \n",
       "2     HegicERCPool               send   \n",
       "3     WrappedToken           burnFrom   \n",
       "4  BitcoinAlliance       transferFrom   \n",
       "\n",
       "                                           func_body  \\\n",
       "0  \\r\\n\\t\\tDataDumped(recipient, topic, data);\\r\\n\\t   \n",
       "1  \\r\\n        require(msg.sender == owner);\\r\\n ...   \n",
       "2  \\r\\n          require(lockedAmount >= amount, ...   \n",
       "3  \\r\\n        require(hasRole(_BURNFROM, msg.sen...   \n",
       "4  \\r\\n    require(value <= _balances[from]);\\r\\n...   \n",
       "\n",
       "                           func_body_removed_comment  \\\n",
       "0      \\n\\t\\tDataDumped(recipient, topic, data);\\n\\t   \n",
       "1  \\n        require(msg.sender == owner);\\n     ...   \n",
       "2  \\n          require(lockedAmount >= amount, \"P...   \n",
       "3  \\n        require(hasRole(_BURNFROM, msg.sende...   \n",
       "4  \\n    require(value <= _balances[from]);\\n    ...   \n",
       "\n",
       "                                         source_code  source_idx  \\\n",
       "0  pragma solidity ^0.4.11;\\n\\r\\ncontract Owned {...           0   \n",
       "1  pragma solidity ^0.4.15;\\n\\r\\ncontract Solidus...           1   \n",
       "2  pragma solidity ^0.6.6;\\n\\r\\nlibrary Address {...           2   \n",
       "3  // SPDX-License-Identifier: MIT\\n\\r\\npragma so...           3   \n",
       "4  /**\\n * Bitcoin Alliance\\r\\n * There will be 3...           4   \n",
       "\n",
       "                                        compile_info  \n",
       "0                            <COMPILED_SUCCESSFULLY>  \n",
       "1                            <COMPILED_SUCCESSFULLY>  \n",
       "2                            <COMPILED_SUCCESSFULLY>  \n",
       "3                            <COMPILED_SUCCESSFULLY>  \n",
       "4  contracts/sample.sol:155:52: ParserError: Expe...  "
      ]
     },
     "execution_count": 11,
     "metadata": {},
     "output_type": "execute_result"
    },
    {
     "ename": "",
     "evalue": "",
     "output_type": "error",
     "traceback": [
      "\u001b[1;31mThe Kernel crashed while executing code in the the current cell or a previous cell. Please review the code in the cell(s) to identify a possible cause of the failure. Click <a href='https://aka.ms/vscodeJupyterKernelCrash'>here</a> for more info. View Jupyter <a href='command:jupyter.viewOutput'>log</a> for further details."
     ]
    }
   ],
   "source": [
    "test_suite.head()"
   ]
  },
  {
   "cell_type": "code",
   "execution_count": null,
   "metadata": {},
   "outputs": [],
   "source": []
  }
 ],
 "metadata": {
  "kernelspec": {
   "display_name": "Python 3",
   "language": "python",
   "name": "python3"
  },
  "language_info": {
   "codemirror_mode": {
    "name": "ipython",
    "version": 3
   },
   "file_extension": ".py",
   "mimetype": "text/x-python",
   "name": "python",
   "nbconvert_exporter": "python",
   "pygments_lexer": "ipython3",
   "version": "3.11.5"
  }
 },
 "nbformat": 4,
 "nbformat_minor": 2
}
