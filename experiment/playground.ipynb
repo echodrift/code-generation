{
 "cells": [
  {
   "cell_type": "code",
   "execution_count": 8,
   "metadata": {},
   "outputs": [],
   "source": [
    "import pandas as pd"
   ]
  },
  {
   "cell_type": "code",
   "execution_count": 10,
   "metadata": {},
   "outputs": [
    {
     "name": "stdout",
     "output_type": "stream",
     "text": [
      "<class 'pandas.core.frame.DataFrame'>\n",
      "RangeIndex: 5644 entries, 0 to 5643\n",
      "Data columns (total 4 columns):\n",
      " #   Column         Non-Null Count  Dtype \n",
      "---  ------         --------------  ----- \n",
      " 0   contract_name  5644 non-null   object\n",
      " 1   func_name      4447 non-null   object\n",
      " 2   source_code    5644 non-null   object\n",
      " 3   source_idx     5644 non-null   int64 \n",
      "dtypes: int64(1), object(3)\n",
      "memory usage: 176.5+ KB\n"
     ]
    },
    {
     "ename": "",
     "evalue": "",
     "output_type": "error",
     "traceback": [
      "\u001b[1;31mThe Kernel crashed while executing code in the the current cell or a previous cell. Please review the code in the cell(s) to identify a possible cause of the failure. Click <a href='https://aka.ms/vscodeJupyterKernelCrash'>here</a> for more info. View Jupyter <a href='command:jupyter.viewOutput'>log</a> for further details."
     ]
    }
   ],
   "source": [
    "original = pd.read_parquet(\"/home/hieuvd/lvdthieu/CodeGen/data/compilable/codellama.parquet\", engine=\"fastparquet\")\n",
    "original.info()"
   ]
  },
  {
   "cell_type": "code",
   "execution_count": 5,
   "metadata": {},
   "outputs": [
    {
     "name": "stdout",
     "output_type": "stream",
     "text": [
      "<class 'pandas.core.frame.DataFrame'>\n",
      "Index: 204 entries, 2 to 386\n",
      "Data columns (total 5 columns):\n",
      " #   Column         Non-Null Count  Dtype \n",
      "---  ------         --------------  ----- \n",
      " 0   contract_name  204 non-null    object\n",
      " 1   func_name      147 non-null    object\n",
      " 2   source_code    204 non-null    object\n",
      " 3   source_idx     204 non-null    int64 \n",
      " 4   error          204 non-null    object\n",
      "dtypes: int64(1), object(4)\n",
      "memory usage: 9.6+ KB\n"
     ]
    }
   ],
   "source": [
    "import pandas as pd\n",
    "error = pd.read_parquet(\"/home/hieuvd/lvdthieu/CodeGen/compilation/error/error1.parquet\", engine=\"fastparquet\")\n",
    "error.info()"
   ]
  },
  {
   "cell_type": "code",
   "execution_count": 23,
   "metadata": {},
   "outputs": [],
   "source": [
    "with open(\"check.txt\", \"w\") as f:\n",
    "    for idx in error.index:\n",
    "        f.write(f\"{idx}\\n{error.loc[idx, 'error']}\\n------------------------------------------------------------\\n\")\n",
    "        "
   ]
  },
  {
   "cell_type": "code",
   "execution_count": 26,
   "metadata": {},
   "outputs": [],
   "source": [
    "with open(\"check.sol\", \"w\") as f:\n",
    "    for idx in error.index:\n",
    "        f.write(f\"{idx}\\n{error.loc[idx, 'source_code']}\\n------------------------------------------------------------\\n\")"
   ]
  },
  {
   "cell_type": "code",
   "execution_count": 30,
   "metadata": {},
   "outputs": [
    {
     "data": {
      "text/plain": [
       "source_idx                  14\n",
       "contract_name      ExchangerV4\n",
       "func_name        withdrawEther\n",
       "Name: 14, dtype: object"
      ]
     },
     "execution_count": 30,
     "metadata": {},
     "output_type": "execute_result"
    }
   ],
   "source": [
    "error.loc[14, [\"source_idx\", \"contract_name\", \"func_name\"]]\n"
   ]
  },
  {
   "cell_type": "code",
   "execution_count": 9,
   "metadata": {},
   "outputs": [
    {
     "name": "stdout",
     "output_type": "stream",
     "text": [
      "<class 'pandas.core.frame.DataFrame'>\n",
      "RangeIndex: 11601 entries, 0 to 11600\n",
      "Data columns (total 6 columns):\n",
      " #   Column                   Non-Null Count  Dtype \n",
      "---  ------                   --------------  ----- \n",
      " 0   contract_name            11601 non-null  object\n",
      " 1   func_name                8858 non-null   object\n",
      " 2   original_source_code     11601 non-null  object\n",
      " 3   filled_source_body       11601 non-null  object\n",
      " 4   filled_source_deepseek   11601 non-null  object\n",
      " 5   filled_source_codellama  11601 non-null  object\n",
      "dtypes: object(6)\n",
      "memory usage: 543.9+ KB\n"
     ]
    }
   ],
   "source": [
    "test_suite = pd.read_parquet(\"/home/hieuvd/lvdthieu/CodeGen/data/test_suite.parquet\", engine=\"fastparquet\")\n",
    "test_suite.info()"
   ]
  },
  {
   "cell_type": "code",
   "execution_count": 29,
   "metadata": {},
   "outputs": [],
   "source": [
    "with open(\"ground_truth.sol\", \"w\") as f:\n",
    "    f.write(test_suite.loc[14, \"original_source_code\"])"
   ]
  },
  {
   "cell_type": "code",
   "execution_count": 13,
   "metadata": {},
   "outputs": [
    {
     "name": "stdout",
     "output_type": "stream",
     "text": [
      "<class 'pandas.core.frame.DataFrame'>\n",
      "RangeIndex: 11601 entries, 0 to 11600\n",
      "Data columns (total 3 columns):\n",
      " #   Column         Non-Null Count  Dtype \n",
      "---  ------         --------------  ----- \n",
      " 0   contract_name  11601 non-null  object\n",
      " 1   func_name      8858 non-null   object\n",
      " 2   source_code    11601 non-null  object\n",
      "dtypes: object(3)\n",
      "memory usage: 272.0+ KB\n"
     ]
    }
   ],
   "source": [
    "deepseek = pd.read_parquet(\"/home/hieuvd/lvdthieu/CodeGen/data/test/deepseek.parquet\", engine=\"fastparquet\")\n",
    "deepseek.info()"
   ]
  },
  {
   "cell_type": "code",
   "execution_count": 16,
   "metadata": {},
   "outputs": [],
   "source": [
    "with open(\"gt.sol\", \"w\") as f:\n",
    "    f.write(deepseek.loc[6, \"source_code\"])"
   ]
  },
  {
   "cell_type": "code",
   "execution_count": 1,
   "metadata": {},
   "outputs": [
    {
     "name": "stdout",
     "output_type": "stream",
     "text": [
      "<class 'pandas.core.frame.DataFrame'>\n",
      "RangeIndex: 118663 entries, 0 to 118662\n",
      "Data columns (total 4 columns):\n",
      " #   Column           Non-Null Count   Dtype \n",
      "---  ------           --------------   ----- \n",
      " 0   source_idx       118663 non-null  object\n",
      " 1   contract_name    118663 non-null  object\n",
      " 2   contract_source  118663 non-null  object\n",
      " 3   count            118663 non-null  int64 \n",
      "dtypes: int64(1), object(3)\n",
      "memory usage: 3.6+ MB\n"
     ]
    }
   ],
   "source": [
    "import pandas as pd\n",
    "contracts = pd.read_parquet(\"/home/hieuvd/lvdthieu/CodeGen/data/contracts/contracts_filtered.parquet\", engine=\"fastparquet\")\n",
    "contracts.info()"
   ]
  },
  {
   "cell_type": "code",
   "execution_count": 7,
   "metadata": {},
   "outputs": [
    {
     "name": "stdout",
     "output_type": "stream",
     "text": [
      "<class 'pandas.core.frame.DataFrame'>\n",
      "RangeIndex: 118663 entries, 0 to 118662\n",
      "Data columns (total 5 columns):\n",
      " #   Column           Non-Null Count   Dtype \n",
      "---  ------           --------------   ----- \n",
      " 0   source_idx       118663 non-null  object\n",
      " 1   contract_name    118663 non-null  object\n",
      " 2   contract_source  118663 non-null  object\n",
      " 3   contract_ast     118663 non-null  object\n",
      " 4   count            118663 non-null  object\n",
      "dtypes: object(5)\n",
      "memory usage: 4.5+ MB\n"
     ]
    }
   ],
   "source": [
    "import pandas as pd\n",
    "contracts_v2 = pd.read_parquet(\"/home/hieuvd/lvdthieu/CodeGen/data/contracts/contracts_v2.parquet\",  engine=\"fastparquet\")\n",
    "contracts_v2.info()"
   ]
  },
  {
   "cell_type": "code",
   "execution_count": 8,
   "metadata": {},
   "outputs": [
    {
     "data": {
      "text/plain": [
       "0         {\"type\":\"SourceUnit\",\"children\":[{\"type\":\"Cont...\n",
       "1         {\"type\":\"SourceUnit\",\"children\":[{\"type\":\"Cont...\n",
       "2         {\"type\":\"SourceUnit\",\"children\":[{\"type\":\"Cont...\n",
       "3         {\"type\":\"SourceUnit\",\"children\":[{\"type\":\"Cont...\n",
       "4         {\"type\":\"SourceUnit\",\"children\":[{\"type\":\"Cont...\n",
       "                                ...                        \n",
       "118658    {\"type\":\"SourceUnit\",\"children\":[{\"type\":\"Cont...\n",
       "118659    {\"type\":\"SourceUnit\",\"children\":[{\"type\":\"Cont...\n",
       "118660    {\"type\":\"SourceUnit\",\"children\":[{\"type\":\"Cont...\n",
       "118661    {\"type\":\"SourceUnit\",\"children\":[{\"type\":\"Cont...\n",
       "118662    {\"type\":\"SourceUnit\",\"children\":[{\"type\":\"Cont...\n",
       "Name: contract_ast, Length: 118663, dtype: object"
      ]
     },
     "execution_count": 8,
     "metadata": {},
     "output_type": "execute_result"
    }
   ],
   "source": [
    "contracts_v2['contract_ast']"
   ]
  },
  {
   "cell_type": "code",
   "execution_count": 9,
   "metadata": {},
   "outputs": [
    {
     "data": {
      "text/html": [
       "<div>\n",
       "<style scoped>\n",
       "    .dataframe tbody tr th:only-of-type {\n",
       "        vertical-align: middle;\n",
       "    }\n",
       "\n",
       "    .dataframe tbody tr th {\n",
       "        vertical-align: top;\n",
       "    }\n",
       "\n",
       "    .dataframe thead th {\n",
       "        text-align: right;\n",
       "    }\n",
       "</style>\n",
       "<table border=\"1\" class=\"dataframe\">\n",
       "  <thead>\n",
       "    <tr style=\"text-align: right;\">\n",
       "      <th></th>\n",
       "      <th>source_idx</th>\n",
       "      <th>contract_name</th>\n",
       "      <th>contract_source</th>\n",
       "      <th>contract_ast</th>\n",
       "      <th>count</th>\n",
       "    </tr>\n",
       "  </thead>\n",
       "  <tbody>\n",
       "  </tbody>\n",
       "</table>\n",
       "</div>"
      ],
      "text/plain": [
       "Empty DataFrame\n",
       "Columns: [source_idx, contract_name, contract_source, contract_ast, count]\n",
       "Index: []"
      ]
     },
     "execution_count": 9,
     "metadata": {},
     "output_type": "execute_result"
    }
   ],
   "source": [
    "contracts_v2[contracts_v2[\"contract_ast\"] == \"<PARSER_ERROR>\"]"
   ]
  },
  {
   "cell_type": "code",
   "execution_count": 5,
   "metadata": {},
   "outputs": [
    {
     "name": "stdout",
     "output_type": "stream",
     "text": [
      "<class 'pandas.core.frame.DataFrame'>\n",
      "RangeIndex: 3956 entries, 0 to 3955\n",
      "Data columns (total 4 columns):\n",
      " #   Column           Non-Null Count  Dtype \n",
      "---  ------           --------------  ----- \n",
      " 0   source_idx       3956 non-null   int64 \n",
      " 1   contract_name    3956 non-null   object\n",
      " 2   contract_source  3956 non-null   object\n",
      " 3   count            3956 non-null   int64 \n",
      "dtypes: int64(2), object(2)\n",
      "memory usage: 123.8+ KB\n"
     ]
    }
   ],
   "source": [
    "batch1 = pd.read_parquet(\"/home/hieuvd/lvdthieu/CodeGen/parser/data/batch1.parquet\", engine=\"fastparquet\")\n",
    "batch1.info()"
   ]
  },
  {
   "cell_type": "code",
   "execution_count": 6,
   "metadata": {},
   "outputs": [
    {
     "data": {
      "text/html": [
       "<div>\n",
       "<style scoped>\n",
       "    .dataframe tbody tr th:only-of-type {\n",
       "        vertical-align: middle;\n",
       "    }\n",
       "\n",
       "    .dataframe tbody tr th {\n",
       "        vertical-align: top;\n",
       "    }\n",
       "\n",
       "    .dataframe thead th {\n",
       "        text-align: right;\n",
       "    }\n",
       "</style>\n",
       "<table border=\"1\" class=\"dataframe\">\n",
       "  <thead>\n",
       "    <tr style=\"text-align: right;\">\n",
       "      <th></th>\n",
       "      <th>source_idx</th>\n",
       "      <th>contract_name</th>\n",
       "      <th>contract_source</th>\n",
       "      <th>count</th>\n",
       "    </tr>\n",
       "  </thead>\n",
       "  <tbody>\n",
       "    <tr>\n",
       "      <th>0</th>\n",
       "      <td>0</td>\n",
       "      <td>Ownable</td>\n",
       "      <td>contract\\tOwnable\\t\\t{\\t\\t\\t\\t\\t\\t\\r\\n\\taddres...</td>\n",
       "      <td>54</td>\n",
       "    </tr>\n",
       "    <tr>\n",
       "      <th>1</th>\n",
       "      <td>1</td>\n",
       "      <td>SCT</td>\n",
       "      <td>contract SCT is SafeMath{\\r\\n    string public...</td>\n",
       "      <td>1</td>\n",
       "    </tr>\n",
       "    <tr>\n",
       "      <th>2</th>\n",
       "      <td>2</td>\n",
       "      <td>ERC20Mintable</td>\n",
       "      <td>contract ERC20Mintable is BaseToken, MinterRol...</td>\n",
       "      <td>4</td>\n",
       "    </tr>\n",
       "    <tr>\n",
       "      <th>3</th>\n",
       "      <td>3</td>\n",
       "      <td>Context</td>\n",
       "      <td>contract Context {\\n    constructor () interna...</td>\n",
       "      <td>7</td>\n",
       "    </tr>\n",
       "    <tr>\n",
       "      <th>4</th>\n",
       "      <td>4</td>\n",
       "      <td>ERC20Interface</td>\n",
       "      <td>contract ERC20Interface {\\r\\n    function tota...</td>\n",
       "      <td>3809</td>\n",
       "    </tr>\n",
       "  </tbody>\n",
       "</table>\n",
       "</div>"
      ],
      "text/plain": [
       "   source_idx   contract_name  \\\n",
       "0           0         Ownable   \n",
       "1           1             SCT   \n",
       "2           2   ERC20Mintable   \n",
       "3           3         Context   \n",
       "4           4  ERC20Interface   \n",
       "\n",
       "                                     contract_source  count  \n",
       "0  contract\\tOwnable\\t\\t{\\t\\t\\t\\t\\t\\t\\r\\n\\taddres...     54  \n",
       "1  contract SCT is SafeMath{\\r\\n    string public...      1  \n",
       "2  contract ERC20Mintable is BaseToken, MinterRol...      4  \n",
       "3  contract Context {\\n    constructor () interna...      7  \n",
       "4  contract ERC20Interface {\\r\\n    function tota...   3809  "
      ]
     },
     "execution_count": 6,
     "metadata": {},
     "output_type": "execute_result"
    }
   ],
   "source": [
    "batch1.head()"
   ]
  },
  {
   "cell_type": "code",
   "execution_count": 1,
   "metadata": {},
   "outputs": [
    {
     "name": "stdout",
     "output_type": "stream",
     "text": [
      "<class 'pandas.core.frame.DataFrame'>\n",
      "RangeIndex: 28001 entries, 0 to 28000\n",
      "Data columns (total 10 columns):\n",
      " #   Column                     Non-Null Count  Dtype \n",
      "---  ------                     --------------  ----- \n",
      " 0   contract_name              28001 non-null  object\n",
      " 1   func_name                  21342 non-null  object\n",
      " 2   masked_contract            28001 non-null  object\n",
      " 3   func_body                  28001 non-null  object\n",
      " 4   func_body_removed_comment  28001 non-null  object\n",
      " 5   deepseek_output            28001 non-null  object\n",
      " 6   file_source_idx            28001 non-null  object\n",
      " 7   source_code                28001 non-null  object\n",
      " 8   source_idx                 28001 non-null  int64 \n",
      " 9   compile_info               28001 non-null  object\n",
      "dtypes: int64(1), object(9)\n",
      "memory usage: 2.1+ MB\n"
     ]
    }
   ],
   "source": [
    "import pandas as pd\n",
    "deepseek = pd.read_parquet(\"/home/hieuvd/lvdthieu/CodeGen/data/compile_info/deepseek_v1.parquet\", engine=\"fastparquet\")\n",
    "deepseek.info()"
   ]
  },
  {
   "cell_type": "code",
   "execution_count": 5,
   "metadata": {},
   "outputs": [
    {
     "name": "stdout",
     "output_type": "stream",
     "text": [
      "<class 'pandas.core.frame.DataFrame'>\n",
      "RangeIndex: 6000 entries, 0 to 5999\n",
      "Data columns (total 10 columns):\n",
      " #   Column                     Non-Null Count  Dtype \n",
      "---  ------                     --------------  ----- \n",
      " 0   contract_name              6000 non-null   object\n",
      " 1   func_name                  4522 non-null   object\n",
      " 2   masked_contract            6000 non-null   object\n",
      " 3   func_body                  6000 non-null   object\n",
      " 4   func_body_removed_comment  6000 non-null   object\n",
      " 5   deepseek_output            6000 non-null   object\n",
      " 6   file_source_idx            6000 non-null   int64 \n",
      " 7   source_code                6000 non-null   object\n",
      " 8   source_idx                 6000 non-null   int64 \n",
      " 9   compile_info               6000 non-null   object\n",
      "dtypes: int64(2), object(8)\n",
      "memory usage: 468.9+ KB\n"
     ]
    }
   ],
   "source": [
    "import pandas as pd\n",
    "\n",
    "raw = pd.read_parquet(\"/home/hieuvd/lvdthieu/CodeGen/data/compile_info/test_6k_v1.deepseek.parquet\", engine=\"fastparquet\")\n",
    "raw.info()"
   ]
  },
  {
   "cell_type": "code",
   "execution_count": 6,
   "metadata": {},
   "outputs": [
    {
     "data": {
      "text/plain": [
       "count                        6000\n",
       "unique                       2602\n",
       "top       <COMPILED_SUCCESSFULLY>\n",
       "freq                         3331\n",
       "Name: compile_info, dtype: object"
      ]
     },
     "execution_count": 6,
     "metadata": {},
     "output_type": "execute_result"
    }
   ],
   "source": [
    "raw[\"compile_info\"].describe()"
   ]
  },
  {
   "cell_type": "code",
   "execution_count": 2,
   "metadata": {},
   "outputs": [
    {
     "name": "stdout",
     "output_type": "stream",
     "text": [
      "<class 'pandas.core.frame.DataFrame'>\n",
      "RangeIndex: 6000 entries, 0 to 5999\n",
      "Data columns (total 10 columns):\n",
      " #   Column                     Non-Null Count  Dtype \n",
      "---  ------                     --------------  ----- \n",
      " 0   contract_name              6000 non-null   object\n",
      " 1   func_name                  4522 non-null   object\n",
      " 2   masked_contract            6000 non-null   object\n",
      " 3   func_body                  6000 non-null   object\n",
      " 4   func_body_removed_comment  6000 non-null   object\n",
      " 5   deepseek_output            6000 non-null   object\n",
      " 6   file_source_idx            6000 non-null   int64 \n",
      " 7   file_source                6000 non-null   object\n",
      " 8   filled_source_body         6000 non-null   object\n",
      " 9   filled_source_deepseek     6000 non-null   object\n",
      "dtypes: int64(1), object(9)\n",
      "memory usage: 468.9+ KB\n"
     ]
    }
   ],
   "source": [
    "import pandas as pd\n",
    "test_suite = pd.read_parquet(\"/home/hieuvd/lvdthieu/CodeGen/data/test_suite_6k.parquet\", engine=\"fastparquet\")\n",
    "test_suite.info()"
   ]
  },
  {
   "cell_type": "code",
   "execution_count": 3,
   "metadata": {},
   "outputs": [
    {
     "data": {
      "text/html": [
       "<div>\n",
       "<style scoped>\n",
       "    .dataframe tbody tr th:only-of-type {\n",
       "        vertical-align: middle;\n",
       "    }\n",
       "\n",
       "    .dataframe tbody tr th {\n",
       "        vertical-align: top;\n",
       "    }\n",
       "\n",
       "    .dataframe thead th {\n",
       "        text-align: right;\n",
       "    }\n",
       "</style>\n",
       "<table border=\"1\" class=\"dataframe\">\n",
       "  <thead>\n",
       "    <tr style=\"text-align: right;\">\n",
       "      <th></th>\n",
       "      <th>contract_name</th>\n",
       "      <th>func_name</th>\n",
       "      <th>masked_contract</th>\n",
       "      <th>func_body</th>\n",
       "      <th>func_body_removed_comment</th>\n",
       "      <th>deepseek_output</th>\n",
       "      <th>file_source_idx</th>\n",
       "      <th>file_source</th>\n",
       "      <th>filled_source_body</th>\n",
       "      <th>filled_source_deepseek</th>\n",
       "    </tr>\n",
       "  </thead>\n",
       "  <tbody>\n",
       "  </tbody>\n",
       "</table>\n",
       "</div>"
      ],
      "text/plain": [
       "Empty DataFrame\n",
       "Columns: [contract_name, func_name, masked_contract, func_body, func_body_removed_comment, deepseek_output, file_source_idx, file_source, filled_source_body, filled_source_deepseek]\n",
       "Index: []"
      ]
     },
     "execution_count": 3,
     "metadata": {},
     "output_type": "execute_result"
    }
   ],
   "source": [
    "test_suite[test_suite[\"filled_source_deepseek\"].isnull()]"
   ]
  },
  {
   "cell_type": "code",
   "execution_count": 4,
   "metadata": {},
   "outputs": [
    {
     "data": {
      "text/plain": [
       "0       pragma solidity ^0.4.19;\\n\\ncontract SafeMath ...\n",
       "1       pragma solidity 0.4.26;\\n\\n/**\\n* Get % profit...\n",
       "2       // SPDX-License-Identifier: MIT\\n\\npragma soli...\n",
       "3       pragma solidity ^0.4.24;\\n\\n/**\\n * Math opera...\n",
       "4       pragma solidity ^0.4.24;/**\\n * @title SafeMat...\n",
       "                              ...                        \n",
       "5995    // SPDX-License-Identifier: MIT\\n\\npragma soli...\n",
       "5996    pragma solidity ^0.4.23;\\n\\ncontract Token {\\n...\n",
       "5997    pragma solidity ^0.5.0;\\n\\n\\n// --------------...\n",
       "5998    pragma solidity ^0.4.21;\\n\\n/**\\n * @title Lin...\n",
       "5999    pragma solidity ^0.5.0;\\n\\n\\ncontract ERC20Int...\n",
       "Name: filled_source_deepseek, Length: 6000, dtype: object"
      ]
     },
     "execution_count": 4,
     "metadata": {},
     "output_type": "execute_result"
    }
   ],
   "source": [
    "test_suite[\"filled_source_deepseek\"]"
   ]
  },
  {
   "cell_type": "code",
   "execution_count": 7,
   "metadata": {},
   "outputs": [
    {
     "name": "stdout",
     "output_type": "stream",
     "text": [
      "<class 'pandas.core.frame.DataFrame'>\n",
      "RangeIndex: 6000 entries, 0 to 5999\n",
      "Data columns (total 9 columns):\n",
      " #   Column                     Non-Null Count  Dtype \n",
      "---  ------                     --------------  ----- \n",
      " 0   contract_name              6000 non-null   object\n",
      " 1   func_name                  4522 non-null   object\n",
      " 2   masked_contract            6000 non-null   object\n",
      " 3   func_body                  6000 non-null   object\n",
      " 4   func_body_removed_comment  6000 non-null   object\n",
      " 5   file_source_idx            6000 non-null   int64 \n",
      " 6   source_code                6000 non-null   object\n",
      " 7   source_idx                 6000 non-null   int64 \n",
      " 8   compile_info               6000 non-null   object\n",
      "dtypes: int64(2), object(7)\n",
      "memory usage: 422.0+ KB\n"
     ]
    }
   ],
   "source": [
    "import pandas as pd\n",
    "body = pd.read_parquet(\"/home/hieuvd/lvdthieu/CodeGen/data/compile_info/test_6k_v1/body.parquet\", engine=\"fastparquet\")\n",
    "body.info()\n"
   ]
  },
  {
   "cell_type": "code",
   "execution_count": 9,
   "metadata": {},
   "outputs": [
    {
     "data": {
      "text/plain": [
       "count                        6000\n",
       "unique                          8\n",
       "top       <COMPILED_SUCCESSFULLY>\n",
       "freq                         5993\n",
       "Name: compile_info, dtype: object"
      ]
     },
     "execution_count": 9,
     "metadata": {},
     "output_type": "execute_result"
    }
   ],
   "source": [
    "body[\"compile_info\"].describe()"
   ]
  },
  {
   "cell_type": "code",
   "execution_count": null,
   "metadata": {},
   "outputs": [],
   "source": []
  }
 ],
 "metadata": {
  "kernelspec": {
   "display_name": "Python 3",
   "language": "python",
   "name": "python3"
  },
  "language_info": {
   "codemirror_mode": {
    "name": "ipython",
    "version": 3
   },
   "file_extension": ".py",
   "mimetype": "text/x-python",
   "name": "python",
   "nbconvert_exporter": "python",
   "pygments_lexer": "ipython3",
   "version": "3.11.5"
  }
 },
 "nbformat": 4,
 "nbformat_minor": 2
}
