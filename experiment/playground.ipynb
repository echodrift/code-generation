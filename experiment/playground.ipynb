{
 "cells": [
  {
   "cell_type": "code",
   "execution_count": null,
   "metadata": {},
   "outputs": [],
   "source": [
    "import pandas as pd\n",
    "\n",
    "test_data = pd.read_parquet(\"./data/data/test_data.parquet\", engine=\"fastparquet\")\n",
    "test_data.info()"
   ]
  },
  {
   "cell_type": "code",
   "execution_count": null,
   "metadata": {},
   "outputs": [],
   "source": [
    "test_data.head()"
   ]
  },
  {
   "cell_type": "code",
   "execution_count": null,
   "metadata": {},
   "outputs": [],
   "source": [
    "test_data[\"source_idx\"].nunique()"
   ]
  },
  {
   "cell_type": "code",
   "execution_count": null,
   "metadata": {},
   "outputs": [],
   "source": [
    "test_v2 = pd.read_parquet(\"./data/test/test-v2.parquet\", engine=\"fastparquet\")\n",
    "test_v2.info()"
   ]
  },
  {
   "cell_type": "code",
   "execution_count": null,
   "metadata": {},
   "outputs": [],
   "source": [
    "test_v3 = test_v2[~(test_v2[\"source_code_with_deepseek_output\"].str.contains(\"import\", regex=False))]\n"
   ]
  },
  {
   "cell_type": "code",
   "execution_count": null,
   "metadata": {},
   "outputs": [],
   "source": [
    "test_v3.info()"
   ]
  },
  {
   "cell_type": "code",
   "execution_count": null,
   "metadata": {},
   "outputs": [],
   "source": [
    "test_v3.reset_index(drop=True, inplace=True)"
   ]
  },
  {
   "cell_type": "code",
   "execution_count": null,
   "metadata": {},
   "outputs": [],
   "source": [
    "test_v3.to_parquet(\"./data/test/test-v3.parquet\")"
   ]
  },
  {
   "cell_type": "code",
   "execution_count": 16,
   "metadata": {},
   "outputs": [],
   "source": [
    "import pandas as pd\n",
    "def view(path):\n",
    "    df = pd.read_parquet(path, engine=\"fastparquet\")\n",
    "    print(df.info())\n",
    "    print(df.head())"
   ]
  },
  {
   "cell_type": "code",
   "execution_count": 75,
   "metadata": {},
   "outputs": [
    {
     "name": "stdout",
     "output_type": "stream",
     "text": [
      "<class 'pandas.core.frame.DataFrame'>\n",
      "RangeIndex: 51015 entries, 0 to 51014\n",
      "Data columns (total 6 columns):\n",
      " #   Column            Non-Null Count  Dtype \n",
      "---  ------            --------------  ----- \n",
      " 0   source_idx        51015 non-null  object\n",
      " 1   contract_name     51015 non-null  object\n",
      " 2   func_name         47879 non-null  object\n",
      " 3   masked_contract   51015 non-null  object\n",
      " 4   func_body         51015 non-null  object\n",
      " 5   func_requirement  51015 non-null  object\n",
      "dtypes: object(6)\n",
      "memory usage: 2.3+ MB\n",
      "None\n",
      "  source_idx contract_name      func_name  \\\n",
      "0          0          KKNK           KKNK   \n",
      "1          0          KKNK       transfer   \n",
      "2          0          KKNK        approve   \n",
      "3          0          KKNK   transferFrom   \n",
      "4          0          KKNK  withdrawEther   \n",
      "5          0          KKNK                  \n",
      "6          1    BasicToken    totalSupply   \n",
      "7          1    BasicToken       transfer   \n",
      "8          1    BasicToken      balanceOf   \n",
      "9          1       Ownable           None   \n",
      "\n",
      "                                     masked_contract  \\\n",
      "0  contract KKNK is SafeMath{\\r\\n    string publi...   \n",
      "1  contract KKNK is SafeMath{\\r\\n    string publi...   \n",
      "2  contract KKNK is SafeMath{\\r\\n    string publi...   \n",
      "3  contract KKNK is SafeMath{\\r\\n    string publi...   \n",
      "4  contract KKNK is SafeMath{\\r\\n    string publi...   \n",
      "5  contract KKNK is SafeMath{\\r\\n    string publi...   \n",
      "6  contract BasicToken is ERC20Basic {\\r\\n  using...   \n",
      "7  contract BasicToken is ERC20Basic {\\r\\n  using...   \n",
      "8  contract BasicToken is ERC20Basic {\\r\\n  using...   \n",
      "9  contract Ownable {\\r\\n  address public owner;\\...   \n",
      "\n",
      "                                           func_body  \\\n",
      "0  \\r\\n        balanceOf[msg.sender] = initialSup...   \n",
      "1  \\r\\n        if (_to == 0x0) throw;            ...   \n",
      "2  \\r\\n\\t\\tif (_value <= 0) throw; \\r\\n        al...   \n",
      "3  \\r\\n        if (_to == 0x0) throw;            ...   \n",
      "4  \\r\\n\\t\\tif(msg.sender != owner)throw;\\r\\n\\t\\to...   \n",
      "5                                           \\r\\n       \n",
      "6                 \\r\\n    return totalSupply_;\\r\\n     \n",
      "7  \\r\\n    require(_value <= balances[msg.sender]...   \n",
      "8             \\r\\n    return balances[_owner];\\r\\n     \n",
      "9                  \\r\\n    owner = msg.sender;\\r\\n     \n",
      "\n",
      "                                    func_requirement  \n",
      "0  Initializes contract with initial supply token...  \n",
      "1                                         Send coins  \n",
      "2  Allow another contract to spend some tokens in...  \n",
      "3               A contract attempts to get the coins  \n",
      "4                          transfer balance to owner  \n",
      "5                                   can accept ether  \n",
      "6  *\\r\\n  * @dev Total number of tokens in existence  \n",
      "7  *\\r\\n  * @dev Transfer token for a specified a...  \n",
      "8  *\\r\\n  * @dev Gets the balance of the specifie...  \n",
      "9  *\\r\\n   * @dev The Ownable constructor sets th...  \n"
     ]
    }
   ],
   "source": [
    "view(\"/home/hieuvd/lvdthieu/CodeGen/data/data/test_data.parquet\")\n"
   ]
  },
  {
   "cell_type": "code",
   "execution_count": 76,
   "metadata": {},
   "outputs": [
    {
     "data": {
      "text/plain": [
       "count    51015.000000\n",
       "mean      4386.571812\n",
       "std       2534.794551\n",
       "min          0.000000\n",
       "25%       2136.000000\n",
       "50%       4391.000000\n",
       "75%       6592.000000\n",
       "max       8743.000000\n",
       "Name: source_idx, dtype: float64"
      ]
     },
     "execution_count": 76,
     "metadata": {},
     "output_type": "execute_result"
    }
   ],
   "source": [
    "test_data = pd.read_parquet(\"/home/hieuvd/lvdthieu/CodeGen/data/data/test_data.parquet\", engine=\"fastparquet\")\n",
    "test_data[\"source_idx\"] = test_data[\"source_idx\"].apply(lambda x: int(x))\n",
    "test_data[\"source_idx\"].describe()"
   ]
  },
  {
   "cell_type": "code",
   "execution_count": 99,
   "metadata": {},
   "outputs": [
    {
     "data": {
      "text/html": [
       "<div>\n",
       "<style scoped>\n",
       "    .dataframe tbody tr th:only-of-type {\n",
       "        vertical-align: middle;\n",
       "    }\n",
       "\n",
       "    .dataframe tbody tr th {\n",
       "        vertical-align: top;\n",
       "    }\n",
       "\n",
       "    .dataframe thead th {\n",
       "        text-align: right;\n",
       "    }\n",
       "</style>\n",
       "<table border=\"1\" class=\"dataframe\">\n",
       "  <thead>\n",
       "    <tr style=\"text-align: right;\">\n",
       "      <th></th>\n",
       "      <th>source_idx</th>\n",
       "      <th>contract_name</th>\n",
       "      <th>count</th>\n",
       "    </tr>\n",
       "  </thead>\n",
       "  <tbody>\n",
       "    <tr>\n",
       "      <th>0</th>\n",
       "      <td>0</td>\n",
       "      <td>KKNK</td>\n",
       "      <td>6</td>\n",
       "    </tr>\n",
       "    <tr>\n",
       "      <th>1</th>\n",
       "      <td>1</td>\n",
       "      <td>BasicToken</td>\n",
       "      <td>3</td>\n",
       "    </tr>\n",
       "    <tr>\n",
       "      <th>2</th>\n",
       "      <td>1</td>\n",
       "      <td>Claimable</td>\n",
       "      <td>2</td>\n",
       "    </tr>\n",
       "    <tr>\n",
       "      <th>3</th>\n",
       "      <td>1</td>\n",
       "      <td>Ownable</td>\n",
       "      <td>2</td>\n",
       "    </tr>\n",
       "    <tr>\n",
       "      <th>4</th>\n",
       "      <td>1</td>\n",
       "      <td>StacsToken</td>\n",
       "      <td>4</td>\n",
       "    </tr>\n",
       "    <tr>\n",
       "      <th>...</th>\n",
       "      <td>...</td>\n",
       "      <td>...</td>\n",
       "      <td>...</td>\n",
       "    </tr>\n",
       "    <tr>\n",
       "      <th>9565</th>\n",
       "      <td>8738</td>\n",
       "      <td>TeuToken</td>\n",
       "      <td>1</td>\n",
       "    </tr>\n",
       "    <tr>\n",
       "      <th>9566</th>\n",
       "      <td>8738</td>\n",
       "      <td>teuInitialTokenSale</td>\n",
       "      <td>24</td>\n",
       "    </tr>\n",
       "    <tr>\n",
       "      <th>9567</th>\n",
       "      <td>8740</td>\n",
       "      <td>GodMode</td>\n",
       "      <td>3</td>\n",
       "    </tr>\n",
       "    <tr>\n",
       "      <th>9568</th>\n",
       "      <td>8743</td>\n",
       "      <td>ERC20</td>\n",
       "      <td>18</td>\n",
       "    </tr>\n",
       "    <tr>\n",
       "      <th>9569</th>\n",
       "      <td>8743</td>\n",
       "      <td>NCashToken</td>\n",
       "      <td>1</td>\n",
       "    </tr>\n",
       "  </tbody>\n",
       "</table>\n",
       "<p>9570 rows × 3 columns</p>\n",
       "</div>"
      ],
      "text/plain": [
       "      source_idx        contract_name  count\n",
       "0              0                 KKNK      6\n",
       "1              1           BasicToken      3\n",
       "2              1            Claimable      2\n",
       "3              1              Ownable      2\n",
       "4              1           StacsToken      4\n",
       "...          ...                  ...    ...\n",
       "9565        8738             TeuToken      1\n",
       "9566        8738  teuInitialTokenSale     24\n",
       "9567        8740              GodMode      3\n",
       "9568        8743                ERC20     18\n",
       "9569        8743           NCashToken      1\n",
       "\n",
       "[9570 rows x 3 columns]"
      ]
     },
     "execution_count": 99,
     "metadata": {},
     "output_type": "execute_result"
    }
   ],
   "source": [
    "test = test_data.groupby([\"source_idx\", \"contract_name\"]).size().reset_index().rename(columns={0: \"count\"})\n",
    "test"
   ]
  },
  {
   "cell_type": "code",
   "execution_count": 93,
   "metadata": {},
   "outputs": [
    {
     "name": "stdout",
     "output_type": "stream",
     "text": [
      "<class 'pandas.core.frame.DataFrame'>\n",
      "Index: 8744 entries, 0 to 12077\n",
      "Data columns (total 1 columns):\n",
      " #   Column       Non-Null Count  Dtype \n",
      "---  ------       --------------  ----- \n",
      " 0   source_code  8744 non-null   object\n",
      "dtypes: object(1)\n",
      "memory usage: 136.6+ KB\n"
     ]
    }
   ],
   "source": [
    "test_file = pd.read_parquet(\"/home/hieuvd/lvdthieu/CodeGen/data/solfile-v3/test_file.parquet\", engine=\"fastparquet\")\n",
    "test_file.info()"
   ]
  },
  {
   "cell_type": "code",
   "execution_count": 94,
   "metadata": {},
   "outputs": [],
   "source": [
    "test_file.reset_index(drop=True, inplace=True)"
   ]
  },
  {
   "cell_type": "code",
   "execution_count": 95,
   "metadata": {},
   "outputs": [],
   "source": [
    "with open(\"check.sol\", \"w\") as f:\n",
    "    f.write(test_file.loc[5203, \"source_code\"])"
   ]
  },
  {
   "cell_type": "code",
   "execution_count": 96,
   "metadata": {},
   "outputs": [],
   "source": [
    "test_file.to_parquet(\"/home/hieuvd/lvdthieu/CodeGen/data/solfile-v3/test_file.parquet\", engine=\"fastparquet\")"
   ]
  },
  {
   "cell_type": "code",
   "execution_count": 100,
   "metadata": {},
   "outputs": [
    {
     "name": "stdout",
     "output_type": "stream",
     "text": [
      "<class 'pandas.core.frame.DataFrame'>\n",
      "RangeIndex: 85544 entries, 0 to 85543\n",
      "Data columns (total 1 columns):\n",
      " #   Column       Non-Null Count  Dtype \n",
      "---  ------       --------------  ----- \n",
      " 0   source_code  85544 non-null  object\n",
      "dtypes: object(1)\n",
      "memory usage: 668.4+ KB\n",
      "None\n",
      "                                         source_code\n",
      "0  pragma solidity ^0.4.20;\\r\\n\\r\\nlibrary SafeMa...\n",
      "1  // SPDX-License-Identifier: UNLICENSED\\r\\n\\r\\n...\n",
      "2  // SPDX-License-Identifier: GPL-3.0-or-later\\n...\n",
      "3  pragma solidity ^0.8.0;\\r\\n\\r\\ninterface IERC2...\n",
      "4  pragma solidity ^0.4.24;\\r\\n// This contract h...\n",
      "5  pragma solidity ^0.4.17;\\r\\n\\r\\n contract toke...\n",
      "6  /**\\r\\n *Submitted for verification at Ethersc...\n",
      "7  //Join our Telegram: https://t.me/BigBCat\\r\\n\\...\n",
      "8  pragma solidity ^0.5.17;\\r\\n\\r\\n\\r\\nlibrary Sa...\n",
      "9  /*\\r\\n\\r\\n\\r\\nhttps://t.me/stealthtokenofficia...\n"
     ]
    }
   ],
   "source": [
    "view(\"/home/hieuvd/lvdthieu/CodeGen/data/solfile-v3/train_file.parquet\")"
   ]
  },
  {
   "cell_type": "code",
   "execution_count": 101,
   "metadata": {},
   "outputs": [
    {
     "name": "stdout",
     "output_type": "stream",
     "text": [
      "<class 'pandas.core.frame.DataFrame'>\n",
      "RangeIndex: 16373 entries, 0 to 16372\n",
      "Data columns (total 6 columns):\n",
      " #   Column            Non-Null Count  Dtype \n",
      "---  ------            --------------  ----- \n",
      " 0   source_idx        16373 non-null  object\n",
      " 1   contract_name     16373 non-null  object\n",
      " 2   func_name         15332 non-null  object\n",
      " 3   masked_contract   16373 non-null  object\n",
      " 4   func_body         16373 non-null  object\n",
      " 5   func_requirement  16373 non-null  object\n",
      "dtypes: object(6)\n",
      "memory usage: 767.6+ KB\n",
      "None\n",
      "  source_idx contract_name       func_name  \\\n",
      "0      82708       Context      _msgSender   \n",
      "1      82708        yVault       available   \n",
      "2      82708        yVault        withdraw   \n",
      "3      82709         Token     totalSupply   \n",
      "4      82709         Token       balanceOf   \n",
      "5      82709         Token        transfer   \n",
      "6      82709         Token    transferFrom   \n",
      "7      82709         Token         approve   \n",
      "8      82709         Token       allowance   \n",
      "9      82709     TCGCToken  approveAndCall   \n",
      "\n",
      "                                     masked_contract  \\\n",
      "0  contract Context {\\r\\n    constructor () inter...   \n",
      "1  contract yVault is ERC20 {\\r\\n    using SafeER...   \n",
      "2  contract yVault is ERC20 {\\r\\n    using SafeER...   \n",
      "3  contract Token {\\r\\n\\r\\n    /// @return total ...   \n",
      "4  contract Token {\\r\\n\\r\\n    /// @return total ...   \n",
      "5  contract Token {\\r\\n\\r\\n    /// @return total ...   \n",
      "6  contract Token {\\r\\n\\r\\n    /// @return total ...   \n",
      "7  contract Token {\\r\\n\\r\\n    /// @return total ...   \n",
      "8  contract Token {\\r\\n\\r\\n    /// @return total ...   \n",
      "9  contract TCGCToken is StandardToken {\\r\\n\\r\\n ...   \n",
      "\n",
      "                                           func_body  \\\n",
      "0             \\r\\n        return msg.sender;\\r\\n       \n",
      "1  \\r\\n        return token.balanceOf(address(thi...   \n",
      "2  \\r\\n        uint r = (balance().mul(_shares))....   \n",
      "3                                                      \n",
      "4                                                      \n",
      "5                                                      \n",
      "6                                                      \n",
      "7                                                      \n",
      "8                                                      \n",
      "9  \\r\\n        allowed[msg.sender][_spender] = _v...   \n",
      "\n",
      "                                    func_requirement  \n",
      "0      solhint-disable-previous-line no-empty-blocks  \n",
      "1  Custom logic in here for how much the vault al...  \n",
      "2  No rebalance implementation for lower fees and...  \n",
      "3                   / @return total amount of tokens  \n",
      "4  / @param _owner The address from which the bal...  \n",
      "5  / @notice send `_value` token to `_to` from `m...  \n",
      "6  / @notice send `_value` token to `_to` from `_...  \n",
      "7  / @notice `msg.sender` approves `_addr` to spe...  \n",
      "8  / @param _owner The address of the account own...  \n",
      "9     Approves and then calls the receiving contract  \n"
     ]
    }
   ],
   "source": [
    "view(\"/home/hieuvd/lvdthieu/CodeGen/parser/out/result30.parquet\")"
   ]
  },
  {
   "cell_type": "code",
   "execution_count": 102,
   "metadata": {},
   "outputs": [
    {
     "name": "stdout",
     "output_type": "stream",
     "text": [
      "<class 'pandas.core.frame.DataFrame'>\n",
      "RangeIndex: 544319 entries, 0 to 544318\n",
      "Data columns (total 6 columns):\n",
      " #   Column            Non-Null Count   Dtype \n",
      "---  ------            --------------   ----- \n",
      " 0   source_idx        544319 non-null  object\n",
      " 1   contract_name     544319 non-null  object\n",
      " 2   func_name         510238 non-null  object\n",
      " 3   masked_contract   544319 non-null  object\n",
      " 4   func_body         544319 non-null  object\n",
      " 5   func_requirement  544319 non-null  object\n",
      "dtypes: object(6)\n",
      "memory usage: 24.9+ MB\n"
     ]
    }
   ],
   "source": [
    "train_file = pd.read_parquet(\"/home/hieuvd/lvdthieu/CodeGen/data/data/train_data.parquet\", engine=\"fastparquet\")\n",
    "train_file.info()"
   ]
  },
  {
   "cell_type": "code",
   "execution_count": 103,
   "metadata": {},
   "outputs": [
    {
     "data": {
      "text/html": [
       "<div>\n",
       "<style scoped>\n",
       "    .dataframe tbody tr th:only-of-type {\n",
       "        vertical-align: middle;\n",
       "    }\n",
       "\n",
       "    .dataframe tbody tr th {\n",
       "        vertical-align: top;\n",
       "    }\n",
       "\n",
       "    .dataframe thead th {\n",
       "        text-align: right;\n",
       "    }\n",
       "</style>\n",
       "<table border=\"1\" class=\"dataframe\">\n",
       "  <thead>\n",
       "    <tr style=\"text-align: right;\">\n",
       "      <th></th>\n",
       "      <th>source_idx</th>\n",
       "      <th>contract_name</th>\n",
       "      <th>count</th>\n",
       "    </tr>\n",
       "  </thead>\n",
       "  <tbody>\n",
       "    <tr>\n",
       "      <th>0</th>\n",
       "      <td>0</td>\n",
       "      <td>TangentStake</td>\n",
       "      <td>5</td>\n",
       "    </tr>\n",
       "    <tr>\n",
       "      <th>1</th>\n",
       "      <td>10</td>\n",
       "      <td>COVIDBots</td>\n",
       "      <td>3</td>\n",
       "    </tr>\n",
       "    <tr>\n",
       "      <th>2</th>\n",
       "      <td>10</td>\n",
       "      <td>ERC721</td>\n",
       "      <td>26</td>\n",
       "    </tr>\n",
       "    <tr>\n",
       "      <th>3</th>\n",
       "      <td>10003</td>\n",
       "      <td>SZUSDT</td>\n",
       "      <td>2</td>\n",
       "    </tr>\n",
       "    <tr>\n",
       "      <th>4</th>\n",
       "      <td>10012</td>\n",
       "      <td>ERC20</td>\n",
       "      <td>17</td>\n",
       "    </tr>\n",
       "    <tr>\n",
       "      <th>...</th>\n",
       "      <td>...</td>\n",
       "      <td>...</td>\n",
       "      <td>...</td>\n",
       "    </tr>\n",
       "    <tr>\n",
       "      <th>102602</th>\n",
       "      <td>9995</td>\n",
       "      <td>Ownable</td>\n",
       "      <td>4</td>\n",
       "    </tr>\n",
       "    <tr>\n",
       "      <th>102603</th>\n",
       "      <td>9995</td>\n",
       "      <td>Pausable</td>\n",
       "      <td>2</td>\n",
       "    </tr>\n",
       "    <tr>\n",
       "      <th>102604</th>\n",
       "      <td>9998</td>\n",
       "      <td>BonePaymentToken</td>\n",
       "      <td>6</td>\n",
       "    </tr>\n",
       "    <tr>\n",
       "      <th>102605</th>\n",
       "      <td>9998</td>\n",
       "      <td>ERC20</td>\n",
       "      <td>18</td>\n",
       "    </tr>\n",
       "    <tr>\n",
       "      <th>102606</th>\n",
       "      <td>9998</td>\n",
       "      <td>Ownable</td>\n",
       "      <td>4</td>\n",
       "    </tr>\n",
       "  </tbody>\n",
       "</table>\n",
       "<p>102607 rows × 3 columns</p>\n",
       "</div>"
      ],
      "text/plain": [
       "       source_idx     contract_name  count\n",
       "0               0      TangentStake      5\n",
       "1              10         COVIDBots      3\n",
       "2              10            ERC721     26\n",
       "3           10003            SZUSDT      2\n",
       "4           10012             ERC20     17\n",
       "...           ...               ...    ...\n",
       "102602       9995           Ownable      4\n",
       "102603       9995          Pausable      2\n",
       "102604       9998  BonePaymentToken      6\n",
       "102605       9998             ERC20     18\n",
       "102606       9998           Ownable      4\n",
       "\n",
       "[102607 rows x 3 columns]"
      ]
     },
     "execution_count": 103,
     "metadata": {},
     "output_type": "execute_result"
    }
   ],
   "source": [
    "train = train_file.groupby([\"source_idx\", \"contract_name\"]).size().reset_index().rename(columns={0: \"count\"})\n",
    "train"
   ]
  },
  {
   "cell_type": "code",
   "execution_count": 5,
   "metadata": {},
   "outputs": [
    {
     "name": "stdout",
     "output_type": "stream",
     "text": [
      "<class 'pandas.core.frame.DataFrame'>\n",
      "RangeIndex: 8744 entries, 0 to 8743\n",
      "Data columns (total 1 columns):\n",
      " #   Column       Non-Null Count  Dtype \n",
      "---  ------       --------------  ----- \n",
      " 0   source_code  8744 non-null   object\n",
      "dtypes: object(1)\n",
      "memory usage: 68.4+ KB\n",
      "None\n",
      "                                         source_code\n",
      "0  /**\\r\\n *Submitted for verification at Ethersc...\n",
      "1  pragma solidity 0.4.25;\\r\\n\\r\\ncontract ERC20B...\n",
      "2  pragma solidity >=0.4.22 <0.7.0;\\r\\n\\r\\nabstra...\n",
      "3  pragma solidity 0.8.4;\\r\\n\\r\\n// SPDX-License-...\n",
      "4  //* SVChain.org \\r\\n\\r\\npragma solidity ^0.4.2...\n",
      "5  // SPDX-License-Identifier: MIT\\r\\n\\r\\npragma ...\n",
      "6  pragma solidity ^0.4.18;\\r\\n/** --------------...\n",
      "7  /*\\r\\n\\r\\n\\r\\nTelegram : https://t.me/goodluck...\n",
      "8  /* ===========================================...\n",
      "9  pragma solidity 0.6.12;\\n\\n/*\\n    Owned contr...\n"
     ]
    }
   ],
   "source": [
    "view(\"/home/hieuvd/lvdthieu/CodeGen/data/test/test_file.parquet\")"
   ]
  },
  {
   "cell_type": "code",
   "execution_count": 6,
   "metadata": {},
   "outputs": [
    {
     "data": {
      "text/plain": [
       "30"
      ]
     },
     "execution_count": 6,
     "metadata": {},
     "output_type": "execute_result"
    }
   ],
   "source": [
    "dfs = []\n",
    "for i in range(1, 31):\n",
    "    dfs.append(pd.read_parquet(f\"/home/hieuvd/lvdthieu/CodeGen/compilation/error/error{i}.parquet\"))\n",
    "len(dfs)"
   ]
  },
  {
   "cell_type": "code",
   "execution_count": 7,
   "metadata": {},
   "outputs": [
    {
     "name": "stdout",
     "output_type": "stream",
     "text": [
      "<class 'pandas.core.frame.DataFrame'>\n",
      "Index: 3334 entries, 2 to 12074\n",
      "Data columns (total 2 columns):\n",
      " #   Column       Non-Null Count  Dtype \n",
      "---  ------       --------------  ----- \n",
      " 0   source_code  3334 non-null   object\n",
      " 1   error        3334 non-null   object\n",
      "dtypes: object(2)\n",
      "memory usage: 78.1+ KB\n"
     ]
    }
   ],
   "source": [
    "error = pd.concat(dfs, axis=0)\n",
    "error.info()"
   ]
  },
  {
   "cell_type": "code",
   "execution_count": 10,
   "metadata": {},
   "outputs": [
    {
     "data": {
      "text/html": [
       "<div>\n",
       "<style scoped>\n",
       "    .dataframe tbody tr th:only-of-type {\n",
       "        vertical-align: middle;\n",
       "    }\n",
       "\n",
       "    .dataframe tbody tr th {\n",
       "        vertical-align: top;\n",
       "    }\n",
       "\n",
       "    .dataframe thead th {\n",
       "        text-align: right;\n",
       "    }\n",
       "</style>\n",
       "<table border=\"1\" class=\"dataframe\">\n",
       "  <thead>\n",
       "    <tr style=\"text-align: right;\">\n",
       "      <th></th>\n",
       "      <th>source_code</th>\n",
       "      <th>error</th>\n",
       "    </tr>\n",
       "    <tr>\n",
       "      <th>index</th>\n",
       "      <th></th>\n",
       "      <th></th>\n",
       "    </tr>\n",
       "  </thead>\n",
       "  <tbody>\n",
       "    <tr>\n",
       "      <th>2</th>\n",
       "      <td>contract Strategy is BaseStrategyInitializable...</td>\n",
       "      <td>Warning: SPDX license identifier not provided ...</td>\n",
       "    </tr>\n",
       "    <tr>\n",
       "      <th>13</th>\n",
       "      <td>contract ThisExternalAssembly {\\r\\n    uint pu...</td>\n",
       "      <td>ParserError: Expected ';' but got '}'\\n  --&gt; c...</td>\n",
       "    </tr>\n",
       "    <tr>\n",
       "      <th>20</th>\n",
       "      <td>pragma solidity ^0.5.2;\\r\\n\\r\\n\\r\\n\\r\\n/**\\r\\n...</td>\n",
       "      <td>contracts/sample.sol:17:19: DeclarationError: ...</td>\n",
       "    </tr>\n",
       "    <tr>\n",
       "      <th>24</th>\n",
       "      <td>pragma solidity ^0.8.0;\\r\\n/**\\r\\n * @dev Cont...</td>\n",
       "      <td>Warning: SPDX license identifier not provided ...</td>\n",
       "    </tr>\n",
       "    <tr>\n",
       "      <th>29</th>\n",
       "      <td>pragma solidity ^0.8.4;\\r\\n\\r\\n\\r\\n\\r\\n\\r\\n\\r\\...</td>\n",
       "      <td>Warning: SPDX license identifier not provided ...</td>\n",
       "    </tr>\n",
       "  </tbody>\n",
       "</table>\n",
       "</div>"
      ],
      "text/plain": [
       "                                             source_code  \\\n",
       "index                                                      \n",
       "2      contract Strategy is BaseStrategyInitializable...   \n",
       "13     contract ThisExternalAssembly {\\r\\n    uint pu...   \n",
       "20     pragma solidity ^0.5.2;\\r\\n\\r\\n\\r\\n\\r\\n/**\\r\\n...   \n",
       "24     pragma solidity ^0.8.0;\\r\\n/**\\r\\n * @dev Cont...   \n",
       "29     pragma solidity ^0.8.4;\\r\\n\\r\\n\\r\\n\\r\\n\\r\\n\\r\\...   \n",
       "\n",
       "                                                   error  \n",
       "index                                                     \n",
       "2      Warning: SPDX license identifier not provided ...  \n",
       "13     ParserError: Expected ';' but got '}'\\n  --> c...  \n",
       "20     contracts/sample.sol:17:19: DeclarationError: ...  \n",
       "24     Warning: SPDX license identifier not provided ...  \n",
       "29     Warning: SPDX license identifier not provided ...  "
      ]
     },
     "execution_count": 10,
     "metadata": {},
     "output_type": "execute_result"
    }
   ],
   "source": [
    "error.head()"
   ]
  },
  {
   "cell_type": "code",
   "execution_count": 11,
   "metadata": {},
   "outputs": [
    {
     "data": {
      "text/plain": [
       "'Warning: SPDX license identifier not provided in source file. Before publishing, consider adding a comment containing \"SPDX-License-Identifier: <SPDX-License>\" to each source file. Use \"SPDX-License-Identifier: UNLICENSED\" for non-open-source code. Please see https://spdx.org for more information.\\n--> contracts/sample.sol\\n\\n\\nWarning: Source file does not specify required compiler version! Consider adding \"pragma solidity ^0.8.13;\"\\n--> contracts/sample.sol\\n\\n\\nDeclarationError: Identifier not found or not unique.\\n --> contracts/sample.sol:1:22:\\n  |\\n1 | contract Strategy is BaseStrategyInitializable {\\n  |                      ^^^^^^^^^^^^^^^^^^^^^^^^^\\n\\n\\nError HH600: Compilation failed\\nHardhatError: HH600: Compilation failed\\n    at SimpleTaskDefinition.action (/home/hieuvd/lvdthieu/CodeGen/compilation/compilers/hardhat1/node_modules/hardhat/src/builtin-tasks/compile.ts:499:15)\\n    at Environment._runTaskDefinition (/home/hieuvd/lvdthieu/CodeGen/compilation/compilers/hardhat1/node_modules/hardhat/src/internal/core/runtime-environment.ts:358:14)\\n    at OverriddenTaskDefinition._action (/home/hieuvd/lvdthieu/CodeGen/compilation/compilers/hardhat1/node_modules/@typechain/hardhat/src/index.ts:28:30)\\n    at Environment._runTaskDefinition (/home/hieuvd/lvdthieu/CodeGen/compilation/compilers/hardhat1/node_modules/hardhat/src/internal/core/runtime-environment.ts:358:14)\\n    at Environment.run (/home/hieuvd/lvdthieu/CodeGen/compilation/compilers/hardhat1/node_modules/hardhat/src/internal/core/runtime-environment.ts:191:14)\\n    at SimpleTaskDefinition.action (/home/hieuvd/lvdthieu/CodeGen/compilation/compilers/hardhat1/node_modules/hardhat/src/builtin-tasks/compile.ts:1406:63)\\n    at Environment._runTaskDefinition (/home/hieuvd/lvdthieu/CodeGen/compilation/compilers/hardhat1/node_modules/hardhat/src/internal/core/runtime-environment.ts:358:14)\\n    at Environment.run (/home/hieuvd/lvdthieu/CodeGen/compilation/compilers/hardhat1/node_modules/hardhat/src/internal/core/runtime-environment.ts:191:14)\\n    at SimpleTaskDefinition.action (/home/hieuvd/lvdthieu/CodeGen/compilation/compilers/hardhat1/node_modules/hardhat/src/builtin-tasks/compile.ts:1486:7)\\n    at Environment._runTaskDefinition (/home/hieuvd/lvdthieu/CodeGen/compilation/compilers/hardhat1/node_modules/hardhat/src/internal/core/runtime-environment.ts:358:14)\\n'"
      ]
     },
     "execution_count": 11,
     "metadata": {},
     "output_type": "execute_result"
    }
   ],
   "source": [
    "error.loc[2, \"error\"]"
   ]
  },
  {
   "cell_type": "code",
   "execution_count": 1,
   "metadata": {},
   "outputs": [
    {
     "ename": "NameError",
     "evalue": "name 'view' is not defined",
     "output_type": "error",
     "traceback": [
      "\u001b[0;31m---------------------------------------------------------------------------\u001b[0m",
      "\u001b[0;31mNameError\u001b[0m                                 Traceback (most recent call last)",
      "Cell \u001b[0;32mIn[1], line 1\u001b[0m\n\u001b[0;32m----> 1\u001b[0m \u001b[43mview\u001b[49m(\u001b[38;5;124m\"\u001b[39m\u001b[38;5;124m/home/hieuvd/lvdthieu/CodeGen/data/test/test_data.parquet\u001b[39m\u001b[38;5;124m\"\u001b[39m)\n",
      "\u001b[0;31mNameError\u001b[0m: name 'view' is not defined"
     ]
    }
   ],
   "source": [
    "view(\"/home/hieuvd/lvdthieu/CodeGen/data/test/test_data.parquet\")"
   ]
  },
  {
   "cell_type": "code",
   "execution_count": 4,
   "metadata": {},
   "outputs": [
    {
     "name": "stdout",
     "output_type": "stream",
     "text": [
      "<class 'pandas.core.frame.DataFrame'>\n",
      "RangeIndex: 51015 entries, 0 to 51014\n",
      "Data columns (total 6 columns):\n",
      " #   Column            Non-Null Count  Dtype \n",
      "---  ------            --------------  ----- \n",
      " 0   source_idx        51015 non-null  object\n",
      " 1   contract_name     51015 non-null  object\n",
      " 2   func_name         47879 non-null  object\n",
      " 3   masked_contract   51015 non-null  object\n",
      " 4   func_body         51015 non-null  object\n",
      " 5   func_requirement  51015 non-null  object\n",
      "dtypes: object(6)\n",
      "memory usage: 2.3+ MB\n",
      "None\n",
      "  source_idx contract_name      func_name  \\\n",
      "0          0          KKNK           KKNK   \n",
      "1          0          KKNK       transfer   \n",
      "2          0          KKNK        approve   \n",
      "3          0          KKNK   transferFrom   \n",
      "4          0          KKNK  withdrawEther   \n",
      "\n",
      "                                     masked_contract  \\\n",
      "0  contract KKNK is SafeMath{\\r\\n    string publi...   \n",
      "1  contract KKNK is SafeMath{\\r\\n    string publi...   \n",
      "2  contract KKNK is SafeMath{\\r\\n    string publi...   \n",
      "3  contract KKNK is SafeMath{\\r\\n    string publi...   \n",
      "4  contract KKNK is SafeMath{\\r\\n    string publi...   \n",
      "\n",
      "                                           func_body  \\\n",
      "0  \\r\\n        balanceOf[msg.sender] = initialSup...   \n",
      "1  \\r\\n        if (_to == 0x0) throw;            ...   \n",
      "2  \\r\\n\\t\\tif (_value <= 0) throw; \\r\\n        al...   \n",
      "3  \\r\\n        if (_to == 0x0) throw;            ...   \n",
      "4  \\r\\n\\t\\tif(msg.sender != owner)throw;\\r\\n\\t\\to...   \n",
      "\n",
      "                                    func_requirement  \n",
      "0  Initializes contract with initial supply token...  \n",
      "1                                         Send coins  \n",
      "2  Allow another contract to spend some tokens in...  \n",
      "3               A contract attempts to get the coins  \n",
      "4                          transfer balance to owner  \n"
     ]
    }
   ],
   "source": [
    "view(\"/home/hieuvd/lvdthieu/CodeGen/data/test/test_data.parquet\")"
   ]
  },
  {
   "cell_type": "code",
   "execution_count": 8,
   "metadata": {},
   "outputs": [
    {
     "data": {
      "text/plain": [
       "4508"
      ]
     },
     "execution_count": 8,
     "metadata": {},
     "output_type": "execute_result"
    }
   ],
   "source": [
    "test_data = pd.read_parquet(\"/home/hieuvd/lvdthieu/CodeGen/data/test/test_data.parquet\")\n",
    "test_data[\"source_idx\"].nunique()"
   ]
  },
  {
   "cell_type": "code",
   "execution_count": 2,
   "metadata": {},
   "outputs": [
    {
     "name": "stdout",
     "output_type": "stream",
     "text": [
      "<class 'pandas.core.frame.DataFrame'>\n",
      "RangeIndex: 11781 entries, 0 to 11780\n",
      "Data columns (total 9 columns):\n",
      " #   Column            Non-Null Count  Dtype \n",
      "---  ------            --------------  ----- \n",
      " 0   file_name         11781 non-null  object\n",
      " 1   file_address      11781 non-null  object\n",
      " 2   contract_name     11781 non-null  object\n",
      " 3   func_name         10691 non-null  object\n",
      " 4   masked_contract   11781 non-null  object\n",
      " 5   func_body         11781 non-null  object\n",
      " 6   func_requirement  11781 non-null  object\n",
      " 7   deepseek_output   11781 non-null  object\n",
      " 8   finetune_output   11781 non-null  object\n",
      "dtypes: object(9)\n",
      "memory usage: 828.5+ KB\n"
     ]
    }
   ],
   "source": [
    "import json\n",
    "import pandas as pd\n",
    "\n",
    "with open(\"/home/hieuvd/lvdthieu/CodeGen/data/test/test.jsonl\", \"r\") as f:\n",
    "    data = [json.loads(line) for line in f]\n",
    "\n",
    "df = pd.DataFrame(data)\n",
    "df.info()"
   ]
  },
  {
   "cell_type": "code",
   "execution_count": 3,
   "metadata": {},
   "outputs": [],
   "source": [
    "test_file_v1 = pd.read_parquet(\"/home/hieuvd/lvdthieu/CodeGen/data/solfile/test_file.parquet\", engine=\"fastparquet\")"
   ]
  },
  {
   "cell_type": "code",
   "execution_count": 4,
   "metadata": {},
   "outputs": [
    {
     "name": "stdout",
     "output_type": "stream",
     "text": [
      "<class 'pandas.core.frame.DataFrame'>\n",
      "RangeIndex: 18594 entries, 0 to 18593\n",
      "Data columns (total 6 columns):\n",
      " #   Column            Non-Null Count  Dtype \n",
      "---  ------            --------------  ----- \n",
      " 0   file_name         18594 non-null  object\n",
      " 1   file_address      18594 non-null  object\n",
      " 2   source_code       18594 non-null  object\n",
      " 3   abi               18594 non-null  object\n",
      " 4   compiler_version  18594 non-null  object\n",
      " 5   library           18594 non-null  object\n",
      "dtypes: object(6)\n",
      "memory usage: 871.7+ KB\n"
     ]
    }
   ],
   "source": [
    "test_file_v1.info()"
   ]
  },
  {
   "cell_type": "code",
   "execution_count": 5,
   "metadata": {},
   "outputs": [],
   "source": [
    "test_file_v1 = test_file_v1[[\"file_name\", \"file_address\", \"source_code\"]]"
   ]
  },
  {
   "cell_type": "code",
   "execution_count": 30,
   "metadata": {},
   "outputs": [
    {
     "data": {
      "text/plain": [
       "11781"
      ]
     },
     "execution_count": 30,
     "metadata": {},
     "output_type": "execute_result"
    }
   ],
   "source": [
    "source_code = []\n",
    "for i in range(len(df)):\n",
    "    tmp = test_file_v1[(test_file_v1[\"file_name\"] == df.loc[i, \"file_name\"]) &\n",
    "                       (test_file_v1[\"file_address\"] == df.loc[i, \"file_address\"])][\"source_code\"]\n",
    "    if len(tmp) == 1:\n",
    "        source_code.append(tmp.iloc[0])\n",
    "    else:\n",
    "        for j in range(len(tmp)):\n",
    "            source = tmp.iloc[j]\n",
    "            #  + df.loc[i, \"func_body\"] + masked_contract[start_of_function+20:]\n",
    "            #  and contract in source\n",
    "            if (df.loc[i, \"contract_name\"] in source and\n",
    "                (df.loc[i, \"func_name\"] if df.loc[i, \"func_name\"] else \"\") in source and\n",
    "                df.loc[i, \"func_body\"] in source):\n",
    "                source_code.append(source)\n",
    "                break\n",
    "len(source_code)"
   ]
  },
  {
   "cell_type": "code",
   "execution_count": 31,
   "metadata": {},
   "outputs": [],
   "source": [
    "df[\"source_code\"] = source_code\n",
    "\n",
    "df.to_parquet(\"/home/hieuvd/lvdthieu/CodeGen/data/test/test_refine.parquet\", engine=\"fastparquet\")"
   ]
  },
  {
   "cell_type": "code",
   "execution_count": 39,
   "metadata": {},
   "outputs": [
    {
     "name": "stdout",
     "output_type": "stream",
     "text": [
      "<class 'pandas.core.frame.DataFrame'>\n",
      "RangeIndex: 11781 entries, 0 to 11780\n",
      "Data columns (total 10 columns):\n",
      " #   Column            Non-Null Count  Dtype \n",
      "---  ------            --------------  ----- \n",
      " 0   file_name         11781 non-null  object\n",
      " 1   file_address      11781 non-null  object\n",
      " 2   contract_name     11781 non-null  object\n",
      " 3   func_name         10691 non-null  object\n",
      " 4   masked_contract   11781 non-null  object\n",
      " 5   func_body         11781 non-null  object\n",
      " 6   func_requirement  11781 non-null  object\n",
      " 7   deepseek_output   11781 non-null  object\n",
      " 8   finetune_output   11781 non-null  object\n",
      " 9   source_code       11781 non-null  object\n",
      "dtypes: object(10)\n",
      "memory usage: 920.5+ KB\n"
     ]
    }
   ],
   "source": [
    "df = pd.read_parquet(\"/home/hieuvd/lvdthieu/CodeGen/data/test/test_refine.parquet\", engine=\"fastparquet\")\n",
    "df.info()"
   ]
  },
  {
   "cell_type": "code",
   "execution_count": 41,
   "metadata": {},
   "outputs": [],
   "source": [
    "with open(\"check.sol\", \"a\") as f:\n",
    "    for i in range(5):\n",
    "        f.write(f\"{df.loc[i, 'source_code']}\\n_____________________________________________________________\\n\")"
   ]
  },
  {
   "cell_type": "code",
   "execution_count": 42,
   "metadata": {},
   "outputs": [
    {
     "name": "stdout",
     "output_type": "stream",
     "text": [
      "<class 'pandas.core.frame.DataFrame'>\n",
      "RangeIndex: 10742 entries, 0 to 10741\n",
      "Data columns (total 6 columns):\n",
      " #   Column                  Non-Null Count  Dtype \n",
      "---  ------                  --------------  ----- \n",
      " 0   contract_name           10742 non-null  object\n",
      " 1   func_name               10742 non-null  object\n",
      " 2   original_source_code    10742 non-null  object\n",
      " 3   filled_source_body      10742 non-null  object\n",
      " 4   filled_source_baseline  10742 non-null  object\n",
      " 5   filled_source_finetune  10742 non-null  object\n",
      "dtypes: object(6)\n",
      "memory usage: 503.7+ KB\n"
     ]
    }
   ],
   "source": [
    "import pandas as pd\n",
    "filled = pd.read_parquet(\"/home/hieuvd/lvdthieu/CodeGen/out/filled.parquet\", engine=\"fastparquet\")\n",
    "filled.to_parquet(\"/home/hieuvd/lvdthieu/CodeGen/out/filled.parquet\", engine=\"fastparquet\")\n",
    "filled.info()"
   ]
  },
  {
   "cell_type": "code",
   "execution_count": 46,
   "metadata": {},
   "outputs": [
    {
     "data": {
      "text/plain": [
       "True"
      ]
     },
     "execution_count": 46,
     "metadata": {},
     "output_type": "execute_result"
    }
   ],
   "source": [
    "filled.loc[1, \"original_source_code\"] == filled.loc[2, \"original_source_code\"]"
   ]
  },
  {
   "cell_type": "code",
   "execution_count": 51,
   "metadata": {},
   "outputs": [],
   "source": [
    "filled[[\"original_source_code\"]].rename(columns={\"original_source_code\": \"source_code\"}).to_parquet(\"/home/hieuvd/lvdthieu/CodeGen/data/test/original.parquet\", engine=\"fastparquet\")"
   ]
  },
  {
   "cell_type": "code",
   "execution_count": 52,
   "metadata": {},
   "outputs": [],
   "source": [
    "filled[[\"filled_source_body\"]].rename(columns={\"filled_source_body\": \"source_code\"}).to_parquet(\"/home/hieuvd/lvdthieu/CodeGen/data/test/body.parquet\", engine=\"fastparquet\")"
   ]
  },
  {
   "cell_type": "code",
   "execution_count": 53,
   "metadata": {},
   "outputs": [],
   "source": [
    "filled[[\"filled_source_baseline\"]].rename(columns={\"filled_source_baseline\": \"source_code\"}).to_parquet(\"/home/hieuvd/lvdthieu/CodeGen/data/test/baseline.parquet\", engine=\"fastparquet\")"
   ]
  },
  {
   "cell_type": "code",
   "execution_count": 54,
   "metadata": {},
   "outputs": [],
   "source": [
    "filled[[\"filled_source_finetune\"]].rename(columns={\"filled_source_finetune\": \"source_code\"}).to_parquet(\"/home/hieuvd/lvdthieu/CodeGen/data/test/finetune.parquet\", engine=\"fastparquet\")"
   ]
  },
  {
   "cell_type": "code",
   "execution_count": 56,
   "metadata": {},
   "outputs": [
    {
     "name": "stdout",
     "output_type": "stream",
     "text": [
      "<class 'pandas.core.frame.DataFrame'>\n",
      "RangeIndex: 10742 entries, 0 to 10741\n",
      "Data columns (total 1 columns):\n",
      " #   Column       Non-Null Count  Dtype \n",
      "---  ------       --------------  ----- \n",
      " 0   source_code  10742 non-null  object\n",
      "dtypes: object(1)\n",
      "memory usage: 84.1+ KB\n"
     ]
    }
   ],
   "source": [
    "origin = pd.read_parquet(\"/home/hieuvd/lvdthieu/CodeGen/data/test/original.parquet\")\n",
    "origin.info()"
   ]
  },
  {
   "cell_type": "code",
   "execution_count": 57,
   "metadata": {},
   "outputs": [
    {
     "data": {
      "text/plain": [
       "True"
      ]
     },
     "execution_count": 57,
     "metadata": {},
     "output_type": "execute_result"
    }
   ],
   "source": [
    "origin.loc[1, \"source_code\"] == origin.loc[2, \"source_code\"]"
   ]
  },
  {
   "cell_type": "code",
   "execution_count": 73,
   "metadata": {},
   "outputs": [
    {
     "name": "stdout",
     "output_type": "stream",
     "text": [
      "<class 'pandas.core.frame.DataFrame'>\n",
      "RangeIndex: 7690 entries, 0 to 7689\n",
      "Data columns (total 2 columns):\n",
      " #   Column       Non-Null Count  Dtype \n",
      "---  ------       --------------  ----- \n",
      " 0   source_code  7690 non-null   object\n",
      " 1   source_idx   7690 non-null   int64 \n",
      "dtypes: int64(1), object(1)\n",
      "memory usage: 120.3+ KB\n",
      "None\n",
      "                                         source_code  source_idx\n",
      "0  /**\\r\\n *Submitted for verification at Ethersc...           0\n",
      "1  pragma solidity 0.4.25;\\r\\n\\r\\ncontract ERC20B...           1\n",
      "2  pragma solidity 0.4.25;\\r\\n\\r\\ncontract ERC20B...           2\n",
      "3  pragma solidity 0.4.25;\\r\\n\\r\\ncontract ERC20B...           3\n",
      "4  pragma solidity 0.4.25;\\r\\n\\r\\ncontract ERC20B...           4\n"
     ]
    }
   ],
   "source": [
    "view(\"/home/hieuvd/lvdthieu/CodeGen/data/compilable/original.parquet\")"
   ]
  },
  {
   "cell_type": "code",
   "execution_count": 74,
   "metadata": {},
   "outputs": [
    {
     "name": "stdout",
     "output_type": "stream",
     "text": [
      "<class 'pandas.core.frame.DataFrame'>\n",
      "RangeIndex: 7674 entries, 0 to 7673\n",
      "Data columns (total 2 columns):\n",
      " #   Column       Non-Null Count  Dtype \n",
      "---  ------       --------------  ----- \n",
      " 0   source_code  7674 non-null   object\n",
      " 1   source_idx   7674 non-null   int64 \n",
      "dtypes: int64(1), object(1)\n",
      "memory usage: 120.0+ KB\n",
      "None\n",
      "                                         source_code  source_idx\n",
      "0  /**\\n *Submitted for verification at Etherscan...           0\n",
      "1  pragma solidity 0.4.25;\\n\\r\\ncontract ERC20Bas...           1\n",
      "2  pragma solidity 0.4.25;\\n\\r\\ncontract ERC20Bas...           2\n",
      "3  pragma solidity 0.4.25;\\n\\r\\ncontract ERC20Bas...           3\n",
      "4  pragma solidity 0.4.25;\\n\\r\\ncontract ERC20Bas...           4\n"
     ]
    }
   ],
   "source": [
    "view(\"/home/hieuvd/lvdthieu/CodeGen/data/compilable/body.parquet\")"
   ]
  },
  {
   "cell_type": "code",
   "execution_count": 75,
   "metadata": {},
   "outputs": [
    {
     "name": "stdout",
     "output_type": "stream",
     "text": [
      "<class 'pandas.core.frame.DataFrame'>\n",
      "RangeIndex: 6021 entries, 0 to 6020\n",
      "Data columns (total 2 columns):\n",
      " #   Column       Non-Null Count  Dtype \n",
      "---  ------       --------------  ----- \n",
      " 0   source_code  6021 non-null   object\n",
      " 1   source_idx   6021 non-null   int64 \n",
      "dtypes: int64(1), object(1)\n",
      "memory usage: 94.2+ KB\n",
      "None\n",
      "                                         source_code  source_idx\n",
      "0  /**\\n *Submitted for verification at Etherscan...           0\n",
      "1  pragma solidity 0.4.25;\\n\\r\\ncontract ERC20Bas...           1\n",
      "2  pragma solidity 0.4.25;\\n\\r\\ncontract ERC20Bas...           2\n",
      "3  pragma solidity 0.4.25;\\n\\r\\ncontract ERC20Bas...           3\n",
      "4  pragma solidity 0.4.25;\\n\\r\\ncontract ERC20Bas...           4\n"
     ]
    }
   ],
   "source": [
    "view(\"/home/hieuvd/lvdthieu/CodeGen/data/compilable/baseline.parquet\")"
   ]
  },
  {
   "cell_type": "code",
   "execution_count": 76,
   "metadata": {},
   "outputs": [
    {
     "name": "stdout",
     "output_type": "stream",
     "text": [
      "<class 'pandas.core.frame.DataFrame'>\n",
      "RangeIndex: 6814 entries, 0 to 6813\n",
      "Data columns (total 2 columns):\n",
      " #   Column       Non-Null Count  Dtype \n",
      "---  ------       --------------  ----- \n",
      " 0   source_code  6814 non-null   object\n",
      " 1   source_idx   6814 non-null   int64 \n",
      "dtypes: int64(1), object(1)\n",
      "memory usage: 106.6+ KB\n",
      "None\n",
      "                                         source_code  source_idx\n",
      "0  /**\\n *Submitted for verification at Etherscan...           0\n",
      "1  pragma solidity 0.4.25;\\n\\r\\ncontract ERC20Bas...           1\n",
      "2  pragma solidity 0.4.25;\\n\\r\\ncontract ERC20Bas...           2\n",
      "3  pragma solidity 0.4.25;\\n\\r\\ncontract ERC20Bas...           3\n",
      "4  pragma solidity 0.4.25;\\n\\r\\ncontract ERC20Bas...           4\n"
     ]
    }
   ],
   "source": [
    "view(\"/home/hieuvd/lvdthieu/CodeGen/data/compilable/finetune.parquet\")"
   ]
  },
  {
   "cell_type": "code",
   "execution_count": null,
   "metadata": {},
   "outputs": [],
   "source": []
  }
 ],
 "metadata": {
  "kernelspec": {
   "display_name": "Python 3",
   "language": "python",
   "name": "python3"
  },
  "language_info": {
   "codemirror_mode": {
    "name": "ipython",
    "version": 3
   },
   "file_extension": ".py",
   "mimetype": "text/x-python",
   "name": "python",
   "nbconvert_exporter": "python",
   "pygments_lexer": "ipython3",
   "version": "3.11.5"
  }
 },
 "nbformat": 4,
 "nbformat_minor": 2
}
