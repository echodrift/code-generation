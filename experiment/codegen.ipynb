{
 "cells": [
  {
   "cell_type": "markdown",
   "metadata": {},
   "source": [
    "# Remove uncompilable file"
   ]
  },
  {
   "cell_type": "markdown",
   "metadata": {},
   "source": [
    "## Load solidity file"
   ]
  },
  {
   "cell_type": "code",
   "execution_count": 94,
   "metadata": {},
   "outputs": [],
   "source": [
    "import os\n",
    "os.chdir(\"/home/hieuvd/lvdthieu/CodeGen/\")"
   ]
  },
  {
   "cell_type": "code",
   "execution_count": 95,
   "metadata": {},
   "outputs": [
    {
     "name": "stdout",
     "output_type": "stream",
     "text": [
      "<class 'pandas.core.frame.DataFrame'>\n",
      "RangeIndex: 167310 entries, 0 to 167309\n",
      "Data columns (total 6 columns):\n",
      " #   Column            Non-Null Count   Dtype \n",
      "---  ------            --------------   ----- \n",
      " 0   file_name         167310 non-null  object\n",
      " 1   file_address      167310 non-null  object\n",
      " 2   source_code       167310 non-null  object\n",
      " 3   abi               167310 non-null  object\n",
      " 4   compiler_version  167310 non-null  object\n",
      " 5   library           167310 non-null  object\n",
      "dtypes: object(6)\n",
      "memory usage: 7.7+ MB\n"
     ]
    }
   ],
   "source": [
    "import pandas as pd\n",
    "train_file = pd.read_parquet(\"./data/solfile/train_file.parquet\", engine=\"fastparquet\")\n",
    "train_file.info()"
   ]
  },
  {
   "cell_type": "code",
   "execution_count": 96,
   "metadata": {},
   "outputs": [
    {
     "name": "stdout",
     "output_type": "stream",
     "text": [
      "<class 'pandas.core.frame.DataFrame'>\n",
      "RangeIndex: 18594 entries, 0 to 18593\n",
      "Data columns (total 6 columns):\n",
      " #   Column            Non-Null Count  Dtype \n",
      "---  ------            --------------  ----- \n",
      " 0   file_name         18594 non-null  object\n",
      " 1   file_address      18594 non-null  object\n",
      " 2   source_code       18594 non-null  object\n",
      " 3   abi               18594 non-null  object\n",
      " 4   compiler_version  18594 non-null  object\n",
      " 5   library           18594 non-null  object\n",
      "dtypes: object(6)\n",
      "memory usage: 871.7+ KB\n"
     ]
    }
   ],
   "source": [
    "test_file = pd.read_parquet(\"./data/solfile/test_file.parquet\", engine=\"fastparquet\")\n",
    "test_file.info()"
   ]
  },
  {
   "cell_type": "markdown",
   "metadata": {},
   "source": [
    "## Filter out file with \"import\" word"
   ]
  },
  {
   "cell_type": "code",
   "execution_count": 97,
   "metadata": {},
   "outputs": [
    {
     "name": "stdout",
     "output_type": "stream",
     "text": [
      "<class 'pandas.core.frame.DataFrame'>\n",
      "RangeIndex: 13642 entries, 0 to 13641\n",
      "Data columns (total 4 columns):\n",
      " #   Column            Non-Null Count  Dtype \n",
      "---  ------            --------------  ----- \n",
      " 0   file_name         13642 non-null  object\n",
      " 1   file_address      13642 non-null  object\n",
      " 2   source_code       13642 non-null  object\n",
      " 3   compiler_version  13642 non-null  object\n",
      "dtypes: object(4)\n",
      "memory usage: 426.4+ KB\n"
     ]
    }
   ],
   "source": [
    "test_file = test_file[~(test_file[\"source_code\"].str.contains(\"import\", regex=False))]\\\n",
    "    [[\"file_name\", \"file_address\", \"source_code\", \"compiler_version\"]]\\\n",
    "        .reset_index(drop=True)\n",
    "                        \n",
    "test_file.info()"
   ]
  },
  {
   "cell_type": "code",
   "execution_count": 98,
   "metadata": {},
   "outputs": [
    {
     "name": "stdout",
     "output_type": "stream",
     "text": [
      "<class 'pandas.core.frame.DataFrame'>\n",
      "RangeIndex: 127351 entries, 0 to 127350\n",
      "Data columns (total 4 columns):\n",
      " #   Column            Non-Null Count   Dtype \n",
      "---  ------            --------------   ----- \n",
      " 0   file_name         127351 non-null  object\n",
      " 1   file_address      127351 non-null  object\n",
      " 2   source_code       127351 non-null  object\n",
      " 3   compiler_version  127351 non-null  object\n",
      "dtypes: object(4)\n",
      "memory usage: 3.9+ MB\n"
     ]
    }
   ],
   "source": [
    "train_file = train_file[~(train_file[\"source_code\"].str.contains(\"import\", regex=False))]\\\n",
    "    [[\"file_name\", \"file_address\", \"source_code\", \"compiler_version\"]]\\\n",
    "        .reset_index(drop=True)\n",
    "train_file.info()"
   ]
  },
  {
   "cell_type": "markdown",
   "metadata": {},
   "source": [
    "## Standardize compiler_version name"
   ]
  },
  {
   "cell_type": "code",
   "execution_count": 99,
   "metadata": {},
   "outputs": [
    {
     "data": {
      "text/plain": [
       "0         0.4.20\n",
       "1         0.8.11\n",
       "2         0.6.12\n",
       "3          0.8.7\n",
       "4         0.4.24\n",
       "           ...  \n",
       "127346    0.6.11\n",
       "127347    0.5.17\n",
       "127348    0.4.19\n",
       "127349    0.6.12\n",
       "127350    0.5.17\n",
       "Name: compiler_version, Length: 127351, dtype: object"
      ]
     },
     "execution_count": 99,
     "metadata": {},
     "output_type": "execute_result"
    }
   ],
   "source": [
    "train_file[\"compiler_version\"] = train_file[\"compiler_version\"].apply(lambda x: x.split('+')[0].split('-')[0][1:])\n",
    "train_file[\"compiler_version\"]"
   ]
  },
  {
   "cell_type": "code",
   "execution_count": 100,
   "metadata": {},
   "outputs": [
    {
     "data": {
      "text/plain": [
       "0        0.4.12\n",
       "1        0.4.25\n",
       "2        0.6.12\n",
       "3        0.6.11\n",
       "4         0.7.0\n",
       "          ...  \n",
       "13637     0.5.9\n",
       "13638    0.6.12\n",
       "13639    0.6.12\n",
       "13640     0.8.1\n",
       "13641     0.6.6\n",
       "Name: compiler_version, Length: 13642, dtype: object"
      ]
     },
     "execution_count": 100,
     "metadata": {},
     "output_type": "execute_result"
    }
   ],
   "source": [
    "test_file[\"compiler_version\"] = test_file[\"compiler_version\"].apply(lambda x: x.split('+')[0].split('-')[0][1:])\n",
    "test_file[\"compiler_version\"]"
   ]
  },
  {
   "cell_type": "markdown",
   "metadata": {},
   "source": [
    "## Filter compiler with version < 0.4.11"
   ]
  },
  {
   "cell_type": "code",
   "execution_count": 101,
   "metadata": {},
   "outputs": [],
   "source": [
    "def filter(stdized_version):\n",
    "    version = list(map(int, stdized_version.split('.')))\n",
    "    if version[0] == 0:\n",
    "        if version[1] == 4:\n",
    "            if version[2] < 11:\n",
    "                return False\n",
    "        if version[2] < 4:\n",
    "            return False\n",
    "    return True"
   ]
  },
  {
   "cell_type": "code",
   "execution_count": 102,
   "metadata": {},
   "outputs": [
    {
     "name": "stdout",
     "output_type": "stream",
     "text": [
      "<class 'pandas.core.frame.DataFrame'>\n",
      "RangeIndex: 12078 entries, 0 to 12077\n",
      "Data columns (total 4 columns):\n",
      " #   Column            Non-Null Count  Dtype \n",
      "---  ------            --------------  ----- \n",
      " 0   file_name         12078 non-null  object\n",
      " 1   file_address      12078 non-null  object\n",
      " 2   source_code       12078 non-null  object\n",
      " 3   compiler_version  12078 non-null  object\n",
      "dtypes: object(4)\n",
      "memory usage: 377.6+ KB\n"
     ]
    }
   ],
   "source": [
    "test_file = test_file[test_file[\"compiler_version\"].apply(filter)].reset_index(drop=True)\n",
    "test_file.info()"
   ]
  },
  {
   "cell_type": "code",
   "execution_count": 103,
   "metadata": {},
   "outputs": [
    {
     "name": "stdout",
     "output_type": "stream",
     "text": [
      "<class 'pandas.core.frame.DataFrame'>\n",
      "RangeIndex: 113462 entries, 0 to 113461\n",
      "Data columns (total 4 columns):\n",
      " #   Column            Non-Null Count   Dtype \n",
      "---  ------            --------------   ----- \n",
      " 0   file_name         113462 non-null  object\n",
      " 1   file_address      113462 non-null  object\n",
      " 2   source_code       113462 non-null  object\n",
      " 3   compiler_version  113462 non-null  object\n",
      "dtypes: object(4)\n",
      "memory usage: 3.5+ MB\n"
     ]
    }
   ],
   "source": [
    "train_file = train_file[train_file[\"compiler_version\"].apply(filter)].reset_index(drop=True)\n",
    "train_file.info()"
   ]
  },
  {
   "cell_type": "markdown",
   "metadata": {},
   "source": [
    "## Test compile"
   ]
  },
  {
   "cell_type": "code",
   "execution_count": 104,
   "metadata": {},
   "outputs": [],
   "source": [
    "os.chdir(\"/home/hieuvd/lvdthieu/CodeGen\")"
   ]
  },
  {
   "cell_type": "code",
   "execution_count": 105,
   "metadata": {},
   "outputs": [
    {
     "data": {
      "text/plain": [
       "58"
      ]
     },
     "execution_count": 105,
     "metadata": {},
     "output_type": "execute_result"
    }
   ],
   "source": [
    "compiler_versions = list(set(train_file[\"compiler_version\"].tolist() + test_file[\"compiler_version\"].tolist()))\n",
    "len(compiler_versions)"
   ]
  },
  {
   "cell_type": "code",
   "execution_count": 106,
   "metadata": {},
   "outputs": [],
   "source": [
    "compiler_config = \"\"\n",
    "for version in compiler_versions:\n",
    "    compiler_config += '{version: \"' + version + '\"},\\n'\n",
    "with open(\"compiler_config.txt\", \"w\") as f:\n",
    "    f.write(compiler_config)"
   ]
  },
  {
   "cell_type": "code",
   "execution_count": 107,
   "metadata": {},
   "outputs": [],
   "source": [
    "for i in range(100):\n",
    "    source = test_file.loc[i, \"source_code\"]\n",
    "    with open(f\"./hardhat/contracts/sample_{i}.sol\", \"w\") as f:\n",
    "        f.write(source)"
   ]
  },
  {
   "cell_type": "markdown",
   "metadata": {},
   "source": [
    "# Remove duplicates data"
   ]
  },
  {
   "cell_type": "code",
   "execution_count": 35,
   "metadata": {},
   "outputs": [
    {
     "name": "stdout",
     "output_type": "stream",
     "text": [
      "<class 'pandas.core.frame.DataFrame'>\n",
      "RangeIndex: 1251883 entries, 0 to 1251882\n",
      "Data columns (total 6 columns):\n",
      " #   Column                     Non-Null Count    Dtype \n",
      "---  ------                     --------------    ----- \n",
      " 0   source_idx                 1251883 non-null  object\n",
      " 1   contract_name              1251883 non-null  object\n",
      " 2   func_name                  1180119 non-null  object\n",
      " 3   masked_contract            1251883 non-null  object\n",
      " 4   func_body                  1251883 non-null  object\n",
      " 5   func_body_removed_comment  1251883 non-null  object\n",
      "dtypes: object(6)\n",
      "memory usage: 57.3+ MB\n"
     ]
    }
   ],
   "source": [
    "import pandas as pd\n",
    "\n",
    "mask_all_func_body = pd.read_parquet(\"/home/hieuvd/lvdthieu/CodeGen/data/data/mask_all_func_body.parquet\", engine=\"fastparquet\")\n",
    "mask_all_func_body.info()"
   ]
  },
  {
   "cell_type": "code",
   "execution_count": 36,
   "metadata": {},
   "outputs": [
    {
     "data": {
      "text/html": [
       "<div>\n",
       "<style scoped>\n",
       "    .dataframe tbody tr th:only-of-type {\n",
       "        vertical-align: middle;\n",
       "    }\n",
       "\n",
       "    .dataframe tbody tr th {\n",
       "        vertical-align: top;\n",
       "    }\n",
       "\n",
       "    .dataframe thead th {\n",
       "        text-align: right;\n",
       "    }\n",
       "</style>\n",
       "<table border=\"1\" class=\"dataframe\">\n",
       "  <thead>\n",
       "    <tr style=\"text-align: right;\">\n",
       "      <th></th>\n",
       "      <th>source_idx</th>\n",
       "      <th>contract_name</th>\n",
       "      <th>func_name</th>\n",
       "      <th>masked_contract</th>\n",
       "      <th>func_body</th>\n",
       "      <th>func_body_removed_comment</th>\n",
       "    </tr>\n",
       "  </thead>\n",
       "  <tbody>\n",
       "    <tr>\n",
       "      <th>0</th>\n",
       "      <td>0</td>\n",
       "      <td>Ownable</td>\n",
       "      <td>Ownable</td>\n",
       "      <td>contract\\tOwnable\\t\\t{\\t\\t\\t\\t\\t\\t\\n\\taddress\\...</td>\n",
       "      <td>\\t\\t\\t\\t\\t\\t\\r\\n\\t\\towner\\t= msg.sender;\\t\\t\\t...</td>\n",
       "      <td>\\t\\t\\t\\t\\t\\t\\n\\t\\towner\\t= msg.sender;\\t\\t\\t\\t...</td>\n",
       "    </tr>\n",
       "    <tr>\n",
       "      <th>1</th>\n",
       "      <td>0</td>\n",
       "      <td>Ownable</td>\n",
       "      <td>transfertOwnership</td>\n",
       "      <td>contract\\tOwnable\\t\\t{\\t\\t\\t\\t\\t\\t\\n\\taddress\\...</td>\n",
       "      <td>\\t\\r\\n\\t\\towner\\t=\\tnewOwner\\t;\\t\\t\\t\\t\\r\\n\\t</td>\n",
       "      <td>\\t\\n\\t\\towner\\t=\\tnewOwner\\t;\\t\\t\\t\\t\\n\\t</td>\n",
       "    </tr>\n",
       "    <tr>\n",
       "      <th>2</th>\n",
       "      <td>1</td>\n",
       "      <td>SCT</td>\n",
       "      <td>SCT</td>\n",
       "      <td>contract SCT is SafeMath{\\n    string public n...</td>\n",
       "      <td>\\r\\n        balanceOf[msg.sender] = initialSup...</td>\n",
       "      <td>\\n        balanceOf[msg.sender] = initialSuppl...</td>\n",
       "    </tr>\n",
       "    <tr>\n",
       "      <th>3</th>\n",
       "      <td>1</td>\n",
       "      <td>SCT</td>\n",
       "      <td>transfer</td>\n",
       "      <td>contract SCT is SafeMath{\\n    string public n...</td>\n",
       "      <td>\\r\\n      require (_value &gt; 0) ;\\r\\n        re...</td>\n",
       "      <td>\\n      require (_value &gt; 0) ;\\n        requir...</td>\n",
       "    </tr>\n",
       "    <tr>\n",
       "      <th>4</th>\n",
       "      <td>1</td>\n",
       "      <td>SCT</td>\n",
       "      <td>approve</td>\n",
       "      <td>contract SCT is SafeMath{\\n    string public n...</td>\n",
       "      <td>\\r\\n          allowance[msg.sender][_spender] ...</td>\n",
       "      <td>\\n          allowance[msg.sender][_spender] = ...</td>\n",
       "    </tr>\n",
       "  </tbody>\n",
       "</table>\n",
       "</div>"
      ],
      "text/plain": [
       "  source_idx contract_name           func_name  \\\n",
       "0          0       Ownable             Ownable   \n",
       "1          0       Ownable  transfertOwnership   \n",
       "2          1           SCT                 SCT   \n",
       "3          1           SCT            transfer   \n",
       "4          1           SCT             approve   \n",
       "\n",
       "                                     masked_contract  \\\n",
       "0  contract\\tOwnable\\t\\t{\\t\\t\\t\\t\\t\\t\\n\\taddress\\...   \n",
       "1  contract\\tOwnable\\t\\t{\\t\\t\\t\\t\\t\\t\\n\\taddress\\...   \n",
       "2  contract SCT is SafeMath{\\n    string public n...   \n",
       "3  contract SCT is SafeMath{\\n    string public n...   \n",
       "4  contract SCT is SafeMath{\\n    string public n...   \n",
       "\n",
       "                                           func_body  \\\n",
       "0  \\t\\t\\t\\t\\t\\t\\r\\n\\t\\towner\\t= msg.sender;\\t\\t\\t...   \n",
       "1      \\t\\r\\n\\t\\towner\\t=\\tnewOwner\\t;\\t\\t\\t\\t\\r\\n\\t   \n",
       "2  \\r\\n        balanceOf[msg.sender] = initialSup...   \n",
       "3  \\r\\n      require (_value > 0) ;\\r\\n        re...   \n",
       "4  \\r\\n          allowance[msg.sender][_spender] ...   \n",
       "\n",
       "                           func_body_removed_comment  \n",
       "0  \\t\\t\\t\\t\\t\\t\\n\\t\\towner\\t= msg.sender;\\t\\t\\t\\t...  \n",
       "1          \\t\\n\\t\\towner\\t=\\tnewOwner\\t;\\t\\t\\t\\t\\n\\t  \n",
       "2  \\n        balanceOf[msg.sender] = initialSuppl...  \n",
       "3  \\n      require (_value > 0) ;\\n        requir...  \n",
       "4  \\n          allowance[msg.sender][_spender] = ...  "
      ]
     },
     "execution_count": 36,
     "metadata": {},
     "output_type": "execute_result"
    }
   ],
   "source": [
    "mask_all_func_body.head()"
   ]
  },
  {
   "cell_type": "code",
   "execution_count": 37,
   "metadata": {},
   "outputs": [],
   "source": [
    "mask_all_func_body = mask_all_func_body.sample(frac=1, random_state=29, ignore_index=True)"
   ]
  },
  {
   "cell_type": "code",
   "execution_count": 39,
   "metadata": {},
   "outputs": [
    {
     "name": "stdout",
     "output_type": "stream",
     "text": [
      "<class 'pandas.core.frame.DataFrame'>\n",
      "RangeIndex: 308807 entries, 0 to 308806\n",
      "Data columns (total 6 columns):\n",
      " #   Column                     Non-Null Count   Dtype \n",
      "---  ------                     --------------   ----- \n",
      " 0   source_idx                 308807 non-null  object\n",
      " 1   contract_name              308807 non-null  object\n",
      " 2   func_name                  279223 non-null  object\n",
      " 3   masked_contract            308807 non-null  object\n",
      " 4   func_body                  308807 non-null  object\n",
      " 5   func_body_removed_comment  308807 non-null  object\n",
      "dtypes: object(6)\n",
      "memory usage: 14.1+ MB\n"
     ]
    }
   ],
   "source": [
    "mask_all_func_body.drop_duplicates(subset=[\"func_body_removed_comment\"], inplace=True, ignore_index=True)\n",
    "mask_all_func_body.info()"
   ]
  },
  {
   "cell_type": "code",
   "execution_count": 40,
   "metadata": {},
   "outputs": [],
   "source": [
    "mask_all_func_body = mask_all_func_body.sample(frac=1, random_state=11, ignore_index=True)"
   ]
  },
  {
   "cell_type": "code",
   "execution_count": 41,
   "metadata": {},
   "outputs": [],
   "source": [
    "mask_all_func_body.drop_duplicates(subset=[\"source_idx\", \"contract_name\"], inplace=True, ignore_index=True)"
   ]
  },
  {
   "cell_type": "code",
   "execution_count": 43,
   "metadata": {},
   "outputs": [
    {
     "name": "stdout",
     "output_type": "stream",
     "text": [
      "<class 'pandas.core.frame.DataFrame'>\n",
      "RangeIndex: 74288 entries, 0 to 74287\n",
      "Data columns (total 6 columns):\n",
      " #   Column                     Non-Null Count  Dtype \n",
      "---  ------                     --------------  ----- \n",
      " 0   source_idx                 74288 non-null  object\n",
      " 1   contract_name              74288 non-null  object\n",
      " 2   func_name                  58521 non-null  object\n",
      " 3   masked_contract            74288 non-null  object\n",
      " 4   func_body                  74288 non-null  object\n",
      " 5   func_body_removed_comment  74288 non-null  object\n",
      "dtypes: object(6)\n",
      "memory usage: 3.4+ MB\n"
     ]
    }
   ],
   "source": [
    "mask_all_func_body.info()"
   ]
  },
  {
   "cell_type": "code",
   "execution_count": 44,
   "metadata": {},
   "outputs": [],
   "source": [
    "mask_all_func_body.to_parquet(\"/home/hieuvd/lvdthieu/CodeGen/data/data/masked_all_func_body_v1.parquet\", engine=\"fastparquet\")"
   ]
  },
  {
   "cell_type": "code",
   "execution_count": 51,
   "metadata": {},
   "outputs": [],
   "source": [
    "def remove_duplicates(df, duplicate_cols):\n",
    "    df = df.sample(frac=1, random_state=29, ignore_index=True)\n",
    "    df.drop_duplicates(subset=duplicate_cols, inplace=True, ignore_index=True)\n",
    "    return df"
   ]
  },
  {
   "cell_type": "code",
   "execution_count": 52,
   "metadata": {},
   "outputs": [
    {
     "name": "stdout",
     "output_type": "stream",
     "text": [
      "<class 'pandas.core.frame.DataFrame'>\n",
      "RangeIndex: 346379 entries, 0 to 346378\n",
      "Data columns (total 7 columns):\n",
      " #   Column                     Non-Null Count   Dtype \n",
      "---  ------                     --------------   ----- \n",
      " 0   source_idx                 346379 non-null  object\n",
      " 1   contract_name              346379 non-null  object\n",
      " 2   func_name                  328075 non-null  object\n",
      " 3   masked_contract            346379 non-null  object\n",
      " 4   func_body                  346379 non-null  object\n",
      " 5   func_requirement           346379 non-null  object\n",
      " 6   func_body_removed_comment  346379 non-null  object\n",
      "dtypes: object(7)\n",
      "memory usage: 18.5+ MB\n"
     ]
    }
   ],
   "source": [
    "mask_func_has_req_body = pd.read_parquet(\"/home/hieuvd/lvdthieu/CodeGen/data/data/mask_func_has_req_body.parquet\", engine=\"fastparquet\")\n",
    "mask_func_has_req_body.info()\n"
   ]
  },
  {
   "cell_type": "code",
   "execution_count": 53,
   "metadata": {},
   "outputs": [
    {
     "name": "stdout",
     "output_type": "stream",
     "text": [
      "<class 'pandas.core.frame.DataFrame'>\n",
      "RangeIndex: 113542 entries, 0 to 113541\n",
      "Data columns (total 7 columns):\n",
      " #   Column                     Non-Null Count   Dtype \n",
      "---  ------                     --------------   ----- \n",
      " 0   source_idx                 113542 non-null  object\n",
      " 1   contract_name              113542 non-null  object\n",
      " 2   func_name                  105100 non-null  object\n",
      " 3   masked_contract            113542 non-null  object\n",
      " 4   func_body                  113542 non-null  object\n",
      " 5   func_requirement           113542 non-null  object\n",
      " 6   func_body_removed_comment  113542 non-null  object\n",
      "dtypes: object(7)\n",
      "memory usage: 6.1+ MB\n"
     ]
    }
   ],
   "source": [
    "mask_func_has_req_body = remove_duplicates(mask_func_has_req_body, [\"func_body_removed_comment\"])\n",
    "mask_func_has_req_body.info()"
   ]
  },
  {
   "cell_type": "code",
   "execution_count": 54,
   "metadata": {},
   "outputs": [
    {
     "name": "stdout",
     "output_type": "stream",
     "text": [
      "<class 'pandas.core.frame.DataFrame'>\n",
      "RangeIndex: 35475 entries, 0 to 35474\n",
      "Data columns (total 7 columns):\n",
      " #   Column                     Non-Null Count  Dtype \n",
      "---  ------                     --------------  ----- \n",
      " 0   source_idx                 35475 non-null  object\n",
      " 1   contract_name              35475 non-null  object\n",
      " 2   func_name                  29902 non-null  object\n",
      " 3   masked_contract            35475 non-null  object\n",
      " 4   func_body                  35475 non-null  object\n",
      " 5   func_requirement           35475 non-null  object\n",
      " 6   func_body_removed_comment  35475 non-null  object\n",
      "dtypes: object(7)\n",
      "memory usage: 1.9+ MB\n"
     ]
    }
   ],
   "source": [
    "mask_func_has_req_body = remove_duplicates(mask_func_has_req_body, [\"source_idx\", \"contract_name\"])\n",
    "mask_func_has_req_body.info()"
   ]
  },
  {
   "cell_type": "code",
   "execution_count": 55,
   "metadata": {},
   "outputs": [
    {
     "name": "stdout",
     "output_type": "stream",
     "text": [
      "<class 'pandas.core.frame.DataFrame'>\n",
      "RangeIndex: 40787 entries, 0 to 40786\n",
      "Data columns (total 7 columns):\n",
      " #   Column                    Non-Null Count  Dtype \n",
      "---  ------                    --------------  ----- \n",
      " 0   source_idx                40787 non-null  object\n",
      " 1   contract_name             40787 non-null  object\n",
      " 2   func_name                 34723 non-null  object\n",
      " 3   masked_contract           40787 non-null  object\n",
      " 4   function                  40787 non-null  object\n",
      " 5   func_requirement          40787 non-null  object\n",
      " 6   function_removed_comment  40787 non-null  object\n",
      "dtypes: object(7)\n",
      "memory usage: 2.2+ MB\n"
     ]
    }
   ],
   "source": [
    "masked_entire_function_has_req_v1 = pd.read_parquet(\"/home/hieuvd/lvdthieu/CodeGen/data/data/masked_entire_fuction_has_req_v1.parquet\", engine=\"fastparquet\")\n",
    "masked_entire_function_has_req_v1.info()"
   ]
  },
  {
   "cell_type": "code",
   "execution_count": null,
   "metadata": {},
   "outputs": [],
   "source": []
  }
 ],
 "metadata": {
  "kernelspec": {
   "display_name": "Python 3",
   "language": "python",
   "name": "python3"
  },
  "language_info": {
   "codemirror_mode": {
    "name": "ipython",
    "version": 3
   },
   "file_extension": ".py",
   "mimetype": "text/x-python",
   "name": "python",
   "nbconvert_exporter": "python",
   "pygments_lexer": "ipython3",
   "version": "3.11.5"
  }
 },
 "nbformat": 4,
 "nbformat_minor": 2
}
